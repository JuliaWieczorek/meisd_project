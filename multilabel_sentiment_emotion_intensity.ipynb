{
 "cells": [
  {
   "cell_type": "code",
   "execution_count": 1,
   "id": "initial_id",
   "metadata": {
    "collapsed": true,
    "ExecuteTime": {
     "end_time": "2024-10-13T15:13:04.123414Z",
     "start_time": "2024-10-13T15:13:01.804854Z"
    }
   },
   "outputs": [],
   "source": [
    "import os\n",
    "import pandas as pd\n",
    "import numpy as np\n",
    "import shutil\n",
    "import sys\n",
    "import tqdm.notebook as tq\n",
    "from collections import defaultdict\n",
    "\n",
    "import torch\n",
    "import torch.nn as nn\n",
    "\n",
    "device = torch.device('cuda') if torch.cuda.is_available() else torch.device('cpu')"
   ]
  },
  {
   "cell_type": "code",
   "outputs": [],
   "source": [
    "df_data = pd.read_csv('multi_column_MEISD.csv')\n"
   ],
   "metadata": {
    "collapsed": false,
    "ExecuteTime": {
     "end_time": "2024-10-13T15:27:28.565219Z",
     "start_time": "2024-10-13T15:27:28.547535Z"
    }
   },
   "id": "785b9e99c2ac9e69",
   "execution_count": 48
  },
  {
   "cell_type": "code",
   "outputs": [
    {
     "data": {
      "text/plain": "                                              Utterances  sentiment  \\\n0                                        look around you          2   \n1                          say hello to your competition          2   \n2        eight of you will switch to an easier specialty          2   \n3              five of you will crack under the pressure          2   \n4                      two of you will be asked to leave          2   \n...                                                  ...        ...   \n20012  oh, that's right, you're a woman and you need ...          0   \n20013                                     i'll try again          0   \n20014           please, pam, reconsider and have a bagel          0   \n20015                              i have an early lunch          0   \n20016  michael's been trying to get jim and me to han...          1   \n\n      combined_emotions combined_intensities  \n0                   [0]                   []  \n1                   [0]                   []  \n2                   [0]                   []  \n3                   [0]                   []  \n4                   [0]                   []  \n...                 ...                  ...  \n20012            [6, 2]               [1, 2]  \n20013            [6, 2]               [1, 2]  \n20014            [1, 2]                  [1]  \n20015            [6, 2]               [1, 2]  \n20016               [4]                  [1]  \n\n[20017 rows x 4 columns]",
      "text/html": "<div>\n<style scoped>\n    .dataframe tbody tr th:only-of-type {\n        vertical-align: middle;\n    }\n\n    .dataframe tbody tr th {\n        vertical-align: top;\n    }\n\n    .dataframe thead th {\n        text-align: right;\n    }\n</style>\n<table border=\"1\" class=\"dataframe\">\n  <thead>\n    <tr style=\"text-align: right;\">\n      <th></th>\n      <th>Utterances</th>\n      <th>sentiment</th>\n      <th>combined_emotions</th>\n      <th>combined_intensities</th>\n    </tr>\n  </thead>\n  <tbody>\n    <tr>\n      <th>0</th>\n      <td>look around you</td>\n      <td>2</td>\n      <td>[0]</td>\n      <td>[]</td>\n    </tr>\n    <tr>\n      <th>1</th>\n      <td>say hello to your competition</td>\n      <td>2</td>\n      <td>[0]</td>\n      <td>[]</td>\n    </tr>\n    <tr>\n      <th>2</th>\n      <td>eight of you will switch to an easier specialty</td>\n      <td>2</td>\n      <td>[0]</td>\n      <td>[]</td>\n    </tr>\n    <tr>\n      <th>3</th>\n      <td>five of you will crack under the pressure</td>\n      <td>2</td>\n      <td>[0]</td>\n      <td>[]</td>\n    </tr>\n    <tr>\n      <th>4</th>\n      <td>two of you will be asked to leave</td>\n      <td>2</td>\n      <td>[0]</td>\n      <td>[]</td>\n    </tr>\n    <tr>\n      <th>...</th>\n      <td>...</td>\n      <td>...</td>\n      <td>...</td>\n      <td>...</td>\n    </tr>\n    <tr>\n      <th>20012</th>\n      <td>oh, that's right, you're a woman and you need ...</td>\n      <td>0</td>\n      <td>[6, 2]</td>\n      <td>[1, 2]</td>\n    </tr>\n    <tr>\n      <th>20013</th>\n      <td>i'll try again</td>\n      <td>0</td>\n      <td>[6, 2]</td>\n      <td>[1, 2]</td>\n    </tr>\n    <tr>\n      <th>20014</th>\n      <td>please, pam, reconsider and have a bagel</td>\n      <td>0</td>\n      <td>[1, 2]</td>\n      <td>[1]</td>\n    </tr>\n    <tr>\n      <th>20015</th>\n      <td>i have an early lunch</td>\n      <td>0</td>\n      <td>[6, 2]</td>\n      <td>[1, 2]</td>\n    </tr>\n    <tr>\n      <th>20016</th>\n      <td>michael's been trying to get jim and me to han...</td>\n      <td>1</td>\n      <td>[4]</td>\n      <td>[1]</td>\n    </tr>\n  </tbody>\n</table>\n<p>20017 rows × 4 columns</p>\n</div>"
     },
     "execution_count": 49,
     "metadata": {},
     "output_type": "execute_result"
    }
   ],
   "source": [
    "df_data"
   ],
   "metadata": {
    "collapsed": false,
    "ExecuteTime": {
     "end_time": "2024-10-13T15:27:28.831513Z",
     "start_time": "2024-10-13T15:27:28.824737Z"
    }
   },
   "id": "b3c91a7d1a2e86f7",
   "execution_count": 49
  },
  {
   "cell_type": "markdown",
   "source": [
    "## Sentiment classification"
   ],
   "metadata": {
    "collapsed": false
   },
   "id": "e98d5262119d13fc"
  },
  {
   "cell_type": "code",
   "outputs": [],
   "source": [
    "from sklearn.preprocessing import OneHotEncoder\n",
    "sentiment_values = df_data['sentiment'].values.reshape(-1, 1)\n",
    "encoder = OneHotEncoder(sparse_output=False)\n",
    "sentiment_encoded = encoder.fit_transform(sentiment_values)\n",
    "\n",
    "# Convert the result to a DataFrame\n",
    "sentiment_df = pd.DataFrame(sentiment_encoded, columns=encoder.get_feature_names_out(['sentiment']))\n",
    "sentiment_df = sentiment_df.astype(int)\n",
    "df_sentiment = pd.concat([df_data['Utterances'], sentiment_df], axis=1)"
   ],
   "metadata": {
    "collapsed": false,
    "ExecuteTime": {
     "end_time": "2024-10-13T15:27:29.623469Z",
     "start_time": "2024-10-13T15:27:29.618136Z"
    }
   },
   "id": "24e6f03ab0746d07",
   "execution_count": 50
  },
  {
   "cell_type": "code",
   "outputs": [
    {
     "data": {
      "text/plain": "(20017, 4)"
     },
     "execution_count": 51,
     "metadata": {},
     "output_type": "execute_result"
    }
   ],
   "source": [
    "df_sentiment.shape"
   ],
   "metadata": {
    "collapsed": false,
    "ExecuteTime": {
     "end_time": "2024-10-13T15:27:30.042792Z",
     "start_time": "2024-10-13T15:27:30.039530Z"
    }
   },
   "id": "1506176d3ac1619b",
   "execution_count": 51
  },
  {
   "cell_type": "code",
   "outputs": [
    {
     "data": {
      "text/plain": "                                        Utterances  sentiment_0  sentiment_1  \\\n0                                  look around you            0            0   \n1                    say hello to your competition            0            0   \n2  eight of you will switch to an easier specialty            0            0   \n3        five of you will crack under the pressure            0            0   \n4                two of you will be asked to leave            0            0   \n\n   sentiment_2  \n0            1  \n1            1  \n2            1  \n3            1  \n4            1  ",
      "text/html": "<div>\n<style scoped>\n    .dataframe tbody tr th:only-of-type {\n        vertical-align: middle;\n    }\n\n    .dataframe tbody tr th {\n        vertical-align: top;\n    }\n\n    .dataframe thead th {\n        text-align: right;\n    }\n</style>\n<table border=\"1\" class=\"dataframe\">\n  <thead>\n    <tr style=\"text-align: right;\">\n      <th></th>\n      <th>Utterances</th>\n      <th>sentiment_0</th>\n      <th>sentiment_1</th>\n      <th>sentiment_2</th>\n    </tr>\n  </thead>\n  <tbody>\n    <tr>\n      <th>0</th>\n      <td>look around you</td>\n      <td>0</td>\n      <td>0</td>\n      <td>1</td>\n    </tr>\n    <tr>\n      <th>1</th>\n      <td>say hello to your competition</td>\n      <td>0</td>\n      <td>0</td>\n      <td>1</td>\n    </tr>\n    <tr>\n      <th>2</th>\n      <td>eight of you will switch to an easier specialty</td>\n      <td>0</td>\n      <td>0</td>\n      <td>1</td>\n    </tr>\n    <tr>\n      <th>3</th>\n      <td>five of you will crack under the pressure</td>\n      <td>0</td>\n      <td>0</td>\n      <td>1</td>\n    </tr>\n    <tr>\n      <th>4</th>\n      <td>two of you will be asked to leave</td>\n      <td>0</td>\n      <td>0</td>\n      <td>1</td>\n    </tr>\n  </tbody>\n</table>\n</div>"
     },
     "execution_count": 52,
     "metadata": {},
     "output_type": "execute_result"
    }
   ],
   "source": [
    "df_sentiment.head()"
   ],
   "metadata": {
    "collapsed": false,
    "ExecuteTime": {
     "end_time": "2024-10-13T15:27:30.405367Z",
     "start_time": "2024-10-13T15:27:30.399381Z"
    }
   },
   "id": "ea2a643486ec7889",
   "execution_count": 52
  },
  {
   "cell_type": "code",
   "outputs": [
    {
     "data": {
      "text/plain": "sentiment_0    0.186541\nsentiment_1    0.221462\nsentiment_2    0.591997\ndtype: float64"
     },
     "execution_count": 53,
     "metadata": {},
     "output_type": "execute_result"
    }
   ],
   "source": [
    "columns = df_sentiment.columns\n",
    "categor_freq = df_sentiment[columns[1:]].sum() / df_sentiment.shape[0]\n",
    "categor_freq"
   ],
   "metadata": {
    "collapsed": false,
    "ExecuteTime": {
     "end_time": "2024-10-13T15:27:30.750335Z",
     "start_time": "2024-10-13T15:27:30.745705Z"
    }
   },
   "id": "bcdda2e31a7a655f",
   "execution_count": 53
  },
  {
   "cell_type": "code",
   "outputs": [
    {
     "data": {
      "text/plain": "<Figure size 1500x300 with 1 Axes>",
      "image/png": "[encoded data removed]"
     },
     "metadata": {},
     "output_type": "display_data"
    }
   ],
   "source": [
    "import matplotlib.pyplot as plt\n",
    "\n",
    "plt.rcParams[\"figure.figsize\"] = (15, 3)\n",
    "plt.bar(categor_freq.index, categor_freq.values)\n",
    "_ = plt.xticks(rotation=45)"
   ],
   "metadata": {
    "collapsed": false,
    "ExecuteTime": {
     "end_time": "2024-10-13T15:27:31.363384Z",
     "start_time": "2024-10-13T15:27:31.274509Z"
    }
   },
   "id": "338a6014bcb97387",
   "execution_count": 54
  },
  {
   "cell_type": "code",
   "outputs": [],
   "source": [
    "df0 = df_sentiment"
   ],
   "metadata": {
    "collapsed": false,
    "ExecuteTime": {
     "end_time": "2024-10-13T15:27:31.753042Z",
     "start_time": "2024-10-13T15:27:31.750147Z"
    }
   },
   "id": "df161f75369de067",
   "execution_count": 55
  },
  {
   "cell_type": "code",
   "outputs": [
    {
     "data": {
      "text/plain": "                                        Utterances  sentiment_0  sentiment_1  \\\n0                                  look around you            0            0   \n1                    say hello to your competition            0            0   \n2  eight of you will switch to an easier specialty            0            0   \n3        five of you will crack under the pressure            0            0   \n4                two of you will be asked to leave            0            0   \n\n   sentiment_2  \n0            1  \n1            1  \n2            1  \n3            1  \n4            1  ",
      "text/html": "<div>\n<style scoped>\n    .dataframe tbody tr th:only-of-type {\n        vertical-align: middle;\n    }\n\n    .dataframe tbody tr th {\n        vertical-align: top;\n    }\n\n    .dataframe thead th {\n        text-align: right;\n    }\n</style>\n<table border=\"1\" class=\"dataframe\">\n  <thead>\n    <tr style=\"text-align: right;\">\n      <th></th>\n      <th>Utterances</th>\n      <th>sentiment_0</th>\n      <th>sentiment_1</th>\n      <th>sentiment_2</th>\n    </tr>\n  </thead>\n  <tbody>\n    <tr>\n      <th>0</th>\n      <td>look around you</td>\n      <td>0</td>\n      <td>0</td>\n      <td>1</td>\n    </tr>\n    <tr>\n      <th>1</th>\n      <td>say hello to your competition</td>\n      <td>0</td>\n      <td>0</td>\n      <td>1</td>\n    </tr>\n    <tr>\n      <th>2</th>\n      <td>eight of you will switch to an easier specialty</td>\n      <td>0</td>\n      <td>0</td>\n      <td>1</td>\n    </tr>\n    <tr>\n      <th>3</th>\n      <td>five of you will crack under the pressure</td>\n      <td>0</td>\n      <td>0</td>\n      <td>1</td>\n    </tr>\n    <tr>\n      <th>4</th>\n      <td>two of you will be asked to leave</td>\n      <td>0</td>\n      <td>0</td>\n      <td>1</td>\n    </tr>\n  </tbody>\n</table>\n</div>"
     },
     "execution_count": 56,
     "metadata": {},
     "output_type": "execute_result"
    }
   ],
   "source": [
    "df0.head()"
   ],
   "metadata": {
    "collapsed": false,
    "ExecuteTime": {
     "end_time": "2024-10-13T15:27:32.437161Z",
     "start_time": "2024-10-13T15:27:32.431815Z"
    }
   },
   "id": "dfb1123c25c340df",
   "execution_count": 56
  },
  {
   "cell_type": "code",
   "outputs": [
    {
     "name": "stderr",
     "output_type": "stream",
     "text": [
      "[nltk_data] Error loading stopwords: <urlopen error [Errno 11001]\n",
      "[nltk_data]     getaddrinfo failed>\n"
     ]
    }
   ],
   "source": [
    "from sklearn.feature_extraction.text import TfidfVectorizer\n",
    "from sklearn.decomposition import PCA\n",
    "import nltk\n",
    "\n",
    "nltk.download('stopwords')\n",
    "from nltk.corpus import stopwords\n",
    "\n",
    "stop_words = set(stopwords.words('english'))\n"
   ],
   "metadata": {
    "collapsed": false,
    "ExecuteTime": {
     "end_time": "2024-10-13T15:27:45.116664Z",
     "start_time": "2024-10-13T15:27:33.082183Z"
    }
   },
   "id": "17a14a17cf6a44c",
   "execution_count": 57
  },
  {
   "cell_type": "code",
   "outputs": [],
   "source": [
    "X = TfidfVectorizer().fit_transform(df0.Utterances).todense()"
   ],
   "metadata": {
    "collapsed": false,
    "ExecuteTime": {
     "end_time": "2024-10-13T15:27:45.299242Z",
     "start_time": "2024-10-13T15:27:45.117666Z"
    }
   },
   "id": "feb6d730639767d6",
   "execution_count": 58
  },
  {
   "cell_type": "code",
   "outputs": [
    {
     "data": {
      "text/plain": "matrix([[0., 0., 0., ..., 0., 0., 0.],\n        [0., 0., 0., ..., 0., 0., 0.],\n        [0., 0., 0., ..., 0., 0., 0.],\n        ...,\n        [0., 0., 0., ..., 0., 0., 0.],\n        [0., 0., 0., ..., 0., 0., 0.],\n        [0., 0., 0., ..., 0., 0., 0.]])"
     },
     "execution_count": 59,
     "metadata": {},
     "output_type": "execute_result"
    }
   ],
   "source": [
    "X"
   ],
   "metadata": {
    "collapsed": false,
    "ExecuteTime": {
     "end_time": "2024-10-13T15:27:45.303370Z",
     "start_time": "2024-10-13T15:27:45.299242Z"
    }
   },
   "id": "ae59de57ee60e5c0",
   "execution_count": 59
  },
  {
   "cell_type": "code",
   "outputs": [],
   "source": [
    "import numpy as np\n",
    "from sklearn.decomposition import PCA\n",
    "from sklearn.preprocessing import StandardScaler\n",
    "\n",
    "X_array = np.asarray(X)\n",
    "X_scaled = StandardScaler().fit_transform(X_array)\n",
    "\n",
    "pca = PCA(n_components=2)\n",
    "data2D = pd.DataFrame(pca.fit_transform(X_scaled), columns=['PC1', 'PC2'])\n"
   ],
   "metadata": {
    "collapsed": false,
    "ExecuteTime": {
     "end_time": "2024-10-13T15:28:02.622814Z",
     "start_time": "2024-10-13T15:27:55.011659Z"
    }
   },
   "id": "c46c07dee04d45bd",
   "execution_count": 60
  },
  {
   "cell_type": "code",
   "outputs": [
    {
     "data": {
      "text/plain": "        PC1       PC2\n0 -0.008064 -0.037177\n1  0.066126 -0.014558\n2 -0.034066 -0.023411\n3 -0.029662 -0.085197\n4 -0.027260 -0.061008",
      "text/html": "<div>\n<style scoped>\n    .dataframe tbody tr th:only-of-type {\n        vertical-align: middle;\n    }\n\n    .dataframe tbody tr th {\n        vertical-align: top;\n    }\n\n    .dataframe thead th {\n        text-align: right;\n    }\n</style>\n<table border=\"1\" class=\"dataframe\">\n  <thead>\n    <tr style=\"text-align: right;\">\n      <th></th>\n      <th>PC1</th>\n      <th>PC2</th>\n    </tr>\n  </thead>\n  <tbody>\n    <tr>\n      <th>0</th>\n      <td>-0.008064</td>\n      <td>-0.037177</td>\n    </tr>\n    <tr>\n      <th>1</th>\n      <td>0.066126</td>\n      <td>-0.014558</td>\n    </tr>\n    <tr>\n      <th>2</th>\n      <td>-0.034066</td>\n      <td>-0.023411</td>\n    </tr>\n    <tr>\n      <th>3</th>\n      <td>-0.029662</td>\n      <td>-0.085197</td>\n    </tr>\n    <tr>\n      <th>4</th>\n      <td>-0.027260</td>\n      <td>-0.061008</td>\n    </tr>\n  </tbody>\n</table>\n</div>"
     },
     "execution_count": 61,
     "metadata": {},
     "output_type": "execute_result"
    }
   ],
   "source": [
    "data2D.head()"
   ],
   "metadata": {
    "collapsed": false,
    "ExecuteTime": {
     "end_time": "2024-10-13T15:28:02.635042Z",
     "start_time": "2024-10-13T15:28:02.624891Z"
    }
   },
   "id": "198449523440b131",
   "execution_count": 61
  },
  {
   "cell_type": "code",
   "outputs": [
    {
     "data": {
      "text/plain": "array([0.00068445, 0.00061339])"
     },
     "execution_count": 62,
     "metadata": {},
     "output_type": "execute_result"
    }
   ],
   "source": [
    "explained_variance = pca.explained_variance_ratio_\n",
    "explained_variance"
   ],
   "metadata": {
    "collapsed": false,
    "ExecuteTime": {
     "end_time": "2024-10-13T15:28:02.642561Z",
     "start_time": "2024-10-13T15:28:02.636123Z"
    }
   },
   "id": "a44ebc3268f0eb77",
   "execution_count": 62
  },
  {
   "cell_type": "code",
   "outputs": [],
   "source": [
    "from sklearn.feature_selection import VarianceThreshold\n",
    "\n",
    "selector = VarianceThreshold(threshold=0.0005)\n",
    "X_selected = selector.fit_transform(X_array)\n"
   ],
   "metadata": {
    "collapsed": false,
    "ExecuteTime": {
     "end_time": "2024-10-13T15:28:04.136331Z",
     "start_time": "2024-10-13T15:28:02.644632Z"
    }
   },
   "id": "a1fd01765a73a47",
   "execution_count": 63
  },
  {
   "cell_type": "code",
   "outputs": [
    {
     "name": "stderr",
     "output_type": "stream",
     "text": [
      "C:\\Users\\Julix\\AppData\\Local\\Temp\\ipykernel_1880\\1159672929.py:7: UserWarning: No data for colormapping provided via 'c'. Parameters 'cmap' will be ignored\n",
      "  plt.scatter(X_pca_2d[:, 0], X_pca_2d[:, 1], cmap='viridis', s=50, alpha=0.7)\n"
     ]
    },
    {
     "data": {
      "text/plain": "<Figure size 800x600 with 2 Axes>",
      "image/png": "[encoded data removed]"
     },
     "metadata": {},
     "output_type": "display_data"
    }
   ],
   "source": [
    "from sklearn.decomposition import PCA\n",
    "\n",
    "pca_2d = PCA(n_components=2)\n",
    "X_pca_2d = pca_2d.fit_transform(X_selected)\n",
    "\n",
    "plt.figure(figsize=(8, 6))\n",
    "plt.scatter(X_pca_2d[:, 0], X_pca_2d[:, 1], cmap='viridis', s=50, alpha=0.7)\n",
    "plt.colorbar()\n",
    "plt.title('PCA of Selected Features')\n",
    "plt.xlabel('Principal Component 1')\n",
    "plt.ylabel('Principal Component 2')\n",
    "plt.show()\n",
    "\n"
   ],
   "metadata": {
    "collapsed": false,
    "ExecuteTime": {
     "end_time": "2024-10-13T15:28:04.406337Z",
     "start_time": "2024-10-13T15:28:04.137351Z"
    }
   },
   "id": "7647b4fa66b336ec",
   "execution_count": 64
  },
  {
   "cell_type": "code",
   "outputs": [],
   "source": [
    "# Get the corresponding categories for abstracts\n",
    "data2D['category'] = data2D['category'].apply(lambda x:', '.join(x.tolist()) if isinstance(x, pd.Index) else str(x))\n",
    "#color = df0.iloc[:, 2:].apply(lambda x: x.index[x > 0], axis=1)\n",
    "#data2D['category'] = color.to_list()"
   ],
   "metadata": {
    "collapsed": false,
    "ExecuteTime": {
     "end_time": "2024-10-13T15:48:22.787705Z",
     "start_time": "2024-10-13T15:48:22.776871Z"
    }
   },
   "id": "d1c4ce5ed7ea567e",
   "execution_count": 71
  },
  {
   "cell_type": "code",
   "outputs": [
    {
     "data": {
      "text/plain": "            PC1       PC2     category\n0     -0.008064 -0.037177  sentiment_2\n1      0.066126 -0.014558  sentiment_2\n2     -0.034066 -0.023411  sentiment_2\n3     -0.029662 -0.085197  sentiment_2\n4     -0.027260 -0.061008  sentiment_2\n...         ...       ...          ...\n20012 -0.038081 -0.029114             \n20013 -0.021869 -0.039614             \n20014 -0.009313 -0.036175             \n20015 -0.041828 -0.019309             \n20016 -0.038512 -0.020744  sentiment_1\n\n[20017 rows x 3 columns]",
      "text/html": "<div>\n<style scoped>\n    .dataframe tbody tr th:only-of-type {\n        vertical-align: middle;\n    }\n\n    .dataframe tbody tr th {\n        vertical-align: top;\n    }\n\n    .dataframe thead th {\n        text-align: right;\n    }\n</style>\n<table border=\"1\" class=\"dataframe\">\n  <thead>\n    <tr style=\"text-align: right;\">\n      <th></th>\n      <th>PC1</th>\n      <th>PC2</th>\n      <th>category</th>\n    </tr>\n  </thead>\n  <tbody>\n    <tr>\n      <th>0</th>\n      <td>-0.008064</td>\n      <td>-0.037177</td>\n      <td>sentiment_2</td>\n    </tr>\n    <tr>\n      <th>1</th>\n      <td>0.066126</td>\n      <td>-0.014558</td>\n      <td>sentiment_2</td>\n    </tr>\n    <tr>\n      <th>2</th>\n      <td>-0.034066</td>\n      <td>-0.023411</td>\n      <td>sentiment_2</td>\n    </tr>\n    <tr>\n      <th>3</th>\n      <td>-0.029662</td>\n      <td>-0.085197</td>\n      <td>sentiment_2</td>\n    </tr>\n    <tr>\n      <th>4</th>\n      <td>-0.027260</td>\n      <td>-0.061008</td>\n      <td>sentiment_2</td>\n    </tr>\n    <tr>\n      <th>...</th>\n      <td>...</td>\n      <td>...</td>\n      <td>...</td>\n    </tr>\n    <tr>\n      <th>20012</th>\n      <td>-0.038081</td>\n      <td>-0.029114</td>\n      <td></td>\n    </tr>\n    <tr>\n      <th>20013</th>\n      <td>-0.021869</td>\n      <td>-0.039614</td>\n      <td></td>\n    </tr>\n    <tr>\n      <th>20014</th>\n      <td>-0.009313</td>\n      <td>-0.036175</td>\n      <td></td>\n    </tr>\n    <tr>\n      <th>20015</th>\n      <td>-0.041828</td>\n      <td>-0.019309</td>\n      <td></td>\n    </tr>\n    <tr>\n      <th>20016</th>\n      <td>-0.038512</td>\n      <td>-0.020744</td>\n      <td>sentiment_1</td>\n    </tr>\n  </tbody>\n</table>\n<p>20017 rows × 3 columns</p>\n</div>"
     },
     "execution_count": 72,
     "metadata": {},
     "output_type": "execute_result"
    }
   ],
   "source": [
    "data2D\n"
   ],
   "metadata": {
    "collapsed": false,
    "ExecuteTime": {
     "end_time": "2024-10-13T15:48:23.338940Z",
     "start_time": "2024-10-13T15:48:23.332898Z"
    }
   },
   "id": "247676950143d0e5",
   "execution_count": 72
  },
  {
   "cell_type": "code",
   "outputs": [
    {
     "data": {
      "text/plain": "Text(0.5, 1.0, 'PCA of Selected Features')"
     },
     "execution_count": 75,
     "metadata": {},
     "output_type": "execute_result"
    },
    {
     "data": {
      "text/plain": "<Figure size 1000x1000 with 1 Axes>",
      "image/png": "[encoded data removed]"
     },
     "metadata": {},
     "output_type": "display_data"
    }
   ],
   "source": [
    "import seaborn as sns\n",
    "sns.scatterplot(data=data2D, x='PC1', y='PC2', hue='category').set_title('PCA of Selected Features', fontsize=18, fontweight='bold')"
   ],
   "metadata": {
    "collapsed": false,
    "ExecuteTime": {
     "end_time": "2024-10-13T15:50:50.147455Z",
     "start_time": "2024-10-13T15:50:49.182578Z"
    }
   },
   "id": "95c7bf0095d75aab",
   "execution_count": 75
  },
  {
   "cell_type": "code",
   "outputs": [
    {
     "name": "stderr",
     "output_type": "stream",
     "text": [
      "D:\\conda\\Lib\\site-packages\\transformers\\tokenization_utils_base.py:1601: FutureWarning: `clean_up_tokenization_spaces` was not set. It will be set to `True` by default. This behavior will be depracted in transformers v4.45, and will be then set to `False` by default. For more details check this issue: https://github.com/huggingface/transformers/issues/31884\n",
      "  warnings.warn(\n"
     ]
    }
   ],
   "source": [
    "from transformers import BertTokenizer, BertModel\n",
    "tokenizer = BertTokenizer.from_pretrained('bert-base-uncased')"
   ],
   "metadata": {
    "collapsed": false,
    "ExecuteTime": {
     "end_time": "2024-10-13T15:58:42.048774Z",
     "start_time": "2024-10-13T15:58:40.576668Z"
    }
   },
   "id": "bd351f4f7cbd7636",
   "execution_count": 76
  },
  {
   "cell_type": "code",
   "outputs": [
    {
     "data": {
      "text/plain": "{'input_ids': tensor([[  101,  2057,  2024,  5604, 14324, 19204, 17629,  1012,   102,     0,\n             0,     0,     0,     0,     0,     0,     0,     0,     0,     0,\n             0,     0,     0,     0,     0,     0,     0,     0,     0,     0,\n             0,     0,     0,     0,     0,     0,     0,     0,     0,     0,\n             0,     0,     0,     0,     0,     0,     0,     0,     0,     0]]), 'token_type_ids': tensor([[0, 0, 0, 0, 0, 0, 0, 0, 0, 0, 0, 0, 0, 0, 0, 0, 0, 0, 0, 0, 0, 0, 0, 0,\n         0, 0, 0, 0, 0, 0, 0, 0, 0, 0, 0, 0, 0, 0, 0, 0, 0, 0, 0, 0, 0, 0, 0, 0,\n         0, 0]]), 'attention_mask': tensor([[1, 1, 1, 1, 1, 1, 1, 1, 1, 0, 0, 0, 0, 0, 0, 0, 0, 0, 0, 0, 0, 0, 0, 0,\n         0, 0, 0, 0, 0, 0, 0, 0, 0, 0, 0, 0, 0, 0, 0, 0, 0, 0, 0, 0, 0, 0, 0, 0,\n         0, 0]])}"
     },
     "execution_count": 77,
     "metadata": {},
     "output_type": "execute_result"
    }
   ],
   "source": [
    "# Test the tokenizer\n",
    "test_text = \"We are testing BERT tokenizer.\"\n",
    "# generate encodings\n",
    "encodings = tokenizer.encode_plus(test_text,\n",
    "                                  add_special_tokens=True,\n",
    "                                  max_length=50,\n",
    "                                  truncation=True,\n",
    "                                  padding=\"max_length\",\n",
    "                                  return_attention_mask=True,\n",
    "                                  return_tensors=\"pt\")\n",
    "encodings\n"
   ],
   "metadata": {
    "collapsed": false,
    "ExecuteTime": {
     "end_time": "2024-10-13T15:58:42.732404Z",
     "start_time": "2024-10-13T15:58:42.725749Z"
    }
   },
   "id": "45c679711056516e",
   "execution_count": 77
  },
  {
   "cell_type": "code",
   "outputs": [],
   "source": [
    "token_lens = []\n",
    "\n",
    "for txt in df_sentiment['Utterances']:\n",
    "    tokens = tokenizer.encode(txt, max_length=512)\n",
    "    token_lens.append(len(tokens))"
   ],
   "metadata": {
    "collapsed": false,
    "ExecuteTime": {
     "end_time": "2024-10-13T16:00:20.274538Z",
     "start_time": "2024-10-13T16:00:17.416294Z"
    }
   },
   "id": "98319955f193cfbc",
   "execution_count": 79
  },
  {
   "cell_type": "code",
   "outputs": [
    {
     "name": "stderr",
     "output_type": "stream",
     "text": [
      "C:\\Users\\Julix\\AppData\\Local\\Temp\\ipykernel_1880\\3120685560.py:1: UserWarning: \n",
      "\n",
      "`distplot` is a deprecated function and will be removed in seaborn v0.14.0.\n",
      "\n",
      "Please adapt your code to use either `displot` (a figure-level function with\n",
      "similar flexibility) or `histplot` (an axes-level function for histograms).\n",
      "\n",
      "For a guide to updating your code to use the new functions, please see\n",
      "https://gist.github.com/mwaskom/de44147ed2974457ad6372750bbe5751\n",
      "\n",
      "  sns.distplot(token_lens)\n"
     ]
    },
    {
     "data": {
      "text/plain": "Text(0.5, 0, 'Token count')"
     },
     "execution_count": 82,
     "metadata": {},
     "output_type": "execute_result"
    },
    {
     "data": {
      "text/plain": "<Figure size 1000x1000 with 1 Axes>",
      "image/png": "[encoded data removed]"
     },
     "metadata": {},
     "output_type": "display_data"
    }
   ],
   "source": [
    "sns.distplot(token_lens)\n",
    "plt.xlim([0, 40])\n",
    "plt.xlabel('Token count')"
   ],
   "metadata": {
    "collapsed": false,
    "ExecuteTime": {
     "end_time": "2024-10-13T16:01:32.471479Z",
     "start_time": "2024-10-13T16:01:32.200601Z"
    }
   },
   "id": "77e6f5fc967e667c",
   "execution_count": 82
  },
  {
   "cell_type": "code",
   "outputs": [],
   "source": [
    "# Hyperparameters\n",
    "MAX_LEN = 50 # wiekszosc tokenow zdaje sie byc ponizej 40, klasycznie wklada sie tu 256, my przystaniemy na 50\n",
    "TRAIN_BATCH_SIZE = 16 #32\n",
    "VALID_BATCH_SIZE = 16 #32\n",
    "TEST_BATCH_SIZE = 16 #32\n",
    "EPOCHS = 3\n",
    "LEARNING_RATE = 1e-05\n",
    "THRESHOLD = 0.5 # threshold for the sigmoid\n"
   ],
   "metadata": {
    "collapsed": false,
    "ExecuteTime": {
     "end_time": "2024-10-13T16:07:01.922355Z",
     "start_time": "2024-10-13T16:07:01.919258Z"
    }
   },
   "id": "b9f4b72c16cb3935",
   "execution_count": 89
  },
  {
   "cell_type": "code",
   "outputs": [],
   "source": [
    "from sklearn.model_selection import train_test_split\n",
    "# split into train and test\n",
    "df_train, df_test = train_test_split(df_sentiment, random_state=77, test_size=0.30, shuffle=True)\n",
    "# split test into test and validation datasets\n",
    "df_test, df_valid = train_test_split(df_sentiment, random_state=88, test_size=0.50, shuffle=True)\n"
   ],
   "metadata": {
    "collapsed": false,
    "ExecuteTime": {
     "end_time": "2024-10-13T16:04:31.873262Z",
     "start_time": "2024-10-13T16:04:31.866437Z"
    }
   },
   "id": "e9162afec7fbf6c7",
   "execution_count": 83
  },
  {
   "cell_type": "code",
   "outputs": [
    {
     "name": "stdout",
     "output_type": "stream",
     "text": [
      "Train: (14011, 4), Test: (10008, 4), Valid: (10009, 4)\n"
     ]
    }
   ],
   "source": [
    "print(f\"Train: {df_train.shape}, Test: {df_test.shape}, Valid: {df_valid.shape}\")\n"
   ],
   "metadata": {
    "collapsed": false,
    "ExecuteTime": {
     "end_time": "2024-10-13T16:04:32.829887Z",
     "start_time": "2024-10-13T16:04:32.827142Z"
    }
   },
   "id": "e774f8b066d911f9",
   "execution_count": 84
  },
  {
   "cell_type": "code",
   "outputs": [],
   "source": [
    "df_train['Utterances']\n"
   ],
   "metadata": {
    "collapsed": false
   },
   "id": "f88973176132320e",
   "execution_count": null
  },
  {
   "cell_type": "code",
   "outputs": [],
   "source": [
    "class CustomDataset(torch.utils.data.Dataset):\n",
    "    def __init__(self, df, tokenizer, max_len, target_list):\n",
    "        self.tokenizer = tokenizer\n",
    "        self.df = df\n",
    "        self.utterances = list(df['Utterances'])\n",
    "        self.targets = self.df[target_list].values\n",
    "        self.max_len = max_len\n",
    "\n",
    "    def __len__(self):\n",
    "        return len(self.utterances)\n",
    "\n",
    "    def __getitem__(self, index):\n",
    "        utterances = str(self.utterances[index]) #index czy item?\n",
    "        utterances = \" \".join(utterances.split())\n",
    "        inputs = self.tokenizer.encode_plus(\n",
    "            utterances,\n",
    "            None,\n",
    "            add_special_tokens=True,\n",
    "            max_length=self.max_len,\n",
    "            padding='max_length',\n",
    "            return_token_type_ids=True,\n",
    "            truncation=True,\n",
    "            return_attention_mask=True,\n",
    "            return_tensors='pt'\n",
    "        )\n",
    "        return {\n",
    "            'input_ids': inputs['input_ids'].flatten(),\n",
    "            'attention_mask': inputs['attention_mask'].flatten(),\n",
    "            'token_type_ids': inputs[\"token_type_ids\"].flatten(),\n",
    "            'targets': torch.FloatTensor(self.targets[index]),\n",
    "            'utterances': utterances\n",
    "        }\n"
   ],
   "metadata": {
    "collapsed": false,
    "ExecuteTime": {
     "end_time": "2024-10-13T16:04:50.765667Z",
     "start_time": "2024-10-13T16:04:50.761721Z"
    }
   },
   "id": "a9a16e6e37ab1f1f",
   "execution_count": 85
  },
  {
   "cell_type": "code",
   "outputs": [
    {
     "data": {
      "text/plain": "['Utterances', 'sentiment_0', 'sentiment_1', 'sentiment_2']"
     },
     "execution_count": 86,
     "metadata": {},
     "output_type": "execute_result"
    }
   ],
   "source": [
    "target_list = list(df_sentiment.columns)\n",
    "target_list\n"
   ],
   "metadata": {
    "collapsed": false,
    "ExecuteTime": {
     "end_time": "2024-10-13T16:06:25.100784Z",
     "start_time": "2024-10-13T16:06:25.096838Z"
    }
   },
   "id": "54bf0761f6798080",
   "execution_count": 86
  },
  {
   "cell_type": "code",
   "outputs": [],
   "source": [
    "target_list = target_list[1:]"
   ],
   "metadata": {
    "collapsed": false,
    "ExecuteTime": {
     "end_time": "2024-10-13T16:06:25.653220Z",
     "start_time": "2024-10-13T16:06:25.650479Z"
    }
   },
   "id": "13c8fb2d06fccb35",
   "execution_count": 87
  },
  {
   "cell_type": "code",
   "outputs": [],
   "source": [
    "train_dataset = CustomDataset(df_train, tokenizer, MAX_LEN, target_list)\n",
    "valid_dataset = CustomDataset(df_valid, tokenizer, MAX_LEN, target_list)\n",
    "test_dataset = CustomDataset(df_test, tokenizer, MAX_LEN, target_list)"
   ],
   "metadata": {
    "collapsed": false,
    "ExecuteTime": {
     "end_time": "2024-10-13T16:07:05.096723Z",
     "start_time": "2024-10-13T16:07:05.089486Z"
    }
   },
   "id": "71a3802b1908e5b5",
   "execution_count": 90
  },
  {
   "cell_type": "code",
   "outputs": [],
   "source": [
    "data = next(iter(train_dataset))"
   ],
   "metadata": {
    "collapsed": false,
    "ExecuteTime": {
     "end_time": "2024-10-13T16:08:31.952830Z",
     "start_time": "2024-10-13T16:08:31.949828Z"
    }
   },
   "id": "657ead6fd1ee4a6b",
   "execution_count": 92
  },
  {
   "cell_type": "code",
   "outputs": [
    {
     "name": "stdout",
     "output_type": "stream",
     "text": [
      "dict_keys(['input_ids', 'attention_mask', 'token_type_ids', 'targets', 'utterances'])\n",
      "torch.Size([50])\n",
      "torch.Size([50])\n",
      "torch.Size([3])\n"
     ]
    }
   ],
   "source": [
    "print(data.keys())\n",
    "\n",
    "print(data['input_ids'].shape)\n",
    "print(data['attention_mask'].shape)\n",
    "print(data['targets'].shape)"
   ],
   "metadata": {
    "collapsed": false,
    "ExecuteTime": {
     "end_time": "2024-10-13T16:09:15.700832Z",
     "start_time": "2024-10-13T16:09:15.697221Z"
    }
   },
   "id": "f53f06b3203f7fe6",
   "execution_count": 93
  },
  {
   "cell_type": "code",
   "outputs": [],
   "source": [
    "# Data loaders\n",
    "train_data_loader = torch.utils.data.DataLoader(train_dataset,\n",
    "                                                batch_size=TRAIN_BATCH_SIZE,\n",
    "                                                shuffle=True,\n",
    "                                                num_workers=0\n",
    "                                                )\n",
    "\n",
    "val_data_loader = torch.utils.data.DataLoader(valid_dataset,\n",
    "                                              batch_size=VALID_BATCH_SIZE,\n",
    "                                              shuffle=False,\n",
    "                                              num_workers=0\n",
    "                                              )\n",
    "\n",
    "test_data_loader = torch.utils.data.DataLoader(test_dataset,\n",
    "                                               batch_size=TEST_BATCH_SIZE,\n",
    "                                               shuffle=False,\n",
    "                                               num_workers=0\n",
    "                                               )\n"
   ],
   "metadata": {
    "collapsed": false
   },
   "id": "2c12fb9e3dc2e14d",
   "execution_count": null
  },
  {
   "cell_type": "code",
   "outputs": [],
   "source": [
    "class BERTSentimentClass(torch.nn.Module):\n",
    "    def __init__(self):\n",
    "        super(BERTSentimentClass, self).__init__()\n",
    "        self.bert_model = BertModel.from_pretrained('bert-base-uncased', return_dict=True)\n",
    "        self.dropout = torch.nn.Dropout(0.3)\n",
    "        self.linear = torch.nn.Linear(768, 3)\n",
    "        self.softmax = nn.Softmax(dim=1)\n",
    "\n",
    "\n",
    "    def forward(self, input_ids, attn_mask, token_type_ids):\n",
    "        output = self.bert_model(\n",
    "            input_ids,\n",
    "            attention_mask=attn_mask,\n",
    "            token_type_ids=token_type_ids\n",
    "        )\n",
    "        #pooler_output = self.pooler_output\n",
    "        dropout_output = self.dropout(output.pooler_output)\n",
    "        linear_output = self.linear(dropout_output)\n",
    "        output = self.softmax(linear_output)\n",
    "        return output\n",
    "\n",
    "model = BERTSentimentClass()\n",
    "\n",
    "# # Freezing BERT layers:\n",
    "# for param in model.bert_model.parameters():\n",
    "#     param.requires_grad = False\n",
    "\n",
    "model.to(device)\n"
   ],
   "metadata": {
    "collapsed": false
   },
   "id": "47f761b1052199bb",
   "execution_count": null
  },
  {
   "cell_type": "code",
   "outputs": [],
   "source": [
    "def loss_fn(outputs, targets):\n",
    "    return torch.nn.BCEWithLogitsLoss()(outputs, targets)\n"
   ],
   "metadata": {
    "collapsed": false
   },
   "id": "f6015ba2c1e48e60",
   "execution_count": null
  },
  {
   "cell_type": "code",
   "outputs": [],
   "source": [
    "from transformers import AdamW\n",
    "\n",
    "# define the optimizer\n",
    "optimizer = AdamW(model.parameters(), lr=1e-5)"
   ],
   "metadata": {
    "collapsed": false
   },
   "id": "b785978e77908c29",
   "execution_count": null
  },
  {
   "cell_type": "code",
   "outputs": [],
   "source": [
    "# Training of the model for one epoch\n",
    "def train_model(training_loader, model, optimizer):\n",
    "\n",
    "    losses = []\n",
    "    correct_predictions = 0\n",
    "    num_samples = 0\n",
    "    # set model to training mode (activate droput, batch norm)\n",
    "    model.train()\n",
    "    # initialize the progress bar\n",
    "    loop = tq.tqdm(enumerate(training_loader), total=len(training_loader),\n",
    "                   leave=True, colour='steelblue')\n",
    "    for batch_idx, data in loop:\n",
    "        ids = data['input_ids'].to(device, dtype = torch.long)\n",
    "        mask = data['attention_mask'].to(device, dtype = torch.long)\n",
    "        token_type_ids = data['token_type_ids'].to(device, dtype = torch.long)\n",
    "        targets = data['targets'].to(device, dtype = torch.float)\n",
    "\n",
    "        # forward\n",
    "        outputs = model(ids, mask, token_type_ids) # (batch,predict)=(32,8)\n",
    "        loss = loss_fn(outputs, targets)\n",
    "        losses.append(loss.item())\n",
    "        # training accuracy, apply sigmoid, round (apply thresh 0.5)\n",
    "        outputs = torch.sigmoid(outputs).cpu().detach().numpy().round()\n",
    "        targets = targets.cpu().detach().numpy()\n",
    "        correct_predictions += np.sum(outputs==targets)\n",
    "        num_samples += targets.size   # total number of elements in the 2D array\n",
    "\n",
    "        # backward\n",
    "        optimizer.zero_grad()\n",
    "        loss.backward()\n",
    "        nn.utils.clip_grad_norm_(model.parameters(), max_norm=1.0)\n",
    "        # grad descent step\n",
    "        optimizer.step()\n",
    "\n",
    "        # Update progress bar\n",
    "        #loop.set_description(f\"\")\n",
    "        #loop.set_postfix(batch_loss=loss)\n",
    "\n",
    "    # returning: trained model, model accuracy, mean loss\n",
    "    return model, float(correct_predictions)/num_samples, np.mean(losses)"
   ],
   "metadata": {
    "collapsed": false
   },
   "id": "fc66aeeec75e3603",
   "execution_count": null
  },
  {
   "cell_type": "code",
   "outputs": [],
   "source": [
    "def eval_model(validation_loader, model, optimizer):\n",
    "    losses = []\n",
    "    correct_predictions = 0\n",
    "    num_samples = 0\n",
    "    # set model to eval mode (turn off dropout, fix batch norm)\n",
    "    model.eval()\n",
    "\n",
    "    with torch.no_grad():\n",
    "        for batch_idx, data in enumerate(validation_loader, 0):\n",
    "            ids = data['input_ids'].to(device, dtype = torch.long)\n",
    "            mask = data['attention_mask'].to(device, dtype = torch.long)\n",
    "            token_type_ids = data['token_type_ids'].to(device, dtype = torch.long)\n",
    "            targets = data['targets'].to(device, dtype = torch.float)\n",
    "            outputs = model(ids, mask, token_type_ids)\n",
    "\n",
    "            loss = loss_fn(outputs, targets)\n",
    "            losses.append(loss.item())\n",
    "\n",
    "            # validation accuracy\n",
    "            # add sigmoid, for the training sigmoid is in BCEWithLogitsLoss\n",
    "            outputs = torch.sigmoid(outputs).cpu().detach().numpy().round()\n",
    "            targets = targets.cpu().detach().numpy()\n",
    "            correct_predictions += np.sum(outputs==targets)\n",
    "            num_samples += targets.size   # total number of elements in the 2D array\n",
    "\n",
    "    return float(correct_predictions)/num_samples, np.mean(losses)\n"
   ],
   "metadata": {
    "collapsed": false
   },
   "id": "9f1efafc4a099b37",
   "execution_count": null
  },
  {
   "cell_type": "code",
   "outputs": [],
   "source": [
    "history = defaultdict(list)\n",
    "best_accuracy = 0\n",
    "\n",
    "for epoch in range(1, EPOCHS+1):\n",
    "    print(f'Epoch {epoch}/{EPOCHS}')\n",
    "    model, train_acc, train_loss = train_model(train_data_loader, model, optimizer)\n",
    "    val_acc, val_loss = eval_model(val_data_loader, model, optimizer)\n",
    "\n",
    "    print(f'train_loss={train_loss:.4f}, val_loss={val_loss:.4f} train_acc={train_acc:.4f}, val_acc={val_acc:.4f}')\n",
    "\n",
    "    history['train_acc'].append(train_acc)\n",
    "    history['train_loss'].append(train_loss)\n",
    "    history['val_acc'].append(val_acc)\n",
    "    history['val_loss'].append(val_loss)\n",
    "    # save the best model\n",
    "    if val_acc > best_accuracy:\n",
    "        torch.save(model.state_dict(), \"best_model_state.bin\")\n",
    "        best_accuracy = val_acc"
   ],
   "metadata": {
    "collapsed": false
   },
   "id": "91862deff204e18e",
   "execution_count": null
  },
  {
   "cell_type": "code",
   "outputs": [],
   "source": [
    "import matplotlib.pyplot as plt\n",
    "plt.rcParams[\"figure.figsize\"] = (10,7)\n",
    "plt.plot(history['train_acc'], label='train accuracy')\n",
    "plt.plot(history['val_acc'], label='validation accuracy')\n",
    "plt.title('Training history')\n",
    "plt.ylabel('Accuracy')\n",
    "plt.xlabel('Epoch')\n",
    "plt.legend()\n",
    "plt.ylim([0, 1])\n",
    "plt.grid()"
   ],
   "metadata": {
    "collapsed": false
   },
   "id": "50b2b176217523f2"
  },
  {
   "cell_type": "code",
   "outputs": [],
   "source": [],
   "metadata": {
    "collapsed": false
   },
   "id": "f08be199335e53c"
  },
  {
   "cell_type": "code",
   "outputs": [],
   "source": [],
   "metadata": {
    "collapsed": false
   },
   "id": "436a3d62e6be30db"
  },
  {
   "cell_type": "code",
   "outputs": [],
   "source": [],
   "metadata": {
    "collapsed": false
   },
   "id": "32a8defd6392a42c"
  },
  {
   "cell_type": "code",
   "outputs": [],
   "source": [],
   "metadata": {
    "collapsed": false
   },
   "id": "b2fd43ae6f8815d4"
  },
  {
   "cell_type": "markdown",
   "source": [
    "## Emotion classification"
   ],
   "metadata": {
    "collapsed": false
   },
   "id": "b345a3623fd54c0a"
  },
  {
   "cell_type": "code",
   "outputs": [],
   "source": [
    "from sklearn.preprocessing import MultiLabelBinarizer\n",
    "\n",
    "mlb_emotions = MultiLabelBinarizer()\n",
    "binary_emotions = mlb_emotions.fit_transform(df_data['combined_emotions'])\n",
    "\n",
    "df_emotions = pd.DataFrame(binary_emotions, columns=[f\"emotion_{i}\" for i in range(binary_emotions.shape[1])])\n",
    "df_emotions = pd.concat([df_data['Utterances'], df_emotions], axis=1)\n"
   ],
   "metadata": {
    "collapsed": false
   },
   "id": "1f70e36e5dfb5624",
   "execution_count": null
  },
  {
   "cell_type": "code",
   "outputs": [],
   "source": [
    "df_emotions.head()"
   ],
   "metadata": {
    "collapsed": false
   },
   "id": "39bb3d526a0a8ef1",
   "execution_count": null
  },
  {
   "cell_type": "code",
   "outputs": [],
   "source": [],
   "metadata": {
    "collapsed": false
   },
   "id": "5174065536872809"
  },
  {
   "cell_type": "markdown",
   "source": [
    "## Intensity classification"
   ],
   "metadata": {
    "collapsed": false
   },
   "id": "9337ba0cdb602e7b"
  },
  {
   "cell_type": "code",
   "outputs": [],
   "source": [
    "from sklearn.preprocessing import MultiLabelBinarizer\n",
    "mlb_intensities = MultiLabelBinarizer()\n",
    "binary_intensities = mlb_intensities.fit_transform(df_data['combined_intensities'])\n",
    "df_intensities = pd.DataFrame(binary_intensities, columns=[f\"intensity_{i}\" for i in range(binary_intensities.shape[1])])\n",
    "df_intensities = pd.concat([df_data['Utterances'], df_intensities], axis=1)\n"
   ],
   "metadata": {
    "collapsed": false
   },
   "id": "557ac1fbdd3b6ded",
   "execution_count": null
  },
  {
   "cell_type": "code",
   "outputs": [],
   "source": [
    "df_intensities.head()"
   ],
   "metadata": {
    "collapsed": false
   },
   "id": "b452eccf5e143b7e",
   "execution_count": null
  },
  {
   "cell_type": "code",
   "outputs": [],
   "source": [],
   "metadata": {
    "collapsed": false
   },
   "id": "ec1927df477ec583"
  }
 ],
 "metadata": {
  "kernelspec": {
   "display_name": "Python 3",
   "language": "python",
   "name": "python3"
  },
  "language_info": {
   "codemirror_mode": {
    "name": "ipython",
    "version": 2
   },
   "file_extension": ".py",
   "mimetype": "text/x-python",
   "name": "python",
   "nbconvert_exporter": "python",
   "pygments_lexer": "ipython2",
   "version": "2.7.6"
  }
 },
 "nbformat": 4,
 "nbformat_minor": 5
}
