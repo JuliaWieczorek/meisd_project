{
 "cells": [
  {
   "cell_type": "code",
   "execution_count": 1,
   "id": "initial_id",
   "metadata": {
    "collapsed": true,
    "ExecuteTime": {
     "end_time": "2024-08-27T19:23:21.129548Z",
     "start_time": "2024-08-27T19:23:18.889072Z"
    }
   },
   "outputs": [],
   "source": [
    "import pandas as pd\n",
    "\n",
    "data = pd.read_csv('MEISD/MEISD_text.csv')"
   ]
  },
  {
   "cell_type": "code",
   "outputs": [],
   "source": [
    "df_sentiment = data[['Utterances', 'sentiment']]"
   ],
   "metadata": {
    "collapsed": false,
    "ExecuteTime": {
     "end_time": "2024-08-27T19:23:21.134192Z",
     "start_time": "2024-08-27T19:23:21.130551Z"
    }
   },
   "id": "f3d750431feee975",
   "execution_count": 2
  },
  {
   "cell_type": "code",
   "outputs": [
    {
     "name": "stderr",
     "output_type": "stream",
     "text": [
      "C:\\Users\\Julix\\AppData\\Local\\Temp\\ipykernel_21484\\288194093.py:2: SettingWithCopyWarning: \n",
      "A value is trying to be set on a copy of a slice from a DataFrame.\n",
      "Try using .loc[row_indexer,col_indexer] = value instead\n",
      "\n",
      "See the caveats in the documentation: https://pandas.pydata.org/pandas-docs/stable/user_guide/indexing.html#returning-a-view-versus-a-copy\n",
      "  df_sentiment['target'] = df_sentiment['sentiment'].map(target_map)\n",
      "C:\\Users\\Julix\\AppData\\Local\\Temp\\ipykernel_21484\\288194093.py:3: SettingWithCopyWarning: \n",
      "A value is trying to be set on a copy of a slice from a DataFrame\n",
      "\n",
      "See the caveats in the documentation: https://pandas.pydata.org/pandas-docs/stable/user_guide/indexing.html#returning-a-view-versus-a-copy\n",
      "  df_sentiment.dropna(subset=['target'], inplace=True)\n",
      "C:\\Users\\Julix\\AppData\\Local\\Temp\\ipykernel_21484\\288194093.py:4: SettingWithCopyWarning: \n",
      "A value is trying to be set on a copy of a slice from a DataFrame.\n",
      "Try using .loc[row_indexer,col_indexer] = value instead\n",
      "\n",
      "See the caveats in the documentation: https://pandas.pydata.org/pandas-docs/stable/user_guide/indexing.html#returning-a-view-versus-a-copy\n",
      "  df_sentiment['target'] = df_sentiment['target'].astype(int)\n"
     ]
    }
   ],
   "source": [
    "target_map = {'positive': 1, 'negative': 0, 'neutral': 2}\n",
    "df_sentiment['target'] = df_sentiment['sentiment'].map(target_map)\n",
    "df_sentiment.dropna(subset=['target'], inplace=True)\n",
    "df_sentiment['target'] = df_sentiment['target'].astype(int)"
   ],
   "metadata": {
    "collapsed": false,
    "ExecuteTime": {
     "end_time": "2024-08-27T19:23:21.141451Z",
     "start_time": "2024-08-27T19:23:21.134192Z"
    }
   },
   "id": "8a1a72cd03a848bc",
   "execution_count": 3
  },
  {
   "cell_type": "code",
   "outputs": [],
   "source": [],
   "metadata": {
    "collapsed": false,
    "ExecuteTime": {
     "end_time": "2024-08-27T19:23:21.143722Z",
     "start_time": "2024-08-27T19:23:21.141451Z"
    }
   },
   "id": "622c790ccc56d724",
   "execution_count": 3
  },
  {
   "cell_type": "code",
   "outputs": [],
   "source": [
    "df1 = df_sentiment[['Utterances', 'target']]\n",
    "df1.columns = ['Utterances', 'label']\n",
    "df1.to_csv('data.csv', index=False)"
   ],
   "metadata": {
    "collapsed": false,
    "ExecuteTime": {
     "end_time": "2024-08-27T19:23:21.156839Z",
     "start_time": "2024-08-27T19:23:21.144725Z"
    }
   },
   "id": "1b9e9f167b6bd8c2",
   "execution_count": 4
  },
  {
   "cell_type": "code",
   "outputs": [
    {
     "data": {
      "text/plain": "                                              Utterances  label\n0                                        look around you      2\n1                          say hello to your competition      2\n2        eight of you will switch to an easier specialty      2\n3              five of you will crack under the pressure      2\n4                      two of you will be asked to leave      2\n...                                                  ...    ...\n20012  oh, that's right, you're a woman and you need ...      0\n20013                                     i'll try again      0\n20014           please, pam, reconsider and have a bagel      0\n20015                              i have an early lunch      0\n20016  michael's been trying to get jim and me to han...      1\n\n[11351 rows x 2 columns]",
      "text/html": "<div>\n<style scoped>\n    .dataframe tbody tr th:only-of-type {\n        vertical-align: middle;\n    }\n\n    .dataframe tbody tr th {\n        vertical-align: top;\n    }\n\n    .dataframe thead th {\n        text-align: right;\n    }\n</style>\n<table border=\"1\" class=\"dataframe\">\n  <thead>\n    <tr style=\"text-align: right;\">\n      <th></th>\n      <th>Utterances</th>\n      <th>label</th>\n    </tr>\n  </thead>\n  <tbody>\n    <tr>\n      <th>0</th>\n      <td>look around you</td>\n      <td>2</td>\n    </tr>\n    <tr>\n      <th>1</th>\n      <td>say hello to your competition</td>\n      <td>2</td>\n    </tr>\n    <tr>\n      <th>2</th>\n      <td>eight of you will switch to an easier specialty</td>\n      <td>2</td>\n    </tr>\n    <tr>\n      <th>3</th>\n      <td>five of you will crack under the pressure</td>\n      <td>2</td>\n    </tr>\n    <tr>\n      <th>4</th>\n      <td>two of you will be asked to leave</td>\n      <td>2</td>\n    </tr>\n    <tr>\n      <th>...</th>\n      <td>...</td>\n      <td>...</td>\n    </tr>\n    <tr>\n      <th>20012</th>\n      <td>oh, that's right, you're a woman and you need ...</td>\n      <td>0</td>\n    </tr>\n    <tr>\n      <th>20013</th>\n      <td>i'll try again</td>\n      <td>0</td>\n    </tr>\n    <tr>\n      <th>20014</th>\n      <td>please, pam, reconsider and have a bagel</td>\n      <td>0</td>\n    </tr>\n    <tr>\n      <th>20015</th>\n      <td>i have an early lunch</td>\n      <td>0</td>\n    </tr>\n    <tr>\n      <th>20016</th>\n      <td>michael's been trying to get jim and me to han...</td>\n      <td>1</td>\n    </tr>\n  </tbody>\n</table>\n<p>11351 rows × 2 columns</p>\n</div>"
     },
     "execution_count": 5,
     "metadata": {},
     "output_type": "execute_result"
    }
   ],
   "source": [
    "df1"
   ],
   "metadata": {
    "collapsed": false,
    "ExecuteTime": {
     "end_time": "2024-08-27T19:23:21.164984Z",
     "start_time": "2024-08-27T19:23:21.156839Z"
    }
   },
   "id": "3d04a7acc92f55f0",
   "execution_count": 5
  },
  {
   "cell_type": "code",
   "outputs": [
    {
     "data": {
      "text/plain": "Generating train split: 0 examples [00:00, ? examples/s]",
      "application/vnd.jupyter.widget-view+json": {
       "version_major": 2,
       "version_minor": 0,
       "model_id": "1ebb8c6e09a24b0785fb1c560f36e51d"
      }
     },
     "metadata": {},
     "output_type": "display_data"
    }
   ],
   "source": [
    "from datasets import load_dataset\n",
    "\n",
    "raw_dataset = load_dataset('csv', data_files='data.csv')"
   ],
   "metadata": {
    "collapsed": false,
    "ExecuteTime": {
     "end_time": "2024-08-27T19:23:23.522472Z",
     "start_time": "2024-08-27T19:23:21.164984Z"
    }
   },
   "id": "2118adde3b430f94",
   "execution_count": 6
  },
  {
   "cell_type": "code",
   "outputs": [
    {
     "data": {
      "text/plain": "Filter:   0%|          | 0/11351 [00:00<?, ? examples/s]",
      "application/vnd.jupyter.widget-view+json": {
       "version_major": 2,
       "version_minor": 0,
       "model_id": "b54d00e012ed4987b54054363dd522e8"
      }
     },
     "metadata": {},
     "output_type": "display_data"
    }
   ],
   "source": [
    "def is_valid_example(example):\n",
    "    return all(value is not None for value in example.values())\n",
    "\n",
    "raw_dataset = raw_dataset.filter(is_valid_example)"
   ],
   "metadata": {
    "collapsed": false,
    "ExecuteTime": {
     "end_time": "2024-08-27T19:23:23.575419Z",
     "start_time": "2024-08-27T19:23:23.523473Z"
    }
   },
   "id": "ebe7a5d98bfd747a",
   "execution_count": 7
  },
  {
   "cell_type": "code",
   "outputs": [
    {
     "data": {
      "text/plain": "DatasetDict({\n    train: Dataset({\n        features: ['Utterances', 'label'],\n        num_rows: 11351\n    })\n})"
     },
     "execution_count": 8,
     "metadata": {},
     "output_type": "execute_result"
    }
   ],
   "source": [
    "raw_dataset"
   ],
   "metadata": {
    "collapsed": false,
    "ExecuteTime": {
     "end_time": "2024-08-27T19:23:23.580782Z",
     "start_time": "2024-08-27T19:23:23.576421Z"
    }
   },
   "id": "52288546fbab7bf1",
   "execution_count": 8
  },
  {
   "cell_type": "code",
   "outputs": [],
   "source": [
    "split = raw_dataset['train'].train_test_split(test_size=0.3, seed=42)"
   ],
   "metadata": {
    "collapsed": false,
    "ExecuteTime": {
     "end_time": "2024-08-27T19:23:23.611393Z",
     "start_time": "2024-08-27T19:23:23.583787Z"
    }
   },
   "id": "27d50b867fc5f5c6",
   "execution_count": 9
  },
  {
   "cell_type": "code",
   "outputs": [
    {
     "name": "stderr",
     "output_type": "stream",
     "text": [
      "D:\\conda\\Lib\\site-packages\\transformers\\tokenization_utils_base.py:1601: FutureWarning: `clean_up_tokenization_spaces` was not set. It will be set to `True` by default. This behavior will be depracted in transformers v4.45, and will be then set to `False` by default. For more details check this issue: https://github.com/huggingface/transformers/issues/31884\n",
      "  warnings.warn(\n"
     ]
    }
   ],
   "source": [
    "from transformers import AutoTokenizer\n",
    "checkpoint = 'bert-base-cased'\n",
    "tokenizer = AutoTokenizer.from_pretrained(checkpoint)"
   ],
   "metadata": {
    "collapsed": false,
    "ExecuteTime": {
     "end_time": "2024-08-27T19:23:26.927031Z",
     "start_time": "2024-08-27T19:23:23.612395Z"
    }
   },
   "id": "6ca8c6c55f4b8648",
   "execution_count": 10
  },
  {
   "cell_type": "code",
   "outputs": [],
   "source": [
    "def tokenize_fn(batch):\n",
    "    return tokenizer(batch['Utterances'], padding=True, truncation=True)"
   ],
   "metadata": {
    "collapsed": false,
    "ExecuteTime": {
     "end_time": "2024-08-27T19:23:26.930427Z",
     "start_time": "2024-08-27T19:23:26.928034Z"
    }
   },
   "id": "f79367cec14e3a3f",
   "execution_count": 11
  },
  {
   "cell_type": "code",
   "outputs": [
    {
     "data": {
      "text/plain": "Map:   0%|          | 0/7945 [00:00<?, ? examples/s]",
      "application/vnd.jupyter.widget-view+json": {
       "version_major": 2,
       "version_minor": 0,
       "model_id": "747812d64ce34614b3cae21be7608e84"
      }
     },
     "metadata": {},
     "output_type": "display_data"
    },
    {
     "data": {
      "text/plain": "Map:   0%|          | 0/3406 [00:00<?, ? examples/s]",
      "application/vnd.jupyter.widget-view+json": {
       "version_major": 2,
       "version_minor": 0,
       "model_id": "809fc36e3f824a13b27889d1e1752351"
      }
     },
     "metadata": {},
     "output_type": "display_data"
    }
   ],
   "source": [
    "tokenized_dataset = split.map(tokenize_fn, batched=True)"
   ],
   "metadata": {
    "collapsed": false,
    "ExecuteTime": {
     "end_time": "2024-08-27T19:23:27.381274Z",
     "start_time": "2024-08-27T19:23:26.930427Z"
    }
   },
   "id": "abf745b752d4ce5c",
   "execution_count": 12
  },
  {
   "cell_type": "code",
   "outputs": [
    {
     "name": "stderr",
     "output_type": "stream",
     "text": [
      "Some weights of BertForSequenceClassification were not initialized from the model checkpoint at bert-base-cased and are newly initialized: ['classifier.bias', 'classifier.weight']\n",
      "You should probably TRAIN this model on a down-stream task to be able to use it for predictions and inference.\n"
     ]
    }
   ],
   "source": [
    "from transformers import AutoModelForSequenceClassification, Trainer, TrainingArguments\n",
    "model = AutoModelForSequenceClassification.from_pretrained(checkpoint, num_labels=3)"
   ],
   "metadata": {
    "collapsed": false,
    "ExecuteTime": {
     "end_time": "2024-08-27T19:23:29.859118Z",
     "start_time": "2024-08-27T19:23:27.382276Z"
    }
   },
   "id": "e668d05bc74bc640",
   "execution_count": 13
  },
  {
   "cell_type": "code",
   "outputs": [],
   "source": [
    "training_args = TrainingArguments(output_dir='training_dir',\n",
    "                                  eval_strategy='epoch',\n",
    "                                  save_strategy='epoch',\n",
    "                                  num_train_epochs=3,\n",
    "                                  per_device_train_batch_size=16,\n",
    "                                  per_device_eval_batch_size=64)"
   ],
   "metadata": {
    "collapsed": false,
    "ExecuteTime": {
     "end_time": "2024-08-27T19:23:29.871734Z",
     "start_time": "2024-08-27T19:23:29.860120Z"
    }
   },
   "id": "115a5c4da95e9407",
   "execution_count": 14
  },
  {
   "cell_type": "code",
   "outputs": [],
   "source": [
    "from sklearn.metrics import f1_score\n",
    "import numpy as np\n",
    "\n",
    "def compute_metrics(logits_and_labels):\n",
    "    logits, labels = logits_and_labels\n",
    "    predictions = np.argmax(logits, axis=1)\n",
    "    acc = np.mean(predictions == labels)\n",
    "    f1 = f1_score(labels, predictions, average='micro')\n",
    "    return {'accuracy' : acc, 'f1_score' : f1}"
   ],
   "metadata": {
    "collapsed": false,
    "ExecuteTime": {
     "end_time": "2024-08-27T19:23:29.875268Z",
     "start_time": "2024-08-27T19:23:29.872737Z"
    }
   },
   "id": "5c485e43d31abb63",
   "execution_count": 15
  },
  {
   "cell_type": "code",
   "outputs": [],
   "source": [
    "trainer = Trainer(model,\n",
    "                  training_args,\n",
    "                  train_dataset=tokenized_dataset['train'],\n",
    "                  eval_dataset=tokenized_dataset['test'],\n",
    "                  tokenizer=tokenizer,\n",
    "                  compute_metrics=compute_metrics\n",
    ")"
   ],
   "metadata": {
    "collapsed": false,
    "ExecuteTime": {
     "end_time": "2024-08-27T19:23:29.924692Z",
     "start_time": "2024-08-27T19:23:29.876270Z"
    }
   },
   "id": "834b0536677e15c0",
   "execution_count": 16
  },
  {
   "cell_type": "code",
   "outputs": [
    {
     "name": "stdout",
     "output_type": "stream",
     "text": [
      "{'Utterances': \"but i have to admit, i'll miss you\", 'label': 1, 'input_ids': [101, 1133, 178, 1138, 1106, 5890, 117, 178, 112, 1325, 5529, 1128, 102, 0, 0, 0, 0, 0, 0, 0, 0, 0, 0, 0, 0, 0, 0, 0, 0, 0, 0, 0, 0, 0, 0, 0, 0, 0, 0, 0, 0, 0, 0, 0, 0, 0, 0, 0, 0, 0], 'token_type_ids': [0, 0, 0, 0, 0, 0, 0, 0, 0, 0, 0, 0, 0, 0, 0, 0, 0, 0, 0, 0, 0, 0, 0, 0, 0, 0, 0, 0, 0, 0, 0, 0, 0, 0, 0, 0, 0, 0, 0, 0, 0, 0, 0, 0, 0, 0, 0, 0, 0, 0], 'attention_mask': [1, 1, 1, 1, 1, 1, 1, 1, 1, 1, 1, 1, 1, 0, 0, 0, 0, 0, 0, 0, 0, 0, 0, 0, 0, 0, 0, 0, 0, 0, 0, 0, 0, 0, 0, 0, 0, 0, 0, 0, 0, 0, 0, 0, 0, 0, 0, 0, 0, 0]}\n"
     ]
    }
   ],
   "source": [
    "print(tokenized_dataset['train'][0])"
   ],
   "metadata": {
    "collapsed": false,
    "ExecuteTime": {
     "end_time": "2024-08-27T19:23:29.928159Z",
     "start_time": "2024-08-27T19:23:29.924692Z"
    }
   },
   "id": "8dc6471bdd29017a",
   "execution_count": 17
  },
  {
   "cell_type": "code",
   "outputs": [
    {
     "data": {
      "text/plain": "DatasetDict({\n    train: Dataset({\n        features: ['Utterances', 'label', 'input_ids', 'token_type_ids', 'attention_mask'],\n        num_rows: 7945\n    })\n    test: Dataset({\n        features: ['Utterances', 'label', 'input_ids', 'token_type_ids', 'attention_mask'],\n        num_rows: 3406\n    })\n})"
     },
     "execution_count": 18,
     "metadata": {},
     "output_type": "execute_result"
    }
   ],
   "source": [
    "tokenized_dataset  "
   ],
   "metadata": {
    "collapsed": false,
    "ExecuteTime": {
     "end_time": "2024-08-27T19:23:29.931880Z",
     "start_time": "2024-08-27T19:23:29.928159Z"
    }
   },
   "id": "e9bf32e06c62be07",
   "execution_count": 18
  },
  {
   "cell_type": "code",
   "outputs": [
    {
     "data": {
      "text/plain": "<IPython.core.display.HTML object>",
      "text/html": "\n    <div>\n      \n      <progress value='1491' max='1491' style='width:300px; height:20px; vertical-align: middle;'></progress>\n      [1491/1491 54:12, Epoch 3/3]\n    </div>\n    <table border=\"1\" class=\"dataframe\">\n  <thead>\n <tr style=\"text-align: left;\">\n      <th>Epoch</th>\n      <th>Training Loss</th>\n      <th>Validation Loss</th>\n      <th>Accuracy</th>\n      <th>F1 Score</th>\n    </tr>\n  </thead>\n  <tbody>\n    <tr>\n      <td>1</td>\n      <td>No log</td>\n      <td>1.001126</td>\n      <td>0.522020</td>\n      <td>0.522020</td>\n    </tr>\n    <tr>\n      <td>2</td>\n      <td>1.041100</td>\n      <td>0.949428</td>\n      <td>0.560482</td>\n      <td>0.560482</td>\n    </tr>\n    <tr>\n      <td>3</td>\n      <td>0.897500</td>\n      <td>1.063191</td>\n      <td>0.566353</td>\n      <td>0.566353</td>\n    </tr>\n  </tbody>\n</table><p>"
     },
     "metadata": {},
     "output_type": "display_data"
    },
    {
     "data": {
      "text/plain": "TrainOutput(global_step=1491, training_loss=0.8606988406677042, metrics={'train_runtime': 3255.2162, 'train_samples_per_second': 7.322, 'train_steps_per_second': 0.458, 'total_flos': 773184986556822.0, 'train_loss': 0.8606988406677042, 'epoch': 3.0})"
     },
     "execution_count": 19,
     "metadata": {},
     "output_type": "execute_result"
    }
   ],
   "source": [
    "trainer.train() "
   ],
   "metadata": {
    "collapsed": false,
    "ExecuteTime": {
     "end_time": "2024-08-27T20:17:45.829929Z",
     "start_time": "2024-08-27T19:23:29.931880Z"
    }
   },
   "id": "d25f1a524438f49a",
   "execution_count": 19
  },
  {
   "cell_type": "code",
   "outputs": [],
   "source": [
    "from transformers import pipeline\n",
    "\n",
    "saved_model = pipeline('text-classification', model='training_dir/checkpoint-1491')"
   ],
   "metadata": {
    "collapsed": false,
    "ExecuteTime": {
     "end_time": "2024-08-27T20:33:05.504408Z",
     "start_time": "2024-08-27T20:33:05.394309Z"
    }
   },
   "id": "6ac3e24f2a87d878",
   "execution_count": 39
  },
  {
   "cell_type": "code",
   "outputs": [
    {
     "data": {
      "text/plain": "Dataset({\n    features: ['Utterances', 'label'],\n    num_rows: 3406\n})"
     },
     "execution_count": 40,
     "metadata": {},
     "output_type": "execute_result"
    }
   ],
   "source": [
    "split['test']"
   ],
   "metadata": {
    "collapsed": false,
    "ExecuteTime": {
     "end_time": "2024-08-27T20:33:06.135999Z",
     "start_time": "2024-08-27T20:33:06.132280Z"
    }
   },
   "id": "44c0d4d0fd8c0370",
   "execution_count": 40
  },
  {
   "cell_type": "code",
   "outputs": [],
   "source": [
    "predictions = saved_model(split['test']['Utterances'])"
   ],
   "metadata": {
    "collapsed": false,
    "ExecuteTime": {
     "end_time": "2024-08-27T20:34:46.020473Z",
     "start_time": "2024-08-27T20:33:06.780281Z"
    }
   },
   "id": "1c11ade4e00d5fb9",
   "execution_count": 41
  },
  {
   "cell_type": "code",
   "outputs": [
    {
     "data": {
      "text/plain": "[{'label': 'LABEL_1', 'score': 0.8197320103645325},\n {'label': 'LABEL_2', 'score': 0.6306713819503784},\n {'label': 'LABEL_1', 'score': 0.9507781267166138},\n {'label': 'LABEL_1', 'score': 0.9388515949249268},\n {'label': 'LABEL_0', 'score': 0.6836824417114258},\n {'label': 'LABEL_1', 'score': 0.914080798625946},\n {'label': 'LABEL_2', 'score': 0.8721112012863159},\n {'label': 'LABEL_2', 'score': 0.9468514919281006},\n {'label': 'LABEL_1', 'score': 0.4065212309360504},\n {'label': 'LABEL_2', 'score': 0.9392520785331726}]"
     },
     "execution_count": 42,
     "metadata": {},
     "output_type": "execute_result"
    }
   ],
   "source": [
    "predictions[:10]"
   ],
   "metadata": {
    "collapsed": false,
    "ExecuteTime": {
     "end_time": "2024-08-27T20:34:46.025690Z",
     "start_time": "2024-08-27T20:34:46.021474Z"
    }
   },
   "id": "eb5ab5a44ad70b26",
   "execution_count": 42
  },
  {
   "cell_type": "code",
   "outputs": [],
   "source": [
    "def get_label(d):\n",
    "    return int(d['label'].split('_')[1])\n",
    "predictions = [get_label(d) for d in predictions]"
   ],
   "metadata": {
    "collapsed": false,
    "ExecuteTime": {
     "end_time": "2024-08-27T20:34:49.849478Z",
     "start_time": "2024-08-27T20:34:49.845385Z"
    }
   },
   "id": "2b2ebc95ca22163f",
   "execution_count": 43
  },
  {
   "cell_type": "code",
   "outputs": [
    {
     "name": "stdout",
     "output_type": "stream",
     "text": [
      "acc: 0.5663534938344099\n"
     ]
    }
   ],
   "source": [
    "from sklearn.metrics import accuracy_score\n",
    "\n",
    "print('acc:',accuracy_score(split['test']['label'], predictions))"
   ],
   "metadata": {
    "collapsed": false,
    "ExecuteTime": {
     "end_time": "2024-08-27T20:34:50.779852Z",
     "start_time": "2024-08-27T20:34:50.764957Z"
    }
   },
   "id": "87cf84be4b66be95",
   "execution_count": 44
  },
  {
   "cell_type": "code",
   "outputs": [
    {
     "name": "stdout",
     "output_type": "stream",
     "text": [
      "f1: 0.5566504762548563\n"
     ]
    }
   ],
   "source": [
    "print('f1:',f1_score(split['test']['label'], predictions, average='macro'))\n"
   ],
   "metadata": {
    "collapsed": false,
    "ExecuteTime": {
     "end_time": "2024-08-27T20:34:51.277981Z",
     "start_time": "2024-08-27T20:34:51.260906Z"
    }
   },
   "id": "a0556c36fe35e0cb",
   "execution_count": 45
  },
  {
   "cell_type": "code",
   "outputs": [
    {
     "data": {
      "text/plain": "<Figure size 640x480 with 2 Axes>",
      "image/png": "[encoded data removed]"
     },
     "metadata": {},
     "output_type": "display_data"
    }
   ],
   "source": [
    "import seaborn as sns\n",
    "from sklearn.metrics import confusion_matrix\n",
    "\n",
    "def plot_cm(cm):\n",
    "    classes = ['negative', 'positive', 'neutral']\n",
    "    df_cm = pd.DataFrame(cm, index=classes, columns=classes)\n",
    "    ax = sns.heatmap(df_cm, annot=True, fmt='g')\n",
    "    ax.set_xlabel('Predicted')\n",
    "    ax.set_ylabel('Actual')\n",
    "    \n",
    "cm = confusion_matrix(split['test']['label'],predictions, normalize='true')\n",
    "plot_cm(cm)"
   ],
   "metadata": {
    "collapsed": false,
    "ExecuteTime": {
     "end_time": "2024-08-27T20:34:57.123852Z",
     "start_time": "2024-08-27T20:34:56.995554Z"
    }
   },
   "id": "44098d1d516ef2ec",
   "execution_count": 46
  },
  {
   "cell_type": "code",
   "outputs": [],
   "source": [],
   "metadata": {
    "collapsed": false
   },
   "id": "5299c6dff37bd936"
  }
 ],
 "metadata": {
  "kernelspec": {
   "display_name": "Python 3",
   "language": "python",
   "name": "python3"
  },
  "language_info": {
   "codemirror_mode": {
    "name": "ipython",
    "version": 2
   },
   "file_extension": ".py",
   "mimetype": "text/x-python",
   "name": "python",
   "nbconvert_exporter": "python",
   "pygments_lexer": "ipython2",
   "version": "2.7.6"
  }
 },
 "nbformat": 4,
 "nbformat_minor": 5
}
