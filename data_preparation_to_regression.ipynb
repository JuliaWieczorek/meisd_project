{
 "cells": [
  {
   "cell_type": "code",
   "execution_count": 1,
   "id": "initial_id",
   "metadata": {
    "collapsed": true,
    "ExecuteTime": {
     "end_time": "2025-02-04T18:37:53.364744Z",
     "start_time": "2025-02-04T18:37:53.359462Z"
    }
   },
   "outputs": [],
   "source": [
    "import pandas as pd\n",
    "import numpy as np"
   ]
  },
  {
   "cell_type": "code",
   "outputs": [],
   "source": [
    "meta_df = pd.read_csv('data/MEISD_text.csv')"
   ],
   "metadata": {
    "collapsed": false,
    "ExecuteTime": {
     "end_time": "2025-02-04T18:37:54.343458Z",
     "start_time": "2025-02-04T18:37:54.193029Z"
    }
   },
   "id": "b4574a2410cb6af7",
   "execution_count": 2
  },
  {
   "cell_type": "code",
   "outputs": [],
   "source": [
    "# For the multilabel classification we use:\n",
    "columns = ['Utterances', 'dialog_ids', 'intensity', 'intensity2', 'intensity3']\n",
    "meta_dfs = meta_df[columns].copy()"
   ],
   "metadata": {
    "collapsed": false,
    "ExecuteTime": {
     "end_time": "2025-02-04T18:37:55.125964Z",
     "start_time": "2025-02-04T18:37:55.104855Z"
    }
   },
   "id": "5953f3d3ada432d7",
   "execution_count": 3
  },
  {
   "cell_type": "code",
   "outputs": [
    {
     "data": {
      "text/plain": "                                        Utterances  dialog_ids intensity  \\\n0                                  look around you           1       NaN   \n1                    say hello to your competition           1       NaN   \n2  eight of you will switch to an easier specialty           1       NaN   \n3        five of you will crack under the pressure           1       NaN   \n4                two of you will be asked to leave           1       NaN   \n\n  intensity2  intensity3  \n0        NaN         NaN  \n1        NaN         NaN  \n2        NaN         NaN  \n3        NaN         NaN  \n4        NaN         NaN  ",
      "text/html": "<div>\n<style scoped>\n    .dataframe tbody tr th:only-of-type {\n        vertical-align: middle;\n    }\n\n    .dataframe tbody tr th {\n        vertical-align: top;\n    }\n\n    .dataframe thead th {\n        text-align: right;\n    }\n</style>\n<table border=\"1\" class=\"dataframe\">\n  <thead>\n    <tr style=\"text-align: right;\">\n      <th></th>\n      <th>Utterances</th>\n      <th>dialog_ids</th>\n      <th>intensity</th>\n      <th>intensity2</th>\n      <th>intensity3</th>\n    </tr>\n  </thead>\n  <tbody>\n    <tr>\n      <th>0</th>\n      <td>look around you</td>\n      <td>1</td>\n      <td>NaN</td>\n      <td>NaN</td>\n      <td>NaN</td>\n    </tr>\n    <tr>\n      <th>1</th>\n      <td>say hello to your competition</td>\n      <td>1</td>\n      <td>NaN</td>\n      <td>NaN</td>\n      <td>NaN</td>\n    </tr>\n    <tr>\n      <th>2</th>\n      <td>eight of you will switch to an easier specialty</td>\n      <td>1</td>\n      <td>NaN</td>\n      <td>NaN</td>\n      <td>NaN</td>\n    </tr>\n    <tr>\n      <th>3</th>\n      <td>five of you will crack under the pressure</td>\n      <td>1</td>\n      <td>NaN</td>\n      <td>NaN</td>\n      <td>NaN</td>\n    </tr>\n    <tr>\n      <th>4</th>\n      <td>two of you will be asked to leave</td>\n      <td>1</td>\n      <td>NaN</td>\n      <td>NaN</td>\n      <td>NaN</td>\n    </tr>\n  </tbody>\n</table>\n</div>"
     },
     "execution_count": 4,
     "metadata": {},
     "output_type": "execute_result"
    }
   ],
   "source": [
    "meta_dfs.head()"
   ],
   "metadata": {
    "collapsed": false,
    "ExecuteTime": {
     "end_time": "2025-02-04T18:37:55.924988Z",
     "start_time": "2025-02-04T18:37:55.909806Z"
    }
   },
   "id": "f030d87fe9f6536b",
   "execution_count": 4
  },
  {
   "cell_type": "code",
   "outputs": [],
   "source": [
    "meta_dfs.loc[:, 'intensity'] = pd.to_numeric(meta_dfs['intensity'], errors='coerce')\n",
    "meta_dfs.loc[:, 'intensity2'] = pd.to_numeric(meta_dfs['intensity2'], errors='coerce')\n",
    "meta_dfs.loc[:, 'intensity3'] = pd.to_numeric(meta_dfs['intensity3'], errors='coerce')\n",
    "\n",
    "\n",
    "#Zamień wartości na liczby całkowite\n",
    "meta_dfs['intensity'] = pd.to_numeric(meta_dfs['intensity'], errors='coerce').fillna(0)\n",
    "meta_dfs['intensity2'] = pd.to_numeric(meta_dfs['intensity2'], errors='coerce').fillna(0)\n",
    "meta_dfs['intensity3'] = pd.to_numeric(meta_dfs['intensity3'], errors='coerce').fillna(0)\n",
    "\n",
    "#Zamień wartości zawierające tylko białe znaki lub '`', 'neu', 'po' na NaN\n",
    "meta_dfs['intensity'] = meta_dfs['intensity'].replace(r'^\\s*$', np.nan, regex=True)\n",
    "meta_dfs['intensity'] = meta_dfs['intensity'].replace(['`', 'neu', 'po'], np.nan)\n",
    "meta_dfs['intensity2'] = meta_dfs['intensity2'].replace(r'^\\s*$', np.nan, regex=True)\n",
    "meta_dfs['intensity2'] = meta_dfs['intensity2'].replace(['`', 'neu', 'po'], np.nan)\n",
    "meta_dfs['intensity3'] = meta_dfs['intensity3'].replace(r'^\\s*$', np.nan, regex=True)\n",
    "meta_dfs['intensity3'] = meta_dfs['intensity3'].replace(['`', 'neu', 'po'], np.nan)\n",
    "\n",
    "#Użyj forward fill, aby uzupełnić brakujące wartości poprzedzającą wartością\n",
    "meta_dfs['intensity'] = meta_dfs['intensity'].ffill()\n",
    "meta_dfs['intensity2'] = meta_dfs['intensity2'].ffill()\n",
    "meta_dfs['intensity3'] = meta_dfs['intensity3'].ffill()\n",
    "\n",
    "#Usuń znaki niebędące cyframi (np. '`') za pomocą wyrażeń regularnych\n",
    "meta_dfs['intensity'] = meta_dfs['intensity'].replace(r'\\D', '', regex=True).astype(int)  # Usuwa wszystko, co nie jest cyfrą\n",
    "meta_dfs['intensity2'] = meta_dfs['intensity2'].replace(r'\\D', '', regex=True).astype(int)\n",
    "meta_dfs['intensity3'] = meta_dfs['intensity3'].replace(r'\\D', '', regex=True).astype(int)"
   ],
   "metadata": {
    "collapsed": false,
    "ExecuteTime": {
     "end_time": "2025-02-04T18:37:57.430942Z",
     "start_time": "2025-02-04T18:37:57.386636Z"
    }
   },
   "id": "c967cd72893c47b4",
   "execution_count": 5
  },
  {
   "cell_type": "code",
   "outputs": [],
   "source": [
    "# Hiperparametr kontrolujący siłę szumu (możesz dostosować)\n",
    "alpha = 0.2  # Wpływ intensity_2 i intensity_3 na intensity_1\n",
    "noise_std = 0.1  # Standardowe odchylenie losowego szumu\n",
    "\n",
    "# Obliczamy szum na podstawie intensity_2 i intensity_3\n",
    "def add_controlled_noise(row):\n",
    "    base_intensity = row['intensity']\n",
    "\n",
    "    # Tworzymy kontrolowany szum na podstawie intensity_2 i intensity_3\n",
    "    influence = (row['intensity2'] + row['intensity3']) / 2 - 1.5\n",
    "    random_noise = np.random.normal(0, noise_std)  # Losowy szum\n",
    "\n",
    "    # Nowa wartość intensity_1\n",
    "    new_intensity = base_intensity + alpha * influence + random_noise\n",
    "\n",
    "    # Przycinamy wartości do zakresu [0, 3]\n",
    "    return np.clip(new_intensity, 0, 3)\n",
    "\n",
    "# Tworzymy nową kolumnę z zaszumionym intensity_1\n",
    "meta_dfs['intensity_1_noisy'] = meta_dfs.apply(add_controlled_noise, axis=1)"
   ],
   "metadata": {
    "collapsed": false,
    "ExecuteTime": {
     "end_time": "2025-02-04T18:37:59.432911Z",
     "start_time": "2025-02-04T18:37:58.976994Z"
    }
   },
   "id": "811c4337234ffc7f",
   "execution_count": 6
  },
  {
   "cell_type": "code",
   "outputs": [],
   "source": [
    "import os\n",
    "import pandas as pd\n",
    "import numpy as np\n",
    "import json"
   ],
   "metadata": {
    "collapsed": false
   },
   "id": "480b5554299d797b"
  },
  {
   "cell_type": "code",
   "outputs": [
    {
     "data": {
      "text/plain": "                                              Utterances  dialog_ids  \\\n0                                        look around you           1   \n1                          say hello to your competition           1   \n2        eight of you will switch to an easier specialty           1   \n3              five of you will crack under the pressure           1   \n4                      two of you will be asked to leave           1   \n...                                                  ...         ...   \n20012  oh, that's right, you're a woman and you need ...        1125   \n20013                                     i'll try again        1125   \n20014           please, pam, reconsider and have a bagel        1125   \n20015                              i have an early lunch        1125   \n20016  michael's been trying to get jim and me to han...        1125   \n\n       intensity  intensity2  intensity3  intensity_1_noisy  \n0              0           0           0           0.000000  \n1              0           0           0           0.000000  \n2              0           0           0           0.000000  \n3              0           0           0           0.000000  \n4              0           0           0           0.000000  \n...          ...         ...         ...                ...  \n20012          1           2           0           0.911023  \n20013          1           2           0           0.828618  \n20014          1           1           0           0.907747  \n20015          1           2           0           0.903971  \n20016          1           0           0           0.794212  \n\n[20017 rows x 6 columns]",
      "text/html": "<div>\n<style scoped>\n    .dataframe tbody tr th:only-of-type {\n        vertical-align: middle;\n    }\n\n    .dataframe tbody tr th {\n        vertical-align: top;\n    }\n\n    .dataframe thead th {\n        text-align: right;\n    }\n</style>\n<table border=\"1\" class=\"dataframe\">\n  <thead>\n    <tr style=\"text-align: right;\">\n      <th></th>\n      <th>Utterances</th>\n      <th>dialog_ids</th>\n      <th>intensity</th>\n      <th>intensity2</th>\n      <th>intensity3</th>\n      <th>intensity_1_noisy</th>\n    </tr>\n  </thead>\n  <tbody>\n    <tr>\n      <th>0</th>\n      <td>look around you</td>\n      <td>1</td>\n      <td>0</td>\n      <td>0</td>\n      <td>0</td>\n      <td>0.000000</td>\n    </tr>\n    <tr>\n      <th>1</th>\n      <td>say hello to your competition</td>\n      <td>1</td>\n      <td>0</td>\n      <td>0</td>\n      <td>0</td>\n      <td>0.000000</td>\n    </tr>\n    <tr>\n      <th>2</th>\n      <td>eight of you will switch to an easier specialty</td>\n      <td>1</td>\n      <td>0</td>\n      <td>0</td>\n      <td>0</td>\n      <td>0.000000</td>\n    </tr>\n    <tr>\n      <th>3</th>\n      <td>five of you will crack under the pressure</td>\n      <td>1</td>\n      <td>0</td>\n      <td>0</td>\n      <td>0</td>\n      <td>0.000000</td>\n    </tr>\n    <tr>\n      <th>4</th>\n      <td>two of you will be asked to leave</td>\n      <td>1</td>\n      <td>0</td>\n      <td>0</td>\n      <td>0</td>\n      <td>0.000000</td>\n    </tr>\n    <tr>\n      <th>...</th>\n      <td>...</td>\n      <td>...</td>\n      <td>...</td>\n      <td>...</td>\n      <td>...</td>\n      <td>...</td>\n    </tr>\n    <tr>\n      <th>20012</th>\n      <td>oh, that's right, you're a woman and you need ...</td>\n      <td>1125</td>\n      <td>1</td>\n      <td>2</td>\n      <td>0</td>\n      <td>0.911023</td>\n    </tr>\n    <tr>\n      <th>20013</th>\n      <td>i'll try again</td>\n      <td>1125</td>\n      <td>1</td>\n      <td>2</td>\n      <td>0</td>\n      <td>0.828618</td>\n    </tr>\n    <tr>\n      <th>20014</th>\n      <td>please, pam, reconsider and have a bagel</td>\n      <td>1125</td>\n      <td>1</td>\n      <td>1</td>\n      <td>0</td>\n      <td>0.907747</td>\n    </tr>\n    <tr>\n      <th>20015</th>\n      <td>i have an early lunch</td>\n      <td>1125</td>\n      <td>1</td>\n      <td>2</td>\n      <td>0</td>\n      <td>0.903971</td>\n    </tr>\n    <tr>\n      <th>20016</th>\n      <td>michael's been trying to get jim and me to han...</td>\n      <td>1125</td>\n      <td>1</td>\n      <td>0</td>\n      <td>0</td>\n      <td>0.794212</td>\n    </tr>\n  </tbody>\n</table>\n<p>20017 rows × 6 columns</p>\n</div>"
     },
     "execution_count": 7,
     "metadata": {},
     "output_type": "execute_result"
    }
   ],
   "source": [
    "meta_dfs"
   ],
   "metadata": {
    "collapsed": false,
    "ExecuteTime": {
     "end_time": "2025-02-04T18:38:05.748711Z",
     "start_time": "2025-02-04T18:38:05.737712Z"
    }
   },
   "id": "9999961aca8e0874",
   "execution_count": 7
  },
  {
   "cell_type": "code",
   "outputs": [
    {
     "name": "stderr",
     "output_type": "stream",
     "text": [
      "C:\\Users\\juwieczo\\AppData\\Local\\Temp\\ipykernel_13708\\1709486933.py:23: DeprecationWarning: DataFrameGroupBy.apply operated on the grouping columns. This behavior is deprecated, and in a future version of pandas the grouping columns will be excluded from the operation. Either pass `include_groups=False` to exclude the groupings or explicitly select the grouping columns after groupby to silence this warning.\n",
      "  meta_dfs.groupby('dialog_ids').apply(process_group)\n"
     ]
    }
   ],
   "source": [
    "first_25_data = []\n",
    "last_25_data = []\n",
    "\n",
    "def process_group(group):\n",
    "    num_rows = len(group)\n",
    "    quarter_size = max(1, num_rows // 4)\n",
    "\n",
    "    # First 25%\n",
    "    first_25 = group.iloc[:quarter_size]\n",
    "    first_25_avg_intensity = first_25.loc[first_25['intensity_1_noisy'] > 0, 'intensity_1_noisy'].mean()\n",
    "\n",
    "    # Last 25%\n",
    "    last_25 = group.iloc[-quarter_size:]\n",
    "    last_25_avg_intensity = last_25.loc[last_25['intensity_1_noisy'] > 0, 'intensity_1_noisy'].mean()\n",
    "\n",
    "    # Dodanie średniej jako nowej kolumny\n",
    "    first_25 = first_25.assign(avg_intensity_noisy=first_25_avg_intensity)\n",
    "    last_25 = last_25.assign(avg_intensity_noisy=last_25_avg_intensity)\n",
    "\n",
    "    first_25_data.append(first_25)\n",
    "    last_25_data.append(last_25)\n",
    "\n",
    "meta_dfs.groupby('dialog_ids').apply(process_group)\n",
    "\n",
    "first_25_df = pd.concat(first_25_data).reset_index(drop=True)\n",
    "last_25_df = pd.concat(last_25_data).reset_index(drop=True)"
   ],
   "metadata": {
    "collapsed": false,
    "ExecuteTime": {
     "end_time": "2025-02-04T18:51:31.553196Z",
     "start_time": "2025-02-04T18:51:29.486201Z"
    }
   },
   "id": "c7f4a6732c0c3fc1",
   "execution_count": 21
  },
  {
   "cell_type": "code",
   "outputs": [],
   "source": [
    "# Grupowanie z uwzględnieniem średniej intensywności\n",
    "grouped_first_25 = first_25_df.groupby('dialog_ids').agg({\n",
    "    'Utterances': ' '.join,\n",
    "    'avg_intensity_noisy': 'first'\n",
    "}).reset_index().fillna(0)\n",
    "\n",
    "grouped_last_25 = last_25_df.groupby('dialog_ids').agg({\n",
    "    'Utterances': ' '.join,\n",
    "    'avg_intensity_noisy': 'first'\n",
    "}).reset_index().fillna(0)\n",
    "\n",
    "df = grouped_first_25[['dialog_ids', 'Utterances', 'avg_intensity_noisy']].fillna(0)"
   ],
   "metadata": {
    "collapsed": false,
    "ExecuteTime": {
     "end_time": "2025-02-04T18:51:32.580953Z",
     "start_time": "2025-02-04T18:51:32.528722Z"
    }
   },
   "id": "50169223414226b6",
   "execution_count": 22
  },
  {
   "cell_type": "code",
   "outputs": [],
   "source": [
    "df.rename(columns={'avg_intensity_noisy':'label'}, inplace=True)"
   ],
   "metadata": {
    "collapsed": false,
    "ExecuteTime": {
     "end_time": "2025-02-04T18:51:33.570135Z",
     "start_time": "2025-02-04T18:51:33.563143Z"
    }
   },
   "id": "67510e841f41a256",
   "execution_count": 23
  },
  {
   "cell_type": "code",
   "outputs": [
    {
     "data": {
      "text/plain": "      dialog_ids                                         Utterances     label\n0              1  look around you say hello to your competition ...  0.000000\n1              2  i'm george o'malley uh, we met at the mixer. y...  1.344341\n2              3  seattle is surrounded by water on three sides ...  1.175248\n3              4  yes no other reason? just a favor for an old p...  1.178085\n4              5  if he doesn't respond to these tests in the ne...  1.571909\n...          ...                                                ...       ...\n1119        1121  i was thinking exactly the same thing no. crim...  1.802966\n1120        1122  just to be clear, he backed down an insurance ...  2.286215\n1121        1123  hey, michael, did you fall into a koi pond? i ...  1.119796\n1122        1124  hey, boss, did you find nemo? i can name pixar...  1.005297\n1123        1125  and it is now a scientific fact that you are h...  0.751353\n\n[1124 rows x 3 columns]",
      "text/html": "<div>\n<style scoped>\n    .dataframe tbody tr th:only-of-type {\n        vertical-align: middle;\n    }\n\n    .dataframe tbody tr th {\n        vertical-align: top;\n    }\n\n    .dataframe thead th {\n        text-align: right;\n    }\n</style>\n<table border=\"1\" class=\"dataframe\">\n  <thead>\n    <tr style=\"text-align: right;\">\n      <th></th>\n      <th>dialog_ids</th>\n      <th>Utterances</th>\n      <th>label</th>\n    </tr>\n  </thead>\n  <tbody>\n    <tr>\n      <th>0</th>\n      <td>1</td>\n      <td>look around you say hello to your competition ...</td>\n      <td>0.000000</td>\n    </tr>\n    <tr>\n      <th>1</th>\n      <td>2</td>\n      <td>i'm george o'malley uh, we met at the mixer. y...</td>\n      <td>1.344341</td>\n    </tr>\n    <tr>\n      <th>2</th>\n      <td>3</td>\n      <td>seattle is surrounded by water on three sides ...</td>\n      <td>1.175248</td>\n    </tr>\n    <tr>\n      <th>3</th>\n      <td>4</td>\n      <td>yes no other reason? just a favor for an old p...</td>\n      <td>1.178085</td>\n    </tr>\n    <tr>\n      <th>4</th>\n      <td>5</td>\n      <td>if he doesn't respond to these tests in the ne...</td>\n      <td>1.571909</td>\n    </tr>\n    <tr>\n      <th>...</th>\n      <td>...</td>\n      <td>...</td>\n      <td>...</td>\n    </tr>\n    <tr>\n      <th>1119</th>\n      <td>1121</td>\n      <td>i was thinking exactly the same thing no. crim...</td>\n      <td>1.802966</td>\n    </tr>\n    <tr>\n      <th>1120</th>\n      <td>1122</td>\n      <td>just to be clear, he backed down an insurance ...</td>\n      <td>2.286215</td>\n    </tr>\n    <tr>\n      <th>1121</th>\n      <td>1123</td>\n      <td>hey, michael, did you fall into a koi pond? i ...</td>\n      <td>1.119796</td>\n    </tr>\n    <tr>\n      <th>1122</th>\n      <td>1124</td>\n      <td>hey, boss, did you find nemo? i can name pixar...</td>\n      <td>1.005297</td>\n    </tr>\n    <tr>\n      <th>1123</th>\n      <td>1125</td>\n      <td>and it is now a scientific fact that you are h...</td>\n      <td>0.751353</td>\n    </tr>\n  </tbody>\n</table>\n<p>1124 rows × 3 columns</p>\n</div>"
     },
     "execution_count": 24,
     "metadata": {},
     "output_type": "execute_result"
    }
   ],
   "source": [
    "df"
   ],
   "metadata": {
    "collapsed": false,
    "ExecuteTime": {
     "end_time": "2025-02-04T18:51:40.729179Z",
     "start_time": "2025-02-04T18:51:40.714646Z"
    }
   },
   "id": "5d69d64d24bccacf",
   "execution_count": 24
  },
  {
   "cell_type": "code",
   "outputs": [],
   "source": [
    "df.to_csv('C:/Users/juwieczo/DataspellProjects/meisd_project/datafirst_25_percent.csv', index=False)"
   ],
   "metadata": {
    "collapsed": false,
    "ExecuteTime": {
     "end_time": "2025-02-04T18:51:46.384137Z",
     "start_time": "2025-02-04T18:51:46.360877Z"
    }
   },
   "id": "56027dbdcdd21cc3",
   "execution_count": 25
  },
  {
   "cell_type": "code",
   "outputs": [],
   "source": [],
   "metadata": {
    "collapsed": false
   },
   "id": "980a296f3ce15f4a"
  }
 ],
 "metadata": {
  "kernelspec": {
   "display_name": "Python 3",
   "language": "python",
   "name": "python3"
  },
  "language_info": {
   "codemirror_mode": {
    "name": "ipython",
    "version": 2
   },
   "file_extension": ".py",
   "mimetype": "text/x-python",
   "name": "python",
   "nbconvert_exporter": "python",
   "pygments_lexer": "ipython2",
   "version": "2.7.6"
  }
 },
 "nbformat": 4,
 "nbformat_minor": 5
}
