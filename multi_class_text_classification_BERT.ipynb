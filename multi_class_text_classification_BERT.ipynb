{
 "cells": [
  {
   "cell_type": "code",
   "execution_count": 1,
   "id": "initial_id",
   "metadata": {
    "collapsed": true,
    "ExecuteTime": {
     "end_time": "2024-09-25T06:36:49.253912Z",
     "start_time": "2024-09-25T06:36:46.698704Z"
    }
   },
   "outputs": [],
   "source": [
    "import os\n",
    "import pandas as pd\n",
    "import numpy as np\n",
    "import shutil\n",
    "import sys\n",
    "import tqdm.notebook as tq\n",
    "from collections import defaultdict\n",
    "\n",
    "import torch\n",
    "import torch.nn as nn\n",
    "\n",
    "device = torch.device('cuda') if torch.cuda.is_available() else torch.device('cpu')"
   ]
  },
  {
   "cell_type": "code",
   "outputs": [],
   "source": [
    "df_data = pd.read_csv('MEISD/MEISD_text.csv')"
   ],
   "metadata": {
    "collapsed": false,
    "ExecuteTime": {
     "end_time": "2024-09-25T06:36:49.303046Z",
     "start_time": "2024-09-25T06:36:49.254915Z"
    }
   },
   "id": "73cab1258da20570",
   "execution_count": 2
  },
  {
   "cell_type": "code",
   "outputs": [],
   "source": [
    "#df_data = df_data.loc[df_data.iloc[:,2:].apply(sum, axis=1) == 1,:].sample(n = 10_000, random_state = 4)\n",
    "df_data = df_data.sample(n = 10_000, random_state = 4)"
   ],
   "metadata": {
    "collapsed": false,
    "ExecuteTime": {
     "end_time": "2024-09-25T06:36:49.311977Z",
     "start_time": "2024-09-25T06:36:49.304048Z"
    }
   },
   "id": "45cd8c57317ddf0",
   "execution_count": 3
  },
  {
   "cell_type": "code",
   "outputs": [
    {
     "data": {
      "text/plain": "      TV Series                                         Utterances  \\\n2712         CA                       that's not all that was long   \n18590        TO                          or does somebody miss me?   \n19697        TO                why holly and i should be together,   \n16157       HOC      i'm sorry. i didn't mean for that to come off   \n11635       HMD   things got a little slow, so we made some wagers   \n...         ...                                                ...   \n13533        BD  how's her driving? driving. is she good behind...   \n15237        FR  No-no-no. I don't have a son named Jordie. We ...   \n10261       HMD  just because you got out of clinic duty doesn'...   \n11528       HMD                          yeah. your mother told me   \n18740        TO            what exactly is my responsibility here?   \n\n       dialog_ids  uttr_ids  seasons  episodes   start_times     end_times  \\\n2712          138         7        3         7  00:05:58:210  00:06:00:010   \n18590        1054        15        3         4  00:02:11:799  00:02:13:265   \n19697        1110         0        5        26  00:04:09:333  00:04:11:000   \n16157         931        18        1         4  00:14:58:040  00:14:59:724   \n11635         590        17        6        14  00:05:02:407  00:05:05:911   \n...           ...       ...      ...       ...           ...           ...   \n13533         684        18        3        13  00:18:45:626  00:18:49:046   \n15237         841         1        1        23  00:08:03,566  00:08:10,113   \n10261         521        14        1        13  00:10:22:227  00:10:24:771   \n11528         585         8        6         6  00:14:25:386  00:14:27:180   \n18740        1062         5        6         1  00:12:59:210  00:13:01:678   \n\n       sentiment     emotion intensity emotion2 intensity2 emotion3  \\\n2712    positive         joy         1  disgust          1      NaN   \n18590   Positive    surprise         2     like          1      NaN   \n19697   positive         joy         2  disgust          1      NaN   \n16157  negative     surprise         2  disgust          1      NaN   \n11635   negative     sadness         1      NaN        NaN      NaN   \n...          ...         ...       ...      ...        ...      ...   \n13533   Positive     neutral       NaN      NaN        NaN      NaN   \n15237   negative       anger         3      NaN        NaN      NaN   \n10261   negative       anger         1  disgust          2      NaN   \n11528    positve  acceptance         2      NaN        NaN      NaN   \n18740   Negative    surprise         3      NaN        NaN      NaN   \n\n       intensity3  \n2712          NaN  \n18590         NaN  \n19697         NaN  \n16157         NaN  \n11635         NaN  \n...           ...  \n13533         NaN  \n15237         NaN  \n10261         NaN  \n11528         NaN  \n18740         NaN  \n\n[10000 rows x 15 columns]",
      "text/html": "<div>\n<style scoped>\n    .dataframe tbody tr th:only-of-type {\n        vertical-align: middle;\n    }\n\n    .dataframe tbody tr th {\n        vertical-align: top;\n    }\n\n    .dataframe thead th {\n        text-align: right;\n    }\n</style>\n<table border=\"1\" class=\"dataframe\">\n  <thead>\n    <tr style=\"text-align: right;\">\n      <th></th>\n      <th>TV Series</th>\n      <th>Utterances</th>\n      <th>dialog_ids</th>\n      <th>uttr_ids</th>\n      <th>seasons</th>\n      <th>episodes</th>\n      <th>start_times</th>\n      <th>end_times</th>\n      <th>sentiment</th>\n      <th>emotion</th>\n      <th>intensity</th>\n      <th>emotion2</th>\n      <th>intensity2</th>\n      <th>emotion3</th>\n      <th>intensity3</th>\n    </tr>\n  </thead>\n  <tbody>\n    <tr>\n      <th>2712</th>\n      <td>CA</td>\n      <td>that's not all that was long</td>\n      <td>138</td>\n      <td>7</td>\n      <td>3</td>\n      <td>7</td>\n      <td>00:05:58:210</td>\n      <td>00:06:00:010</td>\n      <td>positive</td>\n      <td>joy</td>\n      <td>1</td>\n      <td>disgust</td>\n      <td>1</td>\n      <td>NaN</td>\n      <td>NaN</td>\n    </tr>\n    <tr>\n      <th>18590</th>\n      <td>TO</td>\n      <td>or does somebody miss me?</td>\n      <td>1054</td>\n      <td>15</td>\n      <td>3</td>\n      <td>4</td>\n      <td>00:02:11:799</td>\n      <td>00:02:13:265</td>\n      <td>Positive</td>\n      <td>surprise</td>\n      <td>2</td>\n      <td>like</td>\n      <td>1</td>\n      <td>NaN</td>\n      <td>NaN</td>\n    </tr>\n    <tr>\n      <th>19697</th>\n      <td>TO</td>\n      <td>why holly and i should be together,</td>\n      <td>1110</td>\n      <td>0</td>\n      <td>5</td>\n      <td>26</td>\n      <td>00:04:09:333</td>\n      <td>00:04:11:000</td>\n      <td>positive</td>\n      <td>joy</td>\n      <td>2</td>\n      <td>disgust</td>\n      <td>1</td>\n      <td>NaN</td>\n      <td>NaN</td>\n    </tr>\n    <tr>\n      <th>16157</th>\n      <td>HOC</td>\n      <td>i'm sorry. i didn't mean for that to come off</td>\n      <td>931</td>\n      <td>18</td>\n      <td>1</td>\n      <td>4</td>\n      <td>00:14:58:040</td>\n      <td>00:14:59:724</td>\n      <td>negative</td>\n      <td>surprise</td>\n      <td>2</td>\n      <td>disgust</td>\n      <td>1</td>\n      <td>NaN</td>\n      <td>NaN</td>\n    </tr>\n    <tr>\n      <th>11635</th>\n      <td>HMD</td>\n      <td>things got a little slow, so we made some wagers</td>\n      <td>590</td>\n      <td>17</td>\n      <td>6</td>\n      <td>14</td>\n      <td>00:05:02:407</td>\n      <td>00:05:05:911</td>\n      <td>negative</td>\n      <td>sadness</td>\n      <td>1</td>\n      <td>NaN</td>\n      <td>NaN</td>\n      <td>NaN</td>\n      <td>NaN</td>\n    </tr>\n    <tr>\n      <th>...</th>\n      <td>...</td>\n      <td>...</td>\n      <td>...</td>\n      <td>...</td>\n      <td>...</td>\n      <td>...</td>\n      <td>...</td>\n      <td>...</td>\n      <td>...</td>\n      <td>...</td>\n      <td>...</td>\n      <td>...</td>\n      <td>...</td>\n      <td>...</td>\n      <td>...</td>\n    </tr>\n    <tr>\n      <th>13533</th>\n      <td>BD</td>\n      <td>how's her driving? driving. is she good behind...</td>\n      <td>684</td>\n      <td>18</td>\n      <td>3</td>\n      <td>13</td>\n      <td>00:18:45:626</td>\n      <td>00:18:49:046</td>\n      <td>Positive</td>\n      <td>neutral</td>\n      <td>NaN</td>\n      <td>NaN</td>\n      <td>NaN</td>\n      <td>NaN</td>\n      <td>NaN</td>\n    </tr>\n    <tr>\n      <th>15237</th>\n      <td>FR</td>\n      <td>No-no-no. I don't have a son named Jordie. We ...</td>\n      <td>841</td>\n      <td>1</td>\n      <td>1</td>\n      <td>23</td>\n      <td>00:08:03,566</td>\n      <td>00:08:10,113</td>\n      <td>negative</td>\n      <td>anger</td>\n      <td>3</td>\n      <td>NaN</td>\n      <td>NaN</td>\n      <td>NaN</td>\n      <td>NaN</td>\n    </tr>\n    <tr>\n      <th>10261</th>\n      <td>HMD</td>\n      <td>just because you got out of clinic duty doesn'...</td>\n      <td>521</td>\n      <td>14</td>\n      <td>1</td>\n      <td>13</td>\n      <td>00:10:22:227</td>\n      <td>00:10:24:771</td>\n      <td>negative</td>\n      <td>anger</td>\n      <td>1</td>\n      <td>disgust</td>\n      <td>2</td>\n      <td>NaN</td>\n      <td>NaN</td>\n    </tr>\n    <tr>\n      <th>11528</th>\n      <td>HMD</td>\n      <td>yeah. your mother told me</td>\n      <td>585</td>\n      <td>8</td>\n      <td>6</td>\n      <td>6</td>\n      <td>00:14:25:386</td>\n      <td>00:14:27:180</td>\n      <td>positve</td>\n      <td>acceptance</td>\n      <td>2</td>\n      <td>NaN</td>\n      <td>NaN</td>\n      <td>NaN</td>\n      <td>NaN</td>\n    </tr>\n    <tr>\n      <th>18740</th>\n      <td>TO</td>\n      <td>what exactly is my responsibility here?</td>\n      <td>1062</td>\n      <td>5</td>\n      <td>6</td>\n      <td>1</td>\n      <td>00:12:59:210</td>\n      <td>00:13:01:678</td>\n      <td>Negative</td>\n      <td>surprise</td>\n      <td>3</td>\n      <td>NaN</td>\n      <td>NaN</td>\n      <td>NaN</td>\n      <td>NaN</td>\n    </tr>\n  </tbody>\n</table>\n<p>10000 rows × 15 columns</p>\n</div>"
     },
     "execution_count": 4,
     "metadata": {},
     "output_type": "execute_result"
    }
   ],
   "source": [
    "df_data"
   ],
   "metadata": {
    "collapsed": false,
    "ExecuteTime": {
     "end_time": "2024-09-25T06:36:49.327491Z",
     "start_time": "2024-09-25T06:36:49.312979Z"
    }
   },
   "id": "324b1943e7c9426e",
   "execution_count": 4
  },
  {
   "cell_type": "code",
   "outputs": [],
   "source": [
    "import pandas as pd\n",
    "\n",
    "# Define emotion and sentiment mappings\n",
    "emotion_map = {\n",
    "    'neutral': 0,\n",
    "    'acceptance': 1,\n",
    "    'disgust': 2,\n",
    "    'surprise': 3,\n",
    "    'joy': 4,\n",
    "    'sadness': 5,\n",
    "    'anger': 6,\n",
    "    'like': 7,\n",
    "    'fear': 8\n",
    "}\n",
    "\n",
    "sentiment_map = {\n",
    "    'positive': 1,\n",
    "    'negative': 0,\n",
    "    'neutral': 2\n",
    "}\n",
    "\n",
    "# Map and convert sentiment and emotion columns\n",
    "df_data['sentiment'] = pd.to_numeric(df_data['sentiment'].map(sentiment_map).fillna(2).astype(int))  # Use 2 as a default for unknown\n",
    "df_data['emotion'] = pd.to_numeric(df_data['emotion'].map(emotion_map).fillna(9).astype(int))  # Use 9 for unknown emotions\n",
    "df_data['emotion2'] = pd.to_numeric(df_data['emotion2'].map(emotion_map).fillna(9).astype(int))\n",
    "df_data['emotion3'] = pd.to_numeric(df_data['emotion3'].map(emotion_map).fillna(9).astype(int))\n",
    "\n",
    "# Convert intensity columns to numeric\n",
    "df_data['intensity'] = pd.to_numeric(df_data['intensity'], errors='coerce').fillna(0).astype(int)\n",
    "df_data['intensity2'] = pd.to_numeric(df_data['intensity2'], errors='coerce').fillna(0).astype(int)\n",
    "df_data['intensity3'] = pd.to_numeric(df_data['intensity3'], errors='coerce').fillna(0).astype(int)\n",
    "\n",
    "\n",
    "# Convert start and end times to datetime\n",
    "df_data['start_times'] = pd.to_datetime(df_data['start_times'], format='%Y-%m-%d %H:%M:%S', errors='coerce')\n",
    "df_data['end_times'] = pd.to_datetime(df_data['end_times'], format='%Y-%m-%d %H:%M:%S', errors='coerce')\n",
    "\n",
    "df_data.fillna({\n",
    "    'intensity': 0,\n",
    "    'intensity2': 0,\n",
    "    'intensity3': 0,\n",
    "    'sentiment': 2,  # Default sentiment to neutral\n",
    "    'emotion': 9,\n",
    "    'emotion2': 9,\n",
    "    'emotion3': 9,\n",
    "    'start_times': pd.NaT,  # Keep NaT for dates\n",
    "    'end_times': pd.NaT     # Keep NaT for dates\n",
    "}, inplace=True)\n"
   ],
   "metadata": {
    "collapsed": false,
    "ExecuteTime": {
     "end_time": "2024-09-25T06:36:49.374575Z",
     "start_time": "2024-09-25T06:36:49.327491Z"
    }
   },
   "id": "31cbb91b8cee9849",
   "execution_count": 5
  },
  {
   "cell_type": "code",
   "outputs": [],
   "source": [
    "from sklearn.model_selection import train_test_split\n",
    "df_train, df_test = train_test_split(df_data, random_state=77, test_size=0.30, shuffle=True)\n",
    "df_test, df_valid = train_test_split(df_test, random_state=88, test_size=0.50, shuffle=True)"
   ],
   "metadata": {
    "collapsed": false,
    "ExecuteTime": {
     "end_time": "2024-09-25T06:36:49.941048Z",
     "start_time": "2024-09-25T06:36:49.375578Z"
    }
   },
   "id": "19c1e122f9b175f3",
   "execution_count": 6
  },
  {
   "cell_type": "code",
   "outputs": [
    {
     "name": "stdout",
     "output_type": "stream",
     "text": [
      "Train: (7000, 15), Test: (1500, 15), Valid: (1500, 15)\n"
     ]
    }
   ],
   "source": [
    "print(f\"Train: {df_train.shape}, Test: {df_test.shape}, Valid: {df_valid.shape}\")"
   ],
   "metadata": {
    "collapsed": false,
    "ExecuteTime": {
     "end_time": "2024-09-25T06:36:49.947028Z",
     "start_time": "2024-09-25T06:36:49.942049Z"
    }
   },
   "id": "b248b504075cad56",
   "execution_count": 7
  },
  {
   "cell_type": "code",
   "outputs": [
    {
     "name": "stdout",
     "output_type": "stream",
     "text": [
      "TV Series              object\n",
      "Utterances             object\n",
      "dialog_ids              int64\n",
      "uttr_ids                int64\n",
      "seasons                 int64\n",
      "episodes                int64\n",
      "start_times    datetime64[ns]\n",
      "end_times      datetime64[ns]\n",
      "sentiment               int32\n",
      "emotion                 int32\n",
      "intensity               int32\n",
      "emotion2                int32\n",
      "intensity2              int32\n",
      "emotion3                int32\n",
      "intensity3              int32\n",
      "dtype: object\n",
      "[1 2 0]\n",
      "[4 3 5 6 0 1 2 9 8 7]\n",
      "[1 2 0 3]\n",
      "[1 0 3 2]\n"
     ]
    }
   ],
   "source": [
    "# Check data types\n",
    "print(df_data.dtypes)\n",
    "\n",
    "# Check unique values in relevant columns\n",
    "print(df_data['sentiment'].unique())\n",
    "print(df_data['emotion'].unique())\n",
    "print(df_data['intensity'].unique())\n",
    "print(df_data['intensity2'].unique())\n"
   ],
   "metadata": {
    "collapsed": false,
    "ExecuteTime": {
     "end_time": "2024-09-25T06:36:49.954387Z",
     "start_time": "2024-09-25T06:36:49.948031Z"
    }
   },
   "id": "3297323184d9c1c8",
   "execution_count": 8
  },
  {
   "cell_type": "code",
   "outputs": [],
   "source": [
    "# Hyperparameters\n",
    "MAX_LEN = 256\n",
    "TRAIN_BATCH_SIZE = 32\n",
    "VALID_BATCH_SIZE = 32\n",
    "TEST_BATCH_SIZE = 32\n",
    "EPOCHS = 3\n",
    "LEARNING_RATE = 1e-05"
   ],
   "metadata": {
    "collapsed": false,
    "ExecuteTime": {
     "end_time": "2024-09-25T06:36:49.958754Z",
     "start_time": "2024-09-25T06:36:49.955388Z"
    }
   },
   "id": "c70b897535f367b2",
   "execution_count": 9
  },
  {
   "cell_type": "code",
   "outputs": [
    {
     "name": "stderr",
     "output_type": "stream",
     "text": [
      "D:\\conda\\Lib\\site-packages\\transformers\\tokenization_utils_base.py:1601: FutureWarning: `clean_up_tokenization_spaces` was not set. It will be set to `True` by default. This behavior will be depracted in transformers v4.45, and will be then set to `False` by default. For more details check this issue: https://github.com/huggingface/transformers/issues/31884\n",
      "  warnings.warn(\n"
     ]
    }
   ],
   "source": [
    "from transformers import BertTokenizer, BertModel\n",
    "tokenizer = BertTokenizer.from_pretrained('bert-base-uncased')"
   ],
   "metadata": {
    "collapsed": false,
    "ExecuteTime": {
     "end_time": "2024-09-25T06:36:52.379559Z",
     "start_time": "2024-09-25T06:36:49.960757Z"
    }
   },
   "id": "5d7736491be4d95c",
   "execution_count": 10
  },
  {
   "cell_type": "code",
   "outputs": [
    {
     "data": {
      "text/plain": "{'input_ids': tensor([[  101,  2057,  2024,  5604, 14324, 19204, 17629,  1012,   102,     0,\n             0,     0,     0,     0,     0,     0,     0,     0,     0,     0,\n             0,     0,     0,     0,     0,     0,     0,     0,     0,     0,\n             0,     0,     0,     0,     0,     0,     0,     0,     0,     0,\n             0,     0,     0,     0,     0,     0,     0,     0,     0,     0]]), 'token_type_ids': tensor([[0, 0, 0, 0, 0, 0, 0, 0, 0, 0, 0, 0, 0, 0, 0, 0, 0, 0, 0, 0, 0, 0, 0, 0,\n         0, 0, 0, 0, 0, 0, 0, 0, 0, 0, 0, 0, 0, 0, 0, 0, 0, 0, 0, 0, 0, 0, 0, 0,\n         0, 0]]), 'attention_mask': tensor([[1, 1, 1, 1, 1, 1, 1, 1, 1, 0, 0, 0, 0, 0, 0, 0, 0, 0, 0, 0, 0, 0, 0, 0,\n         0, 0, 0, 0, 0, 0, 0, 0, 0, 0, 0, 0, 0, 0, 0, 0, 0, 0, 0, 0, 0, 0, 0, 0,\n         0, 0]])}"
     },
     "execution_count": 11,
     "metadata": {},
     "output_type": "execute_result"
    }
   ],
   "source": [
    "# Test the tokenizer\n",
    "test_text = \"We are testing BERT tokenizer.\"\n",
    "# generate encodings\n",
    "encodings = tokenizer.encode_plus(test_text,\n",
    "                                  add_special_tokens = True,\n",
    "                                  max_length = 50,\n",
    "                                  truncation = True,\n",
    "                                  padding = \"max_length\",\n",
    "                                  return_attention_mask = True,\n",
    "                                  return_tensors = \"pt\")\n",
    "# we get a dictionary with three keys (see: https://huggingface.co/transformers/glossary.html) \n",
    "encodings"
   ],
   "metadata": {
    "collapsed": false,
    "ExecuteTime": {
     "end_time": "2024-09-25T06:36:52.403790Z",
     "start_time": "2024-09-25T06:36:52.382564Z"
    }
   },
   "id": "48b8c2f3b19252c0",
   "execution_count": 11
  },
  {
   "cell_type": "code",
   "outputs": [
    {
     "data": {
      "text/plain": "15443                       I thought there wasn't a ball?\n13052                        what are you waiting for? go!\n4143                             this one time, she was at\n7275              while the victor still licks his wounds.\n16153    you've begged me to move you up, and now suddenly\n                               ...                        \n9360     anyway, i told you already, i'm taking a break...\n1232     you know what? you sound more and more like mo...\n2426                                      at the same time\n1237        did you say \"ham\"? - you're either ham or eggs\n6362     Every man who has tasted my cooking has told m...\nName: Utterances, Length: 7000, dtype: object"
     },
     "execution_count": 12,
     "metadata": {},
     "output_type": "execute_result"
    }
   ],
   "source": [
    "df_train['Utterances']"
   ],
   "metadata": {
    "collapsed": false,
    "ExecuteTime": {
     "end_time": "2024-09-25T06:36:52.409480Z",
     "start_time": "2024-09-25T06:36:52.404793Z"
    }
   },
   "id": "c0f9839a6731f697",
   "execution_count": 12
  },
  {
   "cell_type": "code",
   "outputs": [],
   "source": [
    "class CustomDataset(torch.utils.data.Dataset):\n",
    "    def __init__(self, df, tokenizer, max_len, target_list):\n",
    "        self.tokenizer = tokenizer\n",
    "        self.df = df\n",
    "        self.title = list(df['Utterances'])\n",
    "        self.targets = self.df[target_list].values\n",
    "        self.max_len = max_len\n",
    "\n",
    "    def __len__(self):\n",
    "        return len(self.title)\n",
    "\n",
    "    def __getitem__(self, index):\n",
    "        title = str(self.title[index])\n",
    "        title = \" \".join(title.split())\n",
    "        inputs = self.tokenizer.encode_plus(\n",
    "            title,\n",
    "            None,\n",
    "            add_special_tokens=True,\n",
    "            max_length=self.max_len,\n",
    "            padding='max_length',\n",
    "            return_token_type_ids=True,\n",
    "            truncation=True,\n",
    "            return_attention_mask=True,\n",
    "            return_tensors='pt'\n",
    "        )\n",
    "        return {\n",
    "            'input_ids': inputs['input_ids'].flatten(),\n",
    "            'attention_mask': inputs['attention_mask'].flatten(),\n",
    "            'token_type_ids': inputs[\"token_type_ids\"].flatten(),\n",
    "            # Ensure the correct type here\n",
    "            'targets': torch.FloatTensor(self.targets[index]),\n",
    "            #'targets': torch.tensor(self.targets[index], dtype=torch.float32),  \n",
    "            'title': title\n",
    "        }\n"
   ],
   "metadata": {
    "collapsed": false,
    "ExecuteTime": {
     "end_time": "2024-09-25T06:36:52.414982Z",
     "start_time": "2024-09-25T06:36:52.410482Z"
    }
   },
   "id": "bade010abf49702b",
   "execution_count": 13
  },
  {
   "cell_type": "code",
   "outputs": [
    {
     "data": {
      "text/plain": "['TV Series',\n 'Utterances',\n 'dialog_ids',\n 'uttr_ids',\n 'seasons',\n 'episodes',\n 'start_times',\n 'end_times',\n 'sentiment',\n 'emotion',\n 'intensity',\n 'emotion2',\n 'intensity2',\n 'emotion3',\n 'intensity3']"
     },
     "execution_count": 14,
     "metadata": {},
     "output_type": "execute_result"
    }
   ],
   "source": [
    "target_list = list(df_data.columns)\n",
    "target_list"
   ],
   "metadata": {
    "collapsed": false,
    "ExecuteTime": {
     "end_time": "2024-09-25T06:36:52.419628Z",
     "start_time": "2024-09-25T06:36:52.415984Z"
    }
   },
   "id": "c5effcfa7c15ec3b",
   "execution_count": 14
  },
  {
   "cell_type": "code",
   "outputs": [
    {
     "data": {
      "text/plain": "['dialog_ids',\n 'uttr_ids',\n 'seasons',\n 'episodes',\n 'sentiment',\n 'emotion',\n 'intensity',\n 'emotion2',\n 'intensity2',\n 'emotion3',\n 'intensity3']"
     },
     "execution_count": 15,
     "metadata": {},
     "output_type": "execute_result"
    }
   ],
   "source": [
    "target_list = target_list[2:]\n",
    "target_list = [col for col in target_list if col not in ['start_times', 'end_times']]\n",
    "target_list"
   ],
   "metadata": {
    "collapsed": false,
    "ExecuteTime": {
     "end_time": "2024-09-25T06:36:52.424206Z",
     "start_time": "2024-09-25T06:36:52.420629Z"
    }
   },
   "id": "31bd093c807a6698",
   "execution_count": 15
  },
  {
   "cell_type": "code",
   "outputs": [
    {
     "name": "stdout",
     "output_type": "stream",
     "text": [
      "dialog_ids    int64\n",
      "uttr_ids      int64\n",
      "seasons       int64\n",
      "episodes      int64\n",
      "sentiment     int32\n",
      "emotion       int32\n",
      "intensity     int32\n",
      "emotion2      int32\n",
      "intensity2    int32\n",
      "emotion3      int32\n",
      "intensity3    int32\n",
      "dtype: object\n"
     ]
    }
   ],
   "source": [
    "print(df_train[target_list].dtypes)"
   ],
   "metadata": {
    "collapsed": false,
    "ExecuteTime": {
     "end_time": "2024-09-25T06:36:52.429892Z",
     "start_time": "2024-09-25T06:36:52.425208Z"
    }
   },
   "id": "c170ae434d67e9f4",
   "execution_count": 16
  },
  {
   "cell_type": "code",
   "outputs": [],
   "source": [
    "train_dataset = CustomDataset(df_train, tokenizer, MAX_LEN, target_list)\n",
    "valid_dataset = CustomDataset(df_valid, tokenizer, MAX_LEN, target_list)\n",
    "test_dataset = CustomDataset(df_test, tokenizer, MAX_LEN, target_list)"
   ],
   "metadata": {
    "collapsed": false,
    "ExecuteTime": {
     "end_time": "2024-09-25T06:36:52.436733Z",
     "start_time": "2024-09-25T06:36:52.430895Z"
    }
   },
   "id": "2354e6032a66c279",
   "execution_count": 17
  },
  {
   "cell_type": "code",
   "outputs": [],
   "source": [
    "# Data loaders\n",
    "train_data_loader = torch.utils.data.DataLoader(train_dataset,\n",
    "                                                batch_size=TRAIN_BATCH_SIZE,\n",
    "                                                shuffle=True,\n",
    "                                                num_workers=0\n",
    "                                                )\n",
    "\n",
    "val_data_loader = torch.utils.data.DataLoader(valid_dataset,\n",
    "                                              batch_size=VALID_BATCH_SIZE,\n",
    "                                              shuffle=False,\n",
    "                                              num_workers=0\n",
    "                                              )\n",
    "\n",
    "test_data_loader = torch.utils.data.DataLoader(test_dataset,\n",
    "                                               batch_size=TEST_BATCH_SIZE,\n",
    "                                               shuffle=False,\n",
    "                                               num_workers=0\n",
    "                                               )"
   ],
   "metadata": {
    "collapsed": false,
    "ExecuteTime": {
     "end_time": "2024-09-25T06:36:52.442468Z",
     "start_time": "2024-09-25T06:36:52.437736Z"
    }
   },
   "id": "de97faab83cd5a3f",
   "execution_count": 18
  },
  {
   "cell_type": "code",
   "outputs": [
    {
     "data": {
      "text/plain": "BERTClass(\n  (bert_model): BertModel(\n    (embeddings): BertEmbeddings(\n      (word_embeddings): Embedding(30522, 768, padding_idx=0)\n      (position_embeddings): Embedding(512, 768)\n      (token_type_embeddings): Embedding(2, 768)\n      (LayerNorm): LayerNorm((768,), eps=1e-12, elementwise_affine=True)\n      (dropout): Dropout(p=0.1, inplace=False)\n    )\n    (encoder): BertEncoder(\n      (layer): ModuleList(\n        (0-11): 12 x BertLayer(\n          (attention): BertAttention(\n            (self): BertSdpaSelfAttention(\n              (query): Linear(in_features=768, out_features=768, bias=True)\n              (key): Linear(in_features=768, out_features=768, bias=True)\n              (value): Linear(in_features=768, out_features=768, bias=True)\n              (dropout): Dropout(p=0.1, inplace=False)\n            )\n            (output): BertSelfOutput(\n              (dense): Linear(in_features=768, out_features=768, bias=True)\n              (LayerNorm): LayerNorm((768,), eps=1e-12, elementwise_affine=True)\n              (dropout): Dropout(p=0.1, inplace=False)\n            )\n          )\n          (intermediate): BertIntermediate(\n            (dense): Linear(in_features=768, out_features=3072, bias=True)\n            (intermediate_act_fn): GELUActivation()\n          )\n          (output): BertOutput(\n            (dense): Linear(in_features=3072, out_features=768, bias=True)\n            (LayerNorm): LayerNorm((768,), eps=1e-12, elementwise_affine=True)\n            (dropout): Dropout(p=0.1, inplace=False)\n          )\n        )\n      )\n    )\n    (pooler): BertPooler(\n      (dense): Linear(in_features=768, out_features=768, bias=True)\n      (activation): Tanh()\n    )\n  )\n  (dropout): Dropout(p=0.3, inplace=False)\n  (linear): Linear(in_features=768, out_features=11, bias=True)\n)"
     },
     "execution_count": 19,
     "metadata": {},
     "output_type": "execute_result"
    }
   ],
   "source": [
    "class BERTClass(torch.nn.Module):\n",
    "    def __init__(self):\n",
    "        super(BERTClass, self).__init__()\n",
    "        self.bert_model = BertModel.from_pretrained('bert-base-uncased', return_dict=True)\n",
    "        self.dropout = torch.nn.Dropout(0.3)\n",
    "        self.linear = torch.nn.Linear(768, 11) #numer of classes\n",
    "\n",
    "    def forward(self, input_ids, attn_mask, token_type_ids):\n",
    "        output = self.bert_model(\n",
    "            input_ids,\n",
    "            attention_mask=attn_mask,\n",
    "            token_type_ids=token_type_ids\n",
    "        )\n",
    "        output_dropout = self.dropout(output.pooler_output)\n",
    "        output = self.linear(output_dropout)\n",
    "        return output\n",
    "\n",
    "model = BERTClass()\n",
    "\n",
    "# # Freezing BERT layers: (tested, weaker convergence)\n",
    "# for param in model.bert_model.parameters():\n",
    "#     param.requires_grad = False\n",
    "\n",
    "model.to(device)\n"
   ],
   "metadata": {
    "collapsed": false,
    "ExecuteTime": {
     "end_time": "2024-09-25T06:36:53.321314Z",
     "start_time": "2024-09-25T06:36:52.443470Z"
    }
   },
   "id": "de210dbae7af402a",
   "execution_count": 19
  },
  {
   "cell_type": "code",
   "outputs": [],
   "source": [
    "def loss_fn(outputs, targets):\n",
    "    return torch.nn.BCEWithLogitsLoss()(outputs, targets)"
   ],
   "metadata": {
    "collapsed": false,
    "ExecuteTime": {
     "end_time": "2024-09-25T06:36:53.325066Z",
     "start_time": "2024-09-25T06:36:53.322317Z"
    }
   },
   "id": "432278372602f2c9",
   "execution_count": 20
  },
  {
   "cell_type": "code",
   "outputs": [
    {
     "name": "stderr",
     "output_type": "stream",
     "text": [
      "D:\\conda\\Lib\\site-packages\\transformers\\optimization.py:591: FutureWarning: This implementation of AdamW is deprecated and will be removed in a future version. Use the PyTorch implementation torch.optim.AdamW instead, or set `no_deprecation_warning=True` to disable this warning\n",
      "  warnings.warn(\n"
     ]
    }
   ],
   "source": [
    "from transformers import AdamW\n",
    "\n",
    "# define the optimizer\n",
    "optimizer = AdamW(model.parameters(), lr = 1e-5)         \n"
   ],
   "metadata": {
    "collapsed": false,
    "ExecuteTime": {
     "end_time": "2024-09-25T06:36:54.264075Z",
     "start_time": "2024-09-25T06:36:53.326067Z"
    }
   },
   "id": "7798b65490adac40",
   "execution_count": 21
  },
  {
   "cell_type": "code",
   "outputs": [],
   "source": [
    "# Training of the model for one epoch\n",
    "def train_model(training_loader, model, optimizer):\n",
    "\n",
    "    losses = []\n",
    "    correct_predictions = 0\n",
    "    num_samples = 0\n",
    "    # set model to training mode (activate droput, batch norm)\n",
    "    model.train()\n",
    "    # initialize the progress bar\n",
    "    loop = tq.tqdm(enumerate(training_loader), total=len(training_loader),\n",
    "                   leave=True, colour='steelblue')\n",
    "    for batch_idx, data in loop:\n",
    "        ids = data['input_ids'].to(device, dtype = torch.long)\n",
    "        mask = data['attention_mask'].to(device, dtype = torch.long)\n",
    "        token_type_ids = data['token_type_ids'].to(device, dtype = torch.long)\n",
    "        targets = data['targets'].to(device, dtype = torch.float)\n",
    "\n",
    "# forward\n",
    "        outputs = model(ids, mask, token_type_ids) # (batch,predict)=(32,8)\n",
    "        loss = loss_fn(outputs, targets)\n",
    "        losses.append(loss.item())\n",
    "        # training accuracy\n",
    "        _, preds = torch.max(outputs, dim=1) # batch dim \n",
    "        _, targ = torch.max(targets, dim=1)  # batch dim\n",
    "        num_samples += len(targ)  # technically adding batch size\n",
    "        correct_predictions += torch.sum(preds == targ)\n",
    "\n",
    "        # backward\n",
    "        optimizer.zero_grad()\n",
    "        loss.backward()\n",
    "        nn.utils.clip_grad_norm_(model.parameters(), max_norm=1.0)\n",
    "        # grad descent step\n",
    "        optimizer.step()\n",
    "\n",
    "        # Update progress bar\n",
    "        #loop.set_description(f\"\")\n",
    "        #loop.set_postfix(batch_loss=loss)\n",
    "\n",
    "    # returning: trained model, model accuracy, mean loss\n",
    "    return model, float(correct_predictions)/num_samples, np.mean(losses)\n"
   ],
   "metadata": {
    "collapsed": false,
    "ExecuteTime": {
     "end_time": "2024-09-25T06:36:54.270947Z",
     "start_time": "2024-09-25T06:36:54.265077Z"
    }
   },
   "id": "691ccb788da61ec2",
   "execution_count": 22
  },
  {
   "cell_type": "code",
   "outputs": [],
   "source": [
    "def eval_model(validation_loader, model, optimizer):\n",
    "    losses = []\n",
    "    correct_predictions = 0\n",
    "    num_samples = 0\n",
    "    # set model to eval mode (turn off dropout, fix batch norm)\n",
    "    model.eval()\n",
    "\n",
    "    with torch.no_grad():\n",
    "        for batch_idx, data in enumerate(validation_loader, 0):\n",
    "            ids = data['input_ids'].to(device, dtype = torch.long)\n",
    "            mask = data['attention_mask'].to(device, dtype = torch.long)\n",
    "            token_type_ids = data['token_type_ids'].to(device, dtype = torch.long)\n",
    "            targets = data['targets'].to(device, dtype = torch.float)\n",
    "            outputs = model(ids, mask, token_type_ids)\n",
    "\n",
    "            loss = loss_fn(outputs, targets)\n",
    "            losses.append(loss.item())\n",
    "\n",
    "            # validation accuracy\n",
    "            _, preds = torch.max(outputs, dim=1) # batch dim \n",
    "            _, targ = torch.max(targets, dim=1)  # batch dim\n",
    "            num_samples += len(targ)  # technically adding batch size\n",
    "            correct_predictions += torch.sum(preds == targ)\n",
    "\n",
    "    return float(correct_predictions)/num_samples, np.mean(losses)\n",
    "     \n"
   ],
   "metadata": {
    "collapsed": false,
    "ExecuteTime": {
     "end_time": "2024-09-25T06:36:54.277344Z",
     "start_time": "2024-09-25T06:36:54.271949Z"
    }
   },
   "id": "30823516ff678b1e",
   "execution_count": 23
  },
  {
   "cell_type": "code",
   "outputs": [],
   "source": [],
   "metadata": {
    "collapsed": false,
    "ExecuteTime": {
     "end_time": "2024-09-25T06:36:54.280370Z",
     "start_time": "2024-09-25T06:36:54.278346Z"
    }
   },
   "id": "c632fc0a05f87a36",
   "execution_count": 23
  },
  {
   "cell_type": "code",
   "outputs": [
    {
     "name": "stdout",
     "output_type": "stream",
     "text": [
      "Epoch 1/3\n"
     ]
    },
    {
     "data": {
      "text/plain": "  0%|          | 0/219 [00:00<?, ?it/s]",
      "application/vnd.jupyter.widget-view+json": {
       "version_major": 2,
       "version_minor": 0,
       "model_id": "668858a05ac14d419727409dfded82ab"
      }
     },
     "metadata": {},
     "output_type": "display_data"
    },
    {
     "name": "stdout",
     "output_type": "stream",
     "text": [
      "train_loss=-315.9339, val_loss=-571.9135 train_acc=0.9150, val_acc=0.9873\n",
      "Epoch 2/3\n"
     ]
    },
    {
     "data": {
      "text/plain": "  0%|          | 0/219 [00:00<?, ?it/s]",
      "application/vnd.jupyter.widget-view+json": {
       "version_major": 2,
       "version_minor": 0,
       "model_id": "74c047f161384fa2bce77000222f9675"
      }
     },
     "metadata": {},
     "output_type": "display_data"
    },
    {
     "name": "stdout",
     "output_type": "stream",
     "text": [
      "train_loss=-685.0529, val_loss=-759.5269 train_acc=0.9874, val_acc=0.9873\n",
      "Epoch 3/3\n"
     ]
    },
    {
     "data": {
      "text/plain": "  0%|          | 0/219 [00:00<?, ?it/s]",
      "application/vnd.jupyter.widget-view+json": {
       "version_major": 2,
       "version_minor": 0,
       "model_id": "ba64d76e45944b93a4b3f4c55ba2bd35"
      }
     },
     "metadata": {},
     "output_type": "display_data"
    },
    {
     "name": "stdout",
     "output_type": "stream",
     "text": [
      "train_loss=-830.9621, val_loss=-873.4221 train_acc=0.9874, val_acc=0.9873\n"
     ]
    }
   ],
   "source": [
    "history = defaultdict(list)\n",
    "best_accuracy = 0\n",
    "\n",
    "for epoch in range(1, EPOCHS+1):\n",
    "    print(f'Epoch {epoch}/{EPOCHS}')\n",
    "    model, train_acc, train_loss = train_model(train_data_loader, model, optimizer)\n",
    "    val_acc, val_loss = eval_model(val_data_loader, model, optimizer)\n",
    "\n",
    "    print(f'train_loss={train_loss:.4f}, val_loss={val_loss:.4f} train_acc={train_acc:.4f}, val_acc={val_acc:.4f}')\n",
    "\n",
    "    history['train_acc'].append(train_acc)\n",
    "    history['train_loss'].append(train_loss)\n",
    "    history['val_acc'].append(val_acc)\n",
    "    history['val_loss'].append(val_loss)\n",
    "    # save the best model\n",
    "    if val_acc > best_accuracy:\n",
    "        torch.save(model.state_dict(), \"best_model_state.bin\")\n",
    "        best_accuracy = val_acc\n"
   ],
   "metadata": {
    "collapsed": false,
    "ExecuteTime": {
     "end_time": "2024-09-25T09:59:18.721825Z",
     "start_time": "2024-09-25T06:36:54.281372Z"
    }
   },
   "id": "f909b4d1b7f21369",
   "execution_count": 24
  },
  {
   "cell_type": "code",
   "outputs": [
    {
     "data": {
      "text/plain": "<Figure size 1000x700 with 1 Axes>",
      "image/png": "[encoded data removed]"
     },
     "metadata": {},
     "output_type": "display_data"
    }
   ],
   "source": [
    "import matplotlib.pyplot as plt\n",
    "plt.rcParams[\"figure.figsize\"] = (10,7)\n",
    "plt.plot(history['train_acc'], label='train accuracy')\n",
    "plt.plot(history['val_acc'], label='validation accuracy')\n",
    "plt.title('Training history')\n",
    "plt.ylabel('Accuracy')\n",
    "plt.xlabel('Epoch')\n",
    "plt.legend()\n",
    "plt.ylim([0, 1])\n",
    "plt.grid()"
   ],
   "metadata": {
    "collapsed": false,
    "ExecuteTime": {
     "end_time": "2024-09-25T09:59:19.403630Z",
     "start_time": "2024-09-25T09:59:18.753855Z"
    }
   },
   "id": "67e6b82c0a22a105",
   "execution_count": 25
  },
  {
   "cell_type": "code",
   "outputs": [],
   "source": [
    "# Loading pretrained model\n",
    "model = BERTClass()\n",
    "model.load_state_dict(torch.load('best_model_state.bin'))\n",
    "model = model.to(device)"
   ],
   "metadata": {
    "collapsed": false,
    "ExecuteTime": {
     "end_time": "2024-09-25T09:59:21.418121Z",
     "start_time": "2024-09-25T09:59:19.422649Z"
    }
   },
   "id": "49561628da2e8db4",
   "execution_count": 26
  },
  {
   "cell_type": "code",
   "outputs": [],
   "source": [
    "# Evaluate the model using the test data\n",
    "test_acc, test_loss = eval_model(test_data_loader, model, optimizer)"
   ],
   "metadata": {
    "collapsed": false,
    "ExecuteTime": {
     "end_time": "2024-09-25T10:04:34.256685Z",
     "start_time": "2024-09-25T09:59:21.418121Z"
    }
   },
   "id": "7bfbbedd51f71b53",
   "execution_count": 27
  },
  {
   "cell_type": "code",
   "outputs": [
    {
     "data": {
      "text/plain": "0.9906666666666667"
     },
     "execution_count": 28,
     "metadata": {},
     "output_type": "execute_result"
    }
   ],
   "source": [
    "# The accuracy looks OK, similar to the validation accuracy\n",
    "# The model generalizes well !\n",
    "test_acc"
   ],
   "metadata": {
    "collapsed": false,
    "ExecuteTime": {
     "end_time": "2024-09-25T10:04:34.261952Z",
     "start_time": "2024-09-25T10:04:34.257687Z"
    }
   },
   "id": "85af5326793bd7b8",
   "execution_count": 28
  },
  {
   "cell_type": "code",
   "outputs": [],
   "source": [
    "from sklearn.metrics import confusion_matrix, classification_report\n",
    "def get_predictions(model, data_loader):\n",
    "    model = model.eval()\n",
    "\n",
    "    titles = []\n",
    "    predictions = []\n",
    "    prediction_probs = []\n",
    "    target_values = []\n",
    "\n",
    "    with torch.no_grad():\n",
    "        for data in data_loader:\n",
    "            title = data[\"title\"]\n",
    "            ids = data[\"input_ids\"].to(device, dtype = torch.long)\n",
    "            mask = data[\"attention_mask\"].to(device, dtype = torch.long)\n",
    "            token_type_ids = data['token_type_ids'].to(device, dtype = torch.long)\n",
    "            targets = data[\"targets\"].to(device, dtype = torch.float)\n",
    "\n",
    "            outputs = model(ids, mask, token_type_ids)\n",
    "            _, preds = torch.max(outputs, dim=1)\n",
    "            _, targ = torch.max(targets, dim=1)\n",
    "\n",
    "            titles.extend(title)\n",
    "            predictions.extend(preds)\n",
    "            prediction_probs.extend(outputs)\n",
    "            target_values.extend(targ)\n",
    "\n",
    "    predictions = torch.stack(predictions).cpu()\n",
    "    prediction_probs = torch.stack(prediction_probs).cpu()\n",
    "    target_values = torch.stack(target_values).cpu()\n",
    "\n",
    "    return titles, predictions, prediction_probs, target_values"
   ],
   "metadata": {
    "collapsed": false,
    "ExecuteTime": {
     "end_time": "2024-09-25T10:04:34.270551Z",
     "start_time": "2024-09-25T10:04:34.262959Z"
    }
   },
   "id": "1a9854f32d8f87bb",
   "execution_count": 29
  },
  {
   "cell_type": "code",
   "outputs": [],
   "source": [
    "titles, predictions, prediction_probs, target_values = get_predictions(model, test_data_loader)\n"
   ],
   "metadata": {
    "collapsed": false,
    "ExecuteTime": {
     "end_time": "2024-09-25T10:09:48.285546Z",
     "start_time": "2024-09-25T10:04:34.271555Z"
    }
   },
   "id": "8ac7916444d15f9c",
   "execution_count": 30
  },
  {
   "cell_type": "code",
   "outputs": [
    {
     "data": {
      "text/plain": "['dialog_ids',\n 'uttr_ids',\n 'seasons',\n 'episodes',\n 'sentiment',\n 'emotion',\n 'intensity',\n 'emotion2',\n 'intensity2',\n 'emotion3',\n 'intensity3']"
     },
     "execution_count": 37,
     "metadata": {},
     "output_type": "execute_result"
    }
   ],
   "source": [
    "target_list = list(df_data.columns)\n",
    "target_list = target_list[2:]\n",
    "target_list = [col for col in target_list if col not in ['start_times', 'end_times']]\n",
    "target_list"
   ],
   "metadata": {
    "collapsed": false,
    "ExecuteTime": {
     "end_time": "2024-09-25T10:53:43.179770Z",
     "start_time": "2024-09-25T10:53:43.175920Z"
    }
   },
   "id": "fa1df451726abff8",
   "execution_count": 37
  },
  {
   "cell_type": "code",
   "outputs": [
    {
     "name": "stdout",
     "output_type": "stream",
     "text": [
      "Unique classes in predictions: tensor([0])\n",
      "Unique classes in target values: tensor([0, 1, 7, 9])\n",
      "Unique classes in target_list: ['dialog_ids', 'uttr_ids', 'seasons', 'episodes', 'sentiment', 'emotion', 'intensity', 'emotion2', 'intensity2', 'emotion3', 'intensity3']\n"
     ]
    }
   ],
   "source": [
    "print(f\"Unique classes in predictions: {torch.unique(predictions)}\")\n",
    "print(f\"Unique classes in target values: {torch.unique(target_values)}\")\n",
    "print(f\"Unique classes in target_list: {target_list}\")"
   ],
   "metadata": {
    "collapsed": false,
    "ExecuteTime": {
     "end_time": "2024-09-25T10:54:42.539509Z",
     "start_time": "2024-09-25T10:54:42.535617Z"
    }
   },
   "id": "b752a9c118a060bb",
   "execution_count": 41
  },
  {
   "cell_type": "code",
   "outputs": [
    {
     "name": "stdout",
     "output_type": "stream",
     "text": [
      "Target class distribution: Counter({0: 1486, 1: 11, 9: 2, 7: 1})\n"
     ]
    }
   ],
   "source": [
    "from collections import Counter\n",
    "\n",
    "# Check the distribution of target classes\n",
    "target_distribution = Counter(target_values.numpy())\n",
    "print(f\"Target class distribution: {target_distribution}\")\n"
   ],
   "metadata": {
    "collapsed": false,
    "ExecuteTime": {
     "end_time": "2024-09-25T10:55:33.986692Z",
     "start_time": "2024-09-25T10:55:33.982823Z"
    }
   },
   "id": "16fe2d06c31da775",
   "execution_count": 42
  },
  {
   "cell_type": "code",
   "outputs": [],
   "source": [
    "target_list = ['Class 0', 'Class 1', 'Class 7', 'Class 9']  # Replace with your actual class names\n"
   ],
   "metadata": {
    "collapsed": false,
    "ExecuteTime": {
     "end_time": "2024-09-25T10:55:58.530201Z",
     "start_time": "2024-09-25T10:55:58.526914Z"
    }
   },
   "id": "1482fbfc1d1db92a",
   "execution_count": 43
  },
  {
   "cell_type": "code",
   "outputs": [
    {
     "name": "stdout",
     "output_type": "stream",
     "text": [
      "              precision    recall  f1-score   support\n",
      "\n",
      "     Class 0       0.99      1.00      1.00      1486\n",
      "     Class 1       0.00      0.00      0.00        11\n",
      "     Class 7       0.00      0.00      0.00         1\n",
      "     Class 9       0.00      0.00      0.00         2\n",
      "\n",
      "    accuracy                           0.99      1500\n",
      "   macro avg       0.25      0.25      0.25      1500\n",
      "weighted avg       0.98      0.99      0.99      1500\n"
     ]
    },
    {
     "name": "stderr",
     "output_type": "stream",
     "text": [
      "D:\\conda\\Lib\\site-packages\\sklearn\\metrics\\_classification.py:1531: UndefinedMetricWarning: Precision is ill-defined and being set to 0.0 in labels with no predicted samples. Use `zero_division` parameter to control this behavior.\n",
      "  _warn_prf(average, modifier, f\"{metric.capitalize()} is\", len(result))\n",
      "D:\\conda\\Lib\\site-packages\\sklearn\\metrics\\_classification.py:1531: UndefinedMetricWarning: Precision is ill-defined and being set to 0.0 in labels with no predicted samples. Use `zero_division` parameter to control this behavior.\n",
      "  _warn_prf(average, modifier, f\"{metric.capitalize()} is\", len(result))\n",
      "D:\\conda\\Lib\\site-packages\\sklearn\\metrics\\_classification.py:1531: UndefinedMetricWarning: Precision is ill-defined and being set to 0.0 in labels with no predicted samples. Use `zero_division` parameter to control this behavior.\n",
      "  _warn_prf(average, modifier, f\"{metric.capitalize()} is\", len(result))\n"
     ]
    }
   ],
   "source": [
    "# Classification report\n",
    "print(classification_report(target_values, predictions, target_names=target_list))\n"
   ],
   "metadata": {
    "collapsed": false,
    "ExecuteTime": {
     "end_time": "2024-09-25T10:55:58.995482Z",
     "start_time": "2024-09-25T10:55:58.985960Z"
    }
   },
   "id": "f3090f55192f416",
   "execution_count": 44
  },
  {
   "cell_type": "code",
   "outputs": [],
   "source": [
    "import seaborn as sns\n",
    "def show_confusion_matrix(confusion_matrix):\n",
    "    hmap = sns.heatmap(confusion_matrix, annot=True, fmt=\"d\", cmap=\"Blues\")\n",
    "    hmap.yaxis.set_ticklabels(hmap.yaxis.get_ticklabels(), rotation=0, ha='right')\n",
    "    hmap.xaxis.set_ticklabels(hmap.xaxis.get_ticklabels(), rotation=30, ha='right')\n",
    "    plt.ylabel('True category')\n",
    "    plt.xlabel('Predicted category');"
   ],
   "metadata": {
    "collapsed": false,
    "ExecuteTime": {
     "end_time": "2024-09-25T10:56:13.611848Z",
     "start_time": "2024-09-25T10:56:13.607973Z"
    }
   },
   "id": "807cbe8c6644283f",
   "execution_count": 45
  },
  {
   "cell_type": "code",
   "outputs": [],
   "source": [
    "# raw text\n",
    "raw_text = \"Measurement of D-meson production as a function of charged-particle multiplicity in proton--proton collisions at s√=13 TeV with ALICE at the LHC\"\n"
   ],
   "metadata": {
    "collapsed": false,
    "ExecuteTime": {
     "end_time": "2024-09-25T10:56:14.767250Z",
     "start_time": "2024-09-25T10:56:14.764571Z"
    }
   },
   "id": "fe0dc0d2b4f580c4",
   "execution_count": 46
  },
  {
   "cell_type": "code",
   "outputs": [
    {
     "name": "stderr",
     "output_type": "stream",
     "text": [
      "Truncation was not explicitly activated but `max_length` is provided a specific value, please use `truncation=True` to explicitly truncate examples to max length. Defaulting to 'longest_first' truncation strategy. If you encode pairs of sequences (GLUE-style) with the tokenizer you can select this strategy more precisely by providing a specific strategy to `truncation`.\n",
      "D:\\conda\\Lib\\site-packages\\transformers\\tokenization_utils_base.py:2870: FutureWarning: The `pad_to_max_length` argument is deprecated and will be removed in a future version, use `padding=True` or `padding='longest'` to pad to the longest sequence in the batch, or use `padding='max_length'` to pad to a max length. In this case, you can give a specific length with `max_length` (e.g. `max_length=45`) or leave max_length to None to pad to the maximal input size of the model (e.g. 512 for Bert).\n",
      "  warnings.warn(\n"
     ]
    }
   ],
   "source": [
    "encoded_text = tokenizer.encode_plus(\n",
    "    raw_text,\n",
    "    max_length=MAX_LEN,\n",
    "    add_special_tokens=True,\n",
    "    return_token_type_ids=True,\n",
    "    pad_to_max_length=True,\n",
    "    return_attention_mask=True,\n",
    "    return_tensors='pt',\n",
    ")\n"
   ],
   "metadata": {
    "collapsed": false,
    "ExecuteTime": {
     "end_time": "2024-09-25T10:56:16.244117Z",
     "start_time": "2024-09-25T10:56:16.239963Z"
    }
   },
   "id": "cac6033a709cf721",
   "execution_count": 47
  },
  {
   "cell_type": "code",
   "outputs": [],
   "source": [
    "input_ids = encoded_text['input_ids'].to(device)\n",
    "attention_mask = encoded_text['attention_mask'].to(device)\n",
    "token_type_ids = encoded_text['token_type_ids'].to(device)\n",
    "output = model(input_ids, attention_mask, token_type_ids)\n",
    "_, prediction = torch.max(output, dim=1)\n"
   ],
   "metadata": {
    "collapsed": false,
    "ExecuteTime": {
     "end_time": "2024-09-25T10:56:17.704378Z",
     "start_time": "2024-09-25T10:56:17.439991Z"
    }
   },
   "id": "da5a1e732a622ed2",
   "execution_count": 48
  },
  {
   "cell_type": "code",
   "outputs": [
    {
     "name": "stdout",
     "output_type": "stream",
     "text": [
      "Title: Measurement of D-meson production as a function of charged-particle multiplicity in proton--proton collisions at s√=13 TeV with ALICE at the LHC\n",
      "Category: Class 0\n"
     ]
    }
   ],
   "source": [
    "# Correctly predicted the topic of the paper: High energy physics \n",
    "print(f'Title: {raw_text}')\n",
    "print(f'Category: {target_list[prediction]}')\n"
   ],
   "metadata": {
    "collapsed": false,
    "ExecuteTime": {
     "end_time": "2024-09-25T10:56:18.653154Z",
     "start_time": "2024-09-25T10:56:18.650001Z"
    }
   },
   "id": "1a6695cfdbde9fad",
   "execution_count": 49
  },
  {
   "cell_type": "code",
   "outputs": [
    {
     "data": {
      "text/plain": "<Figure size 800x600 with 2 Axes>",
      "image/png": "[encoded data removed]"
     },
     "metadata": {},
     "output_type": "display_data"
    },
    {
     "ename": "NameError",
     "evalue": "name 'plot_cm' is not defined",
     "output_type": "error",
     "traceback": [
      "\u001B[1;31m---------------------------------------------------------------------------\u001B[0m",
      "\u001B[1;31mNameError\u001B[0m                                 Traceback (most recent call last)",
      "Cell \u001B[1;32mIn[50], line 13\u001B[0m\n\u001B[0;32m     10\u001B[0m plt\u001B[38;5;241m.\u001B[39mtitle(\u001B[38;5;124m\"\u001B[39m\u001B[38;5;124mConfusion Matrix\u001B[39m\u001B[38;5;124m\"\u001B[39m)\n\u001B[0;32m     11\u001B[0m plt\u001B[38;5;241m.\u001B[39mshow()\n\u001B[1;32m---> 13\u001B[0m plot_cm(cm)\n",
      "\u001B[1;31mNameError\u001B[0m: name 'plot_cm' is not defined"
     ]
    }
   ],
   "source": [
    "import seaborn as sns\n",
    "from sklearn.metrics import confusion_matrix\n",
    "labels = [0, 1, 7, 9] \n",
    "cm = confusion_matrix(target_values, predictions, labels=labels)\n",
    "plt.figure(figsize=(8, 6))\n",
    "sns.heatmap(cm, annot=True, fmt=\"d\", cmap=\"Blues\", xticklabels=target_list, yticklabels=target_list)\n",
    "plt.xlabel(\"Predicted Labels\")\n",
    "plt.ylabel(\"True Labels\")\n",
    "plt.title(\"Confusion Matrix\")\n",
    "plt.show()"
   ],
   "metadata": {
    "collapsed": false,
    "ExecuteTime": {
     "end_time": "2024-09-25T10:58:05.912753Z",
     "start_time": "2024-09-25T10:58:05.738403Z"
    }
   },
   "id": "4a38fa4916cac6d7",
   "execution_count": 50
  },
  {
   "cell_type": "code",
   "outputs": [],
   "source": [],
   "metadata": {
    "collapsed": false
   },
   "id": "b2fdb2514c1fed3c"
  }
 ],
 "metadata": {
  "kernelspec": {
   "display_name": "Python 3",
   "language": "python",
   "name": "python3"
  },
  "language_info": {
   "codemirror_mode": {
    "name": "ipython",
    "version": 2
   },
   "file_extension": ".py",
   "mimetype": "text/x-python",
   "name": "python",
   "nbconvert_exporter": "python",
   "pygments_lexer": "ipython2",
   "version": "2.7.6"
  }
 },
 "nbformat": 4,
 "nbformat_minor": 5
}
