{
 "cells": [
  {
   "cell_type": "code",
   "execution_count": 1,
   "id": "initial_id",
   "metadata": {
    "collapsed": true,
    "ExecuteTime": {
     "end_time": "2024-11-26T20:02:41.013115Z",
     "start_time": "2024-11-26T20:02:37.472020Z"
    }
   },
   "outputs": [],
   "source": [
    "import os\n",
    "import pandas as pd\n",
    "import numpy as np\n",
    "import matplotlib.pyplot as plt\n",
    "\n",
    "\n",
    "import shutil\n",
    "import sys\n",
    "import tqdm.notebook as tq\n",
    "from collections import defaultdict\n",
    "\n",
    "import torch\n",
    "import torch.nn as nn\n",
    "\n",
    "from sklearn.metrics import f1_score\n",
    "\n",
    "import time\n",
    "from tqdm import tqdm\n",
    "import nltk\n",
    "from nltk.corpus import wordnet\n",
    "from googletrans import Translator\n",
    "from deep_translator import GoogleTranslator\n",
    "import random\n",
    "\n",
    "#nltk.download('wordnet')\n",
    "#nltk.download('omw-1.4')\n",
    "\n",
    "translator = Translator()\n",
    "\n",
    "device = torch.device('cuda') if torch.cuda.is_available() else torch.device('cpu')"
   ]
  },
  {
   "cell_type": "code",
   "outputs": [],
   "source": [
    "df_data = pd.read_csv('MEISD/MEISD_text.csv')"
   ],
   "metadata": {
    "collapsed": false,
    "ExecuteTime": {
     "end_time": "2024-11-26T20:02:41.055759Z",
     "start_time": "2024-11-26T20:02:41.014124Z"
    }
   },
   "id": "191da412cb222efc",
   "execution_count": 2
  },
  {
   "cell_type": "code",
   "outputs": [
    {
     "data": {
      "text/plain": "  TV Series                                       Utterances  dialog_ids  \\\n0        GA                                  look around you           1   \n1        GA                    say hello to your competition           1   \n2        GA  eight of you will switch to an easier specialty           1   \n3        GA        five of you will crack under the pressure           1   \n4        GA                two of you will be asked to leave           1   \n\n   uttr_ids  seasons  episodes   start_times     end_times sentiment  emotion  \\\n0         0        1         1  00:02:27:589  00:02:28:567   neutral  neutral   \n1         1        1         1  00:02:28:910  00:02:30:513   neutral  neutral   \n2         2        1         1  00:02:31:387  00:02:34:060   neutral  neutral   \n3         3        1         1  00:02:34:134  00:02:36:002   neutral  neutral   \n4         4        1         1  00:02:36:059  00:02:37:723   neutral  neutral   \n\n  intensity emotion2 intensity2 emotion3  intensity3  \n0       NaN      NaN        NaN      NaN         NaN  \n1       NaN      NaN        NaN      NaN         NaN  \n2       NaN      NaN        NaN      NaN         NaN  \n3       NaN      NaN        NaN      NaN         NaN  \n4       NaN      NaN        NaN      NaN         NaN  ",
      "text/html": "<div>\n<style scoped>\n    .dataframe tbody tr th:only-of-type {\n        vertical-align: middle;\n    }\n\n    .dataframe tbody tr th {\n        vertical-align: top;\n    }\n\n    .dataframe thead th {\n        text-align: right;\n    }\n</style>\n<table border=\"1\" class=\"dataframe\">\n  <thead>\n    <tr style=\"text-align: right;\">\n      <th></th>\n      <th>TV Series</th>\n      <th>Utterances</th>\n      <th>dialog_ids</th>\n      <th>uttr_ids</th>\n      <th>seasons</th>\n      <th>episodes</th>\n      <th>start_times</th>\n      <th>end_times</th>\n      <th>sentiment</th>\n      <th>emotion</th>\n      <th>intensity</th>\n      <th>emotion2</th>\n      <th>intensity2</th>\n      <th>emotion3</th>\n      <th>intensity3</th>\n    </tr>\n  </thead>\n  <tbody>\n    <tr>\n      <th>0</th>\n      <td>GA</td>\n      <td>look around you</td>\n      <td>1</td>\n      <td>0</td>\n      <td>1</td>\n      <td>1</td>\n      <td>00:02:27:589</td>\n      <td>00:02:28:567</td>\n      <td>neutral</td>\n      <td>neutral</td>\n      <td>NaN</td>\n      <td>NaN</td>\n      <td>NaN</td>\n      <td>NaN</td>\n      <td>NaN</td>\n    </tr>\n    <tr>\n      <th>1</th>\n      <td>GA</td>\n      <td>say hello to your competition</td>\n      <td>1</td>\n      <td>1</td>\n      <td>1</td>\n      <td>1</td>\n      <td>00:02:28:910</td>\n      <td>00:02:30:513</td>\n      <td>neutral</td>\n      <td>neutral</td>\n      <td>NaN</td>\n      <td>NaN</td>\n      <td>NaN</td>\n      <td>NaN</td>\n      <td>NaN</td>\n    </tr>\n    <tr>\n      <th>2</th>\n      <td>GA</td>\n      <td>eight of you will switch to an easier specialty</td>\n      <td>1</td>\n      <td>2</td>\n      <td>1</td>\n      <td>1</td>\n      <td>00:02:31:387</td>\n      <td>00:02:34:060</td>\n      <td>neutral</td>\n      <td>neutral</td>\n      <td>NaN</td>\n      <td>NaN</td>\n      <td>NaN</td>\n      <td>NaN</td>\n      <td>NaN</td>\n    </tr>\n    <tr>\n      <th>3</th>\n      <td>GA</td>\n      <td>five of you will crack under the pressure</td>\n      <td>1</td>\n      <td>3</td>\n      <td>1</td>\n      <td>1</td>\n      <td>00:02:34:134</td>\n      <td>00:02:36:002</td>\n      <td>neutral</td>\n      <td>neutral</td>\n      <td>NaN</td>\n      <td>NaN</td>\n      <td>NaN</td>\n      <td>NaN</td>\n      <td>NaN</td>\n    </tr>\n    <tr>\n      <th>4</th>\n      <td>GA</td>\n      <td>two of you will be asked to leave</td>\n      <td>1</td>\n      <td>4</td>\n      <td>1</td>\n      <td>1</td>\n      <td>00:02:36:059</td>\n      <td>00:02:37:723</td>\n      <td>neutral</td>\n      <td>neutral</td>\n      <td>NaN</td>\n      <td>NaN</td>\n      <td>NaN</td>\n      <td>NaN</td>\n      <td>NaN</td>\n    </tr>\n  </tbody>\n</table>\n</div>"
     },
     "execution_count": 3,
     "metadata": {},
     "output_type": "execute_result"
    }
   ],
   "source": [
    "df_data.head()"
   ],
   "metadata": {
    "collapsed": false,
    "ExecuteTime": {
     "end_time": "2024-11-26T20:02:41.068874Z",
     "start_time": "2024-11-26T20:02:41.056767Z"
    }
   },
   "id": "be38c4ec0e98b8b0",
   "execution_count": 3
  },
  {
   "cell_type": "code",
   "outputs": [
    {
     "name": "stdout",
     "output_type": "stream",
     "text": [
      "{'neutral', 'sadness', 'acceptance ', 'fear ', 'Joy', 'Neutral', 'Fear', ' anger', 'Disgust', 'surprise', 'digust', 'Fera', 'faer', 'Sadness ', 'anger', 'Neutral ', 'an', 'Anger', 'neutral ', 'sur', 'acceptance', 'asadness', 'like', 'Fear ', ' surprise', 'Sadness', ' sadness', 'Surprise ', 'ANGER', ' disgust', 'anger1', 'joy', 'sadnes', '  disgust', 'Surprise', 'l', 'disgust', 'sadness ', nan, 'fear'}\n"
     ]
    }
   ],
   "source": [
    "unique_emotions = set(df_data['emotion'].unique()) | set(df_data['emotion2'].unique()) | set(df_data['emotion3'].unique())\n",
    "print(unique_emotions)"
   ],
   "metadata": {
    "collapsed": false,
    "ExecuteTime": {
     "end_time": "2024-11-26T20:02:41.074642Z",
     "start_time": "2024-11-26T20:02:41.068874Z"
    }
   },
   "id": "3e9f6b6ecff771d8",
   "execution_count": 4
  },
  {
   "cell_type": "code",
   "outputs": [],
   "source": [
    "emotion_map = {\n",
    "    'neutral': 0, 'Neutral': 0, 'Neutral ': 0, 'neutral ': 0,\n",
    "    'acceptance': 1, 'acceptance ': 1,\n",
    "    'disgust': 2, 'Disgust': 2, ' disgust': 2, '  disgust': 2, 'digust': 2,\n",
    "    'surprise': 3, 'Surprise': 3, ' surprise': 3, 'Surprise ': 3, 'sur': 3,\n",
    "    'joy': 4, 'Joy': 4, 'like': 4,\n",
    "    'sadness': 5, 'Sadness': 5, ' sadness': 5, 'Sadness ': 5, 'sadness ': 5, 'sadnes': 5, 'asadness': 5,\n",
    "    'anger': 6, 'Anger': 6, ' anger': 6, 'ANGER': 6, 'anger1': 6, 'an': 6,\n",
    "    'fear': 8, 'Fear': 8, 'fear ': 8, 'Fear ': 8, 'faer': 8, 'Fera': 8,\n",
    "    'l': None, np.nan: None\n",
    "}\n",
    "\n",
    "data_emotion = pd.DataFrame()\n",
    "data_emotion['Utterances'] = df_data['Utterances']\n",
    "\n",
    "data_emotion['target1'] = df_data['emotion'].map(emotion_map)\n",
    "data_emotion['target2'] = df_data['emotion2'].map(emotion_map)\n",
    "data_emotion['target3'] = df_data['emotion3'].map(emotion_map)\n",
    "\n",
    "\n",
    "def fill_nans(row):\n",
    "    if row.isna().sum() == 2 and row.count() == 1:\n",
    "        row = row.fillna(row.dropna().iloc[0])\n",
    "\n",
    "    elif row.isna().sum() == 1 and row.count() == 2:\n",
    "        row = row.fillna(row.dropna().iloc[0])\n",
    "\n",
    "    return row\n",
    "\n",
    "\n",
    "data_emotion[['target1', 'target2', 'target3']] = data_emotion[['target1', 'target2', 'target3']].apply(fill_nans,\n",
    "                                                                                                        axis=1)\n",
    "\n",
    "data_emotion['target1'] = data_emotion['target1'].astype(int)\n",
    "data_emotion['target2'] = data_emotion['target2'].astype(int)\n",
    "data_emotion['target3'] = data_emotion['target3'].astype(int)"
   ],
   "metadata": {
    "collapsed": false,
    "ExecuteTime": {
     "end_time": "2024-11-26T20:02:45.697403Z",
     "start_time": "2024-11-26T20:02:41.075650Z"
    }
   },
   "id": "5a8aaa8b880c6ccb",
   "execution_count": 5
  },
  {
   "cell_type": "code",
   "outputs": [
    {
     "data": {
      "text/plain": "                                           Utterances  target1  target2  \\\n0                                     look around you        0        0   \n1                       say hello to your competition        0        0   \n2     eight of you will switch to an easier specialty        0        0   \n3           five of you will crack under the pressure        0        0   \n4                   two of you will be asked to leave        0        0   \n5                          this is your starting line        0        0   \n6                                  this is your arena        0        0   \n7                                   how well you play        0        0   \n8                                    that's up to you        0        0   \n9                                         like i said        1        2   \n10                                        i'm screwed        2        5   \n11              okay, martin, robinson, bond, hawkins        0        0   \n12                             only 6 women out of 20        3        2   \n13                 yeah. i hear one of them's a model        2        5   \n14  seriously, that's gonna help with the respect ...        3        2   \n15           you're cristina, right? - patton, monroe        0        0   \n16   which resident are you assigned to? i got bailey        0        0   \n17                                   the nazi? me too        3        4   \n18                         you got the nazi? so did i        3        4   \n19        at least we'll be tortured together, right?        4        4   \n20                                i'm george o'malley        1        4   \n21  uh, we met at the mixer. you had on a black dr...        4        4   \n22             now you think i'm gay. no, i'm not gay        5        2   \n23  it's - it's just that you were - you were very...        1        1   \n24                      o'malley, yang, grey, stevens        0        0   \n25                        and i'm totally forgettable        5        2   \n26                          bailey? - end of the hall        3        3   \n27                                   that's the nazi?        3        3   \n28                  i thought the nazi would be a guy        3        1   \n29                 i thought the nazi would be a nazi        3        2   \n30                   maybe it's professional jealousy        0        0   \n31  maybe she's brilliant, and they call her a naz...        1        1   \n32                                   maybe she's nice        1        1   \n33                    let me guess - you're the model        3        2   \n34  hi, i'm isobel stevens, but everyone calls me ...        1        4   \n35                   i have five rules. memorize them        0        0   \n36  rule number one - don't bother sucking up. i a...        2        2   \n37  trauma protocol, phone list, pagers - nurses w...        0        0   \n38  you will answer every page at a run - a run - ...        6        6   \n39     your first shift starts now and lasts 48 hours        0        0   \n40      seattle is surrounded by water on three sides        1        1   \n41                               hence the ferryboats        1        4   \n42                         now i have to like it here        1        2   \n43                i wasn't planning on liking it here        1        5   \n44                                  i'm from new york        1        1   \n45  i'm genetically engineered to dislike everywhe...        5        2   \n46                      i have a thing for ferryboats        1        4   \n47                         i'm not going out with you        1        1   \n48                   did i ask you to go out with me?        3        4   \n49                     do you want to go out with me?        4        4   \n\n    target3  \n0         0  \n1         0  \n2         0  \n3         0  \n4         0  \n5         0  \n6         0  \n7         0  \n8         0  \n9         1  \n10        2  \n11        0  \n12        3  \n13        2  \n14        3  \n15        0  \n16        0  \n17        3  \n18        3  \n19        4  \n20        1  \n21        4  \n22        5  \n23        1  \n24        0  \n25        5  \n26        3  \n27        3  \n28        3  \n29        3  \n30        0  \n31        1  \n32        1  \n33        3  \n34        1  \n35        0  \n36        2  \n37        0  \n38        6  \n39        0  \n40        1  \n41        1  \n42        1  \n43        1  \n44        1  \n45        5  \n46        1  \n47        1  \n48        3  \n49        4  ",
      "text/html": "<div>\n<style scoped>\n    .dataframe tbody tr th:only-of-type {\n        vertical-align: middle;\n    }\n\n    .dataframe tbody tr th {\n        vertical-align: top;\n    }\n\n    .dataframe thead th {\n        text-align: right;\n    }\n</style>\n<table border=\"1\" class=\"dataframe\">\n  <thead>\n    <tr style=\"text-align: right;\">\n      <th></th>\n      <th>Utterances</th>\n      <th>target1</th>\n      <th>target2</th>\n      <th>target3</th>\n    </tr>\n  </thead>\n  <tbody>\n    <tr>\n      <th>0</th>\n      <td>look around you</td>\n      <td>0</td>\n      <td>0</td>\n      <td>0</td>\n    </tr>\n    <tr>\n      <th>1</th>\n      <td>say hello to your competition</td>\n      <td>0</td>\n      <td>0</td>\n      <td>0</td>\n    </tr>\n    <tr>\n      <th>2</th>\n      <td>eight of you will switch to an easier specialty</td>\n      <td>0</td>\n      <td>0</td>\n      <td>0</td>\n    </tr>\n    <tr>\n      <th>3</th>\n      <td>five of you will crack under the pressure</td>\n      <td>0</td>\n      <td>0</td>\n      <td>0</td>\n    </tr>\n    <tr>\n      <th>4</th>\n      <td>two of you will be asked to leave</td>\n      <td>0</td>\n      <td>0</td>\n      <td>0</td>\n    </tr>\n    <tr>\n      <th>5</th>\n      <td>this is your starting line</td>\n      <td>0</td>\n      <td>0</td>\n      <td>0</td>\n    </tr>\n    <tr>\n      <th>6</th>\n      <td>this is your arena</td>\n      <td>0</td>\n      <td>0</td>\n      <td>0</td>\n    </tr>\n    <tr>\n      <th>7</th>\n      <td>how well you play</td>\n      <td>0</td>\n      <td>0</td>\n      <td>0</td>\n    </tr>\n    <tr>\n      <th>8</th>\n      <td>that's up to you</td>\n      <td>0</td>\n      <td>0</td>\n      <td>0</td>\n    </tr>\n    <tr>\n      <th>9</th>\n      <td>like i said</td>\n      <td>1</td>\n      <td>2</td>\n      <td>1</td>\n    </tr>\n    <tr>\n      <th>10</th>\n      <td>i'm screwed</td>\n      <td>2</td>\n      <td>5</td>\n      <td>2</td>\n    </tr>\n    <tr>\n      <th>11</th>\n      <td>okay, martin, robinson, bond, hawkins</td>\n      <td>0</td>\n      <td>0</td>\n      <td>0</td>\n    </tr>\n    <tr>\n      <th>12</th>\n      <td>only 6 women out of 20</td>\n      <td>3</td>\n      <td>2</td>\n      <td>3</td>\n    </tr>\n    <tr>\n      <th>13</th>\n      <td>yeah. i hear one of them's a model</td>\n      <td>2</td>\n      <td>5</td>\n      <td>2</td>\n    </tr>\n    <tr>\n      <th>14</th>\n      <td>seriously, that's gonna help with the respect ...</td>\n      <td>3</td>\n      <td>2</td>\n      <td>3</td>\n    </tr>\n    <tr>\n      <th>15</th>\n      <td>you're cristina, right? - patton, monroe</td>\n      <td>0</td>\n      <td>0</td>\n      <td>0</td>\n    </tr>\n    <tr>\n      <th>16</th>\n      <td>which resident are you assigned to? i got bailey</td>\n      <td>0</td>\n      <td>0</td>\n      <td>0</td>\n    </tr>\n    <tr>\n      <th>17</th>\n      <td>the nazi? me too</td>\n      <td>3</td>\n      <td>4</td>\n      <td>3</td>\n    </tr>\n    <tr>\n      <th>18</th>\n      <td>you got the nazi? so did i</td>\n      <td>3</td>\n      <td>4</td>\n      <td>3</td>\n    </tr>\n    <tr>\n      <th>19</th>\n      <td>at least we'll be tortured together, right?</td>\n      <td>4</td>\n      <td>4</td>\n      <td>4</td>\n    </tr>\n    <tr>\n      <th>20</th>\n      <td>i'm george o'malley</td>\n      <td>1</td>\n      <td>4</td>\n      <td>1</td>\n    </tr>\n    <tr>\n      <th>21</th>\n      <td>uh, we met at the mixer. you had on a black dr...</td>\n      <td>4</td>\n      <td>4</td>\n      <td>4</td>\n    </tr>\n    <tr>\n      <th>22</th>\n      <td>now you think i'm gay. no, i'm not gay</td>\n      <td>5</td>\n      <td>2</td>\n      <td>5</td>\n    </tr>\n    <tr>\n      <th>23</th>\n      <td>it's - it's just that you were - you were very...</td>\n      <td>1</td>\n      <td>1</td>\n      <td>1</td>\n    </tr>\n    <tr>\n      <th>24</th>\n      <td>o'malley, yang, grey, stevens</td>\n      <td>0</td>\n      <td>0</td>\n      <td>0</td>\n    </tr>\n    <tr>\n      <th>25</th>\n      <td>and i'm totally forgettable</td>\n      <td>5</td>\n      <td>2</td>\n      <td>5</td>\n    </tr>\n    <tr>\n      <th>26</th>\n      <td>bailey? - end of the hall</td>\n      <td>3</td>\n      <td>3</td>\n      <td>3</td>\n    </tr>\n    <tr>\n      <th>27</th>\n      <td>that's the nazi?</td>\n      <td>3</td>\n      <td>3</td>\n      <td>3</td>\n    </tr>\n    <tr>\n      <th>28</th>\n      <td>i thought the nazi would be a guy</td>\n      <td>3</td>\n      <td>1</td>\n      <td>3</td>\n    </tr>\n    <tr>\n      <th>29</th>\n      <td>i thought the nazi would be a nazi</td>\n      <td>3</td>\n      <td>2</td>\n      <td>3</td>\n    </tr>\n    <tr>\n      <th>30</th>\n      <td>maybe it's professional jealousy</td>\n      <td>0</td>\n      <td>0</td>\n      <td>0</td>\n    </tr>\n    <tr>\n      <th>31</th>\n      <td>maybe she's brilliant, and they call her a naz...</td>\n      <td>1</td>\n      <td>1</td>\n      <td>1</td>\n    </tr>\n    <tr>\n      <th>32</th>\n      <td>maybe she's nice</td>\n      <td>1</td>\n      <td>1</td>\n      <td>1</td>\n    </tr>\n    <tr>\n      <th>33</th>\n      <td>let me guess - you're the model</td>\n      <td>3</td>\n      <td>2</td>\n      <td>3</td>\n    </tr>\n    <tr>\n      <th>34</th>\n      <td>hi, i'm isobel stevens, but everyone calls me ...</td>\n      <td>1</td>\n      <td>4</td>\n      <td>1</td>\n    </tr>\n    <tr>\n      <th>35</th>\n      <td>i have five rules. memorize them</td>\n      <td>0</td>\n      <td>0</td>\n      <td>0</td>\n    </tr>\n    <tr>\n      <th>36</th>\n      <td>rule number one - don't bother sucking up. i a...</td>\n      <td>2</td>\n      <td>2</td>\n      <td>2</td>\n    </tr>\n    <tr>\n      <th>37</th>\n      <td>trauma protocol, phone list, pagers - nurses w...</td>\n      <td>0</td>\n      <td>0</td>\n      <td>0</td>\n    </tr>\n    <tr>\n      <th>38</th>\n      <td>you will answer every page at a run - a run - ...</td>\n      <td>6</td>\n      <td>6</td>\n      <td>6</td>\n    </tr>\n    <tr>\n      <th>39</th>\n      <td>your first shift starts now and lasts 48 hours</td>\n      <td>0</td>\n      <td>0</td>\n      <td>0</td>\n    </tr>\n    <tr>\n      <th>40</th>\n      <td>seattle is surrounded by water on three sides</td>\n      <td>1</td>\n      <td>1</td>\n      <td>1</td>\n    </tr>\n    <tr>\n      <th>41</th>\n      <td>hence the ferryboats</td>\n      <td>1</td>\n      <td>4</td>\n      <td>1</td>\n    </tr>\n    <tr>\n      <th>42</th>\n      <td>now i have to like it here</td>\n      <td>1</td>\n      <td>2</td>\n      <td>1</td>\n    </tr>\n    <tr>\n      <th>43</th>\n      <td>i wasn't planning on liking it here</td>\n      <td>1</td>\n      <td>5</td>\n      <td>1</td>\n    </tr>\n    <tr>\n      <th>44</th>\n      <td>i'm from new york</td>\n      <td>1</td>\n      <td>1</td>\n      <td>1</td>\n    </tr>\n    <tr>\n      <th>45</th>\n      <td>i'm genetically engineered to dislike everywhe...</td>\n      <td>5</td>\n      <td>2</td>\n      <td>5</td>\n    </tr>\n    <tr>\n      <th>46</th>\n      <td>i have a thing for ferryboats</td>\n      <td>1</td>\n      <td>4</td>\n      <td>1</td>\n    </tr>\n    <tr>\n      <th>47</th>\n      <td>i'm not going out with you</td>\n      <td>1</td>\n      <td>1</td>\n      <td>1</td>\n    </tr>\n    <tr>\n      <th>48</th>\n      <td>did i ask you to go out with me?</td>\n      <td>3</td>\n      <td>4</td>\n      <td>3</td>\n    </tr>\n    <tr>\n      <th>49</th>\n      <td>do you want to go out with me?</td>\n      <td>4</td>\n      <td>4</td>\n      <td>4</td>\n    </tr>\n  </tbody>\n</table>\n</div>"
     },
     "execution_count": 6,
     "metadata": {},
     "output_type": "execute_result"
    }
   ],
   "source": [
    "data_emotion.head(50)"
   ],
   "metadata": {
    "collapsed": false,
    "ExecuteTime": {
     "end_time": "2024-11-26T20:02:45.705332Z",
     "start_time": "2024-11-26T20:02:45.698436Z"
    }
   },
   "id": "332b2987537a0e76",
   "execution_count": 6
  },
  {
   "cell_type": "code",
   "outputs": [],
   "source": [
    "data_emotion['combined_emotions'] = data_emotion[['target1', 'target2', 'target3']].apply(lambda x: x.dropna().unique().astype(int).tolist(), axis=1)"
   ],
   "metadata": {
    "collapsed": false,
    "ExecuteTime": {
     "end_time": "2024-11-26T20:02:46.556157Z",
     "start_time": "2024-11-26T20:02:45.706338Z"
    }
   },
   "id": "270a8a1cc8fd661a",
   "execution_count": 7
  },
  {
   "cell_type": "code",
   "outputs": [],
   "source": [
    "from sklearn.preprocessing import MultiLabelBinarizer\n",
    "from sklearn.preprocessing import OneHotEncoder\n",
    "\n",
    "mlb_emotion = MultiLabelBinarizer()\n",
    "emotion_binarized = mlb_emotion.fit_transform(data_emotion['combined_emotions'])\n",
    "emotion_df = pd.DataFrame(emotion_binarized)\n",
    "emotion_df.columns = [f'emotion_{i + 1}' for i in range(emotion_df.shape[1])]\n"
   ],
   "metadata": {
    "collapsed": false,
    "ExecuteTime": {
     "end_time": "2024-11-26T20:02:46.570477Z",
     "start_time": "2024-11-26T20:02:46.557163Z"
    }
   },
   "id": "4272a0bab8f57fd3",
   "execution_count": 8
  },
  {
   "cell_type": "code",
   "outputs": [
    {
     "data": {
      "text/plain": "                                              Utterances  emotion_1  \\\n0                                        look around you          1   \n1                          say hello to your competition          1   \n2        eight of you will switch to an easier specialty          1   \n3              five of you will crack under the pressure          1   \n4                      two of you will be asked to leave          1   \n...                                                  ...        ...   \n20012  oh, that's right, you're a woman and you need ...          0   \n20013                                     i'll try again          0   \n20014           please, pam, reconsider and have a bagel          0   \n20015                              i have an early lunch          0   \n20016  michael's been trying to get jim and me to han...          0   \n\n       emotion_2  emotion_3  emotion_4  emotion_5  emotion_6  emotion_7  \\\n0              0          0          0          0          0          0   \n1              0          0          0          0          0          0   \n2              0          0          0          0          0          0   \n3              0          0          0          0          0          0   \n4              0          0          0          0          0          0   \n...          ...        ...        ...        ...        ...        ...   \n20012          0          1          0          0          0          1   \n20013          0          1          0          0          0          1   \n20014          1          1          0          0          0          0   \n20015          0          1          0          0          0          1   \n20016          0          0          0          1          0          0   \n\n       emotion_8  \n0              0  \n1              0  \n2              0  \n3              0  \n4              0  \n...          ...  \n20012          0  \n20013          0  \n20014          0  \n20015          0  \n20016          0  \n\n[20017 rows x 9 columns]",
      "text/html": "<div>\n<style scoped>\n    .dataframe tbody tr th:only-of-type {\n        vertical-align: middle;\n    }\n\n    .dataframe tbody tr th {\n        vertical-align: top;\n    }\n\n    .dataframe thead th {\n        text-align: right;\n    }\n</style>\n<table border=\"1\" class=\"dataframe\">\n  <thead>\n    <tr style=\"text-align: right;\">\n      <th></th>\n      <th>Utterances</th>\n      <th>emotion_1</th>\n      <th>emotion_2</th>\n      <th>emotion_3</th>\n      <th>emotion_4</th>\n      <th>emotion_5</th>\n      <th>emotion_6</th>\n      <th>emotion_7</th>\n      <th>emotion_8</th>\n    </tr>\n  </thead>\n  <tbody>\n    <tr>\n      <th>0</th>\n      <td>look around you</td>\n      <td>1</td>\n      <td>0</td>\n      <td>0</td>\n      <td>0</td>\n      <td>0</td>\n      <td>0</td>\n      <td>0</td>\n      <td>0</td>\n    </tr>\n    <tr>\n      <th>1</th>\n      <td>say hello to your competition</td>\n      <td>1</td>\n      <td>0</td>\n      <td>0</td>\n      <td>0</td>\n      <td>0</td>\n      <td>0</td>\n      <td>0</td>\n      <td>0</td>\n    </tr>\n    <tr>\n      <th>2</th>\n      <td>eight of you will switch to an easier specialty</td>\n      <td>1</td>\n      <td>0</td>\n      <td>0</td>\n      <td>0</td>\n      <td>0</td>\n      <td>0</td>\n      <td>0</td>\n      <td>0</td>\n    </tr>\n    <tr>\n      <th>3</th>\n      <td>five of you will crack under the pressure</td>\n      <td>1</td>\n      <td>0</td>\n      <td>0</td>\n      <td>0</td>\n      <td>0</td>\n      <td>0</td>\n      <td>0</td>\n      <td>0</td>\n    </tr>\n    <tr>\n      <th>4</th>\n      <td>two of you will be asked to leave</td>\n      <td>1</td>\n      <td>0</td>\n      <td>0</td>\n      <td>0</td>\n      <td>0</td>\n      <td>0</td>\n      <td>0</td>\n      <td>0</td>\n    </tr>\n    <tr>\n      <th>...</th>\n      <td>...</td>\n      <td>...</td>\n      <td>...</td>\n      <td>...</td>\n      <td>...</td>\n      <td>...</td>\n      <td>...</td>\n      <td>...</td>\n      <td>...</td>\n    </tr>\n    <tr>\n      <th>20012</th>\n      <td>oh, that's right, you're a woman and you need ...</td>\n      <td>0</td>\n      <td>0</td>\n      <td>1</td>\n      <td>0</td>\n      <td>0</td>\n      <td>0</td>\n      <td>1</td>\n      <td>0</td>\n    </tr>\n    <tr>\n      <th>20013</th>\n      <td>i'll try again</td>\n      <td>0</td>\n      <td>0</td>\n      <td>1</td>\n      <td>0</td>\n      <td>0</td>\n      <td>0</td>\n      <td>1</td>\n      <td>0</td>\n    </tr>\n    <tr>\n      <th>20014</th>\n      <td>please, pam, reconsider and have a bagel</td>\n      <td>0</td>\n      <td>1</td>\n      <td>1</td>\n      <td>0</td>\n      <td>0</td>\n      <td>0</td>\n      <td>0</td>\n      <td>0</td>\n    </tr>\n    <tr>\n      <th>20015</th>\n      <td>i have an early lunch</td>\n      <td>0</td>\n      <td>0</td>\n      <td>1</td>\n      <td>0</td>\n      <td>0</td>\n      <td>0</td>\n      <td>1</td>\n      <td>0</td>\n    </tr>\n    <tr>\n      <th>20016</th>\n      <td>michael's been trying to get jim and me to han...</td>\n      <td>0</td>\n      <td>0</td>\n      <td>0</td>\n      <td>0</td>\n      <td>1</td>\n      <td>0</td>\n      <td>0</td>\n      <td>0</td>\n    </tr>\n  </tbody>\n</table>\n<p>20017 rows × 9 columns</p>\n</div>"
     },
     "execution_count": 9,
     "metadata": {},
     "output_type": "execute_result"
    }
   ],
   "source": [
    "multi_label_binarizer_MEISD = pd.concat([data_emotion['Utterances'], emotion_df], axis=1)\n",
    "multi_label_binarizer_MEISD"
   ],
   "metadata": {
    "collapsed": false,
    "ExecuteTime": {
     "end_time": "2024-11-26T20:02:46.579809Z",
     "start_time": "2024-11-26T20:02:46.571482Z"
    }
   },
   "id": "754405fbae26709b",
   "execution_count": 9
  },
  {
   "cell_type": "code",
   "outputs": [],
   "source": [
    "# def to_binary_vector(row, num_classes=9):\n",
    "#     vector = np.zeros(num_classes)\n",
    "#     for i in range(1, 4):  # iteracja po target1, target2, target3\n",
    "#         if row[f'target{i}'] < num_classes:\n",
    "#             vector[row[f'target{i}']] = int(1)\n",
    "#     return vector\n",
    "# \n",
    "# #data_emotion['target_vector'] = data_emotion.apply(to_binary_vector, axis=1)\n",
    "# #data_emotion[['Utterances', 'target_vector']].head(5)"
   ],
   "metadata": {
    "collapsed": false
   },
   "id": "5bc9fb00777fe9ef",
   "execution_count": null
  },
  {
   "cell_type": "code",
   "outputs": [],
   "source": [
    "# target_array = np.array(data_emotion['target_vector'].tolist())\n",
    "# label_counts = target_array.sum(axis=0)\n",
    "# for idx, count in enumerate(label_counts):\n",
    "#     print(f\"Label {idx}: {count}\")"
   ],
   "metadata": {
    "collapsed": false
   },
   "id": "d54368a3db779508",
   "execution_count": null
  },
  {
   "cell_type": "code",
   "outputs": [],
   "source": [
    "# dataset = data_emotion[['Utterances', 'target_vector']]"
   ],
   "metadata": {
    "collapsed": false
   },
   "id": "fb9720b1294c167b",
   "execution_count": null
  },
  {
   "cell_type": "code",
   "outputs": [],
   "source": [
    "# dataset"
   ],
   "metadata": {
    "collapsed": false
   },
   "id": "5649642e251cdce0",
   "execution_count": null
  },
  {
   "cell_type": "code",
   "outputs": [
    {
     "name": "stderr",
     "output_type": "stream",
     "text": [
      "BertForMaskedLM has generative capabilities, as `prepare_inputs_for_generation` is explicitly overwritten. However, it doesn't directly inherit from `GenerationMixin`. From 👉v4.50👈 onwards, `PreTrainedModel` will NOT inherit from `GenerationMixin`, and this model will lose the ability to call `generate` and other related functions.\n",
      "  - If you're using `trust_remote_code=True`, you can get rid of this warning by loading the model with an auto class. See https://huggingface.co/docs/transformers/en/model_doc/auto#auto-classes\n",
      "  - If you are the owner of the model architecture code, please modify your model class such that it inherits from `GenerationMixin` (after `PreTrainedModel`, otherwise you'll get an exception).\n",
      "  - If you are not the owner of the model architecture class, please contact the model code owner to update it.\n",
      "Some weights of the model checkpoint at bert-base-cased were not used when initializing BertForMaskedLM: ['bert.pooler.dense.bias', 'bert.pooler.dense.weight', 'cls.seq_relationship.bias', 'cls.seq_relationship.weight']\n",
      "- This IS expected if you are initializing BertForMaskedLM from the checkpoint of a model trained on another task or with another architecture (e.g. initializing a BertForSequenceClassification model from a BertForPreTraining model).\n",
      "- This IS NOT expected if you are initializing BertForMaskedLM from the checkpoint of a model that you expect to be exactly identical (initializing a BertForSequenceClassification model from a BertForSequenceClassification model).\n"
     ]
    }
   ],
   "source": [
    "# Data Augmentation\n",
    "from transformers import pipeline\n",
    "\n",
    "# Use BERT-based masked language model to find contextually appropriate synonyms\n",
    "fill_mask = pipeline(\"fill-mask\", model=\"bert-base-cased\")\n",
    "\n",
    "# 1. Synonym Replacement\n",
    "def synonym_replacement(text):\n",
    "    words = text.split()\n",
    "    new_words = words[:]\n",
    "    num_replacements = max(1, len(words) // 5)  # Replace about 20% of words\n",
    "    random_words = random.sample(words, num_replacements)\n",
    "\n",
    "    for word in random_words:\n",
    "        synonyms = wordnet.synsets(word)\n",
    "        if synonyms:\n",
    "            #synonym = synonyms[0].lemmas()[0].name()  # Take first synonym\n",
    "            synonym = random.choice(synonyms).lemmas()[0].name()\n",
    "            if synonym != word:  # Avoid replacement if the synonym is identical\n",
    "                new_words = [synonym if w == word else w for w in new_words]\n",
    "    return ' '.join(new_words)\n",
    "\n",
    "\n",
    "# 2. Random Insertion\n",
    "def random_insertion(text, n=1):\n",
    "    words = text.split()\n",
    "    for _ in range(n):\n",
    "        new_word = random.choice(words)\n",
    "        insert_pos = random.randint(0, len(words))\n",
    "        words.insert(insert_pos, new_word)\n",
    "    return ' '.join(words)\n",
    "\n",
    "\n",
    "# 3. Random Deletion\n",
    "def random_deletion(text, p=0.3):\n",
    "    words = text.split()\n",
    "    if len(words) == 1:\n",
    "        return text  # Avoid deleting single-word text\n",
    "    new_words = [word for word in words if random.uniform(0, 1) > p]\n",
    "    if not new_words:\n",
    "        return random.choice(words)  # Return one word if all words are deleted\n",
    "    return ' '.join(new_words)\n",
    "\n",
    "# 4. Back Translation\n",
    "def back_translation(text, src_lang='en', mid_lang='fr', max_retries=3):\n",
    "    attempt = 0\n",
    "    while attempt < max_retries:\n",
    "        try:\n",
    "            translated = GoogleTranslator(source=src_lang, target=mid_lang).translate(text)\n",
    "            back_translated = GoogleTranslator(source=mid_lang, target=src_lang).translate(translated)\n",
    "            return back_translated\n",
    "        except Exception as e:\n",
    "            print(f\"Back translation error on attempt {attempt + 1}: {e}\")\n",
    "            attempt += 1\n",
    "            time.sleep(1)\n",
    "    raise ValueError(\"Back translation failed\")"
   ],
   "metadata": {
    "collapsed": false,
    "ExecuteTime": {
     "end_time": "2024-11-26T20:02:48.475712Z",
     "start_time": "2024-11-26T20:02:46.580817Z"
    }
   },
   "id": "b0e09026fb2c262d",
   "execution_count": 10
  },
  {
   "cell_type": "code",
   "outputs": [],
   "source": [
    "def augment_text(text, num_augments=2):\n",
    "    augmented_texts = []\n",
    "    for _ in range(num_augments):\n",
    "        augmentation_choice = random.choice(['synonym', 'insertion', 'deletion', 'back_translation'])\n",
    "        if augmentation_choice == 'synonym':\n",
    "            augmented_texts.append(synonym_replacement(text))\n",
    "        elif augmentation_choice == 'insertion':\n",
    "            augmented_texts.append(random_insertion(text))\n",
    "        elif augmentation_choice == 'deletion':\n",
    "            augmented_texts.append(random_deletion(text))\n",
    "        elif augmentation_choice == 'back_translation':\n",
    "            augmented_texts.append(back_translation(text))\n",
    "    return augmented_texts"
   ],
   "metadata": {
    "collapsed": false,
    "ExecuteTime": {
     "end_time": "2024-11-26T20:02:48.480129Z",
     "start_time": "2024-11-26T20:02:48.476718Z"
    }
   },
   "id": "828baedf8d3f7533",
   "execution_count": 11
  },
  {
   "cell_type": "code",
   "outputs": [
    {
     "data": {
      "text/plain": "<Figure size 1000x600 with 1 Axes>",
      "image/png": "[encoded data removed]"
     },
     "metadata": {},
     "output_type": "display_data"
    }
   ],
   "source": [
    "label_sums = multi_label_binarizer_MEISD.iloc[:, 1:].sum()\n",
    "\n",
    "plt.figure(figsize=(10, 6))\n",
    "label_sums.plot(kind='bar', color='skyblue')\n",
    "plt.title('Rozkład klas (emocji)')\n",
    "plt.xlabel('Emocje')\n",
    "plt.ylabel('Liczba próbek')\n",
    "plt.xticks(rotation=45)\n",
    "plt.grid(axis='y', linestyle='--', alpha=0.7)\n",
    "plt.show()\n"
   ],
   "metadata": {
    "collapsed": false,
    "ExecuteTime": {
     "end_time": "2024-11-26T20:02:48.614922Z",
     "start_time": "2024-11-26T20:02:48.481134Z"
    }
   },
   "id": "3c1f4e7f58136cf2",
   "execution_count": 12
  },
  {
   "cell_type": "code",
   "outputs": [],
   "source": [
    "from sklearn.model_selection import train_test_split\n",
    "# split into train and test\n",
    "df_train, df_test = train_test_split(multi_label_binarizer_MEISD, random_state=77, test_size=0.30, shuffle=True)\n",
    "# split test into test and validation datasets\n",
    "df_test, df_valid = train_test_split(df_train, random_state=88, test_size=0.50, shuffle=True)"
   ],
   "metadata": {
    "collapsed": false,
    "ExecuteTime": {
     "end_time": "2024-11-26T20:02:48.622377Z",
     "start_time": "2024-11-26T20:02:48.615928Z"
    }
   },
   "id": "f53fda54f02119db",
   "execution_count": 13
  },
  {
   "cell_type": "code",
   "outputs": [],
   "source": [
    "df_train.head()"
   ],
   "metadata": {
    "collapsed": false
   },
   "id": "7725fb6a329484a6",
   "execution_count": null
  },
  {
   "cell_type": "code",
   "outputs": [
    {
     "data": {
      "text/plain": "emotion_1    2701\nemotion_2    2236\nemotion_3    4509\nemotion_4    1674\nemotion_5    2941\nemotion_6    2563\nemotion_7    2631\nemotion_8     842\ndtype: int64"
     },
     "execution_count": 15,
     "metadata": {},
     "output_type": "execute_result"
    }
   ],
   "source": [
    "class_counts = df_train[['emotion_1', 'emotion_2', 'emotion_3', 'emotion_4',\n",
    "                         'emotion_5', 'emotion_6', 'emotion_7', 'emotion_8']].sum(axis=0)\n",
    "\n",
    "max_count = class_counts.max()\n",
    "class_counts"
   ],
   "metadata": {
    "collapsed": false,
    "ExecuteTime": {
     "end_time": "2024-11-26T20:03:19.213831Z",
     "start_time": "2024-11-26T20:03:19.208614Z"
    }
   },
   "id": "c5b582ff5f60ec39",
   "execution_count": 15
  },
  {
   "cell_type": "code",
   "outputs": [
    {
     "name": "stderr",
     "output_type": "stream",
     "text": [
      "Augmenting data:   0%|          | 2/9502 [03:04<243:04:34, 92.11s/it]\n"
     ]
    },
    {
     "ename": "KeyboardInterrupt",
     "evalue": "",
     "output_type": "error",
     "traceback": [
      "\u001B[1;31m---------------------------------------------------------------------------\u001B[0m",
      "\u001B[1;31mKeyboardInterrupt\u001B[0m                         Traceback (most recent call last)",
      "Cell \u001B[1;32mIn[17], line 15\u001B[0m\n\u001B[0;32m     12\u001B[0m num_to_augment \u001B[38;5;241m=\u001B[39m \u001B[38;5;28mmin\u001B[39m(num_to_augment, \u001B[38;5;241m500\u001B[39m)\n\u001B[0;32m     14\u001B[0m \u001B[38;5;28;01mif\u001B[39;00m num_to_augment \u001B[38;5;241m>\u001B[39m \u001B[38;5;241m0\u001B[39m:\n\u001B[1;32m---> 15\u001B[0m     new_texts \u001B[38;5;241m=\u001B[39m augment_text(row[\u001B[38;5;124m'\u001B[39m\u001B[38;5;124mUtterances\u001B[39m\u001B[38;5;124m'\u001B[39m], num_augments\u001B[38;5;241m=\u001B[39mnum_to_augment) \n\u001B[0;32m     16\u001B[0m     \u001B[38;5;28;01mfor\u001B[39;00m new_text \u001B[38;5;129;01min\u001B[39;00m new_texts:\n\u001B[0;32m     17\u001B[0m         augmented_data[\u001B[38;5;124m'\u001B[39m\u001B[38;5;124mUtterances\u001B[39m\u001B[38;5;124m'\u001B[39m]\u001B[38;5;241m.\u001B[39mappend(new_text)\n",
      "Cell \u001B[1;32mIn[11], line 12\u001B[0m, in \u001B[0;36maugment_text\u001B[1;34m(text, num_augments)\u001B[0m\n\u001B[0;32m     10\u001B[0m         augmented_texts\u001B[38;5;241m.\u001B[39mappend(random_deletion(text))\n\u001B[0;32m     11\u001B[0m     \u001B[38;5;28;01melif\u001B[39;00m augmentation_choice \u001B[38;5;241m==\u001B[39m \u001B[38;5;124m'\u001B[39m\u001B[38;5;124mback_translation\u001B[39m\u001B[38;5;124m'\u001B[39m:\n\u001B[1;32m---> 12\u001B[0m         augmented_texts\u001B[38;5;241m.\u001B[39mappend(back_translation(text))\n\u001B[0;32m     13\u001B[0m \u001B[38;5;28;01mreturn\u001B[39;00m augmented_texts\n",
      "Cell \u001B[1;32mIn[10], line 49\u001B[0m, in \u001B[0;36mback_translation\u001B[1;34m(text, src_lang, mid_lang, max_retries)\u001B[0m\n\u001B[0;32m     47\u001B[0m \u001B[38;5;28;01mwhile\u001B[39;00m attempt \u001B[38;5;241m<\u001B[39m max_retries:\n\u001B[0;32m     48\u001B[0m     \u001B[38;5;28;01mtry\u001B[39;00m:\n\u001B[1;32m---> 49\u001B[0m         translated \u001B[38;5;241m=\u001B[39m GoogleTranslator(source\u001B[38;5;241m=\u001B[39msrc_lang, target\u001B[38;5;241m=\u001B[39mmid_lang)\u001B[38;5;241m.\u001B[39mtranslate(text)\n\u001B[0;32m     50\u001B[0m         back_translated \u001B[38;5;241m=\u001B[39m GoogleTranslator(source\u001B[38;5;241m=\u001B[39mmid_lang, target\u001B[38;5;241m=\u001B[39msrc_lang)\u001B[38;5;241m.\u001B[39mtranslate(translated)\n\u001B[0;32m     51\u001B[0m         \u001B[38;5;28;01mreturn\u001B[39;00m back_translated\n",
      "File \u001B[1;32mD:\\conda\\Lib\\site-packages\\deep_translator\\google.py:67\u001B[0m, in \u001B[0;36mGoogleTranslator.translate\u001B[1;34m(self, text, **kwargs)\u001B[0m\n\u001B[0;32m     64\u001B[0m \u001B[38;5;28;01mif\u001B[39;00m \u001B[38;5;28mself\u001B[39m\u001B[38;5;241m.\u001B[39mpayload_key:\n\u001B[0;32m     65\u001B[0m     \u001B[38;5;28mself\u001B[39m\u001B[38;5;241m.\u001B[39m_url_params[\u001B[38;5;28mself\u001B[39m\u001B[38;5;241m.\u001B[39mpayload_key] \u001B[38;5;241m=\u001B[39m text\n\u001B[1;32m---> 67\u001B[0m response \u001B[38;5;241m=\u001B[39m requests\u001B[38;5;241m.\u001B[39mget(\n\u001B[0;32m     68\u001B[0m     \u001B[38;5;28mself\u001B[39m\u001B[38;5;241m.\u001B[39m_base_url, params\u001B[38;5;241m=\u001B[39m\u001B[38;5;28mself\u001B[39m\u001B[38;5;241m.\u001B[39m_url_params, proxies\u001B[38;5;241m=\u001B[39m\u001B[38;5;28mself\u001B[39m\u001B[38;5;241m.\u001B[39mproxies\n\u001B[0;32m     69\u001B[0m )\n\u001B[0;32m     70\u001B[0m \u001B[38;5;28;01mif\u001B[39;00m response\u001B[38;5;241m.\u001B[39mstatus_code \u001B[38;5;241m==\u001B[39m \u001B[38;5;241m429\u001B[39m:\n\u001B[0;32m     71\u001B[0m     \u001B[38;5;28;01mraise\u001B[39;00m TooManyRequests()\n",
      "File \u001B[1;32mD:\\conda\\Lib\\site-packages\\requests\\api.py:73\u001B[0m, in \u001B[0;36mget\u001B[1;34m(url, params, **kwargs)\u001B[0m\n\u001B[0;32m     62\u001B[0m \u001B[38;5;28;01mdef\u001B[39;00m \u001B[38;5;21mget\u001B[39m(url, params\u001B[38;5;241m=\u001B[39m\u001B[38;5;28;01mNone\u001B[39;00m, \u001B[38;5;241m*\u001B[39m\u001B[38;5;241m*\u001B[39mkwargs):\n\u001B[0;32m     63\u001B[0m \u001B[38;5;250m    \u001B[39m\u001B[38;5;124mr\u001B[39m\u001B[38;5;124;03m\"\"\"Sends a GET request.\u001B[39;00m\n\u001B[0;32m     64\u001B[0m \n\u001B[0;32m     65\u001B[0m \u001B[38;5;124;03m    :param url: URL for the new :class:`Request` object.\u001B[39;00m\n\u001B[1;32m   (...)\u001B[0m\n\u001B[0;32m     70\u001B[0m \u001B[38;5;124;03m    :rtype: requests.Response\u001B[39;00m\n\u001B[0;32m     71\u001B[0m \u001B[38;5;124;03m    \"\"\"\u001B[39;00m\n\u001B[1;32m---> 73\u001B[0m     \u001B[38;5;28;01mreturn\u001B[39;00m request(\u001B[38;5;124m\"\u001B[39m\u001B[38;5;124mget\u001B[39m\u001B[38;5;124m\"\u001B[39m, url, params\u001B[38;5;241m=\u001B[39mparams, \u001B[38;5;241m*\u001B[39m\u001B[38;5;241m*\u001B[39mkwargs)\n",
      "File \u001B[1;32mD:\\conda\\Lib\\site-packages\\requests\\api.py:59\u001B[0m, in \u001B[0;36mrequest\u001B[1;34m(method, url, **kwargs)\u001B[0m\n\u001B[0;32m     55\u001B[0m \u001B[38;5;66;03m# By using the 'with' statement we are sure the session is closed, thus we\u001B[39;00m\n\u001B[0;32m     56\u001B[0m \u001B[38;5;66;03m# avoid leaving sockets open which can trigger a ResourceWarning in some\u001B[39;00m\n\u001B[0;32m     57\u001B[0m \u001B[38;5;66;03m# cases, and look like a memory leak in others.\u001B[39;00m\n\u001B[0;32m     58\u001B[0m \u001B[38;5;28;01mwith\u001B[39;00m sessions\u001B[38;5;241m.\u001B[39mSession() \u001B[38;5;28;01mas\u001B[39;00m session:\n\u001B[1;32m---> 59\u001B[0m     \u001B[38;5;28;01mreturn\u001B[39;00m session\u001B[38;5;241m.\u001B[39mrequest(method\u001B[38;5;241m=\u001B[39mmethod, url\u001B[38;5;241m=\u001B[39murl, \u001B[38;5;241m*\u001B[39m\u001B[38;5;241m*\u001B[39mkwargs)\n",
      "File \u001B[1;32mD:\\conda\\Lib\\site-packages\\requests\\sessions.py:589\u001B[0m, in \u001B[0;36mSession.request\u001B[1;34m(self, method, url, params, data, headers, cookies, files, auth, timeout, allow_redirects, proxies, hooks, stream, verify, cert, json)\u001B[0m\n\u001B[0;32m    584\u001B[0m send_kwargs \u001B[38;5;241m=\u001B[39m {\n\u001B[0;32m    585\u001B[0m     \u001B[38;5;124m\"\u001B[39m\u001B[38;5;124mtimeout\u001B[39m\u001B[38;5;124m\"\u001B[39m: timeout,\n\u001B[0;32m    586\u001B[0m     \u001B[38;5;124m\"\u001B[39m\u001B[38;5;124mallow_redirects\u001B[39m\u001B[38;5;124m\"\u001B[39m: allow_redirects,\n\u001B[0;32m    587\u001B[0m }\n\u001B[0;32m    588\u001B[0m send_kwargs\u001B[38;5;241m.\u001B[39mupdate(settings)\n\u001B[1;32m--> 589\u001B[0m resp \u001B[38;5;241m=\u001B[39m \u001B[38;5;28mself\u001B[39m\u001B[38;5;241m.\u001B[39msend(prep, \u001B[38;5;241m*\u001B[39m\u001B[38;5;241m*\u001B[39msend_kwargs)\n\u001B[0;32m    591\u001B[0m \u001B[38;5;28;01mreturn\u001B[39;00m resp\n",
      "File \u001B[1;32mD:\\conda\\Lib\\site-packages\\requests\\sessions.py:703\u001B[0m, in \u001B[0;36mSession.send\u001B[1;34m(self, request, **kwargs)\u001B[0m\n\u001B[0;32m    700\u001B[0m start \u001B[38;5;241m=\u001B[39m preferred_clock()\n\u001B[0;32m    702\u001B[0m \u001B[38;5;66;03m# Send the request\u001B[39;00m\n\u001B[1;32m--> 703\u001B[0m r \u001B[38;5;241m=\u001B[39m adapter\u001B[38;5;241m.\u001B[39msend(request, \u001B[38;5;241m*\u001B[39m\u001B[38;5;241m*\u001B[39mkwargs)\n\u001B[0;32m    705\u001B[0m \u001B[38;5;66;03m# Total elapsed time of the request (approximately)\u001B[39;00m\n\u001B[0;32m    706\u001B[0m elapsed \u001B[38;5;241m=\u001B[39m preferred_clock() \u001B[38;5;241m-\u001B[39m start\n",
      "File \u001B[1;32mD:\\conda\\Lib\\site-packages\\requests\\adapters.py:486\u001B[0m, in \u001B[0;36mHTTPAdapter.send\u001B[1;34m(self, request, stream, timeout, verify, cert, proxies)\u001B[0m\n\u001B[0;32m    483\u001B[0m     timeout \u001B[38;5;241m=\u001B[39m TimeoutSauce(connect\u001B[38;5;241m=\u001B[39mtimeout, read\u001B[38;5;241m=\u001B[39mtimeout)\n\u001B[0;32m    485\u001B[0m \u001B[38;5;28;01mtry\u001B[39;00m:\n\u001B[1;32m--> 486\u001B[0m     resp \u001B[38;5;241m=\u001B[39m conn\u001B[38;5;241m.\u001B[39murlopen(\n\u001B[0;32m    487\u001B[0m         method\u001B[38;5;241m=\u001B[39mrequest\u001B[38;5;241m.\u001B[39mmethod,\n\u001B[0;32m    488\u001B[0m         url\u001B[38;5;241m=\u001B[39murl,\n\u001B[0;32m    489\u001B[0m         body\u001B[38;5;241m=\u001B[39mrequest\u001B[38;5;241m.\u001B[39mbody,\n\u001B[0;32m    490\u001B[0m         headers\u001B[38;5;241m=\u001B[39mrequest\u001B[38;5;241m.\u001B[39mheaders,\n\u001B[0;32m    491\u001B[0m         redirect\u001B[38;5;241m=\u001B[39m\u001B[38;5;28;01mFalse\u001B[39;00m,\n\u001B[0;32m    492\u001B[0m         assert_same_host\u001B[38;5;241m=\u001B[39m\u001B[38;5;28;01mFalse\u001B[39;00m,\n\u001B[0;32m    493\u001B[0m         preload_content\u001B[38;5;241m=\u001B[39m\u001B[38;5;28;01mFalse\u001B[39;00m,\n\u001B[0;32m    494\u001B[0m         decode_content\u001B[38;5;241m=\u001B[39m\u001B[38;5;28;01mFalse\u001B[39;00m,\n\u001B[0;32m    495\u001B[0m         retries\u001B[38;5;241m=\u001B[39m\u001B[38;5;28mself\u001B[39m\u001B[38;5;241m.\u001B[39mmax_retries,\n\u001B[0;32m    496\u001B[0m         timeout\u001B[38;5;241m=\u001B[39mtimeout,\n\u001B[0;32m    497\u001B[0m         chunked\u001B[38;5;241m=\u001B[39mchunked,\n\u001B[0;32m    498\u001B[0m     )\n\u001B[0;32m    500\u001B[0m \u001B[38;5;28;01mexcept\u001B[39;00m (ProtocolError, \u001B[38;5;167;01mOSError\u001B[39;00m) \u001B[38;5;28;01mas\u001B[39;00m err:\n\u001B[0;32m    501\u001B[0m     \u001B[38;5;28;01mraise\u001B[39;00m \u001B[38;5;167;01mConnectionError\u001B[39;00m(err, request\u001B[38;5;241m=\u001B[39mrequest)\n",
      "File \u001B[1;32mD:\\conda\\Lib\\site-packages\\urllib3\\connectionpool.py:790\u001B[0m, in \u001B[0;36mHTTPConnectionPool.urlopen\u001B[1;34m(self, method, url, body, headers, retries, redirect, assert_same_host, timeout, pool_timeout, release_conn, chunked, body_pos, preload_content, decode_content, **response_kw)\u001B[0m\n\u001B[0;32m    787\u001B[0m response_conn \u001B[38;5;241m=\u001B[39m conn \u001B[38;5;28;01mif\u001B[39;00m \u001B[38;5;129;01mnot\u001B[39;00m release_conn \u001B[38;5;28;01melse\u001B[39;00m \u001B[38;5;28;01mNone\u001B[39;00m\n\u001B[0;32m    789\u001B[0m \u001B[38;5;66;03m# Make the request on the HTTPConnection object\u001B[39;00m\n\u001B[1;32m--> 790\u001B[0m response \u001B[38;5;241m=\u001B[39m \u001B[38;5;28mself\u001B[39m\u001B[38;5;241m.\u001B[39m_make_request(\n\u001B[0;32m    791\u001B[0m     conn,\n\u001B[0;32m    792\u001B[0m     method,\n\u001B[0;32m    793\u001B[0m     url,\n\u001B[0;32m    794\u001B[0m     timeout\u001B[38;5;241m=\u001B[39mtimeout_obj,\n\u001B[0;32m    795\u001B[0m     body\u001B[38;5;241m=\u001B[39mbody,\n\u001B[0;32m    796\u001B[0m     headers\u001B[38;5;241m=\u001B[39mheaders,\n\u001B[0;32m    797\u001B[0m     chunked\u001B[38;5;241m=\u001B[39mchunked,\n\u001B[0;32m    798\u001B[0m     retries\u001B[38;5;241m=\u001B[39mretries,\n\u001B[0;32m    799\u001B[0m     response_conn\u001B[38;5;241m=\u001B[39mresponse_conn,\n\u001B[0;32m    800\u001B[0m     preload_content\u001B[38;5;241m=\u001B[39mpreload_content,\n\u001B[0;32m    801\u001B[0m     decode_content\u001B[38;5;241m=\u001B[39mdecode_content,\n\u001B[0;32m    802\u001B[0m     \u001B[38;5;241m*\u001B[39m\u001B[38;5;241m*\u001B[39mresponse_kw,\n\u001B[0;32m    803\u001B[0m )\n\u001B[0;32m    805\u001B[0m \u001B[38;5;66;03m# Everything went great!\u001B[39;00m\n\u001B[0;32m    806\u001B[0m clean_exit \u001B[38;5;241m=\u001B[39m \u001B[38;5;28;01mTrue\u001B[39;00m\n",
      "File \u001B[1;32mD:\\conda\\Lib\\site-packages\\urllib3\\connectionpool.py:467\u001B[0m, in \u001B[0;36mHTTPConnectionPool._make_request\u001B[1;34m(self, conn, method, url, body, headers, retries, timeout, chunked, response_conn, preload_content, decode_content, enforce_content_length)\u001B[0m\n\u001B[0;32m    464\u001B[0m \u001B[38;5;28;01mtry\u001B[39;00m:\n\u001B[0;32m    465\u001B[0m     \u001B[38;5;66;03m# Trigger any extra validation we need to do.\u001B[39;00m\n\u001B[0;32m    466\u001B[0m     \u001B[38;5;28;01mtry\u001B[39;00m:\n\u001B[1;32m--> 467\u001B[0m         \u001B[38;5;28mself\u001B[39m\u001B[38;5;241m.\u001B[39m_validate_conn(conn)\n\u001B[0;32m    468\u001B[0m     \u001B[38;5;28;01mexcept\u001B[39;00m (SocketTimeout, BaseSSLError) \u001B[38;5;28;01mas\u001B[39;00m e:\n\u001B[0;32m    469\u001B[0m         \u001B[38;5;28mself\u001B[39m\u001B[38;5;241m.\u001B[39m_raise_timeout(err\u001B[38;5;241m=\u001B[39me, url\u001B[38;5;241m=\u001B[39murl, timeout_value\u001B[38;5;241m=\u001B[39mconn\u001B[38;5;241m.\u001B[39mtimeout)\n",
      "File \u001B[1;32mD:\\conda\\Lib\\site-packages\\urllib3\\connectionpool.py:1096\u001B[0m, in \u001B[0;36mHTTPSConnectionPool._validate_conn\u001B[1;34m(self, conn)\u001B[0m\n\u001B[0;32m   1094\u001B[0m \u001B[38;5;66;03m# Force connect early to allow us to validate the connection.\u001B[39;00m\n\u001B[0;32m   1095\u001B[0m \u001B[38;5;28;01mif\u001B[39;00m conn\u001B[38;5;241m.\u001B[39mis_closed:\n\u001B[1;32m-> 1096\u001B[0m     conn\u001B[38;5;241m.\u001B[39mconnect()\n\u001B[0;32m   1098\u001B[0m \u001B[38;5;28;01mif\u001B[39;00m \u001B[38;5;129;01mnot\u001B[39;00m conn\u001B[38;5;241m.\u001B[39mis_verified:\n\u001B[0;32m   1099\u001B[0m     warnings\u001B[38;5;241m.\u001B[39mwarn(\n\u001B[0;32m   1100\u001B[0m         (\n\u001B[0;32m   1101\u001B[0m             \u001B[38;5;124mf\u001B[39m\u001B[38;5;124m\"\u001B[39m\u001B[38;5;124mUnverified HTTPS request is being made to host \u001B[39m\u001B[38;5;124m'\u001B[39m\u001B[38;5;132;01m{\u001B[39;00mconn\u001B[38;5;241m.\u001B[39mhost\u001B[38;5;132;01m}\u001B[39;00m\u001B[38;5;124m'\u001B[39m\u001B[38;5;124m. \u001B[39m\u001B[38;5;124m\"\u001B[39m\n\u001B[1;32m   (...)\u001B[0m\n\u001B[0;32m   1106\u001B[0m         InsecureRequestWarning,\n\u001B[0;32m   1107\u001B[0m     )\n",
      "File \u001B[1;32mD:\\conda\\Lib\\site-packages\\urllib3\\connection.py:642\u001B[0m, in \u001B[0;36mHTTPSConnection.connect\u001B[1;34m(self)\u001B[0m\n\u001B[0;32m    633\u001B[0m \u001B[38;5;28;01mif\u001B[39;00m is_time_off:\n\u001B[0;32m    634\u001B[0m     warnings\u001B[38;5;241m.\u001B[39mwarn(\n\u001B[0;32m    635\u001B[0m         (\n\u001B[0;32m    636\u001B[0m             \u001B[38;5;124mf\u001B[39m\u001B[38;5;124m\"\u001B[39m\u001B[38;5;124mSystem time is way off (before \u001B[39m\u001B[38;5;132;01m{\u001B[39;00mRECENT_DATE\u001B[38;5;132;01m}\u001B[39;00m\u001B[38;5;124m). This will probably \u001B[39m\u001B[38;5;124m\"\u001B[39m\n\u001B[1;32m   (...)\u001B[0m\n\u001B[0;32m    639\u001B[0m         SystemTimeWarning,\n\u001B[0;32m    640\u001B[0m     )\n\u001B[1;32m--> 642\u001B[0m sock_and_verified \u001B[38;5;241m=\u001B[39m _ssl_wrap_socket_and_match_hostname(\n\u001B[0;32m    643\u001B[0m     sock\u001B[38;5;241m=\u001B[39msock,\n\u001B[0;32m    644\u001B[0m     cert_reqs\u001B[38;5;241m=\u001B[39m\u001B[38;5;28mself\u001B[39m\u001B[38;5;241m.\u001B[39mcert_reqs,\n\u001B[0;32m    645\u001B[0m     ssl_version\u001B[38;5;241m=\u001B[39m\u001B[38;5;28mself\u001B[39m\u001B[38;5;241m.\u001B[39mssl_version,\n\u001B[0;32m    646\u001B[0m     ssl_minimum_version\u001B[38;5;241m=\u001B[39m\u001B[38;5;28mself\u001B[39m\u001B[38;5;241m.\u001B[39mssl_minimum_version,\n\u001B[0;32m    647\u001B[0m     ssl_maximum_version\u001B[38;5;241m=\u001B[39m\u001B[38;5;28mself\u001B[39m\u001B[38;5;241m.\u001B[39mssl_maximum_version,\n\u001B[0;32m    648\u001B[0m     ca_certs\u001B[38;5;241m=\u001B[39m\u001B[38;5;28mself\u001B[39m\u001B[38;5;241m.\u001B[39mca_certs,\n\u001B[0;32m    649\u001B[0m     ca_cert_dir\u001B[38;5;241m=\u001B[39m\u001B[38;5;28mself\u001B[39m\u001B[38;5;241m.\u001B[39mca_cert_dir,\n\u001B[0;32m    650\u001B[0m     ca_cert_data\u001B[38;5;241m=\u001B[39m\u001B[38;5;28mself\u001B[39m\u001B[38;5;241m.\u001B[39mca_cert_data,\n\u001B[0;32m    651\u001B[0m     cert_file\u001B[38;5;241m=\u001B[39m\u001B[38;5;28mself\u001B[39m\u001B[38;5;241m.\u001B[39mcert_file,\n\u001B[0;32m    652\u001B[0m     key_file\u001B[38;5;241m=\u001B[39m\u001B[38;5;28mself\u001B[39m\u001B[38;5;241m.\u001B[39mkey_file,\n\u001B[0;32m    653\u001B[0m     key_password\u001B[38;5;241m=\u001B[39m\u001B[38;5;28mself\u001B[39m\u001B[38;5;241m.\u001B[39mkey_password,\n\u001B[0;32m    654\u001B[0m     server_hostname\u001B[38;5;241m=\u001B[39mserver_hostname,\n\u001B[0;32m    655\u001B[0m     ssl_context\u001B[38;5;241m=\u001B[39m\u001B[38;5;28mself\u001B[39m\u001B[38;5;241m.\u001B[39mssl_context,\n\u001B[0;32m    656\u001B[0m     tls_in_tls\u001B[38;5;241m=\u001B[39mtls_in_tls,\n\u001B[0;32m    657\u001B[0m     assert_hostname\u001B[38;5;241m=\u001B[39m\u001B[38;5;28mself\u001B[39m\u001B[38;5;241m.\u001B[39massert_hostname,\n\u001B[0;32m    658\u001B[0m     assert_fingerprint\u001B[38;5;241m=\u001B[39m\u001B[38;5;28mself\u001B[39m\u001B[38;5;241m.\u001B[39massert_fingerprint,\n\u001B[0;32m    659\u001B[0m )\n\u001B[0;32m    660\u001B[0m \u001B[38;5;28mself\u001B[39m\u001B[38;5;241m.\u001B[39msock \u001B[38;5;241m=\u001B[39m sock_and_verified\u001B[38;5;241m.\u001B[39msocket\n\u001B[0;32m    661\u001B[0m \u001B[38;5;28mself\u001B[39m\u001B[38;5;241m.\u001B[39mis_verified \u001B[38;5;241m=\u001B[39m sock_and_verified\u001B[38;5;241m.\u001B[39mis_verified\n",
      "File \u001B[1;32mD:\\conda\\Lib\\site-packages\\urllib3\\connection.py:782\u001B[0m, in \u001B[0;36m_ssl_wrap_socket_and_match_hostname\u001B[1;34m(sock, cert_reqs, ssl_version, ssl_minimum_version, ssl_maximum_version, cert_file, key_file, key_password, ca_certs, ca_cert_dir, ca_cert_data, assert_hostname, assert_fingerprint, server_hostname, ssl_context, tls_in_tls)\u001B[0m\n\u001B[0;32m    779\u001B[0m     \u001B[38;5;28;01mif\u001B[39;00m is_ipaddress(normalized):\n\u001B[0;32m    780\u001B[0m         server_hostname \u001B[38;5;241m=\u001B[39m normalized\n\u001B[1;32m--> 782\u001B[0m ssl_sock \u001B[38;5;241m=\u001B[39m ssl_wrap_socket(\n\u001B[0;32m    783\u001B[0m     sock\u001B[38;5;241m=\u001B[39msock,\n\u001B[0;32m    784\u001B[0m     keyfile\u001B[38;5;241m=\u001B[39mkey_file,\n\u001B[0;32m    785\u001B[0m     certfile\u001B[38;5;241m=\u001B[39mcert_file,\n\u001B[0;32m    786\u001B[0m     key_password\u001B[38;5;241m=\u001B[39mkey_password,\n\u001B[0;32m    787\u001B[0m     ca_certs\u001B[38;5;241m=\u001B[39mca_certs,\n\u001B[0;32m    788\u001B[0m     ca_cert_dir\u001B[38;5;241m=\u001B[39mca_cert_dir,\n\u001B[0;32m    789\u001B[0m     ca_cert_data\u001B[38;5;241m=\u001B[39mca_cert_data,\n\u001B[0;32m    790\u001B[0m     server_hostname\u001B[38;5;241m=\u001B[39mserver_hostname,\n\u001B[0;32m    791\u001B[0m     ssl_context\u001B[38;5;241m=\u001B[39mcontext,\n\u001B[0;32m    792\u001B[0m     tls_in_tls\u001B[38;5;241m=\u001B[39mtls_in_tls,\n\u001B[0;32m    793\u001B[0m )\n\u001B[0;32m    795\u001B[0m \u001B[38;5;28;01mtry\u001B[39;00m:\n\u001B[0;32m    796\u001B[0m     \u001B[38;5;28;01mif\u001B[39;00m assert_fingerprint:\n",
      "File \u001B[1;32mD:\\conda\\Lib\\site-packages\\urllib3\\util\\ssl_.py:470\u001B[0m, in \u001B[0;36mssl_wrap_socket\u001B[1;34m(sock, keyfile, certfile, cert_reqs, ca_certs, server_hostname, ssl_version, ciphers, ssl_context, ca_cert_dir, key_password, ca_cert_data, tls_in_tls)\u001B[0m\n\u001B[0;32m    467\u001B[0m \u001B[38;5;28;01mexcept\u001B[39;00m \u001B[38;5;167;01mNotImplementedError\u001B[39;00m:  \u001B[38;5;66;03m# Defensive: in CI, we always have set_alpn_protocols\u001B[39;00m\n\u001B[0;32m    468\u001B[0m     \u001B[38;5;28;01mpass\u001B[39;00m\n\u001B[1;32m--> 470\u001B[0m ssl_sock \u001B[38;5;241m=\u001B[39m _ssl_wrap_socket_impl(sock, context, tls_in_tls, server_hostname)\n\u001B[0;32m    471\u001B[0m \u001B[38;5;28;01mreturn\u001B[39;00m ssl_sock\n",
      "File \u001B[1;32mD:\\conda\\Lib\\site-packages\\urllib3\\util\\ssl_.py:514\u001B[0m, in \u001B[0;36m_ssl_wrap_socket_impl\u001B[1;34m(sock, ssl_context, tls_in_tls, server_hostname)\u001B[0m\n\u001B[0;32m    511\u001B[0m     SSLTransport\u001B[38;5;241m.\u001B[39m_validate_ssl_context_for_tls_in_tls(ssl_context)\n\u001B[0;32m    512\u001B[0m     \u001B[38;5;28;01mreturn\u001B[39;00m SSLTransport(sock, ssl_context, server_hostname)\n\u001B[1;32m--> 514\u001B[0m \u001B[38;5;28;01mreturn\u001B[39;00m ssl_context\u001B[38;5;241m.\u001B[39mwrap_socket(sock, server_hostname\u001B[38;5;241m=\u001B[39mserver_hostname)\n",
      "File \u001B[1;32mD:\\conda\\Lib\\ssl.py:455\u001B[0m, in \u001B[0;36mSSLContext.wrap_socket\u001B[1;34m(self, sock, server_side, do_handshake_on_connect, suppress_ragged_eofs, server_hostname, session)\u001B[0m\n\u001B[0;32m    449\u001B[0m \u001B[38;5;28;01mdef\u001B[39;00m \u001B[38;5;21mwrap_socket\u001B[39m(\u001B[38;5;28mself\u001B[39m, sock, server_side\u001B[38;5;241m=\u001B[39m\u001B[38;5;28;01mFalse\u001B[39;00m,\n\u001B[0;32m    450\u001B[0m                 do_handshake_on_connect\u001B[38;5;241m=\u001B[39m\u001B[38;5;28;01mTrue\u001B[39;00m,\n\u001B[0;32m    451\u001B[0m                 suppress_ragged_eofs\u001B[38;5;241m=\u001B[39m\u001B[38;5;28;01mTrue\u001B[39;00m,\n\u001B[0;32m    452\u001B[0m                 server_hostname\u001B[38;5;241m=\u001B[39m\u001B[38;5;28;01mNone\u001B[39;00m, session\u001B[38;5;241m=\u001B[39m\u001B[38;5;28;01mNone\u001B[39;00m):\n\u001B[0;32m    453\u001B[0m     \u001B[38;5;66;03m# SSLSocket class handles server_hostname encoding before it calls\u001B[39;00m\n\u001B[0;32m    454\u001B[0m     \u001B[38;5;66;03m# ctx._wrap_socket()\u001B[39;00m\n\u001B[1;32m--> 455\u001B[0m     \u001B[38;5;28;01mreturn\u001B[39;00m \u001B[38;5;28mself\u001B[39m\u001B[38;5;241m.\u001B[39msslsocket_class\u001B[38;5;241m.\u001B[39m_create(\n\u001B[0;32m    456\u001B[0m         sock\u001B[38;5;241m=\u001B[39msock,\n\u001B[0;32m    457\u001B[0m         server_side\u001B[38;5;241m=\u001B[39mserver_side,\n\u001B[0;32m    458\u001B[0m         do_handshake_on_connect\u001B[38;5;241m=\u001B[39mdo_handshake_on_connect,\n\u001B[0;32m    459\u001B[0m         suppress_ragged_eofs\u001B[38;5;241m=\u001B[39msuppress_ragged_eofs,\n\u001B[0;32m    460\u001B[0m         server_hostname\u001B[38;5;241m=\u001B[39mserver_hostname,\n\u001B[0;32m    461\u001B[0m         context\u001B[38;5;241m=\u001B[39m\u001B[38;5;28mself\u001B[39m,\n\u001B[0;32m    462\u001B[0m         session\u001B[38;5;241m=\u001B[39msession\n\u001B[0;32m    463\u001B[0m     )\n",
      "File \u001B[1;32mD:\\conda\\Lib\\ssl.py:1046\u001B[0m, in \u001B[0;36mSSLSocket._create\u001B[1;34m(cls, sock, server_side, do_handshake_on_connect, suppress_ragged_eofs, server_hostname, context, session)\u001B[0m\n\u001B[0;32m   1043\u001B[0m         \u001B[38;5;28;01mif\u001B[39;00m timeout \u001B[38;5;241m==\u001B[39m \u001B[38;5;241m0.0\u001B[39m:\n\u001B[0;32m   1044\u001B[0m             \u001B[38;5;66;03m# non-blocking\u001B[39;00m\n\u001B[0;32m   1045\u001B[0m             \u001B[38;5;28;01mraise\u001B[39;00m \u001B[38;5;167;01mValueError\u001B[39;00m(\u001B[38;5;124m\"\u001B[39m\u001B[38;5;124mdo_handshake_on_connect should not be specified for non-blocking sockets\u001B[39m\u001B[38;5;124m\"\u001B[39m)\n\u001B[1;32m-> 1046\u001B[0m         \u001B[38;5;28mself\u001B[39m\u001B[38;5;241m.\u001B[39mdo_handshake()\n\u001B[0;32m   1047\u001B[0m \u001B[38;5;28;01mexcept\u001B[39;00m (\u001B[38;5;167;01mOSError\u001B[39;00m, \u001B[38;5;167;01mValueError\u001B[39;00m):\n\u001B[0;32m   1048\u001B[0m     \u001B[38;5;28mself\u001B[39m\u001B[38;5;241m.\u001B[39mclose()\n",
      "File \u001B[1;32mD:\\conda\\Lib\\ssl.py:1321\u001B[0m, in \u001B[0;36mSSLSocket.do_handshake\u001B[1;34m(self, block)\u001B[0m\n\u001B[0;32m   1319\u001B[0m     \u001B[38;5;28;01mif\u001B[39;00m timeout \u001B[38;5;241m==\u001B[39m \u001B[38;5;241m0.0\u001B[39m \u001B[38;5;129;01mand\u001B[39;00m block:\n\u001B[0;32m   1320\u001B[0m         \u001B[38;5;28mself\u001B[39m\u001B[38;5;241m.\u001B[39msettimeout(\u001B[38;5;28;01mNone\u001B[39;00m)\n\u001B[1;32m-> 1321\u001B[0m     \u001B[38;5;28mself\u001B[39m\u001B[38;5;241m.\u001B[39m_sslobj\u001B[38;5;241m.\u001B[39mdo_handshake()\n\u001B[0;32m   1322\u001B[0m \u001B[38;5;28;01mfinally\u001B[39;00m:\n\u001B[0;32m   1323\u001B[0m     \u001B[38;5;28mself\u001B[39m\u001B[38;5;241m.\u001B[39msettimeout(timeout)\n",
      "\u001B[1;31mKeyboardInterrupt\u001B[0m: "
     ]
    }
   ],
   "source": [
    "augmented_data = {'Utterances': [], 'emotion_1': [], 'emotion_2': [], 'emotion_3': [],\n",
    "                  'emotion_4': [], 'emotion_5': [], 'emotion_6': [], 'emotion_7': [], 'emotion_8': []}\n",
    "\n",
    "df_train_no_emotion3 = df_train[df_train['emotion_3'] == 0]\n",
    "\n",
    "for idx, row in tqdm(df_train_no_emotion3.iterrows(), total=len(df_train_no_emotion3), desc=\"Augmenting data\"):\n",
    "    emotions = row[['emotion_1', 'emotion_2', 'emotion_3', 'emotion_4',\n",
    "                    'emotion_5', 'emotion_6', 'emotion_7', 'emotion_8']].values\n",
    "    emotions = emotions.astype(int) \n",
    "    present_emotions = np.where(emotions == 1)[0]\n",
    "    num_to_augment = max_count - len(present_emotions)\n",
    "    num_to_augment = min(num_to_augment, 500)\n",
    "\n",
    "    if num_to_augment > 0:\n",
    "        new_texts = augment_text(row['Utterances'], num_augments=num_to_augment) \n",
    "        for new_text in new_texts:\n",
    "            augmented_data['Utterances'].append(new_text)\n",
    "            for i in range(8):\n",
    "                augmented_data[f'emotion_{i+1}'].append(emotions[i]) \n",
    "\n",
    "augmented_df = pd.DataFrame(augmented_data)\n",
    "\n",
    "df_train_augmented = pd.concat([df_train, augmented_df], ignore_index=True)\n",
    "\n",
    "augmented_class_counts = df_train_augmented[['emotion_1', 'emotion_2', 'emotion_3', 'emotion_4',\n",
    "                                             'emotion_5', 'emotion_6', 'emotion_7', 'emotion_8']].sum(axis=0)\n",
    "\n",
    "print(augmented_class_counts)"
   ],
   "metadata": {
    "collapsed": false,
    "ExecuteTime": {
     "end_time": "2024-11-26T20:11:54.084247Z",
     "start_time": "2024-11-26T20:08:49.711686Z"
    }
   },
   "id": "6ac3a232138acb23",
   "execution_count": 17
  },
  {
   "cell_type": "code",
   "outputs": [
    {
     "name": "stderr",
     "output_type": "stream",
     "text": [
      "Augmenting data:   0%|          | 0/14011 [04:36<?, ?it/s]\n"
     ]
    },
    {
     "ename": "KeyboardInterrupt",
     "evalue": "",
     "output_type": "error",
     "traceback": [
      "\u001B[1;31m---------------------------------------------------------------------------\u001B[0m",
      "\u001B[1;31mKeyboardInterrupt\u001B[0m                         Traceback (most recent call last)",
      "Cell \u001B[1;32mIn[16], line 14\u001B[0m\n\u001B[0;32m     11\u001B[0m num_to_augment \u001B[38;5;241m=\u001B[39m max_count \u001B[38;5;241m-\u001B[39m \u001B[38;5;28mlen\u001B[39m(present_emotions)\n\u001B[0;32m     13\u001B[0m \u001B[38;5;28;01mif\u001B[39;00m num_to_augment \u001B[38;5;241m>\u001B[39m \u001B[38;5;241m0\u001B[39m:\n\u001B[1;32m---> 14\u001B[0m     new_texts \u001B[38;5;241m=\u001B[39m augment_text(row[\u001B[38;5;124m'\u001B[39m\u001B[38;5;124mUtterances\u001B[39m\u001B[38;5;124m'\u001B[39m], num_augments\u001B[38;5;241m=\u001B[39mnum_to_augment)\n\u001B[0;32m     15\u001B[0m     \u001B[38;5;28;01mfor\u001B[39;00m new_text \u001B[38;5;129;01min\u001B[39;00m new_texts:\n\u001B[0;32m     16\u001B[0m         augmented_data[\u001B[38;5;124m'\u001B[39m\u001B[38;5;124mUtterances\u001B[39m\u001B[38;5;124m'\u001B[39m]\u001B[38;5;241m.\u001B[39mappend(new_text)\n",
      "Cell \u001B[1;32mIn[11], line 12\u001B[0m, in \u001B[0;36maugment_text\u001B[1;34m(text, num_augments)\u001B[0m\n\u001B[0;32m     10\u001B[0m         augmented_texts\u001B[38;5;241m.\u001B[39mappend(random_deletion(text))\n\u001B[0;32m     11\u001B[0m     \u001B[38;5;28;01melif\u001B[39;00m augmentation_choice \u001B[38;5;241m==\u001B[39m \u001B[38;5;124m'\u001B[39m\u001B[38;5;124mback_translation\u001B[39m\u001B[38;5;124m'\u001B[39m:\n\u001B[1;32m---> 12\u001B[0m         augmented_texts\u001B[38;5;241m.\u001B[39mappend(back_translation(text))\n\u001B[0;32m     13\u001B[0m \u001B[38;5;28;01mreturn\u001B[39;00m augmented_texts\n",
      "Cell \u001B[1;32mIn[10], line 49\u001B[0m, in \u001B[0;36mback_translation\u001B[1;34m(text, src_lang, mid_lang, max_retries)\u001B[0m\n\u001B[0;32m     47\u001B[0m \u001B[38;5;28;01mwhile\u001B[39;00m attempt \u001B[38;5;241m<\u001B[39m max_retries:\n\u001B[0;32m     48\u001B[0m     \u001B[38;5;28;01mtry\u001B[39;00m:\n\u001B[1;32m---> 49\u001B[0m         translated \u001B[38;5;241m=\u001B[39m GoogleTranslator(source\u001B[38;5;241m=\u001B[39msrc_lang, target\u001B[38;5;241m=\u001B[39mmid_lang)\u001B[38;5;241m.\u001B[39mtranslate(text)\n\u001B[0;32m     50\u001B[0m         back_translated \u001B[38;5;241m=\u001B[39m GoogleTranslator(source\u001B[38;5;241m=\u001B[39mmid_lang, target\u001B[38;5;241m=\u001B[39msrc_lang)\u001B[38;5;241m.\u001B[39mtranslate(translated)\n\u001B[0;32m     51\u001B[0m         \u001B[38;5;28;01mreturn\u001B[39;00m back_translated\n",
      "File \u001B[1;32mD:\\conda\\Lib\\site-packages\\deep_translator\\google.py:67\u001B[0m, in \u001B[0;36mGoogleTranslator.translate\u001B[1;34m(self, text, **kwargs)\u001B[0m\n\u001B[0;32m     64\u001B[0m \u001B[38;5;28;01mif\u001B[39;00m \u001B[38;5;28mself\u001B[39m\u001B[38;5;241m.\u001B[39mpayload_key:\n\u001B[0;32m     65\u001B[0m     \u001B[38;5;28mself\u001B[39m\u001B[38;5;241m.\u001B[39m_url_params[\u001B[38;5;28mself\u001B[39m\u001B[38;5;241m.\u001B[39mpayload_key] \u001B[38;5;241m=\u001B[39m text\n\u001B[1;32m---> 67\u001B[0m response \u001B[38;5;241m=\u001B[39m requests\u001B[38;5;241m.\u001B[39mget(\n\u001B[0;32m     68\u001B[0m     \u001B[38;5;28mself\u001B[39m\u001B[38;5;241m.\u001B[39m_base_url, params\u001B[38;5;241m=\u001B[39m\u001B[38;5;28mself\u001B[39m\u001B[38;5;241m.\u001B[39m_url_params, proxies\u001B[38;5;241m=\u001B[39m\u001B[38;5;28mself\u001B[39m\u001B[38;5;241m.\u001B[39mproxies\n\u001B[0;32m     69\u001B[0m )\n\u001B[0;32m     70\u001B[0m \u001B[38;5;28;01mif\u001B[39;00m response\u001B[38;5;241m.\u001B[39mstatus_code \u001B[38;5;241m==\u001B[39m \u001B[38;5;241m429\u001B[39m:\n\u001B[0;32m     71\u001B[0m     \u001B[38;5;28;01mraise\u001B[39;00m TooManyRequests()\n",
      "File \u001B[1;32mD:\\conda\\Lib\\site-packages\\requests\\api.py:73\u001B[0m, in \u001B[0;36mget\u001B[1;34m(url, params, **kwargs)\u001B[0m\n\u001B[0;32m     62\u001B[0m \u001B[38;5;28;01mdef\u001B[39;00m \u001B[38;5;21mget\u001B[39m(url, params\u001B[38;5;241m=\u001B[39m\u001B[38;5;28;01mNone\u001B[39;00m, \u001B[38;5;241m*\u001B[39m\u001B[38;5;241m*\u001B[39mkwargs):\n\u001B[0;32m     63\u001B[0m \u001B[38;5;250m    \u001B[39m\u001B[38;5;124mr\u001B[39m\u001B[38;5;124;03m\"\"\"Sends a GET request.\u001B[39;00m\n\u001B[0;32m     64\u001B[0m \n\u001B[0;32m     65\u001B[0m \u001B[38;5;124;03m    :param url: URL for the new :class:`Request` object.\u001B[39;00m\n\u001B[1;32m   (...)\u001B[0m\n\u001B[0;32m     70\u001B[0m \u001B[38;5;124;03m    :rtype: requests.Response\u001B[39;00m\n\u001B[0;32m     71\u001B[0m \u001B[38;5;124;03m    \"\"\"\u001B[39;00m\n\u001B[1;32m---> 73\u001B[0m     \u001B[38;5;28;01mreturn\u001B[39;00m request(\u001B[38;5;124m\"\u001B[39m\u001B[38;5;124mget\u001B[39m\u001B[38;5;124m\"\u001B[39m, url, params\u001B[38;5;241m=\u001B[39mparams, \u001B[38;5;241m*\u001B[39m\u001B[38;5;241m*\u001B[39mkwargs)\n",
      "File \u001B[1;32mD:\\conda\\Lib\\site-packages\\requests\\api.py:59\u001B[0m, in \u001B[0;36mrequest\u001B[1;34m(method, url, **kwargs)\u001B[0m\n\u001B[0;32m     55\u001B[0m \u001B[38;5;66;03m# By using the 'with' statement we are sure the session is closed, thus we\u001B[39;00m\n\u001B[0;32m     56\u001B[0m \u001B[38;5;66;03m# avoid leaving sockets open which can trigger a ResourceWarning in some\u001B[39;00m\n\u001B[0;32m     57\u001B[0m \u001B[38;5;66;03m# cases, and look like a memory leak in others.\u001B[39;00m\n\u001B[0;32m     58\u001B[0m \u001B[38;5;28;01mwith\u001B[39;00m sessions\u001B[38;5;241m.\u001B[39mSession() \u001B[38;5;28;01mas\u001B[39;00m session:\n\u001B[1;32m---> 59\u001B[0m     \u001B[38;5;28;01mreturn\u001B[39;00m session\u001B[38;5;241m.\u001B[39mrequest(method\u001B[38;5;241m=\u001B[39mmethod, url\u001B[38;5;241m=\u001B[39murl, \u001B[38;5;241m*\u001B[39m\u001B[38;5;241m*\u001B[39mkwargs)\n",
      "File \u001B[1;32mD:\\conda\\Lib\\site-packages\\requests\\sessions.py:589\u001B[0m, in \u001B[0;36mSession.request\u001B[1;34m(self, method, url, params, data, headers, cookies, files, auth, timeout, allow_redirects, proxies, hooks, stream, verify, cert, json)\u001B[0m\n\u001B[0;32m    584\u001B[0m send_kwargs \u001B[38;5;241m=\u001B[39m {\n\u001B[0;32m    585\u001B[0m     \u001B[38;5;124m\"\u001B[39m\u001B[38;5;124mtimeout\u001B[39m\u001B[38;5;124m\"\u001B[39m: timeout,\n\u001B[0;32m    586\u001B[0m     \u001B[38;5;124m\"\u001B[39m\u001B[38;5;124mallow_redirects\u001B[39m\u001B[38;5;124m\"\u001B[39m: allow_redirects,\n\u001B[0;32m    587\u001B[0m }\n\u001B[0;32m    588\u001B[0m send_kwargs\u001B[38;5;241m.\u001B[39mupdate(settings)\n\u001B[1;32m--> 589\u001B[0m resp \u001B[38;5;241m=\u001B[39m \u001B[38;5;28mself\u001B[39m\u001B[38;5;241m.\u001B[39msend(prep, \u001B[38;5;241m*\u001B[39m\u001B[38;5;241m*\u001B[39msend_kwargs)\n\u001B[0;32m    591\u001B[0m \u001B[38;5;28;01mreturn\u001B[39;00m resp\n",
      "File \u001B[1;32mD:\\conda\\Lib\\site-packages\\requests\\sessions.py:703\u001B[0m, in \u001B[0;36mSession.send\u001B[1;34m(self, request, **kwargs)\u001B[0m\n\u001B[0;32m    700\u001B[0m start \u001B[38;5;241m=\u001B[39m preferred_clock()\n\u001B[0;32m    702\u001B[0m \u001B[38;5;66;03m# Send the request\u001B[39;00m\n\u001B[1;32m--> 703\u001B[0m r \u001B[38;5;241m=\u001B[39m adapter\u001B[38;5;241m.\u001B[39msend(request, \u001B[38;5;241m*\u001B[39m\u001B[38;5;241m*\u001B[39mkwargs)\n\u001B[0;32m    705\u001B[0m \u001B[38;5;66;03m# Total elapsed time of the request (approximately)\u001B[39;00m\n\u001B[0;32m    706\u001B[0m elapsed \u001B[38;5;241m=\u001B[39m preferred_clock() \u001B[38;5;241m-\u001B[39m start\n",
      "File \u001B[1;32mD:\\conda\\Lib\\site-packages\\requests\\adapters.py:486\u001B[0m, in \u001B[0;36mHTTPAdapter.send\u001B[1;34m(self, request, stream, timeout, verify, cert, proxies)\u001B[0m\n\u001B[0;32m    483\u001B[0m     timeout \u001B[38;5;241m=\u001B[39m TimeoutSauce(connect\u001B[38;5;241m=\u001B[39mtimeout, read\u001B[38;5;241m=\u001B[39mtimeout)\n\u001B[0;32m    485\u001B[0m \u001B[38;5;28;01mtry\u001B[39;00m:\n\u001B[1;32m--> 486\u001B[0m     resp \u001B[38;5;241m=\u001B[39m conn\u001B[38;5;241m.\u001B[39murlopen(\n\u001B[0;32m    487\u001B[0m         method\u001B[38;5;241m=\u001B[39mrequest\u001B[38;5;241m.\u001B[39mmethod,\n\u001B[0;32m    488\u001B[0m         url\u001B[38;5;241m=\u001B[39murl,\n\u001B[0;32m    489\u001B[0m         body\u001B[38;5;241m=\u001B[39mrequest\u001B[38;5;241m.\u001B[39mbody,\n\u001B[0;32m    490\u001B[0m         headers\u001B[38;5;241m=\u001B[39mrequest\u001B[38;5;241m.\u001B[39mheaders,\n\u001B[0;32m    491\u001B[0m         redirect\u001B[38;5;241m=\u001B[39m\u001B[38;5;28;01mFalse\u001B[39;00m,\n\u001B[0;32m    492\u001B[0m         assert_same_host\u001B[38;5;241m=\u001B[39m\u001B[38;5;28;01mFalse\u001B[39;00m,\n\u001B[0;32m    493\u001B[0m         preload_content\u001B[38;5;241m=\u001B[39m\u001B[38;5;28;01mFalse\u001B[39;00m,\n\u001B[0;32m    494\u001B[0m         decode_content\u001B[38;5;241m=\u001B[39m\u001B[38;5;28;01mFalse\u001B[39;00m,\n\u001B[0;32m    495\u001B[0m         retries\u001B[38;5;241m=\u001B[39m\u001B[38;5;28mself\u001B[39m\u001B[38;5;241m.\u001B[39mmax_retries,\n\u001B[0;32m    496\u001B[0m         timeout\u001B[38;5;241m=\u001B[39mtimeout,\n\u001B[0;32m    497\u001B[0m         chunked\u001B[38;5;241m=\u001B[39mchunked,\n\u001B[0;32m    498\u001B[0m     )\n\u001B[0;32m    500\u001B[0m \u001B[38;5;28;01mexcept\u001B[39;00m (ProtocolError, \u001B[38;5;167;01mOSError\u001B[39;00m) \u001B[38;5;28;01mas\u001B[39;00m err:\n\u001B[0;32m    501\u001B[0m     \u001B[38;5;28;01mraise\u001B[39;00m \u001B[38;5;167;01mConnectionError\u001B[39;00m(err, request\u001B[38;5;241m=\u001B[39mrequest)\n",
      "File \u001B[1;32mD:\\conda\\Lib\\site-packages\\urllib3\\connectionpool.py:790\u001B[0m, in \u001B[0;36mHTTPConnectionPool.urlopen\u001B[1;34m(self, method, url, body, headers, retries, redirect, assert_same_host, timeout, pool_timeout, release_conn, chunked, body_pos, preload_content, decode_content, **response_kw)\u001B[0m\n\u001B[0;32m    787\u001B[0m response_conn \u001B[38;5;241m=\u001B[39m conn \u001B[38;5;28;01mif\u001B[39;00m \u001B[38;5;129;01mnot\u001B[39;00m release_conn \u001B[38;5;28;01melse\u001B[39;00m \u001B[38;5;28;01mNone\u001B[39;00m\n\u001B[0;32m    789\u001B[0m \u001B[38;5;66;03m# Make the request on the HTTPConnection object\u001B[39;00m\n\u001B[1;32m--> 790\u001B[0m response \u001B[38;5;241m=\u001B[39m \u001B[38;5;28mself\u001B[39m\u001B[38;5;241m.\u001B[39m_make_request(\n\u001B[0;32m    791\u001B[0m     conn,\n\u001B[0;32m    792\u001B[0m     method,\n\u001B[0;32m    793\u001B[0m     url,\n\u001B[0;32m    794\u001B[0m     timeout\u001B[38;5;241m=\u001B[39mtimeout_obj,\n\u001B[0;32m    795\u001B[0m     body\u001B[38;5;241m=\u001B[39mbody,\n\u001B[0;32m    796\u001B[0m     headers\u001B[38;5;241m=\u001B[39mheaders,\n\u001B[0;32m    797\u001B[0m     chunked\u001B[38;5;241m=\u001B[39mchunked,\n\u001B[0;32m    798\u001B[0m     retries\u001B[38;5;241m=\u001B[39mretries,\n\u001B[0;32m    799\u001B[0m     response_conn\u001B[38;5;241m=\u001B[39mresponse_conn,\n\u001B[0;32m    800\u001B[0m     preload_content\u001B[38;5;241m=\u001B[39mpreload_content,\n\u001B[0;32m    801\u001B[0m     decode_content\u001B[38;5;241m=\u001B[39mdecode_content,\n\u001B[0;32m    802\u001B[0m     \u001B[38;5;241m*\u001B[39m\u001B[38;5;241m*\u001B[39mresponse_kw,\n\u001B[0;32m    803\u001B[0m )\n\u001B[0;32m    805\u001B[0m \u001B[38;5;66;03m# Everything went great!\u001B[39;00m\n\u001B[0;32m    806\u001B[0m clean_exit \u001B[38;5;241m=\u001B[39m \u001B[38;5;28;01mTrue\u001B[39;00m\n",
      "File \u001B[1;32mD:\\conda\\Lib\\site-packages\\urllib3\\connectionpool.py:467\u001B[0m, in \u001B[0;36mHTTPConnectionPool._make_request\u001B[1;34m(self, conn, method, url, body, headers, retries, timeout, chunked, response_conn, preload_content, decode_content, enforce_content_length)\u001B[0m\n\u001B[0;32m    464\u001B[0m \u001B[38;5;28;01mtry\u001B[39;00m:\n\u001B[0;32m    465\u001B[0m     \u001B[38;5;66;03m# Trigger any extra validation we need to do.\u001B[39;00m\n\u001B[0;32m    466\u001B[0m     \u001B[38;5;28;01mtry\u001B[39;00m:\n\u001B[1;32m--> 467\u001B[0m         \u001B[38;5;28mself\u001B[39m\u001B[38;5;241m.\u001B[39m_validate_conn(conn)\n\u001B[0;32m    468\u001B[0m     \u001B[38;5;28;01mexcept\u001B[39;00m (SocketTimeout, BaseSSLError) \u001B[38;5;28;01mas\u001B[39;00m e:\n\u001B[0;32m    469\u001B[0m         \u001B[38;5;28mself\u001B[39m\u001B[38;5;241m.\u001B[39m_raise_timeout(err\u001B[38;5;241m=\u001B[39me, url\u001B[38;5;241m=\u001B[39murl, timeout_value\u001B[38;5;241m=\u001B[39mconn\u001B[38;5;241m.\u001B[39mtimeout)\n",
      "File \u001B[1;32mD:\\conda\\Lib\\site-packages\\urllib3\\connectionpool.py:1096\u001B[0m, in \u001B[0;36mHTTPSConnectionPool._validate_conn\u001B[1;34m(self, conn)\u001B[0m\n\u001B[0;32m   1094\u001B[0m \u001B[38;5;66;03m# Force connect early to allow us to validate the connection.\u001B[39;00m\n\u001B[0;32m   1095\u001B[0m \u001B[38;5;28;01mif\u001B[39;00m conn\u001B[38;5;241m.\u001B[39mis_closed:\n\u001B[1;32m-> 1096\u001B[0m     conn\u001B[38;5;241m.\u001B[39mconnect()\n\u001B[0;32m   1098\u001B[0m \u001B[38;5;28;01mif\u001B[39;00m \u001B[38;5;129;01mnot\u001B[39;00m conn\u001B[38;5;241m.\u001B[39mis_verified:\n\u001B[0;32m   1099\u001B[0m     warnings\u001B[38;5;241m.\u001B[39mwarn(\n\u001B[0;32m   1100\u001B[0m         (\n\u001B[0;32m   1101\u001B[0m             \u001B[38;5;124mf\u001B[39m\u001B[38;5;124m\"\u001B[39m\u001B[38;5;124mUnverified HTTPS request is being made to host \u001B[39m\u001B[38;5;124m'\u001B[39m\u001B[38;5;132;01m{\u001B[39;00mconn\u001B[38;5;241m.\u001B[39mhost\u001B[38;5;132;01m}\u001B[39;00m\u001B[38;5;124m'\u001B[39m\u001B[38;5;124m. \u001B[39m\u001B[38;5;124m\"\u001B[39m\n\u001B[1;32m   (...)\u001B[0m\n\u001B[0;32m   1106\u001B[0m         InsecureRequestWarning,\n\u001B[0;32m   1107\u001B[0m     )\n",
      "File \u001B[1;32mD:\\conda\\Lib\\site-packages\\urllib3\\connection.py:642\u001B[0m, in \u001B[0;36mHTTPSConnection.connect\u001B[1;34m(self)\u001B[0m\n\u001B[0;32m    633\u001B[0m \u001B[38;5;28;01mif\u001B[39;00m is_time_off:\n\u001B[0;32m    634\u001B[0m     warnings\u001B[38;5;241m.\u001B[39mwarn(\n\u001B[0;32m    635\u001B[0m         (\n\u001B[0;32m    636\u001B[0m             \u001B[38;5;124mf\u001B[39m\u001B[38;5;124m\"\u001B[39m\u001B[38;5;124mSystem time is way off (before \u001B[39m\u001B[38;5;132;01m{\u001B[39;00mRECENT_DATE\u001B[38;5;132;01m}\u001B[39;00m\u001B[38;5;124m). This will probably \u001B[39m\u001B[38;5;124m\"\u001B[39m\n\u001B[1;32m   (...)\u001B[0m\n\u001B[0;32m    639\u001B[0m         SystemTimeWarning,\n\u001B[0;32m    640\u001B[0m     )\n\u001B[1;32m--> 642\u001B[0m sock_and_verified \u001B[38;5;241m=\u001B[39m _ssl_wrap_socket_and_match_hostname(\n\u001B[0;32m    643\u001B[0m     sock\u001B[38;5;241m=\u001B[39msock,\n\u001B[0;32m    644\u001B[0m     cert_reqs\u001B[38;5;241m=\u001B[39m\u001B[38;5;28mself\u001B[39m\u001B[38;5;241m.\u001B[39mcert_reqs,\n\u001B[0;32m    645\u001B[0m     ssl_version\u001B[38;5;241m=\u001B[39m\u001B[38;5;28mself\u001B[39m\u001B[38;5;241m.\u001B[39mssl_version,\n\u001B[0;32m    646\u001B[0m     ssl_minimum_version\u001B[38;5;241m=\u001B[39m\u001B[38;5;28mself\u001B[39m\u001B[38;5;241m.\u001B[39mssl_minimum_version,\n\u001B[0;32m    647\u001B[0m     ssl_maximum_version\u001B[38;5;241m=\u001B[39m\u001B[38;5;28mself\u001B[39m\u001B[38;5;241m.\u001B[39mssl_maximum_version,\n\u001B[0;32m    648\u001B[0m     ca_certs\u001B[38;5;241m=\u001B[39m\u001B[38;5;28mself\u001B[39m\u001B[38;5;241m.\u001B[39mca_certs,\n\u001B[0;32m    649\u001B[0m     ca_cert_dir\u001B[38;5;241m=\u001B[39m\u001B[38;5;28mself\u001B[39m\u001B[38;5;241m.\u001B[39mca_cert_dir,\n\u001B[0;32m    650\u001B[0m     ca_cert_data\u001B[38;5;241m=\u001B[39m\u001B[38;5;28mself\u001B[39m\u001B[38;5;241m.\u001B[39mca_cert_data,\n\u001B[0;32m    651\u001B[0m     cert_file\u001B[38;5;241m=\u001B[39m\u001B[38;5;28mself\u001B[39m\u001B[38;5;241m.\u001B[39mcert_file,\n\u001B[0;32m    652\u001B[0m     key_file\u001B[38;5;241m=\u001B[39m\u001B[38;5;28mself\u001B[39m\u001B[38;5;241m.\u001B[39mkey_file,\n\u001B[0;32m    653\u001B[0m     key_password\u001B[38;5;241m=\u001B[39m\u001B[38;5;28mself\u001B[39m\u001B[38;5;241m.\u001B[39mkey_password,\n\u001B[0;32m    654\u001B[0m     server_hostname\u001B[38;5;241m=\u001B[39mserver_hostname,\n\u001B[0;32m    655\u001B[0m     ssl_context\u001B[38;5;241m=\u001B[39m\u001B[38;5;28mself\u001B[39m\u001B[38;5;241m.\u001B[39mssl_context,\n\u001B[0;32m    656\u001B[0m     tls_in_tls\u001B[38;5;241m=\u001B[39mtls_in_tls,\n\u001B[0;32m    657\u001B[0m     assert_hostname\u001B[38;5;241m=\u001B[39m\u001B[38;5;28mself\u001B[39m\u001B[38;5;241m.\u001B[39massert_hostname,\n\u001B[0;32m    658\u001B[0m     assert_fingerprint\u001B[38;5;241m=\u001B[39m\u001B[38;5;28mself\u001B[39m\u001B[38;5;241m.\u001B[39massert_fingerprint,\n\u001B[0;32m    659\u001B[0m )\n\u001B[0;32m    660\u001B[0m \u001B[38;5;28mself\u001B[39m\u001B[38;5;241m.\u001B[39msock \u001B[38;5;241m=\u001B[39m sock_and_verified\u001B[38;5;241m.\u001B[39msocket\n\u001B[0;32m    661\u001B[0m \u001B[38;5;28mself\u001B[39m\u001B[38;5;241m.\u001B[39mis_verified \u001B[38;5;241m=\u001B[39m sock_and_verified\u001B[38;5;241m.\u001B[39mis_verified\n",
      "File \u001B[1;32mD:\\conda\\Lib\\site-packages\\urllib3\\connection.py:782\u001B[0m, in \u001B[0;36m_ssl_wrap_socket_and_match_hostname\u001B[1;34m(sock, cert_reqs, ssl_version, ssl_minimum_version, ssl_maximum_version, cert_file, key_file, key_password, ca_certs, ca_cert_dir, ca_cert_data, assert_hostname, assert_fingerprint, server_hostname, ssl_context, tls_in_tls)\u001B[0m\n\u001B[0;32m    779\u001B[0m     \u001B[38;5;28;01mif\u001B[39;00m is_ipaddress(normalized):\n\u001B[0;32m    780\u001B[0m         server_hostname \u001B[38;5;241m=\u001B[39m normalized\n\u001B[1;32m--> 782\u001B[0m ssl_sock \u001B[38;5;241m=\u001B[39m ssl_wrap_socket(\n\u001B[0;32m    783\u001B[0m     sock\u001B[38;5;241m=\u001B[39msock,\n\u001B[0;32m    784\u001B[0m     keyfile\u001B[38;5;241m=\u001B[39mkey_file,\n\u001B[0;32m    785\u001B[0m     certfile\u001B[38;5;241m=\u001B[39mcert_file,\n\u001B[0;32m    786\u001B[0m     key_password\u001B[38;5;241m=\u001B[39mkey_password,\n\u001B[0;32m    787\u001B[0m     ca_certs\u001B[38;5;241m=\u001B[39mca_certs,\n\u001B[0;32m    788\u001B[0m     ca_cert_dir\u001B[38;5;241m=\u001B[39mca_cert_dir,\n\u001B[0;32m    789\u001B[0m     ca_cert_data\u001B[38;5;241m=\u001B[39mca_cert_data,\n\u001B[0;32m    790\u001B[0m     server_hostname\u001B[38;5;241m=\u001B[39mserver_hostname,\n\u001B[0;32m    791\u001B[0m     ssl_context\u001B[38;5;241m=\u001B[39mcontext,\n\u001B[0;32m    792\u001B[0m     tls_in_tls\u001B[38;5;241m=\u001B[39mtls_in_tls,\n\u001B[0;32m    793\u001B[0m )\n\u001B[0;32m    795\u001B[0m \u001B[38;5;28;01mtry\u001B[39;00m:\n\u001B[0;32m    796\u001B[0m     \u001B[38;5;28;01mif\u001B[39;00m assert_fingerprint:\n",
      "File \u001B[1;32mD:\\conda\\Lib\\site-packages\\urllib3\\util\\ssl_.py:470\u001B[0m, in \u001B[0;36mssl_wrap_socket\u001B[1;34m(sock, keyfile, certfile, cert_reqs, ca_certs, server_hostname, ssl_version, ciphers, ssl_context, ca_cert_dir, key_password, ca_cert_data, tls_in_tls)\u001B[0m\n\u001B[0;32m    467\u001B[0m \u001B[38;5;28;01mexcept\u001B[39;00m \u001B[38;5;167;01mNotImplementedError\u001B[39;00m:  \u001B[38;5;66;03m# Defensive: in CI, we always have set_alpn_protocols\u001B[39;00m\n\u001B[0;32m    468\u001B[0m     \u001B[38;5;28;01mpass\u001B[39;00m\n\u001B[1;32m--> 470\u001B[0m ssl_sock \u001B[38;5;241m=\u001B[39m _ssl_wrap_socket_impl(sock, context, tls_in_tls, server_hostname)\n\u001B[0;32m    471\u001B[0m \u001B[38;5;28;01mreturn\u001B[39;00m ssl_sock\n",
      "File \u001B[1;32mD:\\conda\\Lib\\site-packages\\urllib3\\util\\ssl_.py:514\u001B[0m, in \u001B[0;36m_ssl_wrap_socket_impl\u001B[1;34m(sock, ssl_context, tls_in_tls, server_hostname)\u001B[0m\n\u001B[0;32m    511\u001B[0m     SSLTransport\u001B[38;5;241m.\u001B[39m_validate_ssl_context_for_tls_in_tls(ssl_context)\n\u001B[0;32m    512\u001B[0m     \u001B[38;5;28;01mreturn\u001B[39;00m SSLTransport(sock, ssl_context, server_hostname)\n\u001B[1;32m--> 514\u001B[0m \u001B[38;5;28;01mreturn\u001B[39;00m ssl_context\u001B[38;5;241m.\u001B[39mwrap_socket(sock, server_hostname\u001B[38;5;241m=\u001B[39mserver_hostname)\n",
      "File \u001B[1;32mD:\\conda\\Lib\\ssl.py:455\u001B[0m, in \u001B[0;36mSSLContext.wrap_socket\u001B[1;34m(self, sock, server_side, do_handshake_on_connect, suppress_ragged_eofs, server_hostname, session)\u001B[0m\n\u001B[0;32m    449\u001B[0m \u001B[38;5;28;01mdef\u001B[39;00m \u001B[38;5;21mwrap_socket\u001B[39m(\u001B[38;5;28mself\u001B[39m, sock, server_side\u001B[38;5;241m=\u001B[39m\u001B[38;5;28;01mFalse\u001B[39;00m,\n\u001B[0;32m    450\u001B[0m                 do_handshake_on_connect\u001B[38;5;241m=\u001B[39m\u001B[38;5;28;01mTrue\u001B[39;00m,\n\u001B[0;32m    451\u001B[0m                 suppress_ragged_eofs\u001B[38;5;241m=\u001B[39m\u001B[38;5;28;01mTrue\u001B[39;00m,\n\u001B[0;32m    452\u001B[0m                 server_hostname\u001B[38;5;241m=\u001B[39m\u001B[38;5;28;01mNone\u001B[39;00m, session\u001B[38;5;241m=\u001B[39m\u001B[38;5;28;01mNone\u001B[39;00m):\n\u001B[0;32m    453\u001B[0m     \u001B[38;5;66;03m# SSLSocket class handles server_hostname encoding before it calls\u001B[39;00m\n\u001B[0;32m    454\u001B[0m     \u001B[38;5;66;03m# ctx._wrap_socket()\u001B[39;00m\n\u001B[1;32m--> 455\u001B[0m     \u001B[38;5;28;01mreturn\u001B[39;00m \u001B[38;5;28mself\u001B[39m\u001B[38;5;241m.\u001B[39msslsocket_class\u001B[38;5;241m.\u001B[39m_create(\n\u001B[0;32m    456\u001B[0m         sock\u001B[38;5;241m=\u001B[39msock,\n\u001B[0;32m    457\u001B[0m         server_side\u001B[38;5;241m=\u001B[39mserver_side,\n\u001B[0;32m    458\u001B[0m         do_handshake_on_connect\u001B[38;5;241m=\u001B[39mdo_handshake_on_connect,\n\u001B[0;32m    459\u001B[0m         suppress_ragged_eofs\u001B[38;5;241m=\u001B[39msuppress_ragged_eofs,\n\u001B[0;32m    460\u001B[0m         server_hostname\u001B[38;5;241m=\u001B[39mserver_hostname,\n\u001B[0;32m    461\u001B[0m         context\u001B[38;5;241m=\u001B[39m\u001B[38;5;28mself\u001B[39m,\n\u001B[0;32m    462\u001B[0m         session\u001B[38;5;241m=\u001B[39msession\n\u001B[0;32m    463\u001B[0m     )\n",
      "File \u001B[1;32mD:\\conda\\Lib\\ssl.py:1046\u001B[0m, in \u001B[0;36mSSLSocket._create\u001B[1;34m(cls, sock, server_side, do_handshake_on_connect, suppress_ragged_eofs, server_hostname, context, session)\u001B[0m\n\u001B[0;32m   1043\u001B[0m         \u001B[38;5;28;01mif\u001B[39;00m timeout \u001B[38;5;241m==\u001B[39m \u001B[38;5;241m0.0\u001B[39m:\n\u001B[0;32m   1044\u001B[0m             \u001B[38;5;66;03m# non-blocking\u001B[39;00m\n\u001B[0;32m   1045\u001B[0m             \u001B[38;5;28;01mraise\u001B[39;00m \u001B[38;5;167;01mValueError\u001B[39;00m(\u001B[38;5;124m\"\u001B[39m\u001B[38;5;124mdo_handshake_on_connect should not be specified for non-blocking sockets\u001B[39m\u001B[38;5;124m\"\u001B[39m)\n\u001B[1;32m-> 1046\u001B[0m         \u001B[38;5;28mself\u001B[39m\u001B[38;5;241m.\u001B[39mdo_handshake()\n\u001B[0;32m   1047\u001B[0m \u001B[38;5;28;01mexcept\u001B[39;00m (\u001B[38;5;167;01mOSError\u001B[39;00m, \u001B[38;5;167;01mValueError\u001B[39;00m):\n\u001B[0;32m   1048\u001B[0m     \u001B[38;5;28mself\u001B[39m\u001B[38;5;241m.\u001B[39mclose()\n",
      "File \u001B[1;32mD:\\conda\\Lib\\ssl.py:1321\u001B[0m, in \u001B[0;36mSSLSocket.do_handshake\u001B[1;34m(self, block)\u001B[0m\n\u001B[0;32m   1319\u001B[0m     \u001B[38;5;28;01mif\u001B[39;00m timeout \u001B[38;5;241m==\u001B[39m \u001B[38;5;241m0.0\u001B[39m \u001B[38;5;129;01mand\u001B[39;00m block:\n\u001B[0;32m   1320\u001B[0m         \u001B[38;5;28mself\u001B[39m\u001B[38;5;241m.\u001B[39msettimeout(\u001B[38;5;28;01mNone\u001B[39;00m)\n\u001B[1;32m-> 1321\u001B[0m     \u001B[38;5;28mself\u001B[39m\u001B[38;5;241m.\u001B[39m_sslobj\u001B[38;5;241m.\u001B[39mdo_handshake()\n\u001B[0;32m   1322\u001B[0m \u001B[38;5;28;01mfinally\u001B[39;00m:\n\u001B[0;32m   1323\u001B[0m     \u001B[38;5;28mself\u001B[39m\u001B[38;5;241m.\u001B[39msettimeout(timeout)\n",
      "\u001B[1;31mKeyboardInterrupt\u001B[0m: "
     ]
    }
   ],
   "source": [
    "augmented_data = {'Utterances': [], 'emotion_1': [], 'emotion_2': [], 'emotion_3': [],\n",
    "                  'emotion_4': [], 'emotion_5': [], 'emotion_6': [], 'emotion_7': [], 'emotion_8': []}\n",
    "\n",
    "for idx, row in tqdm(df_train.iterrows(), total=len(df_train), desc=\"Augmenting data\"):\n",
    "    emotions = row[['emotion_1', 'emotion_2', 'emotion_3', 'emotion_4',\n",
    "                    'emotion_5', 'emotion_6', 'emotion_7', 'emotion_8']].values\n",
    "    emotions = emotions.astype(int) \n",
    "    present_emotions = np.where(emotions == 1)[0]\n",
    "    num_to_augment = max_count - len(present_emotions)\n",
    "\n",
    "    if num_to_augment > 0:\n",
    "        new_texts = augment_text(row['Utterances'], num_augments=num_to_augment)\n",
    "        for new_text in new_texts:\n",
    "            augmented_data['Utterances'].append(new_text)\n",
    "            for i in range(8):\n",
    "                augmented_data[f'emotion_{i+1}'].append(emotions[i])\n",
    "\n",
    "augmented_df = pd.DataFrame(augmented_data)\n",
    "\n",
    "print(augmented_df.head())"
   ],
   "metadata": {
    "collapsed": false,
    "ExecuteTime": {
     "end_time": "2024-11-26T20:08:05.419656Z",
     "start_time": "2024-11-26T20:03:27.754136Z"
    }
   },
   "id": "6f32ab78cc31ff8f",
   "execution_count": 16
  },
  {
   "cell_type": "code",
   "outputs": [],
   "source": [
    "df_train_augmented = pd.concat([df_train, augmented_df], ignore_index=True)\n",
    "\n",
    "print(df_train_augmented[['emotion_1', 'emotion_2', 'emotion_3', 'emotion_4',\n",
    "                          'emotion_5', 'emotion_6', 'emotion_7', 'emotion_8']].sum(axis=0))"
   ],
   "metadata": {
    "collapsed": false
   },
   "id": "c7a6c9cf2324646d"
  },
  {
   "cell_type": "code",
   "outputs": [],
   "source": [
    "print(f\"Original train size: {df_train.shape}\")\n",
    "#print(f\"Augmented train size: {augmented_df.shape}\")\n",
    "\n",
    "# df_train = augmented_df\n",
    "\n",
    "print(f\"Validation size: {df_valid.shape}, Test size: {df_test.shape}\")"
   ],
   "metadata": {
    "collapsed": false
   },
   "id": "9e56d7913d7474f7"
  },
  {
   "cell_type": "code",
   "outputs": [],
   "source": [
    "# label_frequencies = df_train['label'].value_counts()\n",
    "# label_frequencies_percent = df_train['label'].value_counts(normalize=True) * 100\n",
    "# print(label_frequencies_percent)\n",
    "# print(label_frequencies)\n"
   ],
   "metadata": {
    "collapsed": false
   },
   "id": "4461416969ee30ca",
   "execution_count": null
  },
  {
   "cell_type": "code",
   "outputs": [],
   "source": [
    "# class_distribution = df_train['label'].value_counts(normalize=True)\n",
    "# print(class_distribution)"
   ],
   "metadata": {
    "collapsed": false
   },
   "id": "2b9c32e81e6c3cdd"
  },
  {
   "cell_type": "code",
   "outputs": [],
   "source": [
    "# import matplotlib.pyplot as plt\n",
    "# \n",
    "# # Wykres rozkładu klas\n",
    "# class_distribution.plot(kind='bar')\n",
    "# plt.title('Class Distribution')\n",
    "# plt.xlabel('Sentiment Class')\n",
    "# plt.ylabel('Number of Samples')\n",
    "# plt.xticks(rotation=0)\n",
    "# plt.show()"
   ],
   "metadata": {
    "collapsed": false
   },
   "id": "77798a91fe4496fd"
  },
  {
   "cell_type": "code",
   "outputs": [],
   "source": [
    "print(f\"Original train size: {multi_label_binarizer_MEISD.shape}\")\n",
    "print(f\"Train: {df_train.shape}, Test: {df_test.shape}, Valid: {df_valid.shape}\")"
   ],
   "metadata": {
    "collapsed": false
   },
   "id": "359789b7b940660b",
   "execution_count": null
  },
  {
   "cell_type": "code",
   "outputs": [],
   "source": [
    "# Hyperparameters\n",
    "MAX_LEN = 30\n",
    "TRAIN_BATCH_SIZE = 16\n",
    "VALID_BATCH_SIZE = 16\n",
    "TEST_BATCH_SIZE = 16\n",
    "EPOCHS = 2\n",
    "LEARNING_RATE = 0.001 #1e-05\n",
    "THRESHOLD = 0.2 # threshold for the sigmoid"
   ],
   "metadata": {
    "collapsed": false
   },
   "id": "574ce0170aca6621",
   "execution_count": null
  },
  {
   "cell_type": "code",
   "outputs": [],
   "source": [
    "PRE_TRAINED_MODEL_NAME = 'bert-base-cased'"
   ],
   "metadata": {
    "collapsed": false
   },
   "id": "3ef7df799231ae81",
   "execution_count": null
  },
  {
   "cell_type": "code",
   "outputs": [],
   "source": [
    "from transformers import BertTokenizer, BertModel\n",
    "tokenizer = BertTokenizer.from_pretrained(PRE_TRAINED_MODEL_NAME)\n",
    "# Test the tokenizer\n",
    "test_text = \"We are testing BERT tokenizer.\"\n",
    "# generate encodings\n",
    "encodings = tokenizer.encode_plus(test_text,\n",
    "                                  add_special_tokens = True, # Add '[CLS]' and '[SEP]'\n",
    "                                  max_length = 50,\n",
    "                                  truncation = True,\n",
    "                                  padding = \"max_length\",\n",
    "                                  return_attention_mask = True,\n",
    "                                  return_tensors = \"pt\")\n",
    "# we get a dictionary with three keys (see: https://huggingface.co/transformers/glossary.html) \n",
    "encodings"
   ],
   "metadata": {
    "collapsed": false
   },
   "id": "d2a7b6b395283c1e",
   "execution_count": null
  },
  {
   "cell_type": "code",
   "outputs": [],
   "source": [
    "class CustomDataset(torch.utils.data.Dataset):\n",
    "    def __init__(self, df, tokenizer, max_len, target_list):\n",
    "        self.tokenizer = tokenizer\n",
    "        self.df = df\n",
    "        self.title = list(df['Utterances'])\n",
    "        self.targets = self.df[target_list].values\n",
    "        self.max_len = max_len\n",
    "\n",
    "    def __len__(self):\n",
    "        return len(self.title)\n",
    "\n",
    "    def __getitem__(self, index):\n",
    "        title = str(self.title[index])\n",
    "        title = \" \".join(title.split())\n",
    "        inputs = self.tokenizer.encode_plus(\n",
    "            title,\n",
    "            None,\n",
    "            add_special_tokens=True,\n",
    "            max_length=self.max_len,\n",
    "            padding='max_length',\n",
    "            return_token_type_ids=True,\n",
    "            truncation=True,\n",
    "            return_attention_mask=True,\n",
    "            return_tensors='pt'\n",
    "        )\n",
    "        return {\n",
    "            'input_ids': inputs['input_ids'].flatten(),\n",
    "            'attention_mask': inputs['attention_mask'].flatten(),\n",
    "            'token_type_ids': inputs[\"token_type_ids\"].flatten(),\n",
    "            'targets': torch.FloatTensor(self.targets[index]),\n",
    "            'title': title\n",
    "        }"
   ],
   "metadata": {
    "collapsed": false
   },
   "id": "adf49bd828e86638",
   "execution_count": null
  },
  {
   "cell_type": "code",
   "outputs": [],
   "source": [
    "target_list = list(multi_label_binarizer_MEISD.columns)[1:]\n",
    "target_list"
   ],
   "metadata": {
    "collapsed": false
   },
   "id": "361e9ea292a89728",
   "execution_count": null
  },
  {
   "cell_type": "code",
   "outputs": [],
   "source": [
    "train_dataset = CustomDataset(df_train, tokenizer, MAX_LEN, target_list)\n",
    "valid_dataset = CustomDataset(df_valid, tokenizer, MAX_LEN, target_list)\n",
    "test_dataset = CustomDataset(df_test, tokenizer, MAX_LEN, target_list)"
   ],
   "metadata": {
    "collapsed": false
   },
   "id": "1a55ce92afe57a5d",
   "execution_count": null
  },
  {
   "cell_type": "code",
   "outputs": [],
   "source": [
    "next(iter(train_dataset))"
   ],
   "metadata": {
    "collapsed": false
   },
   "id": "2c96e3a1eee73c69",
   "execution_count": null
  },
  {
   "cell_type": "code",
   "outputs": [],
   "source": [
    "# Data loaders\n",
    "train_data_loader = torch.utils.data.DataLoader(train_dataset,\n",
    "                                                batch_size=TRAIN_BATCH_SIZE,\n",
    "                                                shuffle=True,\n",
    "                                                num_workers=0\n",
    "                                                )\n",
    "\n",
    "val_data_loader = torch.utils.data.DataLoader(valid_dataset,\n",
    "                                              batch_size=VALID_BATCH_SIZE,\n",
    "                                              shuffle=False,\n",
    "                                              num_workers=0\n",
    "                                              )\n",
    "\n",
    "test_data_loader = torch.utils.data.DataLoader(test_dataset,\n",
    "                                               batch_size=TEST_BATCH_SIZE,\n",
    "                                               shuffle=False,\n",
    "                                               num_workers=0\n",
    "                                               )"
   ],
   "metadata": {
    "collapsed": false
   },
   "id": "622c0d56e39c45e3",
   "execution_count": null
  },
  {
   "cell_type": "code",
   "outputs": [],
   "source": [
    "class BERTClass(torch.nn.Module):\n",
    "    def __init__(self):\n",
    "        super(BERTClass, self).__init__()\n",
    "        self.bert_model = BertModel.from_pretrained('bert-base-uncased', return_dict=True)\n",
    "        self.dropout = torch.nn.Dropout(0.3)\n",
    "        self.linear = torch.nn.Linear(768, 8)\n",
    "\n",
    "    def forward(self, input_ids, attn_mask, token_type_ids):\n",
    "        output = self.bert_model(\n",
    "            input_ids,\n",
    "            attention_mask=attn_mask,\n",
    "            token_type_ids=token_type_ids\n",
    "        )\n",
    "        output_dropout = self.dropout(output.pooler_output)\n",
    "        output = self.linear(output_dropout)\n",
    "        return output\n",
    "\n",
    "model = BERTClass()\n",
    "\n",
    "# # Freezing BERT layers: (tested, weaker convergence)\n",
    "# for param in model.bert_model.parameters():\n",
    "#     param.requires_grad = False\n",
    "\n",
    "model.to(device)"
   ],
   "metadata": {
    "collapsed": false
   },
   "id": "441d76eb4e430b39",
   "execution_count": null
  },
  {
   "cell_type": "code",
   "outputs": [],
   "source": [
    "def loss_fn(outputs, targets):\n",
    "    return torch.nn.BCEWithLogitsLoss()(outputs, targets)  "
   ],
   "metadata": {
    "collapsed": false
   },
   "id": "d641e9ac7052cf9e",
   "execution_count": null
  },
  {
   "cell_type": "code",
   "outputs": [],
   "source": [
    "from transformers import AdamW\n",
    "\n",
    "# define the optimizer\n",
    "optimizer = AdamW(model.parameters(), lr = LEARNING_RATE)  "
   ],
   "metadata": {
    "collapsed": false
   },
   "id": "44632677a67f8475",
   "execution_count": null
  },
  {
   "cell_type": "code",
   "outputs": [],
   "source": [
    "def train_model(training_loader, model, optimizer):\n",
    "    losses = []\n",
    "    correct_predictions = 0\n",
    "    num_samples = 0\n",
    "    #all_preds = []\n",
    "    #all_labels = []\n",
    "\n",
    "    model.train()\n",
    "\n",
    "    loop = tq.tqdm(enumerate(training_loader), total=len(training_loader), leave=True, colour='steelblue')\n",
    "\n",
    "    for batch_idx, data in loop:\n",
    "        ids = data['input_ids'].to(device, dtype = torch.long)\n",
    "        mask = data['attention_mask'].to(device, dtype = torch.long)\n",
    "        token_type_ids = data['token_type_ids'].to(device, dtype = torch.long)\n",
    "        targets = data['targets'].to(device, dtype = torch.float)\n",
    "\n",
    "        outputs = model(ids, mask, token_type_ids) # (batch,predict)=(32,8)\n",
    "        loss = loss_fn(outputs, targets)\n",
    "        losses.append(loss.item())\n",
    "\n",
    "        # training accuracy, apply sigmoid, round (apply thresh 0.5)\n",
    "        outputs = torch.sigmoid(outputs).cpu().detach().numpy().round()\n",
    "        targets = targets.cpu().detach().numpy()\n",
    "        correct_predictions += np.sum(outputs==targets)\n",
    "        num_samples += targets.size   # total number of elements in the 2D array\n",
    "        \n",
    "        \n",
    "        #all_preds.extend(outputs.flatten())\n",
    "        #all_labels.extend(targets.flatten())\n",
    "\n",
    "        optimizer.zero_grad()\n",
    "        loss.backward()\n",
    "        nn.utils.clip_grad_norm_(model.parameters(), max_norm=1.0)\n",
    "        optimizer.step()\n",
    "\n",
    "    #train_f1 = f1_score(all_labels, all_preds, average='weighted')\n",
    "\n",
    "    return model, float(correct_predictions) / num_samples, np.mean(losses)#, train_f1\n"
   ],
   "metadata": {
    "collapsed": false
   },
   "id": "29fd8ff27bd907fa",
   "execution_count": null
  },
  {
   "cell_type": "code",
   "outputs": [],
   "source": [
    "def eval_model(validation_loader, model, optimizer):\n",
    "    losses = []\n",
    "    correct_predictions = 0\n",
    "    num_samples = 0\n",
    "    #all_preds = []\n",
    "    #all_labels = []\n",
    "\n",
    "    model.eval()\n",
    "\n",
    "    with torch.no_grad():\n",
    "        for batch_idx, data in enumerate(validation_loader, 0):\n",
    "            ids = data['input_ids'].to(device, dtype = torch.long)\n",
    "            mask = data['attention_mask'].to(device, dtype = torch.long)\n",
    "            token_type_ids = data['token_type_ids'].to(device, dtype = torch.long)\n",
    "            targets = data['targets'].to(device, dtype = torch.float)\n",
    "            outputs = model(ids, mask, token_type_ids)\n",
    "\n",
    "            loss = loss_fn(outputs, targets)\n",
    "            losses.append(loss.item())\n",
    "\n",
    "            outputs = torch.sigmoid(outputs).cpu().detach().numpy().round()\n",
    "            targets = targets.cpu().detach().numpy()\n",
    "\n",
    "            correct_predictions += np.sum(outputs == targets)\n",
    "            num_samples += targets.size\n",
    "\n",
    "            #all_preds.extend(outputs.flatten())\n",
    "            #all_labels.extend(targets.flatten())\n",
    "\n",
    "    avg_loss = np.mean(losses)\n",
    "    #val_f1 = f1_score(all_labels, all_preds, average='weighted')\n",
    "\n",
    "    return float(correct_predictions) / num_samples, np.mean(losses), avg_loss#, val_f1\n"
   ],
   "metadata": {
    "collapsed": false
   },
   "id": "f3cc89a33aaa1e96",
   "execution_count": null
  },
  {
   "cell_type": "code",
   "outputs": [],
   "source": [
    "history = defaultdict(list)\n",
    "best_accuracy = 0\n",
    "\n",
    "for epoch in range(1, EPOCHS+1):\n",
    "    print(f'Epoch {epoch}/{EPOCHS}')\n",
    "    model, train_acc, train_loss = train_model(train_data_loader, model, optimizer)\n",
    "    print(f'Train loss {train_loss:.4f} | Train accuracy {train_acc:.4f}')\n",
    "\n",
    "    val_acc, val_loss, avg_loss = eval_model(val_data_loader, model, optimizer)\n",
    "    print(f'Val loss {val_loss:.4f} | Val accuracy {val_acc:.4f}')\n",
    "\n",
    "\n",
    "    #print(f'train_loss={train_loss:.4f}, val_loss={val_loss:.4f} train_acc={train_acc:.4f}, val_acc={val_acc:.4f}')\n",
    "\n",
    "    history['train_acc'].append(train_acc)\n",
    "    history['train_loss'].append(train_loss)\n",
    "\n",
    "    history['val_acc'].append(val_acc)\n",
    "    history['val_loss'].append(val_loss)\n",
    "\n",
    "    # save the best model\n",
    "    if val_acc > best_accuracy:\n",
    "        torch.save(model.state_dict(), \"emotion_best_model_state.bin\")\n",
    "        best_f1 = val_acc\n",
    "        print(\"Saved new best model.\")\n",
    "     "
   ],
   "metadata": {
    "collapsed": false
   },
   "id": "6b30b5bdf77d3d81",
   "execution_count": null
  },
  {
   "cell_type": "code",
   "outputs": [],
   "source": [
    "import matplotlib.pyplot as plt\n",
    "\n",
    "plt.rcParams[\"figure.figsize\"] = (10, 7)\n",
    "plt.plot(history['train_acc'], label='train accuracy')\n",
    "plt.plot(history['val_acc'], label='validation accuracy')\n",
    "plt.title('Training history')\n",
    "plt.ylabel('Accuracy')\n",
    "plt.xlabel('Epoch')\n",
    "plt.legend()\n",
    "plt.ylim([0, 1])\n",
    "plt.grid()\n"
   ],
   "metadata": {
    "collapsed": false
   },
   "id": "ced5fd568683d921",
   "execution_count": null
  },
  {
   "cell_type": "markdown",
   "source": [
    "## Evaluation of the model"
   ],
   "metadata": {
    "collapsed": false
   },
   "id": "f25220960846485f"
  },
  {
   "cell_type": "code",
   "outputs": [],
   "source": [
    "# Model Evaluation\n",
    "# Loading pretrained model (best model)\n",
    "model = BERTClass()\n",
    "model.load_state_dict(torch.load(os.path.join(\"emotion_best_model_state.bin\")))\n",
    "model = model.to(device)"
   ],
   "metadata": {
    "collapsed": false
   },
   "id": "4cb7e7c59826f82d",
   "execution_count": null
  },
  {
   "cell_type": "code",
   "outputs": [],
   "source": [
    "# Evaluate the model using the test data\n",
    "test_acc, test_loss, avg_loss = eval_model(test_data_loader, model, optimizer)"
   ],
   "metadata": {
    "collapsed": false
   },
   "id": "a8c968a95747fd97",
   "execution_count": null
  },
  {
   "cell_type": "code",
   "outputs": [],
   "source": [
    "# The accuracy looks OK, similar to the validation accuracy\n",
    "# The model generalizes well !\n",
    "test_acc"
   ],
   "metadata": {
    "collapsed": false
   },
   "id": "59d4ed3a2929afa3",
   "execution_count": null
  },
  {
   "cell_type": "code",
   "outputs": [],
   "source": [
    "from sklearn.metrics import confusion_matrix, classification_report\n",
    "def get_predictions(model, data_loader):\n",
    "    \"\"\"\n",
    "    Outputs:\n",
    "      predictions - \n",
    "    \"\"\"\n",
    "    model = model.eval()\n",
    "\n",
    "    titles = []\n",
    "    predictions = []\n",
    "    prediction_probs = []\n",
    "    target_values = []\n",
    "\n",
    "    with torch.no_grad():\n",
    "        for data in data_loader:\n",
    "            title = data[\"title\"]\n",
    "            ids = data[\"input_ids\"].to(device, dtype = torch.long)\n",
    "            mask = data[\"attention_mask\"].to(device, dtype = torch.long)\n",
    "            token_type_ids = data['token_type_ids'].to(device, dtype = torch.long)\n",
    "            targets = data[\"targets\"].to(device, dtype = torch.float)\n",
    "\n",
    "            outputs = model(ids, mask, token_type_ids)\n",
    "            # add sigmoid, for the training sigmoid is in BCEWithLogitsLoss\n",
    "            outputs = torch.sigmoid(outputs).detach().cpu()\n",
    "            # thresholding at 0.5\n",
    "            preds = outputs.round()\n",
    "            targets = targets.detach().cpu()\n",
    "\n",
    "            titles.extend(title)\n",
    "            predictions.extend(preds)\n",
    "            prediction_probs.extend(outputs)\n",
    "            target_values.extend(targets)\n",
    "\n",
    "    predictions = torch.stack(predictions)\n",
    "    prediction_probs = torch.stack(prediction_probs)\n",
    "    target_values = torch.stack(target_values)\n",
    "\n",
    "    return titles, predictions, prediction_probs, target_values\n"
   ],
   "metadata": {
    "collapsed": false
   },
   "id": "3dc2957cac3d4e22",
   "execution_count": null
  },
  {
   "cell_type": "code",
   "outputs": [],
   "source": [
    "titles, predictions, prediction_probs, target_values = get_predictions(model, test_data_loader)"
   ],
   "metadata": {
    "collapsed": false
   },
   "id": "e02b14187c05a5b2",
   "execution_count": null
  },
  {
   "cell_type": "code",
   "outputs": [],
   "source": [
    "# sanity check\n",
    "predictions.numpy()"
   ],
   "metadata": {
    "collapsed": false
   },
   "id": "f5331af8e457f9a1",
   "execution_count": null
  },
  {
   "cell_type": "code",
   "outputs": [],
   "source": [
    "print(f\"titles:{len(titles)} \\npredictions:{predictions.shape} \\nprediction_probs:{prediction_probs.shape} \\ntarget_values:{target_values.shape}\")"
   ],
   "metadata": {
    "collapsed": false
   },
   "id": "34f466ecc17bf18b",
   "execution_count": null
  },
  {
   "cell_type": "code",
   "outputs": [],
   "source": [
    "# Generate Classification Metrics\n",
    "#\n",
    "# note that the total support is greater than the number of samples because some samples have multiple labels\n",
    "\n",
    "print(classification_report(target_values, predictions, target_names=target_list))"
   ],
   "metadata": {
    "collapsed": false
   },
   "id": "d0ce9d5299c4976c",
   "execution_count": null
  },
  {
   "cell_type": "code",
   "outputs": [],
   "source": [],
   "metadata": {
    "collapsed": false
   },
   "id": "ee6092ac3b9a6083",
   "execution_count": null
  },
  {
   "cell_type": "code",
   "outputs": [],
   "source": [],
   "metadata": {
    "collapsed": false
   },
   "id": "e5f76e0843962ba7"
  },
  {
   "cell_type": "markdown",
   "source": [],
   "metadata": {
    "collapsed": false
   },
   "id": "b449d2c12cfc9262"
  }
 ],
 "metadata": {
  "kernelspec": {
   "display_name": "Python 3",
   "language": "python",
   "name": "python3"
  },
  "language_info": {
   "codemirror_mode": {
    "name": "ipython",
    "version": 2
   },
   "file_extension": ".py",
   "mimetype": "text/x-python",
   "name": "python",
   "nbconvert_exporter": "python",
   "pygments_lexer": "ipython2",
   "version": "2.7.6"
  }
 },
 "nbformat": 4,
 "nbformat_minor": 5
}
