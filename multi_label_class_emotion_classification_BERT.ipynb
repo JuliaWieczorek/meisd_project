{
 "cells": [
  {
   "cell_type": "code",
   "execution_count": 13,
   "id": "initial_id",
   "metadata": {
    "collapsed": true,
    "ExecuteTime": {
     "end_time": "2024-11-27T15:11:12.501661Z",
     "start_time": "2024-11-27T15:11:10.248021Z"
    }
   },
   "outputs": [],
   "source": [
    "import shutil\n",
    "import sys\n",
    "\n",
    "import os\n",
    "import pandas as pd\n",
    "import numpy as np\n",
    "import matplotlib.pyplot as plt\n",
    "\n",
    "from sklearn.model_selection import train_test_split\n",
    "from sklearn.metrics import f1_score\n",
    "from sklearn.preprocessing import MultiLabelBinarizer\n",
    "from sklearn.preprocessing import OneHotEncoder\n",
    "\n",
    "\n",
    "import torch\n",
    "import torch.nn as nn\n",
    "from transformers import BertTokenizer\n",
    "from transformers import pipeline\n",
    "\n",
    "\n",
    "import nltk\n",
    "from nltk.corpus import wordnet\n",
    "from deep_translator import GoogleTranslator\n",
    "from googletrans import Translator\n",
    "\n",
    "\n",
    "from tqdm import tqdm\n",
    "import tqdm.notebook as tq\n",
    "\n",
    "import random\n",
    "import time\n",
    "\n",
    "from collections import defaultdict, Counter\n",
    "\n",
    "\n",
    "#nltk.download('wordnet')\n",
    "#nltk.download('omw-1.4')\n",
    "\n",
    "translator = Translator()\n",
    "\n",
    "device = torch.device('cuda') if torch.cuda.is_available() else torch.device('cpu')"
   ]
  },
  {
   "cell_type": "code",
   "outputs": [],
   "source": [
    "# Hyperparameters\n",
    "PRE_TRAINED_MODEL_NAME = 'bert-base-cased'\n",
    "\n",
    "MAX_LEN = 30\n",
    "#MAX_LEN = min(30, max(df_train['Utterances'].str.split().apply(len).max(), 50))\n",
    "TRAIN_BATCH_SIZE = 16\n",
    "VALID_BATCH_SIZE = 16\n",
    "TEST_BATCH_SIZE = 16\n",
    "EPOCHS = 2\n",
    "LEARNING_RATE = 0.001 #1e-05\n",
    "THRESHOLD = 0.2 # threshold for the sigmoid"
   ],
   "metadata": {
    "collapsed": false,
    "ExecuteTime": {
     "end_time": "2024-11-27T15:11:12.505750Z",
     "start_time": "2024-11-27T15:11:12.502667Z"
    }
   },
   "id": "904ac53922491685",
   "execution_count": 14
  },
  {
   "cell_type": "code",
   "outputs": [],
   "source": [
    "df_data = pd.read_csv('MEISD/MEISD_text.csv')"
   ],
   "metadata": {
    "collapsed": false,
    "ExecuteTime": {
     "end_time": "2024-11-27T15:11:12.545277Z",
     "start_time": "2024-11-27T15:11:12.506755Z"
    }
   },
   "id": "191da412cb222efc",
   "execution_count": 15
  },
  {
   "cell_type": "code",
   "outputs": [
    {
     "data": {
      "text/plain": "  TV Series                                       Utterances  dialog_ids  \\\n0        GA                                  look around you           1   \n1        GA                    say hello to your competition           1   \n2        GA  eight of you will switch to an easier specialty           1   \n3        GA        five of you will crack under the pressure           1   \n4        GA                two of you will be asked to leave           1   \n\n   uttr_ids  seasons  episodes   start_times     end_times sentiment  emotion  \\\n0         0        1         1  00:02:27:589  00:02:28:567   neutral  neutral   \n1         1        1         1  00:02:28:910  00:02:30:513   neutral  neutral   \n2         2        1         1  00:02:31:387  00:02:34:060   neutral  neutral   \n3         3        1         1  00:02:34:134  00:02:36:002   neutral  neutral   \n4         4        1         1  00:02:36:059  00:02:37:723   neutral  neutral   \n\n  intensity emotion2 intensity2 emotion3  intensity3  \n0       NaN      NaN        NaN      NaN         NaN  \n1       NaN      NaN        NaN      NaN         NaN  \n2       NaN      NaN        NaN      NaN         NaN  \n3       NaN      NaN        NaN      NaN         NaN  \n4       NaN      NaN        NaN      NaN         NaN  ",
      "text/html": "<div>\n<style scoped>\n    .dataframe tbody tr th:only-of-type {\n        vertical-align: middle;\n    }\n\n    .dataframe tbody tr th {\n        vertical-align: top;\n    }\n\n    .dataframe thead th {\n        text-align: right;\n    }\n</style>\n<table border=\"1\" class=\"dataframe\">\n  <thead>\n    <tr style=\"text-align: right;\">\n      <th></th>\n      <th>TV Series</th>\n      <th>Utterances</th>\n      <th>dialog_ids</th>\n      <th>uttr_ids</th>\n      <th>seasons</th>\n      <th>episodes</th>\n      <th>start_times</th>\n      <th>end_times</th>\n      <th>sentiment</th>\n      <th>emotion</th>\n      <th>intensity</th>\n      <th>emotion2</th>\n      <th>intensity2</th>\n      <th>emotion3</th>\n      <th>intensity3</th>\n    </tr>\n  </thead>\n  <tbody>\n    <tr>\n      <th>0</th>\n      <td>GA</td>\n      <td>look around you</td>\n      <td>1</td>\n      <td>0</td>\n      <td>1</td>\n      <td>1</td>\n      <td>00:02:27:589</td>\n      <td>00:02:28:567</td>\n      <td>neutral</td>\n      <td>neutral</td>\n      <td>NaN</td>\n      <td>NaN</td>\n      <td>NaN</td>\n      <td>NaN</td>\n      <td>NaN</td>\n    </tr>\n    <tr>\n      <th>1</th>\n      <td>GA</td>\n      <td>say hello to your competition</td>\n      <td>1</td>\n      <td>1</td>\n      <td>1</td>\n      <td>1</td>\n      <td>00:02:28:910</td>\n      <td>00:02:30:513</td>\n      <td>neutral</td>\n      <td>neutral</td>\n      <td>NaN</td>\n      <td>NaN</td>\n      <td>NaN</td>\n      <td>NaN</td>\n      <td>NaN</td>\n    </tr>\n    <tr>\n      <th>2</th>\n      <td>GA</td>\n      <td>eight of you will switch to an easier specialty</td>\n      <td>1</td>\n      <td>2</td>\n      <td>1</td>\n      <td>1</td>\n      <td>00:02:31:387</td>\n      <td>00:02:34:060</td>\n      <td>neutral</td>\n      <td>neutral</td>\n      <td>NaN</td>\n      <td>NaN</td>\n      <td>NaN</td>\n      <td>NaN</td>\n      <td>NaN</td>\n    </tr>\n    <tr>\n      <th>3</th>\n      <td>GA</td>\n      <td>five of you will crack under the pressure</td>\n      <td>1</td>\n      <td>3</td>\n      <td>1</td>\n      <td>1</td>\n      <td>00:02:34:134</td>\n      <td>00:02:36:002</td>\n      <td>neutral</td>\n      <td>neutral</td>\n      <td>NaN</td>\n      <td>NaN</td>\n      <td>NaN</td>\n      <td>NaN</td>\n      <td>NaN</td>\n    </tr>\n    <tr>\n      <th>4</th>\n      <td>GA</td>\n      <td>two of you will be asked to leave</td>\n      <td>1</td>\n      <td>4</td>\n      <td>1</td>\n      <td>1</td>\n      <td>00:02:36:059</td>\n      <td>00:02:37:723</td>\n      <td>neutral</td>\n      <td>neutral</td>\n      <td>NaN</td>\n      <td>NaN</td>\n      <td>NaN</td>\n      <td>NaN</td>\n      <td>NaN</td>\n    </tr>\n  </tbody>\n</table>\n</div>"
     },
     "execution_count": 16,
     "metadata": {},
     "output_type": "execute_result"
    }
   ],
   "source": [
    "df_data.head()"
   ],
   "metadata": {
    "collapsed": false,
    "ExecuteTime": {
     "end_time": "2024-11-27T15:11:13.080371Z",
     "start_time": "2024-11-27T15:11:13.071715Z"
    }
   },
   "id": "be38c4ec0e98b8b0",
   "execution_count": 16
  },
  {
   "cell_type": "code",
   "outputs": [
    {
     "name": "stdout",
     "output_type": "stream",
     "text": [
      "=== Weryfikacja integralności danych ===\n",
      "\n",
      ">>> Sprawdzanie brakujących wartości:\n",
      "intensity      3568\n",
      "emotion2      11128\n",
      "intensity2    11129\n",
      "emotion3      19950\n",
      "intensity3    19950\n",
      "dtype: int64\n",
      "\n",
      ">>> Typy danych:\n",
      "TV Series       object\n",
      "Utterances      object\n",
      "dialog_ids       int64\n",
      "uttr_ids         int64\n",
      "seasons          int64\n",
      "episodes         int64\n",
      "start_times     object\n",
      "end_times       object\n",
      "sentiment       object\n",
      "emotion         object\n",
      "intensity       object\n",
      "emotion2        object\n",
      "intensity2      object\n",
      "emotion3        object\n",
      "intensity3     float64\n",
      "dtype: object\n",
      "\n",
      ">>> Liczba duplikatów:\n",
      "Liczba zduplikowanych wierszy: 0\n",
      "\n",
      ">>> Zakres wartości w kolumnach liczbowych:\n",
      "dialog_ids: min = 1, max = 1125\n",
      "uttr_ids: min = 0, max = 40\n",
      "seasons: min = 1, max = 10\n",
      "episodes: min = 1, max = 26\n",
      "intensity3: min = 1.0, max = 3.0\n",
      "\n",
      ">>> Unikalne wartości w kolumnach kluczowych:\n",
      "emotion: ['neutral' 'acceptance' 'disgust' 'surprise' 'joy' 'sadness' 'anger'\n",
      " 'like' 'fear' 'acceptance ' 'faer' 'Fear ' 'fear ' 'Fear' 'Anger'\n",
      " 'Disgust' 'Neutral' 'Surprise' 'Joy' 'Sadness' 'Fera' 'ANGER' ' disgust'\n",
      " 'Neutral ' 'neutral ']\n",
      "emotion2: [nan 'disgust' 'sadness' 'joy' 'acceptance' 'anger' 'like' 'fear'\n",
      " 'surprise' 'acceptance ' ' disgust' 'Surprise ' 'sadnes' 'l' ' surprise'\n",
      " ' anger' ' sadness' 'Disgust' 'Anger' 'Surprise' 'Fear' 'Sadness' 'Joy'\n",
      " 'sadness ' 'ANGER' 'anger1' 'Sadness ' 'digust' 'sur' 'an' '  disgust'\n",
      " 'asadness']\n",
      "emotion3: [nan 'disgust' 'joy' 'acceptance' 'sadness' 'anger' 'surprise' 'Disgust'\n",
      " 'fear' 'Anger']\n",
      "\n",
      "Weryfikacja zakończona.\n"
     ]
    }
   ],
   "source": [
    "def check_data_integrity(df):\n",
    "    print(\"=== Weryfikacja integralności danych ===\")\n",
    "\n",
    "    print(\"\\n>>> Sprawdzanie brakujących wartości:\")\n",
    "    missing_values = df.isnull().sum()\n",
    "    print(missing_values[missing_values > 0])\n",
    "\n",
    "    print(\"\\n>>> Typy danych:\")\n",
    "    print(df.dtypes)\n",
    "\n",
    "    print(\"\\n>>> Liczba duplikatów:\")\n",
    "    duplicates = df.duplicated().sum()\n",
    "    print(f\"Liczba zduplikowanych wierszy: {duplicates}\")\n",
    "\n",
    "    print(\"\\n>>> Zakres wartości w kolumnach liczbowych:\")\n",
    "    for col in df.select_dtypes(include=[np.number]).columns:\n",
    "        print(f\"{col}: min = {df[col].min()}, max = {df[col].max()}\")\n",
    "\n",
    "    print(\"\\n>>> Unikalne wartości w kolumnach kluczowych:\")\n",
    "    for col in ['emotion', 'emotion2', 'emotion3']:\n",
    "        if col in df.columns:\n",
    "            print(f\"{col}: {df[col].unique()}\")\n",
    "\n",
    "    print(\"\\nWeryfikacja zakończona.\\n\")\n",
    "\n",
    "\n",
    "# Funkcja do weryfikacji kompletności danych\n",
    "def verify_data_integrity(data):\n",
    "    issues = []\n",
    "\n",
    "    if 'combined_emotions' not in data.columns:\n",
    "        print(\"Column 'combined_emotions' is missing!\")\n",
    "        return\n",
    "\n",
    "    for idx, entry in data.iterrows():\n",
    "        combined_emotions = entry['combined_emotions']\n",
    "\n",
    "        if not combined_emotions:  \n",
    "            issues.append(f\"Entry {idx} has an empty 'combined_emotions' list.\")\n",
    "        elif not isinstance(combined_emotions, list):  \n",
    "            issues.append(f\"Entry {idx} has 'combined_emotions' which is not a list.\")\n",
    "\n",
    "    if issues:\n",
    "        print(\"Data integrity check failed:\")\n",
    "        for issue in issues:\n",
    "            print(issue)\n",
    "    else:\n",
    "        print(\"All entries in 'combined_emotions' are valid!\")\n",
    "\n",
    "check_data_integrity(df_data)"
   ],
   "metadata": {
    "collapsed": false,
    "ExecuteTime": {
     "end_time": "2024-11-27T15:29:12.656735Z",
     "start_time": "2024-11-27T15:29:12.628603Z"
    }
   },
   "id": "d502e133144d6890",
   "execution_count": 23
  },
  {
   "cell_type": "code",
   "outputs": [
    {
     "name": "stdout",
     "output_type": "stream",
     "text": [
      "{'fear ', 'like', 'Surprise', 'Fear ', nan, 'Sadness', 'an', 'neutral', 'Surprise ', 'Sadness ', 'sadnes', ' disgust', 'asadness', 'disgust', 'Joy', 'surprise', 'sadness', ' surprise', 'ANGER', 'Anger', 'Fera', 'anger1', 'Neutral', 'anger', 'sadness ', 'faer', 'sur', 'Neutral ', '  disgust', 'l', 'Fear', ' sadness', 'Disgust', 'fear', 'acceptance', 'digust', 'neutral ', ' anger', 'acceptance ', 'joy'}\n"
     ]
    }
   ],
   "source": [
    "unique_emotions = set(df_data['emotion'].unique()) | set(df_data['emotion2'].unique()) | set(df_data['emotion3'].unique())\n",
    "print(unique_emotions)"
   ],
   "metadata": {
    "collapsed": false,
    "ExecuteTime": {
     "end_time": "2024-11-27T15:14:44.222027Z",
     "start_time": "2024-11-27T15:14:44.217147Z"
    }
   },
   "id": "3e9f6b6ecff771d8",
   "execution_count": 18
  },
  {
   "cell_type": "code",
   "outputs": [],
   "source": [
    "emotion_map = {\n",
    "    'neutral': 0, 'Neutral': 0, 'Neutral ': 0, 'neutral ': 0,\n",
    "    'acceptance': 1, 'acceptance ': 1,\n",
    "    'disgust': 2, 'Disgust': 2, ' disgust': 2, '  disgust': 2, 'digust': 2,\n",
    "    'surprise': 3, 'Surprise': 3, ' surprise': 3, 'Surprise ': 3, 'sur': 3,\n",
    "    'joy': 4, 'Joy': 4, 'like': 4,\n",
    "    'sadness': 5, 'Sadness': 5, ' sadness': 5, 'Sadness ': 5, 'sadness ': 5, 'sadnes': 5, 'asadness': 5,\n",
    "    'anger': 6, 'Anger': 6, ' anger': 6, 'ANGER': 6, 'anger1': 6, 'an': 6,\n",
    "    'fear': 8, 'Fear': 8, 'fear ': 8, 'Fear ': 8, 'faer': 8, 'Fera': 8,\n",
    "    'l': None, np.nan: None\n",
    "}\n",
    "\n",
    "data_emotion = pd.DataFrame()\n",
    "data_emotion['Utterances'] = df_data['Utterances']\n",
    "\n",
    "data_emotion['target1'] = df_data['emotion'].map(emotion_map)\n",
    "data_emotion['target2'] = df_data['emotion2'].map(emotion_map)\n",
    "data_emotion['target3'] = df_data['emotion3'].map(emotion_map)\n",
    "\n",
    "\n",
    "def fill_nans(row):\n",
    "    if row.isna().sum() == 2 and row.count() == 1:\n",
    "        row = row.fillna(row.dropna().iloc[0])\n",
    "\n",
    "    elif row.isna().sum() == 1 and row.count() == 2:\n",
    "        row = row.fillna(row.dropna().iloc[0])\n",
    "\n",
    "    return row\n",
    "\n",
    "\n",
    "data_emotion[['target1', 'target2', 'target3']] = data_emotion[['target1', 'target2', 'target3']].apply(fill_nans, axis=1)\n",
    "\n",
    "data_emotion['target1'] = data_emotion['target1'].astype(int)\n",
    "data_emotion['target2'] = data_emotion['target2'].astype(int)\n",
    "data_emotion['target3'] = data_emotion['target3'].astype(int)"
   ],
   "metadata": {
    "collapsed": false,
    "ExecuteTime": {
     "end_time": "2024-11-27T15:14:48.999698Z",
     "start_time": "2024-11-27T15:14:44.926007Z"
    }
   },
   "id": "5a8aaa8b880c6ccb",
   "execution_count": 19
  },
  {
   "cell_type": "code",
   "outputs": [
    {
     "data": {
      "text/plain": "                                        Utterances  target1  target2  target3\n0                                  look around you        0        0        0\n1                    say hello to your competition        0        0        0\n2  eight of you will switch to an easier specialty        0        0        0\n3        five of you will crack under the pressure        0        0        0\n4                two of you will be asked to leave        0        0        0",
      "text/html": "<div>\n<style scoped>\n    .dataframe tbody tr th:only-of-type {\n        vertical-align: middle;\n    }\n\n    .dataframe tbody tr th {\n        vertical-align: top;\n    }\n\n    .dataframe thead th {\n        text-align: right;\n    }\n</style>\n<table border=\"1\" class=\"dataframe\">\n  <thead>\n    <tr style=\"text-align: right;\">\n      <th></th>\n      <th>Utterances</th>\n      <th>target1</th>\n      <th>target2</th>\n      <th>target3</th>\n    </tr>\n  </thead>\n  <tbody>\n    <tr>\n      <th>0</th>\n      <td>look around you</td>\n      <td>0</td>\n      <td>0</td>\n      <td>0</td>\n    </tr>\n    <tr>\n      <th>1</th>\n      <td>say hello to your competition</td>\n      <td>0</td>\n      <td>0</td>\n      <td>0</td>\n    </tr>\n    <tr>\n      <th>2</th>\n      <td>eight of you will switch to an easier specialty</td>\n      <td>0</td>\n      <td>0</td>\n      <td>0</td>\n    </tr>\n    <tr>\n      <th>3</th>\n      <td>five of you will crack under the pressure</td>\n      <td>0</td>\n      <td>0</td>\n      <td>0</td>\n    </tr>\n    <tr>\n      <th>4</th>\n      <td>two of you will be asked to leave</td>\n      <td>0</td>\n      <td>0</td>\n      <td>0</td>\n    </tr>\n  </tbody>\n</table>\n</div>"
     },
     "execution_count": 20,
     "metadata": {},
     "output_type": "execute_result"
    }
   ],
   "source": [
    "data_emotion.head(5)"
   ],
   "metadata": {
    "collapsed": false,
    "ExecuteTime": {
     "end_time": "2024-11-27T15:14:54.555140Z",
     "start_time": "2024-11-27T15:14:54.549542Z"
    }
   },
   "id": "332b2987537a0e76",
   "execution_count": 20
  },
  {
   "cell_type": "code",
   "outputs": [],
   "source": [
    "data_emotion['combined_emotions'] = data_emotion[['target1', 'target2', 'target3']].apply(lambda x: x.dropna().unique().astype(int).tolist(), axis=1)"
   ],
   "metadata": {
    "collapsed": false,
    "ExecuteTime": {
     "end_time": "2024-11-27T15:14:56.656101Z",
     "start_time": "2024-11-27T15:14:55.944993Z"
    }
   },
   "id": "270a8a1cc8fd661a",
   "execution_count": 21
  },
  {
   "cell_type": "code",
   "outputs": [
    {
     "name": "stdout",
     "output_type": "stream",
     "text": [
      "All entries in 'combined_emotions' are valid!\n"
     ]
    }
   ],
   "source": [
    "verify_data_integrity(data_emotion)"
   ],
   "metadata": {
    "collapsed": false,
    "ExecuteTime": {
     "end_time": "2024-11-27T15:29:30.403105Z",
     "start_time": "2024-11-27T15:29:29.896763Z"
    }
   },
   "id": "753d4c967550c0ab",
   "execution_count": 24
  },
  {
   "cell_type": "code",
   "outputs": [],
   "source": [
    "# One-hot encoding\n",
    "mlb_emotion = MultiLabelBinarizer()\n",
    "emotion_binarized = mlb_emotion.fit_transform(data_emotion['combined_emotions'])\n",
    "emotion_df = pd.DataFrame(emotion_binarized, columns=[f'emotion_{i+1}' for i in range(emotion_binarized.shape[1])])"
   ],
   "metadata": {
    "collapsed": false,
    "ExecuteTime": {
     "end_time": "2024-11-27T15:29:34.379987Z",
     "start_time": "2024-11-27T15:29:34.365625Z"
    }
   },
   "id": "4272a0bab8f57fd3",
   "execution_count": 25
  },
  {
   "cell_type": "code",
   "outputs": [
    {
     "name": "stdout",
     "output_type": "stream",
     "text": [
      "=== Weryfikacja integralności danych ===\n",
      "\n",
      ">>> Sprawdzanie brakujących wartości:\n",
      "Series([], dtype: int64)\n",
      "\n",
      ">>> Typy danych:\n",
      "emotion_1    int32\n",
      "emotion_2    int32\n",
      "emotion_3    int32\n",
      "emotion_4    int32\n",
      "emotion_5    int32\n",
      "emotion_6    int32\n",
      "emotion_7    int32\n",
      "emotion_8    int32\n",
      "dtype: object\n",
      "\n",
      ">>> Liczba duplikatów:\n",
      "Liczba zduplikowanych wierszy: 19970\n",
      "\n",
      ">>> Zakres wartości w kolumnach liczbowych:\n",
      "emotion_1: min = 0, max = 1\n",
      "emotion_2: min = 0, max = 1\n",
      "emotion_3: min = 0, max = 1\n",
      "emotion_4: min = 0, max = 1\n",
      "emotion_5: min = 0, max = 1\n",
      "emotion_6: min = 0, max = 1\n",
      "emotion_7: min = 0, max = 1\n",
      "emotion_8: min = 0, max = 1\n",
      "\n",
      ">>> Unikalne wartości w kolumnach kluczowych:\n",
      "\n",
      "Weryfikacja zakończona.\n"
     ]
    }
   ],
   "source": [
    "check_data_integrity(emotion_df)"
   ],
   "metadata": {
    "collapsed": false,
    "ExecuteTime": {
     "end_time": "2024-11-27T15:31:07.571390Z",
     "start_time": "2024-11-27T15:31:07.565017Z"
    }
   },
   "id": "38d0ae96bdbe486c",
   "execution_count": 27
  },
  {
   "cell_type": "code",
   "outputs": [
    {
     "data": {
      "text/plain": "                                              Utterances  emotion_1  \\\n0                                        look around you          1   \n1                          say hello to your competition          1   \n2        eight of you will switch to an easier specialty          1   \n3              five of you will crack under the pressure          1   \n4                      two of you will be asked to leave          1   \n...                                                  ...        ...   \n20012  oh, that's right, you're a woman and you need ...          0   \n20013                                     i'll try again          0   \n20014           please, pam, reconsider and have a bagel          0   \n20015                              i have an early lunch          0   \n20016  michael's been trying to get jim and me to han...          0   \n\n       emotion_2  emotion_3  emotion_4  emotion_5  emotion_6  emotion_7  \\\n0              0          0          0          0          0          0   \n1              0          0          0          0          0          0   \n2              0          0          0          0          0          0   \n3              0          0          0          0          0          0   \n4              0          0          0          0          0          0   \n...          ...        ...        ...        ...        ...        ...   \n20012          0          1          0          0          0          1   \n20013          0          1          0          0          0          1   \n20014          1          1          0          0          0          0   \n20015          0          1          0          0          0          1   \n20016          0          0          0          1          0          0   \n\n       emotion_8  \n0              0  \n1              0  \n2              0  \n3              0  \n4              0  \n...          ...  \n20012          0  \n20013          0  \n20014          0  \n20015          0  \n20016          0  \n\n[20017 rows x 9 columns]",
      "text/html": "<div>\n<style scoped>\n    .dataframe tbody tr th:only-of-type {\n        vertical-align: middle;\n    }\n\n    .dataframe tbody tr th {\n        vertical-align: top;\n    }\n\n    .dataframe thead th {\n        text-align: right;\n    }\n</style>\n<table border=\"1\" class=\"dataframe\">\n  <thead>\n    <tr style=\"text-align: right;\">\n      <th></th>\n      <th>Utterances</th>\n      <th>emotion_1</th>\n      <th>emotion_2</th>\n      <th>emotion_3</th>\n      <th>emotion_4</th>\n      <th>emotion_5</th>\n      <th>emotion_6</th>\n      <th>emotion_7</th>\n      <th>emotion_8</th>\n    </tr>\n  </thead>\n  <tbody>\n    <tr>\n      <th>0</th>\n      <td>look around you</td>\n      <td>1</td>\n      <td>0</td>\n      <td>0</td>\n      <td>0</td>\n      <td>0</td>\n      <td>0</td>\n      <td>0</td>\n      <td>0</td>\n    </tr>\n    <tr>\n      <th>1</th>\n      <td>say hello to your competition</td>\n      <td>1</td>\n      <td>0</td>\n      <td>0</td>\n      <td>0</td>\n      <td>0</td>\n      <td>0</td>\n      <td>0</td>\n      <td>0</td>\n    </tr>\n    <tr>\n      <th>2</th>\n      <td>eight of you will switch to an easier specialty</td>\n      <td>1</td>\n      <td>0</td>\n      <td>0</td>\n      <td>0</td>\n      <td>0</td>\n      <td>0</td>\n      <td>0</td>\n      <td>0</td>\n    </tr>\n    <tr>\n      <th>3</th>\n      <td>five of you will crack under the pressure</td>\n      <td>1</td>\n      <td>0</td>\n      <td>0</td>\n      <td>0</td>\n      <td>0</td>\n      <td>0</td>\n      <td>0</td>\n      <td>0</td>\n    </tr>\n    <tr>\n      <th>4</th>\n      <td>two of you will be asked to leave</td>\n      <td>1</td>\n      <td>0</td>\n      <td>0</td>\n      <td>0</td>\n      <td>0</td>\n      <td>0</td>\n      <td>0</td>\n      <td>0</td>\n    </tr>\n    <tr>\n      <th>...</th>\n      <td>...</td>\n      <td>...</td>\n      <td>...</td>\n      <td>...</td>\n      <td>...</td>\n      <td>...</td>\n      <td>...</td>\n      <td>...</td>\n      <td>...</td>\n    </tr>\n    <tr>\n      <th>20012</th>\n      <td>oh, that's right, you're a woman and you need ...</td>\n      <td>0</td>\n      <td>0</td>\n      <td>1</td>\n      <td>0</td>\n      <td>0</td>\n      <td>0</td>\n      <td>1</td>\n      <td>0</td>\n    </tr>\n    <tr>\n      <th>20013</th>\n      <td>i'll try again</td>\n      <td>0</td>\n      <td>0</td>\n      <td>1</td>\n      <td>0</td>\n      <td>0</td>\n      <td>0</td>\n      <td>1</td>\n      <td>0</td>\n    </tr>\n    <tr>\n      <th>20014</th>\n      <td>please, pam, reconsider and have a bagel</td>\n      <td>0</td>\n      <td>1</td>\n      <td>1</td>\n      <td>0</td>\n      <td>0</td>\n      <td>0</td>\n      <td>0</td>\n      <td>0</td>\n    </tr>\n    <tr>\n      <th>20015</th>\n      <td>i have an early lunch</td>\n      <td>0</td>\n      <td>0</td>\n      <td>1</td>\n      <td>0</td>\n      <td>0</td>\n      <td>0</td>\n      <td>1</td>\n      <td>0</td>\n    </tr>\n    <tr>\n      <th>20016</th>\n      <td>michael's been trying to get jim and me to han...</td>\n      <td>0</td>\n      <td>0</td>\n      <td>0</td>\n      <td>0</td>\n      <td>1</td>\n      <td>0</td>\n      <td>0</td>\n      <td>0</td>\n    </tr>\n  </tbody>\n</table>\n<p>20017 rows × 9 columns</p>\n</div>"
     },
     "execution_count": 28,
     "metadata": {},
     "output_type": "execute_result"
    }
   ],
   "source": [
    "multi_label_binarizer_MEISD = pd.concat([data_emotion['Utterances'], emotion_df], axis=1)\n",
    "multi_label_binarizer_MEISD"
   ],
   "metadata": {
    "collapsed": false,
    "ExecuteTime": {
     "end_time": "2024-11-27T15:31:23.420410Z",
     "start_time": "2024-11-27T15:31:23.412791Z"
    }
   },
   "id": "754405fbae26709b",
   "execution_count": 28
  },
  {
   "cell_type": "code",
   "outputs": [],
   "source": [
    "# Data Augmentation\n",
    "\n",
    "# 1. Synonym Replacement\n",
    "def synonym_replacement(text):\n",
    "    words = text.split()\n",
    "    new_words = words[:]\n",
    "    num_replacements = max(1, len(words) // 5)  # Replace about 20% of words\n",
    "    random_words = random.sample(words, num_replacements)\n",
    "\n",
    "    for word in random_words:\n",
    "        synonyms = wordnet.synsets(word)\n",
    "        if synonyms:\n",
    "            #synonym = synonyms[0].lemmas()[0].name()  # Take first synonym\n",
    "            synonym = random.choice(synonyms).lemmas()[0].name()\n",
    "            if synonym != word:  # Avoid replacement if the synonym is identical\n",
    "                new_words = [synonym if w == word else w for w in new_words]\n",
    "    return ' '.join(new_words)\n",
    "\n",
    "\n",
    "# 2. Random Insertion\n",
    "def random_insertion(text, n=1):\n",
    "    words = text.split()\n",
    "    for _ in range(n):\n",
    "        new_word = random.choice(words)\n",
    "        insert_pos = random.randint(0, len(words))\n",
    "        words.insert(insert_pos, new_word)\n",
    "    return ' '.join(words)\n",
    "\n",
    "\n",
    "# 3. Random Deletion\n",
    "def random_deletion(text, p=0.3):\n",
    "    words = text.split()\n",
    "    if len(words) == 1:\n",
    "        return text  # Avoid deleting single-word text\n",
    "    new_words = [word for word in words if random.uniform(0, 1) > p]\n",
    "    if not new_words:\n",
    "        return random.choice(words)  # Return one word if all words are deleted\n",
    "    return ' '.join(new_words)\n",
    "\n",
    "# 4. Back Translation\n",
    "def back_translation(text, src_lang='en', mid_lang='fr', max_retries=3):\n",
    "    attempt = 0\n",
    "    while attempt < max_retries:\n",
    "        try:\n",
    "            translated = GoogleTranslator(source=src_lang, target=mid_lang).translate(text)\n",
    "            back_translated = GoogleTranslator(source=mid_lang, target=src_lang).translate(translated)\n",
    "            return back_translated\n",
    "        except Exception as e:\n",
    "            print(f\"Back translation error on attempt {attempt + 1}: {e}\")\n",
    "            attempt += 1\n",
    "            time.sleep(1)\n",
    "    raise ValueError(\"Back translation failed\")"
   ],
   "metadata": {
    "collapsed": false,
    "ExecuteTime": {
     "end_time": "2024-11-27T15:31:25.649101Z",
     "start_time": "2024-11-27T15:31:25.641782Z"
    }
   },
   "id": "b0e09026fb2c262d",
   "execution_count": 29
  },
  {
   "cell_type": "code",
   "outputs": [],
   "source": [
    "def augment_text(text, num_augments=2):\n",
    "    augmented_texts = []\n",
    "    for _ in range(num_augments):\n",
    "        augmentation_choice = random.choice(['synonym', 'insertion', 'deletion', 'back_translation'])\n",
    "        if augmentation_choice == 'synonym':\n",
    "            augmented_texts.append(synonym_replacement(text))\n",
    "        elif augmentation_choice == 'insertion':\n",
    "            augmented_texts.append(random_insertion(text))\n",
    "        elif augmentation_choice == 'deletion':\n",
    "            augmented_texts.append(random_deletion(text))\n",
    "        elif augmentation_choice == 'back_translation':\n",
    "            augmented_texts.append(back_translation(text))\n",
    "    return augmented_texts"
   ],
   "metadata": {
    "collapsed": false,
    "ExecuteTime": {
     "end_time": "2024-11-27T15:31:26.465555Z",
     "start_time": "2024-11-27T15:31:26.461496Z"
    }
   },
   "id": "828baedf8d3f7533",
   "execution_count": 30
  },
  {
   "cell_type": "code",
   "outputs": [
    {
     "data": {
      "text/plain": "<Figure size 1000x600 with 1 Axes>",
      "image/png": "[encoded data removed]"
     },
     "metadata": {},
     "output_type": "display_data"
    }
   ],
   "source": [
    "label_sums = multi_label_binarizer_MEISD.iloc[:, 1:].sum()\n",
    "\n",
    "plt.figure(figsize=(10, 6))\n",
    "label_sums.plot(kind='bar', color='skyblue')\n",
    "plt.title('Rozkład klas (emocji)')\n",
    "plt.xlabel('Emocje')\n",
    "plt.ylabel('Liczba próbek')\n",
    "plt.xticks(rotation=45)\n",
    "plt.grid(axis='y', linestyle='--', alpha=0.7)\n",
    "plt.show()\n"
   ],
   "metadata": {
    "collapsed": false,
    "ExecuteTime": {
     "end_time": "2024-11-27T15:31:27.956585Z",
     "start_time": "2024-11-27T15:31:27.731457Z"
    }
   },
   "id": "3c1f4e7f58136cf2",
   "execution_count": 31
  },
  {
   "cell_type": "code",
   "outputs": [],
   "source": [
    "# split into train and test\n",
    "df_train, df_test = train_test_split(multi_label_binarizer_MEISD, random_state=77, test_size=0.30, shuffle=True)\n",
    "# split test into test and validation datasets\n",
    "df_test, df_valid = train_test_split(df_train, random_state=88, test_size=0.50, shuffle=True)"
   ],
   "metadata": {
    "collapsed": false,
    "ExecuteTime": {
     "end_time": "2024-11-27T15:31:31.200269Z",
     "start_time": "2024-11-27T15:31:31.193063Z"
    }
   },
   "id": "f53fda54f02119db",
   "execution_count": 32
  },
  {
   "cell_type": "code",
   "outputs": [
    {
     "data": {
      "text/plain": "                                              Utterances  emotion_1  \\\n13858                had you asked a couple of weeks ago          1   \n14789                                     Yeah! Richard!          0   \n17589            young benjamin here knows what's coming          0   \n8549   i don't see why they had to keep my credit car...          0   \n18378                                         between us          0   \n\n       emotion_2  emotion_3  emotion_4  emotion_5  emotion_6  emotion_7  \\\n13858          0          0          0          0          0          0   \n14789          0          0          0          0          0          1   \n17589          0          1          0          0          0          1   \n8549           0          0          0          0          1          1   \n18378          0          0          0          0          1          0   \n\n       emotion_8  \n13858          0  \n14789          0  \n17589          0  \n8549           0  \n18378          0  ",
      "text/html": "<div>\n<style scoped>\n    .dataframe tbody tr th:only-of-type {\n        vertical-align: middle;\n    }\n\n    .dataframe tbody tr th {\n        vertical-align: top;\n    }\n\n    .dataframe thead th {\n        text-align: right;\n    }\n</style>\n<table border=\"1\" class=\"dataframe\">\n  <thead>\n    <tr style=\"text-align: right;\">\n      <th></th>\n      <th>Utterances</th>\n      <th>emotion_1</th>\n      <th>emotion_2</th>\n      <th>emotion_3</th>\n      <th>emotion_4</th>\n      <th>emotion_5</th>\n      <th>emotion_6</th>\n      <th>emotion_7</th>\n      <th>emotion_8</th>\n    </tr>\n  </thead>\n  <tbody>\n    <tr>\n      <th>13858</th>\n      <td>had you asked a couple of weeks ago</td>\n      <td>1</td>\n      <td>0</td>\n      <td>0</td>\n      <td>0</td>\n      <td>0</td>\n      <td>0</td>\n      <td>0</td>\n      <td>0</td>\n    </tr>\n    <tr>\n      <th>14789</th>\n      <td>Yeah! Richard!</td>\n      <td>0</td>\n      <td>0</td>\n      <td>0</td>\n      <td>0</td>\n      <td>0</td>\n      <td>0</td>\n      <td>1</td>\n      <td>0</td>\n    </tr>\n    <tr>\n      <th>17589</th>\n      <td>young benjamin here knows what's coming</td>\n      <td>0</td>\n      <td>0</td>\n      <td>1</td>\n      <td>0</td>\n      <td>0</td>\n      <td>0</td>\n      <td>1</td>\n      <td>0</td>\n    </tr>\n    <tr>\n      <th>8549</th>\n      <td>i don't see why they had to keep my credit car...</td>\n      <td>0</td>\n      <td>0</td>\n      <td>0</td>\n      <td>0</td>\n      <td>0</td>\n      <td>1</td>\n      <td>1</td>\n      <td>0</td>\n    </tr>\n    <tr>\n      <th>18378</th>\n      <td>between us</td>\n      <td>0</td>\n      <td>0</td>\n      <td>0</td>\n      <td>0</td>\n      <td>0</td>\n      <td>1</td>\n      <td>0</td>\n      <td>0</td>\n    </tr>\n  </tbody>\n</table>\n</div>"
     },
     "execution_count": 33,
     "metadata": {},
     "output_type": "execute_result"
    }
   ],
   "source": [
    "df_train.head()"
   ],
   "metadata": {
    "collapsed": false,
    "ExecuteTime": {
     "end_time": "2024-11-27T15:31:31.601495Z",
     "start_time": "2024-11-27T15:31:31.594250Z"
    }
   },
   "id": "7725fb6a329484a6",
   "execution_count": 33
  },
  {
   "cell_type": "code",
   "outputs": [
    {
     "name": "stdout",
     "output_type": "stream",
     "text": [
      "<class 'pandas.core.frame.DataFrame'>\n",
      "Index: 14011 entries, 13858 to 15063\n",
      "Data columns (total 9 columns):\n",
      " #   Column      Non-Null Count  Dtype \n",
      "---  ------      --------------  ----- \n",
      " 0   Utterances  14011 non-null  object\n",
      " 1   emotion_1   14011 non-null  int32 \n",
      " 2   emotion_2   14011 non-null  int32 \n",
      " 3   emotion_3   14011 non-null  int32 \n",
      " 4   emotion_4   14011 non-null  int32 \n",
      " 5   emotion_5   14011 non-null  int32 \n",
      " 6   emotion_6   14011 non-null  int32 \n",
      " 7   emotion_7   14011 non-null  int32 \n",
      " 8   emotion_8   14011 non-null  int32 \n",
      "dtypes: int32(8), object(1)\n",
      "memory usage: 656.8+ KB\n"
     ]
    }
   ],
   "source": [
    "df_train.info()"
   ],
   "metadata": {
    "collapsed": false,
    "ExecuteTime": {
     "end_time": "2024-11-27T15:34:30.059871Z",
     "start_time": "2024-11-27T15:34:30.052180Z"
    }
   },
   "id": "e72544c7a36c6f62",
   "execution_count": 36
  },
  {
   "cell_type": "code",
   "outputs": [
    {
     "data": {
      "text/plain": "emotion_1    2701\nemotion_2    2236\nemotion_3    4509\nemotion_4    1674\nemotion_5    2941\nemotion_6    2563\nemotion_7    2631\nemotion_8     842\ndtype: int64"
     },
     "execution_count": 34,
     "metadata": {},
     "output_type": "execute_result"
    }
   ],
   "source": [
    "class_counts = df_train[['emotion_1', 'emotion_2', 'emotion_3', 'emotion_4',\n",
    "                         'emotion_5', 'emotion_6', 'emotion_7', 'emotion_8']].sum(axis=0)\n",
    "\n",
    "max_count = class_counts.max()\n",
    "class_counts"
   ],
   "metadata": {
    "collapsed": false,
    "ExecuteTime": {
     "end_time": "2024-11-27T15:31:34.119143Z",
     "start_time": "2024-11-27T15:31:34.113688Z"
    }
   },
   "id": "c5b582ff5f60ec39",
   "execution_count": 34
  },
  {
   "cell_type": "code",
   "outputs": [],
   "source": [
    "def balance_data(data, augment_fn=None):\n",
    "    class_counts = Counter([tuple(entry[1:9]) for entry in data.values])\n",
    "    max_count = max(class_counts.values())\n",
    "\n",
    "    balanced_data = []\n",
    "\n",
    "    # Przechodzimy przez każdą unikalną kombinację emocji\n",
    "    for cls, count in class_counts.items():\n",
    "        # Wybieramy dane odpowiadające danej klasie\n",
    "        cls_data = data[data.iloc[:, 1:9].apply(lambda x: tuple(x) == cls, axis=1)]\n",
    "\n",
    "        # Dopóki liczba danych w tej klasie jest mniejsza niż max_count, dodajemy więcej danych\n",
    "        while len(cls_data) < max_count:\n",
    "            if augment_fn:\n",
    "                # Losujemy próbkę do augmentacji z tej klasy\n",
    "                augmented_sample = augment_fn(cls_data.iloc[random.randint(0, len(cls_data)-1)]['Utterances'])[0]\n",
    "\n",
    "                # Skopiowanie danych wiersza, ale zachowanie tych samych emocji\n",
    "                new_row = cls_data.iloc[0].copy() \n",
    "                new_row['Utterances'] = augmented_sample \n",
    "\n",
    "                # Wstawienie tego samego zestawu emocji do nowych danych\n",
    "                for i in range(1, 9):\n",
    "                    new_row[f'emotion_{i}'] = cls[i-1]\n",
    "                balanced_data.append(new_row)\n",
    "            else:\n",
    "                balanced_data.append(cls_data.iloc[random.randint(0, len(cls_data)-1)])\n",
    "\n",
    "    return pd.DataFrame(balanced_data)"
   ],
   "metadata": {
    "collapsed": false,
    "ExecuteTime": {
     "end_time": "2024-11-27T15:37:21.770902Z",
     "start_time": "2024-11-27T15:37:21.765934Z"
    }
   },
   "id": "8a58c80b7d9f9328",
   "execution_count": 37
  },
  {
   "cell_type": "code",
   "outputs": [],
   "source": [
    "sample_data = df_train.head(1)\n",
    "balanced_dataset = balance_data(sample_data, augment_fn=augment_text)\n",
    "print(balanced_dataset.head())"
   ],
   "metadata": {
    "collapsed": false,
    "ExecuteTime": {
     "start_time": "2024-11-27T19:31:40.185437Z"
    }
   },
   "id": "255912947b3e7d06"
  },
  {
   "cell_type": "code",
   "outputs": [],
   "source": [
    "# augmented_data = {'Utterances': [], 'emotion_1': [], 'emotion_2': [], 'emotion_3': [],\n",
    "#                   'emotion_4': [], 'emotion_5': [], 'emotion_6': [], 'emotion_7': [], 'emotion_8': []}\n",
    "# \n",
    "# df_train_no_emotion3 = df_train[df_train['emotion_3'] == 0]\n",
    "# \n",
    "# for idx, row in tqdm(df_train_no_emotion3.iterrows(), total=len(df_train_no_emotion3), desc=\"Augmenting data\"):\n",
    "#     emotions = row[['emotion_1', 'emotion_2', 'emotion_3', 'emotion_4',\n",
    "#                     'emotion_5', 'emotion_6', 'emotion_7', 'emotion_8']].values\n",
    "#     emotions = emotions.astype(int) \n",
    "#     present_emotions = np.where(emotions == 1)[0]\n",
    "#     num_to_augment = max_count - len(present_emotions)\n",
    "#     num_to_augment = min(num_to_augment, 500)\n",
    "# \n",
    "#     if num_to_augment > 0:\n",
    "#         new_texts = augment_text(row['Utterances'], num_augments=num_to_augment) \n",
    "#         for new_text in new_texts:\n",
    "#             augmented_data['Utterances'].append(new_text)\n",
    "#             for i in range(8):\n",
    "#                 augmented_data[f'emotion_{i+1}'].append(emotions[i]) \n",
    "# \n",
    "# augmented_df = pd.DataFrame(augmented_data)\n",
    "# \n",
    "# df_train_augmented = pd.concat([df_train, augmented_df], ignore_index=True)\n",
    "# \n",
    "# augmented_class_counts = df_train_augmented[['emotion_1', 'emotion_2', 'emotion_3', 'emotion_4',\n",
    "#                                              'emotion_5', 'emotion_6', 'emotion_7', 'emotion_8']].sum(axis=0)\n",
    "# \n",
    "# print(augmented_class_counts)"
   ],
   "metadata": {
    "collapsed": false
   },
   "id": "6ac3a232138acb23",
   "execution_count": null
  },
  {
   "cell_type": "code",
   "outputs": [],
   "source": [
    "# def augment_data_sample(df, num_samples=20, max_count=5, num_augments=3, augment_text_fn=None):\n",
    "#     \"\"\"\n",
    "#     Augmentacja danych na małej próbce.\n",
    "# \n",
    "#     :param df: DataFrame z danymi wejściowymi\n",
    "#     :param num_samples: Liczba próbek do przetestowania\n",
    "#     :param max_count: Maksymalna liczba emocji, które powinny być w danych\n",
    "#     :param num_augments: Liczba augmentacji, które powinny zostać wygenerowane\n",
    "#     :param augment_text_fn: Funkcja do generowania nowych tekstów\n",
    "#     :return: DataFrame z augmentowanymi danymi\n",
    "#     \"\"\"\n",
    "#     augmented_data = {'Utterances': [], 'emotion_1': [], 'emotion_2': [], 'emotion_3': [],\n",
    "#                       'emotion_4': [], 'emotion_5': [], 'emotion_6': [], 'emotion_7': [], 'emotion_8': []}\n",
    "# \n",
    "#     sample_data = df.head(num_samples)\n",
    "# \n",
    "#     for idx, row in tqdm(sample_data.iterrows(), total=len(sample_data), desc=\"Testing Augmentation\"):\n",
    "#         emotions = row[['emotion_1', 'emotion_2', 'emotion_3', 'emotion_4',\n",
    "#                         'emotion_5', 'emotion_6', 'emotion_7', 'emotion_8']].values\n",
    "#         emotions = emotions.astype(int)\n",
    "#         present_emotions = np.where(emotions == 1)[0]\n",
    "#         num_to_augment = max_count - len(present_emotions)\n",
    "# \n",
    "#         if num_to_augment > 0:\n",
    "#             new_texts = augment_text_fn(row['Utterances'], num_augments=num_to_augment)\n",
    "#             for new_text in new_texts:\n",
    "#                 augmented_data['Utterances'].append(new_text)\n",
    "#                 for i in range(8):\n",
    "#                     augmented_data[f'emotion_{i+1}'].append(emotions[i])\n",
    "# \n",
    "#     augmented_df = pd.DataFrame(augmented_data)\n",
    "# \n",
    "#     return augmented_df\n"
   ],
   "metadata": {
    "collapsed": false
   },
   "id": "22e70f6acec15c7e"
  },
  {
   "cell_type": "code",
   "outputs": [],
   "source": [
    "sample_data = df_train.head(100)\n",
    "\n",
    "augmented_data = {'Utterances': [], 'emotion_1': [], 'emotion_2': [], 'emotion_3': [],\n",
    "                  'emotion_4': [], 'emotion_5': [], 'emotion_6': [], 'emotion_7': [], 'emotion_8': []}\n",
    "\n",
    "for idx, row in tqdm(df_train.iterrows(), total=len(df_train), desc=\"Augmenting data\"):\n",
    "    emotions = row[['emotion_1', 'emotion_2', 'emotion_3', 'emotion_4',\n",
    "                    'emotion_5', 'emotion_6', 'emotion_7', 'emotion_8']].values\n",
    "    emotions = emotions.astype(int) \n",
    "    present_emotions = np.where(emotions == 1)[0]\n",
    "    num_to_augment = max_count - len(present_emotions)\n",
    "\n",
    "    if num_to_augment > 0:\n",
    "        new_texts = augment_text(row['Utterances'], num_augments=num_to_augment)\n",
    "        for new_text in new_texts:\n",
    "            augmented_data['Utterances'].append(new_text)\n",
    "            for i in range(8):\n",
    "                augmented_data[f'emotion_{i+1}'].append(emotions[i])\n",
    "\n",
    "augmented_df = pd.DataFrame(augmented_data)\n",
    "\n",
    "print(augmented_df.head())"
   ],
   "metadata": {
    "collapsed": false
   },
   "id": "6f32ab78cc31ff8f",
   "execution_count": null
  },
  {
   "cell_type": "code",
   "outputs": [],
   "source": [
    "df_train_augmented = pd.concat([df_train, augmented_df], ignore_index=True)\n",
    "\n",
    "print(df_train_augmented[['emotion_1', 'emotion_2', 'emotion_3', 'emotion_4',\n",
    "                          'emotion_5', 'emotion_6', 'emotion_7', 'emotion_8']].sum(axis=0))"
   ],
   "metadata": {
    "collapsed": false
   },
   "id": "c7a6c9cf2324646d"
  },
  {
   "cell_type": "code",
   "outputs": [],
   "source": [
    "print(f\"Original train size: {df_train.shape}\")\n",
    "#print(f\"Augmented train size: {augmented_df.shape}\")\n",
    "\n",
    "# df_train = augmented_df\n",
    "\n",
    "print(f\"Validation size: {df_valid.shape}, Test size: {df_test.shape}\")"
   ],
   "metadata": {
    "collapsed": false
   },
   "id": "9e56d7913d7474f7"
  },
  {
   "cell_type": "code",
   "outputs": [],
   "source": [
    "# label_frequencies = df_train['label'].value_counts()\n",
    "# label_frequencies_percent = df_train['label'].value_counts(normalize=True) * 100\n",
    "# print(label_frequencies_percent)\n",
    "# print(label_frequencies)\n"
   ],
   "metadata": {
    "collapsed": false
   },
   "id": "4461416969ee30ca",
   "execution_count": null
  },
  {
   "cell_type": "code",
   "outputs": [],
   "source": [
    "# class_distribution = df_train['label'].value_counts(normalize=True)\n",
    "# print(class_distribution)"
   ],
   "metadata": {
    "collapsed": false
   },
   "id": "2b9c32e81e6c3cdd"
  },
  {
   "cell_type": "code",
   "outputs": [],
   "source": [
    "# import matplotlib.pyplot as plt\n",
    "# \n",
    "# # Wykres rozkładu klas\n",
    "# class_distribution.plot(kind='bar')\n",
    "# plt.title('Class Distribution')\n",
    "# plt.xlabel('Sentiment Class')\n",
    "# plt.ylabel('Number of Samples')\n",
    "# plt.xticks(rotation=0)\n",
    "# plt.show()"
   ],
   "metadata": {
    "collapsed": false
   },
   "id": "77798a91fe4496fd"
  },
  {
   "cell_type": "code",
   "outputs": [],
   "source": [
    "print(f\"Original train size: {multi_label_binarizer_MEISD.shape}\")\n",
    "print(f\"Train: {df_train.shape}, Test: {df_test.shape}, Valid: {df_valid.shape}\")"
   ],
   "metadata": {
    "collapsed": false
   },
   "id": "359789b7b940660b",
   "execution_count": null
  },
  {
   "cell_type": "code",
   "outputs": [],
   "source": [],
   "metadata": {
    "collapsed": false
   },
   "id": "574ce0170aca6621",
   "execution_count": null
  },
  {
   "cell_type": "code",
   "outputs": [],
   "source": [],
   "metadata": {
    "collapsed": false
   },
   "id": "3ef7df799231ae81",
   "execution_count": null
  },
  {
   "cell_type": "code",
   "outputs": [],
   "source": [
    "from transformers import BertTokenizer, BertModel\n",
    "tokenizer = BertTokenizer.from_pretrained(PRE_TRAINED_MODEL_NAME)\n",
    "# Test the tokenizer\n",
    "test_text = \"We are testing BERT tokenizer.\"\n",
    "# generate encodings\n",
    "encodings = tokenizer.encode_plus(test_text,\n",
    "                                  add_special_tokens = True, # Add '[CLS]' and '[SEP]'\n",
    "                                  max_length = 50,\n",
    "                                  truncation = True,\n",
    "                                  padding = \"max_length\",\n",
    "                                  return_attention_mask = True,\n",
    "                                  return_tensors = \"pt\")\n",
    "# we get a dictionary with three keys (see: https://huggingface.co/transformers/glossary.html) \n",
    "encodings"
   ],
   "metadata": {
    "collapsed": false
   },
   "id": "d2a7b6b395283c1e",
   "execution_count": null
  },
  {
   "cell_type": "code",
   "outputs": [],
   "source": [
    "class CustomDataset(torch.utils.data.Dataset):\n",
    "    def __init__(self, df, tokenizer, max_len, target_list):\n",
    "        self.tokenizer = tokenizer\n",
    "        self.df = df\n",
    "        self.title = list(df['Utterances'])\n",
    "        self.targets = self.df[target_list].values\n",
    "        self.max_len = max_len\n",
    "\n",
    "    def __len__(self):\n",
    "        return len(self.title)\n",
    "\n",
    "    def __getitem__(self, index):\n",
    "        title = str(self.title[index])\n",
    "        title = \" \".join(title.split())\n",
    "        inputs = self.tokenizer.encode_plus(\n",
    "            title,\n",
    "            None,\n",
    "            add_special_tokens=True,\n",
    "            max_length=self.max_len,\n",
    "            padding='max_length',\n",
    "            return_token_type_ids=True,\n",
    "            truncation=True,\n",
    "            return_attention_mask=True,\n",
    "            return_tensors='pt'\n",
    "        )\n",
    "        return {\n",
    "            'input_ids': inputs['input_ids'].flatten(),\n",
    "            'attention_mask': inputs['attention_mask'].flatten(),\n",
    "            'token_type_ids': inputs[\"token_type_ids\"].flatten(),\n",
    "            'targets': torch.FloatTensor(self.targets[index]),\n",
    "            'title': title\n",
    "        }"
   ],
   "metadata": {
    "collapsed": false
   },
   "id": "adf49bd828e86638",
   "execution_count": null
  },
  {
   "cell_type": "code",
   "outputs": [],
   "source": [
    "target_list = list(multi_label_binarizer_MEISD.columns)[1:]\n",
    "target_list"
   ],
   "metadata": {
    "collapsed": false
   },
   "id": "361e9ea292a89728",
   "execution_count": null
  },
  {
   "cell_type": "code",
   "outputs": [],
   "source": [
    "train_dataset = CustomDataset(df_train, tokenizer, MAX_LEN, target_list)\n",
    "valid_dataset = CustomDataset(df_valid, tokenizer, MAX_LEN, target_list)\n",
    "test_dataset = CustomDataset(df_test, tokenizer, MAX_LEN, target_list)"
   ],
   "metadata": {
    "collapsed": false
   },
   "id": "1a55ce92afe57a5d",
   "execution_count": null
  },
  {
   "cell_type": "code",
   "outputs": [],
   "source": [
    "next(iter(train_dataset))"
   ],
   "metadata": {
    "collapsed": false
   },
   "id": "2c96e3a1eee73c69",
   "execution_count": null
  },
  {
   "cell_type": "code",
   "outputs": [],
   "source": [
    "# Data loaders\n",
    "train_data_loader = torch.utils.data.DataLoader(train_dataset,\n",
    "                                                batch_size=TRAIN_BATCH_SIZE,\n",
    "                                                shuffle=True,\n",
    "                                                num_workers=0\n",
    "                                                )\n",
    "\n",
    "val_data_loader = torch.utils.data.DataLoader(valid_dataset,\n",
    "                                              batch_size=VALID_BATCH_SIZE,\n",
    "                                              shuffle=False,\n",
    "                                              num_workers=0\n",
    "                                              )\n",
    "\n",
    "test_data_loader = torch.utils.data.DataLoader(test_dataset,\n",
    "                                               batch_size=TEST_BATCH_SIZE,\n",
    "                                               shuffle=False,\n",
    "                                               num_workers=0\n",
    "                                               )"
   ],
   "metadata": {
    "collapsed": false
   },
   "id": "622c0d56e39c45e3",
   "execution_count": null
  },
  {
   "cell_type": "code",
   "outputs": [],
   "source": [
    "class BERTClass(torch.nn.Module):\n",
    "    def __init__(self):\n",
    "        super(BERTClass, self).__init__()\n",
    "        self.bert_model = BertModel.from_pretrained('bert-base-uncased', return_dict=True)\n",
    "        self.dropout = torch.nn.Dropout(0.3)\n",
    "        self.linear = torch.nn.Linear(768, 8)\n",
    "\n",
    "    def forward(self, input_ids, attn_mask, token_type_ids):\n",
    "        output = self.bert_model(\n",
    "            input_ids,\n",
    "            attention_mask=attn_mask,\n",
    "            token_type_ids=token_type_ids\n",
    "        )\n",
    "        output_dropout = self.dropout(output.pooler_output)\n",
    "        output = self.linear(output_dropout)\n",
    "        return output\n",
    "\n",
    "model = BERTClass()\n",
    "\n",
    "# # Freezing BERT layers: (tested, weaker convergence)\n",
    "# for param in model.bert_model.parameters():\n",
    "#     param.requires_grad = False\n",
    "\n",
    "model.to(device)"
   ],
   "metadata": {
    "collapsed": false
   },
   "id": "441d76eb4e430b39",
   "execution_count": null
  },
  {
   "cell_type": "code",
   "outputs": [],
   "source": [
    "def loss_fn(outputs, targets):\n",
    "    return torch.nn.BCEWithLogitsLoss()(outputs, targets)  "
   ],
   "metadata": {
    "collapsed": false
   },
   "id": "d641e9ac7052cf9e",
   "execution_count": null
  },
  {
   "cell_type": "code",
   "outputs": [],
   "source": [
    "from transformers import AdamW\n",
    "\n",
    "# define the optimizer\n",
    "optimizer = AdamW(model.parameters(), lr = LEARNING_RATE)  "
   ],
   "metadata": {
    "collapsed": false
   },
   "id": "44632677a67f8475",
   "execution_count": null
  },
  {
   "cell_type": "code",
   "outputs": [],
   "source": [
    "def train_model(training_loader, model, optimizer):\n",
    "    losses = []\n",
    "    correct_predictions = 0\n",
    "    num_samples = 0\n",
    "    #all_preds = []\n",
    "    #all_labels = []\n",
    "\n",
    "    model.train()\n",
    "\n",
    "    loop = tq.tqdm(enumerate(training_loader), total=len(training_loader), leave=True, colour='steelblue')\n",
    "\n",
    "    for batch_idx, data in loop:\n",
    "        ids = data['input_ids'].to(device, dtype = torch.long)\n",
    "        mask = data['attention_mask'].to(device, dtype = torch.long)\n",
    "        token_type_ids = data['token_type_ids'].to(device, dtype = torch.long)\n",
    "        targets = data['targets'].to(device, dtype = torch.float)\n",
    "\n",
    "        outputs = model(ids, mask, token_type_ids) # (batch,predict)=(32,8)\n",
    "        loss = loss_fn(outputs, targets)\n",
    "        losses.append(loss.item())\n",
    "\n",
    "        # training accuracy, apply sigmoid, round (apply thresh 0.5)\n",
    "        outputs = torch.sigmoid(outputs).cpu().detach().numpy().round()\n",
    "        targets = targets.cpu().detach().numpy()\n",
    "        correct_predictions += np.sum(outputs==targets)\n",
    "        num_samples += targets.size   # total number of elements in the 2D array\n",
    "        \n",
    "        \n",
    "        #all_preds.extend(outputs.flatten())\n",
    "        #all_labels.extend(targets.flatten())\n",
    "\n",
    "        optimizer.zero_grad()\n",
    "        loss.backward()\n",
    "        nn.utils.clip_grad_norm_(model.parameters(), max_norm=1.0)\n",
    "        optimizer.step()\n",
    "\n",
    "    #train_f1 = f1_score(all_labels, all_preds, average='weighted')\n",
    "\n",
    "    return model, float(correct_predictions) / num_samples, np.mean(losses)#, train_f1\n"
   ],
   "metadata": {
    "collapsed": false
   },
   "id": "29fd8ff27bd907fa",
   "execution_count": null
  },
  {
   "cell_type": "code",
   "outputs": [],
   "source": [
    "def eval_model(validation_loader, model, optimizer):\n",
    "    losses = []\n",
    "    correct_predictions = 0\n",
    "    num_samples = 0\n",
    "    #all_preds = []\n",
    "    #all_labels = []\n",
    "\n",
    "    model.eval()\n",
    "\n",
    "    with torch.no_grad():\n",
    "        for batch_idx, data in enumerate(validation_loader, 0):\n",
    "            ids = data['input_ids'].to(device, dtype = torch.long)\n",
    "            mask = data['attention_mask'].to(device, dtype = torch.long)\n",
    "            token_type_ids = data['token_type_ids'].to(device, dtype = torch.long)\n",
    "            targets = data['targets'].to(device, dtype = torch.float)\n",
    "            outputs = model(ids, mask, token_type_ids)\n",
    "\n",
    "            loss = loss_fn(outputs, targets)\n",
    "            losses.append(loss.item())\n",
    "\n",
    "            outputs = torch.sigmoid(outputs).cpu().detach().numpy().round()\n",
    "            targets = targets.cpu().detach().numpy()\n",
    "\n",
    "            correct_predictions += np.sum(outputs == targets)\n",
    "            num_samples += targets.size\n",
    "\n",
    "            #all_preds.extend(outputs.flatten())\n",
    "            #all_labels.extend(targets.flatten())\n",
    "\n",
    "    avg_loss = np.mean(losses)\n",
    "    #val_f1 = f1_score(all_labels, all_preds, average='weighted')\n",
    "\n",
    "    return float(correct_predictions) / num_samples, np.mean(losses), avg_loss#, val_f1\n"
   ],
   "metadata": {
    "collapsed": false
   },
   "id": "f3cc89a33aaa1e96",
   "execution_count": null
  },
  {
   "cell_type": "code",
   "outputs": [],
   "source": [
    "history = defaultdict(list)\n",
    "best_accuracy = 0\n",
    "\n",
    "for epoch in range(1, EPOCHS+1):\n",
    "    print(f'Epoch {epoch}/{EPOCHS}')\n",
    "    model, train_acc, train_loss = train_model(train_data_loader, model, optimizer)\n",
    "    print(f'Train loss {train_loss:.4f} | Train accuracy {train_acc:.4f}')\n",
    "\n",
    "    val_acc, val_loss, avg_loss = eval_model(val_data_loader, model, optimizer)\n",
    "    print(f'Val loss {val_loss:.4f} | Val accuracy {val_acc:.4f}')\n",
    "\n",
    "\n",
    "    #print(f'train_loss={train_loss:.4f}, val_loss={val_loss:.4f} train_acc={train_acc:.4f}, val_acc={val_acc:.4f}')\n",
    "\n",
    "    history['train_acc'].append(train_acc)\n",
    "    history['train_loss'].append(train_loss)\n",
    "\n",
    "    history['val_acc'].append(val_acc)\n",
    "    history['val_loss'].append(val_loss)\n",
    "\n",
    "    # save the best model\n",
    "    if val_acc > best_accuracy:\n",
    "        torch.save(model.state_dict(), \"emotion_best_model_state.bin\")\n",
    "        best_f1 = val_acc\n",
    "        print(\"Saved new best model.\")\n",
    "     "
   ],
   "metadata": {
    "collapsed": false
   },
   "id": "6b30b5bdf77d3d81",
   "execution_count": null
  },
  {
   "cell_type": "code",
   "outputs": [],
   "source": [
    "import matplotlib.pyplot as plt\n",
    "\n",
    "plt.rcParams[\"figure.figsize\"] = (10, 7)\n",
    "plt.plot(history['train_acc'], label='train accuracy')\n",
    "plt.plot(history['val_acc'], label='validation accuracy')\n",
    "plt.title('Training history')\n",
    "plt.ylabel('Accuracy')\n",
    "plt.xlabel('Epoch')\n",
    "plt.legend()\n",
    "plt.ylim([0, 1])\n",
    "plt.grid()\n"
   ],
   "metadata": {
    "collapsed": false
   },
   "id": "ced5fd568683d921",
   "execution_count": null
  },
  {
   "cell_type": "markdown",
   "source": [
    "## Evaluation of the model"
   ],
   "metadata": {
    "collapsed": false
   },
   "id": "f25220960846485f"
  },
  {
   "cell_type": "code",
   "outputs": [],
   "source": [
    "# Model Evaluation\n",
    "# Loading pretrained model (best model)\n",
    "model = BERTClass()\n",
    "model.load_state_dict(torch.load(os.path.join(\"emotion_best_model_state.bin\")))\n",
    "model = model.to(device)"
   ],
   "metadata": {
    "collapsed": false
   },
   "id": "4cb7e7c59826f82d",
   "execution_count": null
  },
  {
   "cell_type": "code",
   "outputs": [],
   "source": [
    "# Evaluate the model using the test data\n",
    "test_acc, test_loss, avg_loss = eval_model(test_data_loader, model, optimizer)"
   ],
   "metadata": {
    "collapsed": false
   },
   "id": "a8c968a95747fd97",
   "execution_count": null
  },
  {
   "cell_type": "code",
   "outputs": [],
   "source": [
    "# The accuracy looks OK, similar to the validation accuracy\n",
    "# The model generalizes well !\n",
    "test_acc"
   ],
   "metadata": {
    "collapsed": false
   },
   "id": "59d4ed3a2929afa3",
   "execution_count": null
  },
  {
   "cell_type": "code",
   "outputs": [],
   "source": [
    "from sklearn.metrics import confusion_matrix, classification_report\n",
    "def get_predictions(model, data_loader):\n",
    "    \"\"\"\n",
    "    Outputs:\n",
    "      predictions - \n",
    "    \"\"\"\n",
    "    model = model.eval()\n",
    "\n",
    "    titles = []\n",
    "    predictions = []\n",
    "    prediction_probs = []\n",
    "    target_values = []\n",
    "\n",
    "    with torch.no_grad():\n",
    "        for data in data_loader:\n",
    "            title = data[\"title\"]\n",
    "            ids = data[\"input_ids\"].to(device, dtype = torch.long)\n",
    "            mask = data[\"attention_mask\"].to(device, dtype = torch.long)\n",
    "            token_type_ids = data['token_type_ids'].to(device, dtype = torch.long)\n",
    "            targets = data[\"targets\"].to(device, dtype = torch.float)\n",
    "\n",
    "            outputs = model(ids, mask, token_type_ids)\n",
    "            # add sigmoid, for the training sigmoid is in BCEWithLogitsLoss\n",
    "            outputs = torch.sigmoid(outputs).detach().cpu()\n",
    "            # thresholding at 0.5\n",
    "            preds = outputs.round()\n",
    "            targets = targets.detach().cpu()\n",
    "\n",
    "            titles.extend(title)\n",
    "            predictions.extend(preds)\n",
    "            prediction_probs.extend(outputs)\n",
    "            target_values.extend(targets)\n",
    "\n",
    "    predictions = torch.stack(predictions)\n",
    "    prediction_probs = torch.stack(prediction_probs)\n",
    "    target_values = torch.stack(target_values)\n",
    "\n",
    "    return titles, predictions, prediction_probs, target_values\n"
   ],
   "metadata": {
    "collapsed": false
   },
   "id": "3dc2957cac3d4e22",
   "execution_count": null
  },
  {
   "cell_type": "code",
   "outputs": [],
   "source": [
    "titles, predictions, prediction_probs, target_values = get_predictions(model, test_data_loader)"
   ],
   "metadata": {
    "collapsed": false
   },
   "id": "e02b14187c05a5b2",
   "execution_count": null
  },
  {
   "cell_type": "code",
   "outputs": [],
   "source": [
    "# sanity check\n",
    "predictions.numpy()"
   ],
   "metadata": {
    "collapsed": false
   },
   "id": "f5331af8e457f9a1",
   "execution_count": null
  },
  {
   "cell_type": "code",
   "outputs": [],
   "source": [
    "print(f\"titles:{len(titles)} \\npredictions:{predictions.shape} \\nprediction_probs:{prediction_probs.shape} \\ntarget_values:{target_values.shape}\")"
   ],
   "metadata": {
    "collapsed": false
   },
   "id": "34f466ecc17bf18b",
   "execution_count": null
  },
  {
   "cell_type": "code",
   "outputs": [],
   "source": [
    "# Generate Classification Metrics\n",
    "#\n",
    "# note that the total support is greater than the number of samples because some samples have multiple labels\n",
    "\n",
    "print(classification_report(target_values, predictions, target_names=target_list))"
   ],
   "metadata": {
    "collapsed": false
   },
   "id": "d0ce9d5299c4976c",
   "execution_count": null
  },
  {
   "cell_type": "code",
   "outputs": [],
   "source": [],
   "metadata": {
    "collapsed": false
   },
   "id": "ee6092ac3b9a6083",
   "execution_count": null
  },
  {
   "cell_type": "code",
   "outputs": [],
   "source": [],
   "metadata": {
    "collapsed": false
   },
   "id": "e5f76e0843962ba7"
  },
  {
   "cell_type": "markdown",
   "source": [],
   "metadata": {
    "collapsed": false
   },
   "id": "b449d2c12cfc9262"
  }
 ],
 "metadata": {
  "kernelspec": {
   "display_name": "Python 3",
   "language": "python",
   "name": "python3"
  },
  "language_info": {
   "codemirror_mode": {
    "name": "ipython",
    "version": 2
   },
   "file_extension": ".py",
   "mimetype": "text/x-python",
   "name": "python",
   "nbconvert_exporter": "python",
   "pygments_lexer": "ipython2",
   "version": "2.7.6"
  }
 },
 "nbformat": 4,
 "nbformat_minor": 5
}
