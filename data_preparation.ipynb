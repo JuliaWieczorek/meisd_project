{
 "cells": [
  {
   "cell_type": "code",
   "execution_count": 1,
   "id": "initial_id",
   "metadata": {
    "collapsed": true,
    "ExecuteTime": {
     "end_time": "2024-09-26T12:56:04.474232Z",
     "start_time": "2024-09-26T12:56:04.472091Z"
    }
   },
   "outputs": [],
   "source": [
    "import os\n",
    "import pandas as pd\n",
    "import numpy as np\n",
    "import json"
   ]
  },
  {
   "cell_type": "code",
   "outputs": [],
   "source": [
    "meta_df = pd.read_csv('MEISD/MEISD_text.csv')"
   ],
   "metadata": {
    "collapsed": false,
    "ExecuteTime": {
     "end_time": "2024-09-26T13:16:21.071779Z",
     "start_time": "2024-09-26T13:16:21.035967Z"
    }
   },
   "id": "568b2f9857d12eaa",
   "execution_count": 28
  },
  {
   "cell_type": "code",
   "outputs": [
    {
     "data": {
      "text/plain": "(20017, 15)"
     },
     "execution_count": 29,
     "metadata": {},
     "output_type": "execute_result"
    }
   ],
   "source": [
    "meta_df.shape"
   ],
   "metadata": {
    "collapsed": false,
    "ExecuteTime": {
     "end_time": "2024-09-26T13:16:21.351237Z",
     "start_time": "2024-09-26T13:16:21.347443Z"
    }
   },
   "id": "1657ac4141ff434",
   "execution_count": 29
  },
  {
   "cell_type": "code",
   "outputs": [
    {
     "data": {
      "text/plain": "  TV Series                                       Utterances  dialog_ids  \\\n0        GA                                  look around you           1   \n1        GA                    say hello to your competition           1   \n2        GA  eight of you will switch to an easier specialty           1   \n\n   uttr_ids  seasons  episodes   start_times     end_times sentiment  emotion  \\\n0         0        1         1  00:02:27:589  00:02:28:567   neutral  neutral   \n1         1        1         1  00:02:28:910  00:02:30:513   neutral  neutral   \n2         2        1         1  00:02:31:387  00:02:34:060   neutral  neutral   \n\n  intensity emotion2 intensity2 emotion3  intensity3  \n0       NaN      NaN        NaN      NaN         NaN  \n1       NaN      NaN        NaN      NaN         NaN  \n2       NaN      NaN        NaN      NaN         NaN  ",
      "text/html": "<div>\n<style scoped>\n    .dataframe tbody tr th:only-of-type {\n        vertical-align: middle;\n    }\n\n    .dataframe tbody tr th {\n        vertical-align: top;\n    }\n\n    .dataframe thead th {\n        text-align: right;\n    }\n</style>\n<table border=\"1\" class=\"dataframe\">\n  <thead>\n    <tr style=\"text-align: right;\">\n      <th></th>\n      <th>TV Series</th>\n      <th>Utterances</th>\n      <th>dialog_ids</th>\n      <th>uttr_ids</th>\n      <th>seasons</th>\n      <th>episodes</th>\n      <th>start_times</th>\n      <th>end_times</th>\n      <th>sentiment</th>\n      <th>emotion</th>\n      <th>intensity</th>\n      <th>emotion2</th>\n      <th>intensity2</th>\n      <th>emotion3</th>\n      <th>intensity3</th>\n    </tr>\n  </thead>\n  <tbody>\n    <tr>\n      <th>0</th>\n      <td>GA</td>\n      <td>look around you</td>\n      <td>1</td>\n      <td>0</td>\n      <td>1</td>\n      <td>1</td>\n      <td>00:02:27:589</td>\n      <td>00:02:28:567</td>\n      <td>neutral</td>\n      <td>neutral</td>\n      <td>NaN</td>\n      <td>NaN</td>\n      <td>NaN</td>\n      <td>NaN</td>\n      <td>NaN</td>\n    </tr>\n    <tr>\n      <th>1</th>\n      <td>GA</td>\n      <td>say hello to your competition</td>\n      <td>1</td>\n      <td>1</td>\n      <td>1</td>\n      <td>1</td>\n      <td>00:02:28:910</td>\n      <td>00:02:30:513</td>\n      <td>neutral</td>\n      <td>neutral</td>\n      <td>NaN</td>\n      <td>NaN</td>\n      <td>NaN</td>\n      <td>NaN</td>\n      <td>NaN</td>\n    </tr>\n    <tr>\n      <th>2</th>\n      <td>GA</td>\n      <td>eight of you will switch to an easier specialty</td>\n      <td>1</td>\n      <td>2</td>\n      <td>1</td>\n      <td>1</td>\n      <td>00:02:31:387</td>\n      <td>00:02:34:060</td>\n      <td>neutral</td>\n      <td>neutral</td>\n      <td>NaN</td>\n      <td>NaN</td>\n      <td>NaN</td>\n      <td>NaN</td>\n      <td>NaN</td>\n    </tr>\n  </tbody>\n</table>\n</div>"
     },
     "execution_count": 30,
     "metadata": {},
     "output_type": "execute_result"
    }
   ],
   "source": [
    "meta_df.head(3)"
   ],
   "metadata": {
    "collapsed": false,
    "ExecuteTime": {
     "end_time": "2024-09-26T13:16:21.634926Z",
     "start_time": "2024-09-26T13:16:21.627453Z"
    }
   },
   "id": "1d7a6142742bf0dc",
   "execution_count": 30
  },
  {
   "cell_type": "code",
   "outputs": [],
   "source": [
    "# For the multilabel classification we use:\n",
    "columns = ['Utterances', 'sentiment', 'emotion', 'intensity', 'emotion2', 'intensity2', 'emotion3', 'intensity3']\n",
    "meta_dfs = meta_df[columns].copy()"
   ],
   "metadata": {
    "collapsed": false,
    "ExecuteTime": {
     "end_time": "2024-09-26T13:16:21.966445Z",
     "start_time": "2024-09-26T13:16:21.959976Z"
    }
   },
   "id": "9e3a954f4edfbb54",
   "execution_count": 31
  },
  {
   "cell_type": "code",
   "outputs": [],
   "source": [
    "# Define emotion and sentiment mappings\n",
    "emotion_map = {\n",
    "    'neutral': 0,\n",
    "    'acceptance': 1,\n",
    "    'disgust': 2,\n",
    "    'surprise': 3,\n",
    "    'joy': 4,\n",
    "    'sadness': 5,\n",
    "    'anger': 6,\n",
    "    'like': 7,\n",
    "    'fear': 8\n",
    "}\n",
    "\n",
    "sentiment_map = {\n",
    "    'positive': 1,\n",
    "    'negative': 0,\n",
    "    'neutral': 2\n",
    "}"
   ],
   "metadata": {
    "collapsed": false,
    "ExecuteTime": {
     "end_time": "2024-09-26T13:16:22.614401Z",
     "start_time": "2024-09-26T13:16:22.610969Z"
    }
   },
   "id": "4ad56b7e8d9ef678",
   "execution_count": 32
  },
  {
   "cell_type": "code",
   "outputs": [],
   "source": [
    "meta_dfs.loc[:, 'sentiment'] = pd.to_numeric(meta_dfs['sentiment'].map(sentiment_map).fillna(2).astype(int))  # Use 2 as a default for unknown\n",
    "meta_dfs.loc[:, 'emotion'] = pd.to_numeric(meta_dfs['emotion'].map(emotion_map))\n",
    "meta_dfs.loc[:, 'emotion2'] = pd.to_numeric(meta_dfs['emotion2'].map(emotion_map))\n",
    "meta_dfs.loc[:, 'emotion3'] = pd.to_numeric(meta_dfs['emotion3'].map(emotion_map))\n",
    "\n",
    "# Convert intensity columns to numeric\n",
    "meta_dfs.loc[:, 'intensity'] = pd.to_numeric(meta_dfs['intensity'], errors='coerce')\n",
    "meta_dfs.loc[:, 'intensity2'] = pd.to_numeric(meta_dfs['intensity2'], errors='coerce')\n",
    "meta_dfs.loc[:, 'intensity3'] = pd.to_numeric(meta_dfs['intensity3'], errors='coerce')"
   ],
   "metadata": {
    "collapsed": false,
    "ExecuteTime": {
     "end_time": "2024-09-26T13:16:23.289740Z",
     "start_time": "2024-09-26T13:16:23.267456Z"
    }
   },
   "id": "5ff5c649b6b364c8",
   "execution_count": 33
  },
  {
   "cell_type": "code",
   "outputs": [],
   "source": [
    "# Create new columns\n",
    "# 1. Combined sentiment column (0-2)\n",
    "meta_dfs['combined_sentiment'] = meta_dfs['sentiment']\n",
    "\n",
    "# 2. Combined emotions column (as a list of int)\n",
    "meta_dfs['combined_emotions'] = meta_dfs[['emotion', 'emotion2', 'emotion3']].apply(lambda x: x.dropna().unique().astype(int).tolist(), axis=1)\n",
    "\n",
    "# 3. Combined intensity column (as a list of int)\n",
    "meta_dfs['combined_intensities'] = meta_dfs[['intensity', 'intensity2', 'intensity3']].apply(lambda x: x.dropna().unique().astype(int).tolist(), axis=1)"
   ],
   "metadata": {
    "collapsed": false,
    "ExecuteTime": {
     "end_time": "2024-09-26T13:20:11.135810Z",
     "start_time": "2024-09-26T13:20:08.469049Z"
    }
   },
   "id": "4b2ac5fbabb0493f",
   "execution_count": 36
  },
  {
   "cell_type": "code",
   "outputs": [
    {
     "data": {
      "text/plain": "                                           Utterances sentiment emotion  \\\n0                                     look around you         2     0.0   \n1                       say hello to your competition         2     0.0   \n2     eight of you will switch to an easier specialty         2     0.0   \n3           five of you will crack under the pressure         2     0.0   \n4                   two of you will be asked to leave         2     0.0   \n5                          this is your starting line         2     0.0   \n6                                  this is your arena         2     0.0   \n7                                   how well you play         2     0.0   \n8                                    that's up to you         2     0.0   \n9                                         like i said         2     1.0   \n10                                        i'm screwed         2     2.0   \n11              okay, martin, robinson, bond, hawkins         2     0.0   \n12                             only 6 women out of 20         2     3.0   \n13                 yeah. i hear one of them's a model         2     2.0   \n14  seriously, that's gonna help with the respect ...         2     3.0   \n15           you're cristina, right? - patton, monroe         2     0.0   \n16   which resident are you assigned to? i got bailey         2     0.0   \n17                                   the nazi? me too         1     3.0   \n18                         you got the nazi? so did i         1     3.0   \n19        at least we'll be tortured together, right?         1     4.0   \n20                                i'm george o'malley         1     1.0   \n21  uh, we met at the mixer. you had on a black dr...         1     4.0   \n22             now you think i'm gay. no, i'm not gay         2     5.0   \n23  it's - it's just that you were - you were very...         1     1.0   \n24                      o'malley, yang, grey, stevens         2     0.0   \n25                        and i'm totally forgettable         2     5.0   \n26                          bailey? - end of the hall         2     3.0   \n27                                   that's the nazi?         2     3.0   \n28                  i thought the nazi would be a guy         2     3.0   \n29                 i thought the nazi would be a nazi         2     3.0   \n30                   maybe it's professional jealousy         2     0.0   \n31  maybe she's brilliant, and they call her a naz...         1     1.0   \n32                                   maybe she's nice         1     1.0   \n33                    let me guess - you're the model         2     3.0   \n34  hi, i'm isobel stevens, but everyone calls me ...         1     1.0   \n35                   i have five rules. memorize them         2     0.0   \n36  rule number one - don't bother sucking up. i a...         2     2.0   \n37  trauma protocol, phone list, pagers - nurses w...         2     0.0   \n38  you will answer every page at a run - a run - ...         2     6.0   \n39     your first shift starts now and lasts 48 hours         2     0.0   \n40      seattle is surrounded by water on three sides         1     1.0   \n41                               hence the ferryboats         1     1.0   \n42                         now i have to like it here         1     1.0   \n43                i wasn't planning on liking it here         2     1.0   \n44                                  i'm from new york         1     1.0   \n45  i'm genetically engineered to dislike everywhe...         2     5.0   \n46                      i have a thing for ferryboats         1     1.0   \n47                         i'm not going out with you         2     1.0   \n48                   did i ask you to go out with me?         1     3.0   \n49                     do you want to go out with me?         1     4.0   \n\n   intensity emotion2 intensity2 emotion3  intensity3 combined_sentiment  \\\n0        NaN      NaN        NaN      NaN         NaN                  2   \n1        NaN      NaN        NaN      NaN         NaN                  2   \n2        NaN      NaN        NaN      NaN         NaN                  2   \n3        NaN      NaN        NaN      NaN         NaN                  2   \n4        NaN      NaN        NaN      NaN         NaN                  2   \n5        NaN      NaN        NaN      NaN         NaN                  2   \n6        NaN      NaN        NaN      NaN         NaN                  2   \n7        NaN      NaN        NaN      NaN         NaN                  2   \n8        NaN      NaN        NaN      NaN         NaN                  2   \n9        1.0      2.0        1.0      NaN         NaN                  2   \n10       2.0      5.0        1.0      NaN         NaN                  2   \n11       NaN      NaN        NaN      NaN         NaN                  2   \n12       2.0      2.0        1.0      NaN         NaN                  2   \n13       2.0      5.0        1.0      NaN         NaN                  2   \n14       2.0      2.0        3.0      NaN         NaN                  2   \n15       NaN      NaN        NaN      NaN         NaN                  2   \n16       NaN      NaN        NaN      NaN         NaN                  2   \n17       2.0      4.0        1.0      NaN         NaN                  1   \n18       3.0      4.0        3.0      NaN         NaN                  1   \n19       2.0      NaN        NaN      NaN         NaN                  1   \n20       1.0      4.0        2.0      NaN         NaN                  1   \n21       2.0      NaN        NaN      NaN         NaN                  1   \n22       1.0      2.0        1.0      NaN         NaN                  2   \n23       2.0      NaN        NaN      NaN         NaN                  1   \n24       NaN      NaN        NaN      NaN         NaN                  2   \n25       2.0      2.0        2.0      NaN         NaN                  2   \n26       2.0      NaN        NaN      NaN         NaN                  2   \n27       3.0      NaN        NaN      NaN         NaN                  2   \n28       2.0      1.0        1.0      NaN         NaN                  2   \n29       1.0      2.0        2.0      NaN         NaN                  2   \n30       NaN      NaN        NaN      NaN         NaN                  2   \n31       2.0      NaN        NaN      NaN         NaN                  1   \n32       1.0      NaN        NaN      NaN         NaN                  1   \n33       1.0      2.0        2.0      NaN         NaN                  2   \n34       1.0      4.0        3.0      NaN         NaN                  1   \n35       NaN      NaN        NaN      NaN         NaN                  2   \n36       2.0      NaN        NaN      NaN         NaN                  2   \n37       NaN      NaN        NaN      NaN         NaN                  2   \n38       1.0      NaN        NaN      NaN         NaN                  2   \n39       NaN      NaN        NaN      NaN         NaN                  2   \n40       1.0      NaN        NaN      NaN         NaN                  1   \n41       1.0      4.0        1.0      NaN         NaN                  1   \n42       2.0      2.0        1.0      NaN         NaN                  1   \n43       2.0      5.0        1.0      NaN         NaN                  2   \n44       1.0      NaN        NaN      NaN         NaN                  1   \n45       1.0      2.0        2.0      NaN         NaN                  2   \n46       2.0      4.0        1.0      NaN         NaN                  1   \n47       1.0      NaN        NaN      NaN         NaN                  2   \n48       2.0      4.0        1.0      NaN         NaN                  1   \n49       2.0      NaN        NaN      NaN         NaN                  1   \n\n   combined_emotions combined_intensities  \n0                [0]                   []  \n1                [0]                   []  \n2                [0]                   []  \n3                [0]                   []  \n4                [0]                   []  \n5                [0]                   []  \n6                [0]                   []  \n7                [0]                   []  \n8                [0]                   []  \n9             [1, 2]                  [1]  \n10            [2, 5]               [2, 1]  \n11               [0]                   []  \n12            [3, 2]               [2, 1]  \n13            [2, 5]               [2, 1]  \n14            [3, 2]               [2, 3]  \n15               [0]                   []  \n16               [0]                   []  \n17            [3, 4]               [2, 1]  \n18            [3, 4]                  [3]  \n19               [4]                  [2]  \n20            [1, 4]               [1, 2]  \n21               [4]                  [2]  \n22            [5, 2]                  [1]  \n23               [1]                  [2]  \n24               [0]                   []  \n25            [5, 2]                  [2]  \n26               [3]                  [2]  \n27               [3]                  [3]  \n28            [3, 1]               [2, 1]  \n29            [3, 2]               [1, 2]  \n30               [0]                   []  \n31               [1]                  [2]  \n32               [1]                  [1]  \n33            [3, 2]               [1, 2]  \n34            [1, 4]               [1, 3]  \n35               [0]                   []  \n36               [2]                  [2]  \n37               [0]                   []  \n38               [6]                  [1]  \n39               [0]                   []  \n40               [1]                  [1]  \n41            [1, 4]                  [1]  \n42            [1, 2]               [2, 1]  \n43            [1, 5]               [2, 1]  \n44               [1]                  [1]  \n45            [5, 2]               [1, 2]  \n46            [1, 4]               [2, 1]  \n47               [1]                  [1]  \n48            [3, 4]               [2, 1]  \n49               [4]                  [2]  ",
      "text/html": "<div>\n<style scoped>\n    .dataframe tbody tr th:only-of-type {\n        vertical-align: middle;\n    }\n\n    .dataframe tbody tr th {\n        vertical-align: top;\n    }\n\n    .dataframe thead th {\n        text-align: right;\n    }\n</style>\n<table border=\"1\" class=\"dataframe\">\n  <thead>\n    <tr style=\"text-align: right;\">\n      <th></th>\n      <th>Utterances</th>\n      <th>sentiment</th>\n      <th>emotion</th>\n      <th>intensity</th>\n      <th>emotion2</th>\n      <th>intensity2</th>\n      <th>emotion3</th>\n      <th>intensity3</th>\n      <th>combined_sentiment</th>\n      <th>combined_emotions</th>\n      <th>combined_intensities</th>\n    </tr>\n  </thead>\n  <tbody>\n    <tr>\n      <th>0</th>\n      <td>look around you</td>\n      <td>2</td>\n      <td>0.0</td>\n      <td>NaN</td>\n      <td>NaN</td>\n      <td>NaN</td>\n      <td>NaN</td>\n      <td>NaN</td>\n      <td>2</td>\n      <td>[0]</td>\n      <td>[]</td>\n    </tr>\n    <tr>\n      <th>1</th>\n      <td>say hello to your competition</td>\n      <td>2</td>\n      <td>0.0</td>\n      <td>NaN</td>\n      <td>NaN</td>\n      <td>NaN</td>\n      <td>NaN</td>\n      <td>NaN</td>\n      <td>2</td>\n      <td>[0]</td>\n      <td>[]</td>\n    </tr>\n    <tr>\n      <th>2</th>\n      <td>eight of you will switch to an easier specialty</td>\n      <td>2</td>\n      <td>0.0</td>\n      <td>NaN</td>\n      <td>NaN</td>\n      <td>NaN</td>\n      <td>NaN</td>\n      <td>NaN</td>\n      <td>2</td>\n      <td>[0]</td>\n      <td>[]</td>\n    </tr>\n    <tr>\n      <th>3</th>\n      <td>five of you will crack under the pressure</td>\n      <td>2</td>\n      <td>0.0</td>\n      <td>NaN</td>\n      <td>NaN</td>\n      <td>NaN</td>\n      <td>NaN</td>\n      <td>NaN</td>\n      <td>2</td>\n      <td>[0]</td>\n      <td>[]</td>\n    </tr>\n    <tr>\n      <th>4</th>\n      <td>two of you will be asked to leave</td>\n      <td>2</td>\n      <td>0.0</td>\n      <td>NaN</td>\n      <td>NaN</td>\n      <td>NaN</td>\n      <td>NaN</td>\n      <td>NaN</td>\n      <td>2</td>\n      <td>[0]</td>\n      <td>[]</td>\n    </tr>\n    <tr>\n      <th>5</th>\n      <td>this is your starting line</td>\n      <td>2</td>\n      <td>0.0</td>\n      <td>NaN</td>\n      <td>NaN</td>\n      <td>NaN</td>\n      <td>NaN</td>\n      <td>NaN</td>\n      <td>2</td>\n      <td>[0]</td>\n      <td>[]</td>\n    </tr>\n    <tr>\n      <th>6</th>\n      <td>this is your arena</td>\n      <td>2</td>\n      <td>0.0</td>\n      <td>NaN</td>\n      <td>NaN</td>\n      <td>NaN</td>\n      <td>NaN</td>\n      <td>NaN</td>\n      <td>2</td>\n      <td>[0]</td>\n      <td>[]</td>\n    </tr>\n    <tr>\n      <th>7</th>\n      <td>how well you play</td>\n      <td>2</td>\n      <td>0.0</td>\n      <td>NaN</td>\n      <td>NaN</td>\n      <td>NaN</td>\n      <td>NaN</td>\n      <td>NaN</td>\n      <td>2</td>\n      <td>[0]</td>\n      <td>[]</td>\n    </tr>\n    <tr>\n      <th>8</th>\n      <td>that's up to you</td>\n      <td>2</td>\n      <td>0.0</td>\n      <td>NaN</td>\n      <td>NaN</td>\n      <td>NaN</td>\n      <td>NaN</td>\n      <td>NaN</td>\n      <td>2</td>\n      <td>[0]</td>\n      <td>[]</td>\n    </tr>\n    <tr>\n      <th>9</th>\n      <td>like i said</td>\n      <td>2</td>\n      <td>1.0</td>\n      <td>1.0</td>\n      <td>2.0</td>\n      <td>1.0</td>\n      <td>NaN</td>\n      <td>NaN</td>\n      <td>2</td>\n      <td>[1, 2]</td>\n      <td>[1]</td>\n    </tr>\n    <tr>\n      <th>10</th>\n      <td>i'm screwed</td>\n      <td>2</td>\n      <td>2.0</td>\n      <td>2.0</td>\n      <td>5.0</td>\n      <td>1.0</td>\n      <td>NaN</td>\n      <td>NaN</td>\n      <td>2</td>\n      <td>[2, 5]</td>\n      <td>[2, 1]</td>\n    </tr>\n    <tr>\n      <th>11</th>\n      <td>okay, martin, robinson, bond, hawkins</td>\n      <td>2</td>\n      <td>0.0</td>\n      <td>NaN</td>\n      <td>NaN</td>\n      <td>NaN</td>\n      <td>NaN</td>\n      <td>NaN</td>\n      <td>2</td>\n      <td>[0]</td>\n      <td>[]</td>\n    </tr>\n    <tr>\n      <th>12</th>\n      <td>only 6 women out of 20</td>\n      <td>2</td>\n      <td>3.0</td>\n      <td>2.0</td>\n      <td>2.0</td>\n      <td>1.0</td>\n      <td>NaN</td>\n      <td>NaN</td>\n      <td>2</td>\n      <td>[3, 2]</td>\n      <td>[2, 1]</td>\n    </tr>\n    <tr>\n      <th>13</th>\n      <td>yeah. i hear one of them's a model</td>\n      <td>2</td>\n      <td>2.0</td>\n      <td>2.0</td>\n      <td>5.0</td>\n      <td>1.0</td>\n      <td>NaN</td>\n      <td>NaN</td>\n      <td>2</td>\n      <td>[2, 5]</td>\n      <td>[2, 1]</td>\n    </tr>\n    <tr>\n      <th>14</th>\n      <td>seriously, that's gonna help with the respect ...</td>\n      <td>2</td>\n      <td>3.0</td>\n      <td>2.0</td>\n      <td>2.0</td>\n      <td>3.0</td>\n      <td>NaN</td>\n      <td>NaN</td>\n      <td>2</td>\n      <td>[3, 2]</td>\n      <td>[2, 3]</td>\n    </tr>\n    <tr>\n      <th>15</th>\n      <td>you're cristina, right? - patton, monroe</td>\n      <td>2</td>\n      <td>0.0</td>\n      <td>NaN</td>\n      <td>NaN</td>\n      <td>NaN</td>\n      <td>NaN</td>\n      <td>NaN</td>\n      <td>2</td>\n      <td>[0]</td>\n      <td>[]</td>\n    </tr>\n    <tr>\n      <th>16</th>\n      <td>which resident are you assigned to? i got bailey</td>\n      <td>2</td>\n      <td>0.0</td>\n      <td>NaN</td>\n      <td>NaN</td>\n      <td>NaN</td>\n      <td>NaN</td>\n      <td>NaN</td>\n      <td>2</td>\n      <td>[0]</td>\n      <td>[]</td>\n    </tr>\n    <tr>\n      <th>17</th>\n      <td>the nazi? me too</td>\n      <td>1</td>\n      <td>3.0</td>\n      <td>2.0</td>\n      <td>4.0</td>\n      <td>1.0</td>\n      <td>NaN</td>\n      <td>NaN</td>\n      <td>1</td>\n      <td>[3, 4]</td>\n      <td>[2, 1]</td>\n    </tr>\n    <tr>\n      <th>18</th>\n      <td>you got the nazi? so did i</td>\n      <td>1</td>\n      <td>3.0</td>\n      <td>3.0</td>\n      <td>4.0</td>\n      <td>3.0</td>\n      <td>NaN</td>\n      <td>NaN</td>\n      <td>1</td>\n      <td>[3, 4]</td>\n      <td>[3]</td>\n    </tr>\n    <tr>\n      <th>19</th>\n      <td>at least we'll be tortured together, right?</td>\n      <td>1</td>\n      <td>4.0</td>\n      <td>2.0</td>\n      <td>NaN</td>\n      <td>NaN</td>\n      <td>NaN</td>\n      <td>NaN</td>\n      <td>1</td>\n      <td>[4]</td>\n      <td>[2]</td>\n    </tr>\n    <tr>\n      <th>20</th>\n      <td>i'm george o'malley</td>\n      <td>1</td>\n      <td>1.0</td>\n      <td>1.0</td>\n      <td>4.0</td>\n      <td>2.0</td>\n      <td>NaN</td>\n      <td>NaN</td>\n      <td>1</td>\n      <td>[1, 4]</td>\n      <td>[1, 2]</td>\n    </tr>\n    <tr>\n      <th>21</th>\n      <td>uh, we met at the mixer. you had on a black dr...</td>\n      <td>1</td>\n      <td>4.0</td>\n      <td>2.0</td>\n      <td>NaN</td>\n      <td>NaN</td>\n      <td>NaN</td>\n      <td>NaN</td>\n      <td>1</td>\n      <td>[4]</td>\n      <td>[2]</td>\n    </tr>\n    <tr>\n      <th>22</th>\n      <td>now you think i'm gay. no, i'm not gay</td>\n      <td>2</td>\n      <td>5.0</td>\n      <td>1.0</td>\n      <td>2.0</td>\n      <td>1.0</td>\n      <td>NaN</td>\n      <td>NaN</td>\n      <td>2</td>\n      <td>[5, 2]</td>\n      <td>[1]</td>\n    </tr>\n    <tr>\n      <th>23</th>\n      <td>it's - it's just that you were - you were very...</td>\n      <td>1</td>\n      <td>1.0</td>\n      <td>2.0</td>\n      <td>NaN</td>\n      <td>NaN</td>\n      <td>NaN</td>\n      <td>NaN</td>\n      <td>1</td>\n      <td>[1]</td>\n      <td>[2]</td>\n    </tr>\n    <tr>\n      <th>24</th>\n      <td>o'malley, yang, grey, stevens</td>\n      <td>2</td>\n      <td>0.0</td>\n      <td>NaN</td>\n      <td>NaN</td>\n      <td>NaN</td>\n      <td>NaN</td>\n      <td>NaN</td>\n      <td>2</td>\n      <td>[0]</td>\n      <td>[]</td>\n    </tr>\n    <tr>\n      <th>25</th>\n      <td>and i'm totally forgettable</td>\n      <td>2</td>\n      <td>5.0</td>\n      <td>2.0</td>\n      <td>2.0</td>\n      <td>2.0</td>\n      <td>NaN</td>\n      <td>NaN</td>\n      <td>2</td>\n      <td>[5, 2]</td>\n      <td>[2]</td>\n    </tr>\n    <tr>\n      <th>26</th>\n      <td>bailey? - end of the hall</td>\n      <td>2</td>\n      <td>3.0</td>\n      <td>2.0</td>\n      <td>NaN</td>\n      <td>NaN</td>\n      <td>NaN</td>\n      <td>NaN</td>\n      <td>2</td>\n      <td>[3]</td>\n      <td>[2]</td>\n    </tr>\n    <tr>\n      <th>27</th>\n      <td>that's the nazi?</td>\n      <td>2</td>\n      <td>3.0</td>\n      <td>3.0</td>\n      <td>NaN</td>\n      <td>NaN</td>\n      <td>NaN</td>\n      <td>NaN</td>\n      <td>2</td>\n      <td>[3]</td>\n      <td>[3]</td>\n    </tr>\n    <tr>\n      <th>28</th>\n      <td>i thought the nazi would be a guy</td>\n      <td>2</td>\n      <td>3.0</td>\n      <td>2.0</td>\n      <td>1.0</td>\n      <td>1.0</td>\n      <td>NaN</td>\n      <td>NaN</td>\n      <td>2</td>\n      <td>[3, 1]</td>\n      <td>[2, 1]</td>\n    </tr>\n    <tr>\n      <th>29</th>\n      <td>i thought the nazi would be a nazi</td>\n      <td>2</td>\n      <td>3.0</td>\n      <td>1.0</td>\n      <td>2.0</td>\n      <td>2.0</td>\n      <td>NaN</td>\n      <td>NaN</td>\n      <td>2</td>\n      <td>[3, 2]</td>\n      <td>[1, 2]</td>\n    </tr>\n    <tr>\n      <th>30</th>\n      <td>maybe it's professional jealousy</td>\n      <td>2</td>\n      <td>0.0</td>\n      <td>NaN</td>\n      <td>NaN</td>\n      <td>NaN</td>\n      <td>NaN</td>\n      <td>NaN</td>\n      <td>2</td>\n      <td>[0]</td>\n      <td>[]</td>\n    </tr>\n    <tr>\n      <th>31</th>\n      <td>maybe she's brilliant, and they call her a naz...</td>\n      <td>1</td>\n      <td>1.0</td>\n      <td>2.0</td>\n      <td>NaN</td>\n      <td>NaN</td>\n      <td>NaN</td>\n      <td>NaN</td>\n      <td>1</td>\n      <td>[1]</td>\n      <td>[2]</td>\n    </tr>\n    <tr>\n      <th>32</th>\n      <td>maybe she's nice</td>\n      <td>1</td>\n      <td>1.0</td>\n      <td>1.0</td>\n      <td>NaN</td>\n      <td>NaN</td>\n      <td>NaN</td>\n      <td>NaN</td>\n      <td>1</td>\n      <td>[1]</td>\n      <td>[1]</td>\n    </tr>\n    <tr>\n      <th>33</th>\n      <td>let me guess - you're the model</td>\n      <td>2</td>\n      <td>3.0</td>\n      <td>1.0</td>\n      <td>2.0</td>\n      <td>2.0</td>\n      <td>NaN</td>\n      <td>NaN</td>\n      <td>2</td>\n      <td>[3, 2]</td>\n      <td>[1, 2]</td>\n    </tr>\n    <tr>\n      <th>34</th>\n      <td>hi, i'm isobel stevens, but everyone calls me ...</td>\n      <td>1</td>\n      <td>1.0</td>\n      <td>1.0</td>\n      <td>4.0</td>\n      <td>3.0</td>\n      <td>NaN</td>\n      <td>NaN</td>\n      <td>1</td>\n      <td>[1, 4]</td>\n      <td>[1, 3]</td>\n    </tr>\n    <tr>\n      <th>35</th>\n      <td>i have five rules. memorize them</td>\n      <td>2</td>\n      <td>0.0</td>\n      <td>NaN</td>\n      <td>NaN</td>\n      <td>NaN</td>\n      <td>NaN</td>\n      <td>NaN</td>\n      <td>2</td>\n      <td>[0]</td>\n      <td>[]</td>\n    </tr>\n    <tr>\n      <th>36</th>\n      <td>rule number one - don't bother sucking up. i a...</td>\n      <td>2</td>\n      <td>2.0</td>\n      <td>2.0</td>\n      <td>NaN</td>\n      <td>NaN</td>\n      <td>NaN</td>\n      <td>NaN</td>\n      <td>2</td>\n      <td>[2]</td>\n      <td>[2]</td>\n    </tr>\n    <tr>\n      <th>37</th>\n      <td>trauma protocol, phone list, pagers - nurses w...</td>\n      <td>2</td>\n      <td>0.0</td>\n      <td>NaN</td>\n      <td>NaN</td>\n      <td>NaN</td>\n      <td>NaN</td>\n      <td>NaN</td>\n      <td>2</td>\n      <td>[0]</td>\n      <td>[]</td>\n    </tr>\n    <tr>\n      <th>38</th>\n      <td>you will answer every page at a run - a run - ...</td>\n      <td>2</td>\n      <td>6.0</td>\n      <td>1.0</td>\n      <td>NaN</td>\n      <td>NaN</td>\n      <td>NaN</td>\n      <td>NaN</td>\n      <td>2</td>\n      <td>[6]</td>\n      <td>[1]</td>\n    </tr>\n    <tr>\n      <th>39</th>\n      <td>your first shift starts now and lasts 48 hours</td>\n      <td>2</td>\n      <td>0.0</td>\n      <td>NaN</td>\n      <td>NaN</td>\n      <td>NaN</td>\n      <td>NaN</td>\n      <td>NaN</td>\n      <td>2</td>\n      <td>[0]</td>\n      <td>[]</td>\n    </tr>\n    <tr>\n      <th>40</th>\n      <td>seattle is surrounded by water on three sides</td>\n      <td>1</td>\n      <td>1.0</td>\n      <td>1.0</td>\n      <td>NaN</td>\n      <td>NaN</td>\n      <td>NaN</td>\n      <td>NaN</td>\n      <td>1</td>\n      <td>[1]</td>\n      <td>[1]</td>\n    </tr>\n    <tr>\n      <th>41</th>\n      <td>hence the ferryboats</td>\n      <td>1</td>\n      <td>1.0</td>\n      <td>1.0</td>\n      <td>4.0</td>\n      <td>1.0</td>\n      <td>NaN</td>\n      <td>NaN</td>\n      <td>1</td>\n      <td>[1, 4]</td>\n      <td>[1]</td>\n    </tr>\n    <tr>\n      <th>42</th>\n      <td>now i have to like it here</td>\n      <td>1</td>\n      <td>1.0</td>\n      <td>2.0</td>\n      <td>2.0</td>\n      <td>1.0</td>\n      <td>NaN</td>\n      <td>NaN</td>\n      <td>1</td>\n      <td>[1, 2]</td>\n      <td>[2, 1]</td>\n    </tr>\n    <tr>\n      <th>43</th>\n      <td>i wasn't planning on liking it here</td>\n      <td>2</td>\n      <td>1.0</td>\n      <td>2.0</td>\n      <td>5.0</td>\n      <td>1.0</td>\n      <td>NaN</td>\n      <td>NaN</td>\n      <td>2</td>\n      <td>[1, 5]</td>\n      <td>[2, 1]</td>\n    </tr>\n    <tr>\n      <th>44</th>\n      <td>i'm from new york</td>\n      <td>1</td>\n      <td>1.0</td>\n      <td>1.0</td>\n      <td>NaN</td>\n      <td>NaN</td>\n      <td>NaN</td>\n      <td>NaN</td>\n      <td>1</td>\n      <td>[1]</td>\n      <td>[1]</td>\n    </tr>\n    <tr>\n      <th>45</th>\n      <td>i'm genetically engineered to dislike everywhe...</td>\n      <td>2</td>\n      <td>5.0</td>\n      <td>1.0</td>\n      <td>2.0</td>\n      <td>2.0</td>\n      <td>NaN</td>\n      <td>NaN</td>\n      <td>2</td>\n      <td>[5, 2]</td>\n      <td>[1, 2]</td>\n    </tr>\n    <tr>\n      <th>46</th>\n      <td>i have a thing for ferryboats</td>\n      <td>1</td>\n      <td>1.0</td>\n      <td>2.0</td>\n      <td>4.0</td>\n      <td>1.0</td>\n      <td>NaN</td>\n      <td>NaN</td>\n      <td>1</td>\n      <td>[1, 4]</td>\n      <td>[2, 1]</td>\n    </tr>\n    <tr>\n      <th>47</th>\n      <td>i'm not going out with you</td>\n      <td>2</td>\n      <td>1.0</td>\n      <td>1.0</td>\n      <td>NaN</td>\n      <td>NaN</td>\n      <td>NaN</td>\n      <td>NaN</td>\n      <td>2</td>\n      <td>[1]</td>\n      <td>[1]</td>\n    </tr>\n    <tr>\n      <th>48</th>\n      <td>did i ask you to go out with me?</td>\n      <td>1</td>\n      <td>3.0</td>\n      <td>2.0</td>\n      <td>4.0</td>\n      <td>1.0</td>\n      <td>NaN</td>\n      <td>NaN</td>\n      <td>1</td>\n      <td>[3, 4]</td>\n      <td>[2, 1]</td>\n    </tr>\n    <tr>\n      <th>49</th>\n      <td>do you want to go out with me?</td>\n      <td>1</td>\n      <td>4.0</td>\n      <td>2.0</td>\n      <td>NaN</td>\n      <td>NaN</td>\n      <td>NaN</td>\n      <td>NaN</td>\n      <td>1</td>\n      <td>[4]</td>\n      <td>[2]</td>\n    </tr>\n  </tbody>\n</table>\n</div>"
     },
     "execution_count": 37,
     "metadata": {},
     "output_type": "execute_result"
    }
   ],
   "source": [
    "meta_dfs.head(50)"
   ],
   "metadata": {
    "collapsed": false,
    "ExecuteTime": {
     "end_time": "2024-09-26T13:20:11.159920Z",
     "start_time": "2024-09-26T13:20:11.136812Z"
    }
   },
   "id": "8a56fdb958c693e9",
   "execution_count": 37
  },
  {
   "cell_type": "code",
   "outputs": [
    {
     "data": {
      "text/plain": "array([nan,  2.,  1.,  3.])"
     },
     "execution_count": 41,
     "metadata": {},
     "output_type": "execute_result"
    }
   ],
   "source": [
    "meta_dfs['intensity3'].unique()"
   ],
   "metadata": {
    "collapsed": false,
    "ExecuteTime": {
     "end_time": "2024-09-26T13:24:07.674770Z",
     "start_time": "2024-09-26T13:24:07.670641Z"
    }
   },
   "id": "2af3200f3f258498",
   "execution_count": 41
  },
  {
   "cell_type": "code",
   "outputs": [
    {
     "ename": "TypeError",
     "evalue": "'<' not supported between instances of 'str' and 'int'",
     "output_type": "error",
     "traceback": [
      "\u001B[1;31m---------------------------------------------------------------------------\u001B[0m",
      "\u001B[1;31mTypeError\u001B[0m                                 Traceback (most recent call last)",
      "Cell \u001B[1;32mIn[56], line 28\u001B[0m\n\u001B[0;32m     21\u001B[0m     \u001B[38;5;28;01mreturn\u001B[39;00m {\n\u001B[0;32m     22\u001B[0m         \u001B[38;5;124m'\u001B[39m\u001B[38;5;124msentiment_vector\u001B[39m\u001B[38;5;124m'\u001B[39m: sentiment_vector,\n\u001B[0;32m     23\u001B[0m         \u001B[38;5;124m'\u001B[39m\u001B[38;5;124memotion_vector\u001B[39m\u001B[38;5;124m'\u001B[39m: emotion_vector,\n\u001B[0;32m     24\u001B[0m         \u001B[38;5;124m'\u001B[39m\u001B[38;5;124mintensity_vector\u001B[39m\u001B[38;5;124m'\u001B[39m: intensity_vector\n\u001B[0;32m     25\u001B[0m     }\n\u001B[0;32m     27\u001B[0m \u001B[38;5;66;03m# Apply the function and create new columns for the vectors\u001B[39;00m\n\u001B[1;32m---> 28\u001B[0m binary_vectors \u001B[38;5;241m=\u001B[39m meta_df\u001B[38;5;241m.\u001B[39mapply(create_binary_vectors, axis\u001B[38;5;241m=\u001B[39m\u001B[38;5;241m1\u001B[39m)\n\u001B[0;32m     30\u001B[0m \u001B[38;5;66;03m# Expand the dictionary into separate DataFrame columns\u001B[39;00m\n\u001B[0;32m     31\u001B[0m meta_dfs[\u001B[38;5;124m'\u001B[39m\u001B[38;5;124msentiment_vector\u001B[39m\u001B[38;5;124m'\u001B[39m] \u001B[38;5;241m=\u001B[39m binary_vectors\u001B[38;5;241m.\u001B[39mapply(\u001B[38;5;28;01mlambda\u001B[39;00m x: x[\u001B[38;5;124m'\u001B[39m\u001B[38;5;124msentiment_vector\u001B[39m\u001B[38;5;124m'\u001B[39m])\n",
      "File \u001B[1;32mD:\\conda\\Lib\\site-packages\\pandas\\core\\frame.py:10374\u001B[0m, in \u001B[0;36mDataFrame.apply\u001B[1;34m(self, func, axis, raw, result_type, args, by_row, engine, engine_kwargs, **kwargs)\u001B[0m\n\u001B[0;32m  10360\u001B[0m \u001B[38;5;28;01mfrom\u001B[39;00m \u001B[38;5;21;01mpandas\u001B[39;00m\u001B[38;5;21;01m.\u001B[39;00m\u001B[38;5;21;01mcore\u001B[39;00m\u001B[38;5;21;01m.\u001B[39;00m\u001B[38;5;21;01mapply\u001B[39;00m \u001B[38;5;28;01mimport\u001B[39;00m frame_apply\n\u001B[0;32m  10362\u001B[0m op \u001B[38;5;241m=\u001B[39m frame_apply(\n\u001B[0;32m  10363\u001B[0m     \u001B[38;5;28mself\u001B[39m,\n\u001B[0;32m  10364\u001B[0m     func\u001B[38;5;241m=\u001B[39mfunc,\n\u001B[1;32m   (...)\u001B[0m\n\u001B[0;32m  10372\u001B[0m     kwargs\u001B[38;5;241m=\u001B[39mkwargs,\n\u001B[0;32m  10373\u001B[0m )\n\u001B[1;32m> 10374\u001B[0m \u001B[38;5;28;01mreturn\u001B[39;00m op\u001B[38;5;241m.\u001B[39mapply()\u001B[38;5;241m.\u001B[39m__finalize__(\u001B[38;5;28mself\u001B[39m, method\u001B[38;5;241m=\u001B[39m\u001B[38;5;124m\"\u001B[39m\u001B[38;5;124mapply\u001B[39m\u001B[38;5;124m\"\u001B[39m)\n",
      "File \u001B[1;32mD:\\conda\\Lib\\site-packages\\pandas\\core\\apply.py:916\u001B[0m, in \u001B[0;36mFrameApply.apply\u001B[1;34m(self)\u001B[0m\n\u001B[0;32m    913\u001B[0m \u001B[38;5;28;01melif\u001B[39;00m \u001B[38;5;28mself\u001B[39m\u001B[38;5;241m.\u001B[39mraw:\n\u001B[0;32m    914\u001B[0m     \u001B[38;5;28;01mreturn\u001B[39;00m \u001B[38;5;28mself\u001B[39m\u001B[38;5;241m.\u001B[39mapply_raw(engine\u001B[38;5;241m=\u001B[39m\u001B[38;5;28mself\u001B[39m\u001B[38;5;241m.\u001B[39mengine, engine_kwargs\u001B[38;5;241m=\u001B[39m\u001B[38;5;28mself\u001B[39m\u001B[38;5;241m.\u001B[39mengine_kwargs)\n\u001B[1;32m--> 916\u001B[0m \u001B[38;5;28;01mreturn\u001B[39;00m \u001B[38;5;28mself\u001B[39m\u001B[38;5;241m.\u001B[39mapply_standard()\n",
      "File \u001B[1;32mD:\\conda\\Lib\\site-packages\\pandas\\core\\apply.py:1063\u001B[0m, in \u001B[0;36mFrameApply.apply_standard\u001B[1;34m(self)\u001B[0m\n\u001B[0;32m   1061\u001B[0m \u001B[38;5;28;01mdef\u001B[39;00m \u001B[38;5;21mapply_standard\u001B[39m(\u001B[38;5;28mself\u001B[39m):\n\u001B[0;32m   1062\u001B[0m     \u001B[38;5;28;01mif\u001B[39;00m \u001B[38;5;28mself\u001B[39m\u001B[38;5;241m.\u001B[39mengine \u001B[38;5;241m==\u001B[39m \u001B[38;5;124m\"\u001B[39m\u001B[38;5;124mpython\u001B[39m\u001B[38;5;124m\"\u001B[39m:\n\u001B[1;32m-> 1063\u001B[0m         results, res_index \u001B[38;5;241m=\u001B[39m \u001B[38;5;28mself\u001B[39m\u001B[38;5;241m.\u001B[39mapply_series_generator()\n\u001B[0;32m   1064\u001B[0m     \u001B[38;5;28;01melse\u001B[39;00m:\n\u001B[0;32m   1065\u001B[0m         results, res_index \u001B[38;5;241m=\u001B[39m \u001B[38;5;28mself\u001B[39m\u001B[38;5;241m.\u001B[39mapply_series_numba()\n",
      "File \u001B[1;32mD:\\conda\\Lib\\site-packages\\pandas\\core\\apply.py:1081\u001B[0m, in \u001B[0;36mFrameApply.apply_series_generator\u001B[1;34m(self)\u001B[0m\n\u001B[0;32m   1078\u001B[0m \u001B[38;5;28;01mwith\u001B[39;00m option_context(\u001B[38;5;124m\"\u001B[39m\u001B[38;5;124mmode.chained_assignment\u001B[39m\u001B[38;5;124m\"\u001B[39m, \u001B[38;5;28;01mNone\u001B[39;00m):\n\u001B[0;32m   1079\u001B[0m     \u001B[38;5;28;01mfor\u001B[39;00m i, v \u001B[38;5;129;01min\u001B[39;00m \u001B[38;5;28menumerate\u001B[39m(series_gen):\n\u001B[0;32m   1080\u001B[0m         \u001B[38;5;66;03m# ignore SettingWithCopy here in case the user mutates\u001B[39;00m\n\u001B[1;32m-> 1081\u001B[0m         results[i] \u001B[38;5;241m=\u001B[39m \u001B[38;5;28mself\u001B[39m\u001B[38;5;241m.\u001B[39mfunc(v, \u001B[38;5;241m*\u001B[39m\u001B[38;5;28mself\u001B[39m\u001B[38;5;241m.\u001B[39margs, \u001B[38;5;241m*\u001B[39m\u001B[38;5;241m*\u001B[39m\u001B[38;5;28mself\u001B[39m\u001B[38;5;241m.\u001B[39mkwargs)\n\u001B[0;32m   1082\u001B[0m         \u001B[38;5;28;01mif\u001B[39;00m \u001B[38;5;28misinstance\u001B[39m(results[i], ABCSeries):\n\u001B[0;32m   1083\u001B[0m             \u001B[38;5;66;03m# If we have a view on v, we need to make a copy because\u001B[39;00m\n\u001B[0;32m   1084\u001B[0m             \u001B[38;5;66;03m#  series_generator will swap out the underlying data\u001B[39;00m\n\u001B[0;32m   1085\u001B[0m             results[i] \u001B[38;5;241m=\u001B[39m results[i]\u001B[38;5;241m.\u001B[39mcopy(deep\u001B[38;5;241m=\u001B[39m\u001B[38;5;28;01mFalse\u001B[39;00m)\n",
      "Cell \u001B[1;32mIn[56], line 5\u001B[0m, in \u001B[0;36mcreate_binary_vectors\u001B[1;34m(row)\u001B[0m\n\u001B[0;32m      2\u001B[0m \u001B[38;5;28;01mdef\u001B[39;00m \u001B[38;5;21mcreate_binary_vectors\u001B[39m(row):\n\u001B[0;32m      3\u001B[0m     \u001B[38;5;66;03m# Initialize binary vector for sentiment (3 values)\u001B[39;00m\n\u001B[0;32m      4\u001B[0m     sentiment_vector \u001B[38;5;241m=\u001B[39m [\u001B[38;5;241m0\u001B[39m, \u001B[38;5;241m0\u001B[39m, \u001B[38;5;241m0\u001B[39m]  \u001B[38;5;66;03m# For sentiment values 0, 1, and 2\u001B[39;00m\n\u001B[1;32m----> 5\u001B[0m     \u001B[38;5;28;01mif\u001B[39;00m pd\u001B[38;5;241m.\u001B[39mnotna(row[\u001B[38;5;124m'\u001B[39m\u001B[38;5;124msentiment\u001B[39m\u001B[38;5;124m'\u001B[39m]) \u001B[38;5;129;01mand\u001B[39;00m row[\u001B[38;5;124m'\u001B[39m\u001B[38;5;124msentiment\u001B[39m\u001B[38;5;124m'\u001B[39m] \u001B[38;5;241m<\u001B[39m \u001B[38;5;241m3\u001B[39m:  \u001B[38;5;66;03m# Check if sentiment is not NaN and within range\u001B[39;00m\n\u001B[0;32m      6\u001B[0m         sentiment_vector[\u001B[38;5;28mint\u001B[39m(row[\u001B[38;5;124m'\u001B[39m\u001B[38;5;124msentiment\u001B[39m\u001B[38;5;124m'\u001B[39m])] \u001B[38;5;241m=\u001B[39m \u001B[38;5;241m1\u001B[39m\n\u001B[0;32m      8\u001B[0m     \u001B[38;5;66;03m# Initialize binary vector for emotions (9 values)\u001B[39;00m\n",
      "\u001B[1;31mTypeError\u001B[0m: '<' not supported between instances of 'str' and 'int'"
     ]
    }
   ],
   "source": [
    "# Create separate binary vectors for sentiment, emotions, and intensity\n",
    "def create_binary_vectors(row):\n",
    "    # Initialize binary vector for sentiment (3 values)\n",
    "    sentiment_vector = [0, 0, 0]  # For sentiment values 0, 1, and 2\n",
    "    if pd.notna(row['sentiment']) and row['sentiment'] < 3:  # Check if sentiment is not NaN and within range\n",
    "        sentiment_vector[int(row['sentiment'])] = 1\n",
    "\n",
    "    # Initialize binary vector for emotions (9 values)\n",
    "    emotion_vector = [0] * 9  # For 9 emotion values\n",
    "    for emotion in [row['emotion'], row['emotion2'], row['emotion3']]:\n",
    "        if pd.notna(emotion) and 0 <= emotion < len(emotion_vector):  # Check if emotion is not NaN and within range\n",
    "            emotion_vector[int(emotion)] = 1\n",
    "\n",
    "    # Initialize binary vector for intensity (adjust size based on your specific range)\n",
    "    intensity_vector = [0] * 4  # Assuming intensity values are 0 to 3; adjust as necessary\n",
    "    for intensity in [row['intensity'], row['intensity2'], row['intensity3']]:\n",
    "        if pd.notna(intensity) and 0 <= intensity < len(intensity_vector):  # Check if intensity is not NaN and within range\n",
    "            intensity_vector[int(intensity)] = 1\n",
    "\n",
    "    # Return separate vectors\n",
    "    return {\n",
    "        'sentiment_vector': sentiment_vector,\n",
    "        'emotion_vector': emotion_vector,\n",
    "        'intensity_vector': intensity_vector\n",
    "    }\n",
    "\n",
    "# Apply the function and create new columns for the vectors\n",
    "binary_vectors = meta_df.apply(create_binary_vectors, axis=1)\n",
    "\n",
    "# Expand the dictionary into separate DataFrame columns\n",
    "meta_dfs['sentiment_vector'] = binary_vectors.apply(lambda x: x['sentiment_vector'])\n",
    "meta_dfs['emotion_vector'] = binary_vectors.apply(lambda x: x['emotion_vector'])\n",
    "meta_dfs['intensity_vector'] = binary_vectors.apply(lambda x: x['intensity_vector'])\n"
   ],
   "metadata": {
    "collapsed": false,
    "ExecuteTime": {
     "end_time": "2024-09-26T13:49:34.402701Z",
     "start_time": "2024-09-26T13:49:34.347021Z"
    }
   },
   "id": "d99ef06825a01886",
   "execution_count": 56
  },
  {
   "cell_type": "code",
   "outputs": [],
   "source": [
    "# Apply the function to create a new binary vector column\n",
    "meta_dfs['binary_vector'] = meta_dfs.apply(create_binary_vector, axis=1)"
   ],
   "metadata": {
    "collapsed": false,
    "ExecuteTime": {
     "end_time": "2024-09-26T13:30:20.255256Z",
     "start_time": "2024-09-26T13:30:19.860787Z"
    }
   },
   "id": "d1f9982a0fcb5603",
   "execution_count": 45
  },
  {
   "cell_type": "code",
   "outputs": [
    {
     "data": {
      "text/plain": "                                           Utterances sentiment emotion  \\\n0                                     look around you         2     0.0   \n1                       say hello to your competition         2     0.0   \n2     eight of you will switch to an easier specialty         2     0.0   \n3           five of you will crack under the pressure         2     0.0   \n4                   two of you will be asked to leave         2     0.0   \n5                          this is your starting line         2     0.0   \n6                                  this is your arena         2     0.0   \n7                                   how well you play         2     0.0   \n8                                    that's up to you         2     0.0   \n9                                         like i said         2     1.0   \n10                                        i'm screwed         2     2.0   \n11              okay, martin, robinson, bond, hawkins         2     0.0   \n12                             only 6 women out of 20         2     3.0   \n13                 yeah. i hear one of them's a model         2     2.0   \n14  seriously, that's gonna help with the respect ...         2     3.0   \n15           you're cristina, right? - patton, monroe         2     0.0   \n16   which resident are you assigned to? i got bailey         2     0.0   \n17                                   the nazi? me too         1     3.0   \n18                         you got the nazi? so did i         1     3.0   \n19        at least we'll be tortured together, right?         1     4.0   \n\n   intensity emotion2 intensity2 emotion3  intensity3 combined_sentiment  \\\n0        NaN      NaN        NaN      NaN         NaN                  2   \n1        NaN      NaN        NaN      NaN         NaN                  2   \n2        NaN      NaN        NaN      NaN         NaN                  2   \n3        NaN      NaN        NaN      NaN         NaN                  2   \n4        NaN      NaN        NaN      NaN         NaN                  2   \n5        NaN      NaN        NaN      NaN         NaN                  2   \n6        NaN      NaN        NaN      NaN         NaN                  2   \n7        NaN      NaN        NaN      NaN         NaN                  2   \n8        NaN      NaN        NaN      NaN         NaN                  2   \n9        1.0      2.0        1.0      NaN         NaN                  2   \n10       2.0      5.0        1.0      NaN         NaN                  2   \n11       NaN      NaN        NaN      NaN         NaN                  2   \n12       2.0      2.0        1.0      NaN         NaN                  2   \n13       2.0      5.0        1.0      NaN         NaN                  2   \n14       2.0      2.0        3.0      NaN         NaN                  2   \n15       NaN      NaN        NaN      NaN         NaN                  2   \n16       NaN      NaN        NaN      NaN         NaN                  2   \n17       2.0      4.0        1.0      NaN         NaN                  1   \n18       3.0      4.0        3.0      NaN         NaN                  1   \n19       2.0      NaN        NaN      NaN         NaN                  1   \n\n   combined_emotions combined_intensities  \\\n0                [0]                   []   \n1                [0]                   []   \n2                [0]                   []   \n3                [0]                   []   \n4                [0]                   []   \n5                [0]                   []   \n6                [0]                   []   \n7                [0]                   []   \n8                [0]                   []   \n9             [1, 2]                  [1]   \n10            [2, 5]               [2, 1]   \n11               [0]                   []   \n12            [3, 2]               [2, 1]   \n13            [2, 5]               [2, 1]   \n14            [3, 2]               [2, 3]   \n15               [0]                   []   \n16               [0]                   []   \n17            [3, 4]               [2, 1]   \n18            [3, 4]                  [3]   \n19               [4]                  [2]   \n\n                                       binary_vector  \n0   [0, 0, 1, 1, 0, 0, 0, 0, 0, 0, 0, 0, 0, 0, 0, 0]  \n1   [0, 0, 1, 1, 0, 0, 0, 0, 0, 0, 0, 0, 0, 0, 0, 0]  \n2   [0, 0, 1, 1, 0, 0, 0, 0, 0, 0, 0, 0, 0, 0, 0, 0]  \n3   [0, 0, 1, 1, 0, 0, 0, 0, 0, 0, 0, 0, 0, 0, 0, 0]  \n4   [0, 0, 1, 1, 0, 0, 0, 0, 0, 0, 0, 0, 0, 0, 0, 0]  \n5   [0, 0, 1, 1, 0, 0, 0, 0, 0, 0, 0, 0, 0, 0, 0, 0]  \n6   [0, 0, 1, 1, 0, 0, 0, 0, 0, 0, 0, 0, 0, 0, 0, 0]  \n7   [0, 0, 1, 1, 0, 0, 0, 0, 0, 0, 0, 0, 0, 0, 0, 0]  \n8   [0, 0, 1, 1, 0, 0, 0, 0, 0, 0, 0, 0, 0, 0, 0, 0]  \n9   [0, 0, 1, 0, 1, 1, 0, 0, 0, 0, 0, 0, 0, 1, 0, 0]  \n10  [0, 0, 1, 0, 0, 1, 0, 0, 1, 0, 0, 0, 0, 1, 1, 0]  \n11  [0, 0, 1, 1, 0, 0, 0, 0, 0, 0, 0, 0, 0, 0, 0, 0]  \n12  [0, 0, 1, 0, 0, 1, 1, 0, 0, 0, 0, 0, 0, 1, 1, 0]  \n13  [0, 0, 1, 0, 0, 1, 0, 0, 1, 0, 0, 0, 0, 1, 1, 0]  \n14  [0, 0, 1, 0, 0, 1, 1, 0, 0, 0, 0, 0, 0, 0, 1, 1]  \n15  [0, 0, 1, 1, 0, 0, 0, 0, 0, 0, 0, 0, 0, 0, 0, 0]  \n16  [0, 0, 1, 1, 0, 0, 0, 0, 0, 0, 0, 0, 0, 0, 0, 0]  \n17  [0, 1, 0, 0, 0, 0, 1, 1, 0, 0, 0, 0, 0, 1, 1, 0]  \n18  [0, 1, 0, 0, 0, 0, 1, 1, 0, 0, 0, 0, 0, 0, 0, 1]  \n19  [0, 1, 0, 0, 0, 0, 0, 1, 0, 0, 0, 0, 0, 0, 1, 0]  ",
      "text/html": "<div>\n<style scoped>\n    .dataframe tbody tr th:only-of-type {\n        vertical-align: middle;\n    }\n\n    .dataframe tbody tr th {\n        vertical-align: top;\n    }\n\n    .dataframe thead th {\n        text-align: right;\n    }\n</style>\n<table border=\"1\" class=\"dataframe\">\n  <thead>\n    <tr style=\"text-align: right;\">\n      <th></th>\n      <th>Utterances</th>\n      <th>sentiment</th>\n      <th>emotion</th>\n      <th>intensity</th>\n      <th>emotion2</th>\n      <th>intensity2</th>\n      <th>emotion3</th>\n      <th>intensity3</th>\n      <th>combined_sentiment</th>\n      <th>combined_emotions</th>\n      <th>combined_intensities</th>\n      <th>binary_vector</th>\n    </tr>\n  </thead>\n  <tbody>\n    <tr>\n      <th>0</th>\n      <td>look around you</td>\n      <td>2</td>\n      <td>0.0</td>\n      <td>NaN</td>\n      <td>NaN</td>\n      <td>NaN</td>\n      <td>NaN</td>\n      <td>NaN</td>\n      <td>2</td>\n      <td>[0]</td>\n      <td>[]</td>\n      <td>[0, 0, 1, 1, 0, 0, 0, 0, 0, 0, 0, 0, 0, 0, 0, 0]</td>\n    </tr>\n    <tr>\n      <th>1</th>\n      <td>say hello to your competition</td>\n      <td>2</td>\n      <td>0.0</td>\n      <td>NaN</td>\n      <td>NaN</td>\n      <td>NaN</td>\n      <td>NaN</td>\n      <td>NaN</td>\n      <td>2</td>\n      <td>[0]</td>\n      <td>[]</td>\n      <td>[0, 0, 1, 1, 0, 0, 0, 0, 0, 0, 0, 0, 0, 0, 0, 0]</td>\n    </tr>\n    <tr>\n      <th>2</th>\n      <td>eight of you will switch to an easier specialty</td>\n      <td>2</td>\n      <td>0.0</td>\n      <td>NaN</td>\n      <td>NaN</td>\n      <td>NaN</td>\n      <td>NaN</td>\n      <td>NaN</td>\n      <td>2</td>\n      <td>[0]</td>\n      <td>[]</td>\n      <td>[0, 0, 1, 1, 0, 0, 0, 0, 0, 0, 0, 0, 0, 0, 0, 0]</td>\n    </tr>\n    <tr>\n      <th>3</th>\n      <td>five of you will crack under the pressure</td>\n      <td>2</td>\n      <td>0.0</td>\n      <td>NaN</td>\n      <td>NaN</td>\n      <td>NaN</td>\n      <td>NaN</td>\n      <td>NaN</td>\n      <td>2</td>\n      <td>[0]</td>\n      <td>[]</td>\n      <td>[0, 0, 1, 1, 0, 0, 0, 0, 0, 0, 0, 0, 0, 0, 0, 0]</td>\n    </tr>\n    <tr>\n      <th>4</th>\n      <td>two of you will be asked to leave</td>\n      <td>2</td>\n      <td>0.0</td>\n      <td>NaN</td>\n      <td>NaN</td>\n      <td>NaN</td>\n      <td>NaN</td>\n      <td>NaN</td>\n      <td>2</td>\n      <td>[0]</td>\n      <td>[]</td>\n      <td>[0, 0, 1, 1, 0, 0, 0, 0, 0, 0, 0, 0, 0, 0, 0, 0]</td>\n    </tr>\n    <tr>\n      <th>5</th>\n      <td>this is your starting line</td>\n      <td>2</td>\n      <td>0.0</td>\n      <td>NaN</td>\n      <td>NaN</td>\n      <td>NaN</td>\n      <td>NaN</td>\n      <td>NaN</td>\n      <td>2</td>\n      <td>[0]</td>\n      <td>[]</td>\n      <td>[0, 0, 1, 1, 0, 0, 0, 0, 0, 0, 0, 0, 0, 0, 0, 0]</td>\n    </tr>\n    <tr>\n      <th>6</th>\n      <td>this is your arena</td>\n      <td>2</td>\n      <td>0.0</td>\n      <td>NaN</td>\n      <td>NaN</td>\n      <td>NaN</td>\n      <td>NaN</td>\n      <td>NaN</td>\n      <td>2</td>\n      <td>[0]</td>\n      <td>[]</td>\n      <td>[0, 0, 1, 1, 0, 0, 0, 0, 0, 0, 0, 0, 0, 0, 0, 0]</td>\n    </tr>\n    <tr>\n      <th>7</th>\n      <td>how well you play</td>\n      <td>2</td>\n      <td>0.0</td>\n      <td>NaN</td>\n      <td>NaN</td>\n      <td>NaN</td>\n      <td>NaN</td>\n      <td>NaN</td>\n      <td>2</td>\n      <td>[0]</td>\n      <td>[]</td>\n      <td>[0, 0, 1, 1, 0, 0, 0, 0, 0, 0, 0, 0, 0, 0, 0, 0]</td>\n    </tr>\n    <tr>\n      <th>8</th>\n      <td>that's up to you</td>\n      <td>2</td>\n      <td>0.0</td>\n      <td>NaN</td>\n      <td>NaN</td>\n      <td>NaN</td>\n      <td>NaN</td>\n      <td>NaN</td>\n      <td>2</td>\n      <td>[0]</td>\n      <td>[]</td>\n      <td>[0, 0, 1, 1, 0, 0, 0, 0, 0, 0, 0, 0, 0, 0, 0, 0]</td>\n    </tr>\n    <tr>\n      <th>9</th>\n      <td>like i said</td>\n      <td>2</td>\n      <td>1.0</td>\n      <td>1.0</td>\n      <td>2.0</td>\n      <td>1.0</td>\n      <td>NaN</td>\n      <td>NaN</td>\n      <td>2</td>\n      <td>[1, 2]</td>\n      <td>[1]</td>\n      <td>[0, 0, 1, 0, 1, 1, 0, 0, 0, 0, 0, 0, 0, 1, 0, 0]</td>\n    </tr>\n    <tr>\n      <th>10</th>\n      <td>i'm screwed</td>\n      <td>2</td>\n      <td>2.0</td>\n      <td>2.0</td>\n      <td>5.0</td>\n      <td>1.0</td>\n      <td>NaN</td>\n      <td>NaN</td>\n      <td>2</td>\n      <td>[2, 5]</td>\n      <td>[2, 1]</td>\n      <td>[0, 0, 1, 0, 0, 1, 0, 0, 1, 0, 0, 0, 0, 1, 1, 0]</td>\n    </tr>\n    <tr>\n      <th>11</th>\n      <td>okay, martin, robinson, bond, hawkins</td>\n      <td>2</td>\n      <td>0.0</td>\n      <td>NaN</td>\n      <td>NaN</td>\n      <td>NaN</td>\n      <td>NaN</td>\n      <td>NaN</td>\n      <td>2</td>\n      <td>[0]</td>\n      <td>[]</td>\n      <td>[0, 0, 1, 1, 0, 0, 0, 0, 0, 0, 0, 0, 0, 0, 0, 0]</td>\n    </tr>\n    <tr>\n      <th>12</th>\n      <td>only 6 women out of 20</td>\n      <td>2</td>\n      <td>3.0</td>\n      <td>2.0</td>\n      <td>2.0</td>\n      <td>1.0</td>\n      <td>NaN</td>\n      <td>NaN</td>\n      <td>2</td>\n      <td>[3, 2]</td>\n      <td>[2, 1]</td>\n      <td>[0, 0, 1, 0, 0, 1, 1, 0, 0, 0, 0, 0, 0, 1, 1, 0]</td>\n    </tr>\n    <tr>\n      <th>13</th>\n      <td>yeah. i hear one of them's a model</td>\n      <td>2</td>\n      <td>2.0</td>\n      <td>2.0</td>\n      <td>5.0</td>\n      <td>1.0</td>\n      <td>NaN</td>\n      <td>NaN</td>\n      <td>2</td>\n      <td>[2, 5]</td>\n      <td>[2, 1]</td>\n      <td>[0, 0, 1, 0, 0, 1, 0, 0, 1, 0, 0, 0, 0, 1, 1, 0]</td>\n    </tr>\n    <tr>\n      <th>14</th>\n      <td>seriously, that's gonna help with the respect ...</td>\n      <td>2</td>\n      <td>3.0</td>\n      <td>2.0</td>\n      <td>2.0</td>\n      <td>3.0</td>\n      <td>NaN</td>\n      <td>NaN</td>\n      <td>2</td>\n      <td>[3, 2]</td>\n      <td>[2, 3]</td>\n      <td>[0, 0, 1, 0, 0, 1, 1, 0, 0, 0, 0, 0, 0, 0, 1, 1]</td>\n    </tr>\n    <tr>\n      <th>15</th>\n      <td>you're cristina, right? - patton, monroe</td>\n      <td>2</td>\n      <td>0.0</td>\n      <td>NaN</td>\n      <td>NaN</td>\n      <td>NaN</td>\n      <td>NaN</td>\n      <td>NaN</td>\n      <td>2</td>\n      <td>[0]</td>\n      <td>[]</td>\n      <td>[0, 0, 1, 1, 0, 0, 0, 0, 0, 0, 0, 0, 0, 0, 0, 0]</td>\n    </tr>\n    <tr>\n      <th>16</th>\n      <td>which resident are you assigned to? i got bailey</td>\n      <td>2</td>\n      <td>0.0</td>\n      <td>NaN</td>\n      <td>NaN</td>\n      <td>NaN</td>\n      <td>NaN</td>\n      <td>NaN</td>\n      <td>2</td>\n      <td>[0]</td>\n      <td>[]</td>\n      <td>[0, 0, 1, 1, 0, 0, 0, 0, 0, 0, 0, 0, 0, 0, 0, 0]</td>\n    </tr>\n    <tr>\n      <th>17</th>\n      <td>the nazi? me too</td>\n      <td>1</td>\n      <td>3.0</td>\n      <td>2.0</td>\n      <td>4.0</td>\n      <td>1.0</td>\n      <td>NaN</td>\n      <td>NaN</td>\n      <td>1</td>\n      <td>[3, 4]</td>\n      <td>[2, 1]</td>\n      <td>[0, 1, 0, 0, 0, 0, 1, 1, 0, 0, 0, 0, 0, 1, 1, 0]</td>\n    </tr>\n    <tr>\n      <th>18</th>\n      <td>you got the nazi? so did i</td>\n      <td>1</td>\n      <td>3.0</td>\n      <td>3.0</td>\n      <td>4.0</td>\n      <td>3.0</td>\n      <td>NaN</td>\n      <td>NaN</td>\n      <td>1</td>\n      <td>[3, 4]</td>\n      <td>[3]</td>\n      <td>[0, 1, 0, 0, 0, 0, 1, 1, 0, 0, 0, 0, 0, 0, 0, 1]</td>\n    </tr>\n    <tr>\n      <th>19</th>\n      <td>at least we'll be tortured together, right?</td>\n      <td>1</td>\n      <td>4.0</td>\n      <td>2.0</td>\n      <td>NaN</td>\n      <td>NaN</td>\n      <td>NaN</td>\n      <td>NaN</td>\n      <td>1</td>\n      <td>[4]</td>\n      <td>[2]</td>\n      <td>[0, 1, 0, 0, 0, 0, 0, 1, 0, 0, 0, 0, 0, 0, 1, 0]</td>\n    </tr>\n  </tbody>\n</table>\n</div>"
     },
     "execution_count": 48,
     "metadata": {},
     "output_type": "execute_result"
    }
   ],
   "source": [
    "meta_dfs.head(20)"
   ],
   "metadata": {
    "collapsed": false,
    "ExecuteTime": {
     "end_time": "2024-09-26T13:32:58.796799Z",
     "start_time": "2024-09-26T13:32:58.778743Z"
    }
   },
   "id": "507628b2643f4f41",
   "execution_count": 48
  },
  {
   "cell_type": "code",
   "outputs": [
    {
     "ename": "KeyError",
     "evalue": "\"['combined_emotion', 'combined_intensity', 'binary_vector'] not in index\"",
     "output_type": "error",
     "traceback": [
      "\u001B[1;31m---------------------------------------------------------------------------\u001B[0m",
      "\u001B[1;31mKeyError\u001B[0m                                  Traceback (most recent call last)",
      "Cell \u001B[1;32mIn[49], line 2\u001B[0m\n\u001B[0;32m      1\u001B[0m columns \u001B[38;5;241m=\u001B[39m [\u001B[38;5;124m'\u001B[39m\u001B[38;5;124mUtterances\u001B[39m\u001B[38;5;124m'\u001B[39m, \u001B[38;5;124m'\u001B[39m\u001B[38;5;124msentiment\u001B[39m\u001B[38;5;124m'\u001B[39m, \u001B[38;5;124m'\u001B[39m\u001B[38;5;124mcombined_emotion\u001B[39m\u001B[38;5;124m'\u001B[39m, \u001B[38;5;124m'\u001B[39m\u001B[38;5;124mcombined_intensity\u001B[39m\u001B[38;5;124m'\u001B[39m, \u001B[38;5;124m'\u001B[39m\u001B[38;5;124mbinary_vector\u001B[39m\u001B[38;5;124m'\u001B[39m]\n\u001B[1;32m----> 2\u001B[0m meta_dfs \u001B[38;5;241m=\u001B[39m meta_df[columns]\n",
      "File \u001B[1;32mD:\\conda\\Lib\\site-packages\\pandas\\core\\frame.py:4108\u001B[0m, in \u001B[0;36mDataFrame.__getitem__\u001B[1;34m(self, key)\u001B[0m\n\u001B[0;32m   4106\u001B[0m     \u001B[38;5;28;01mif\u001B[39;00m is_iterator(key):\n\u001B[0;32m   4107\u001B[0m         key \u001B[38;5;241m=\u001B[39m \u001B[38;5;28mlist\u001B[39m(key)\n\u001B[1;32m-> 4108\u001B[0m     indexer \u001B[38;5;241m=\u001B[39m \u001B[38;5;28mself\u001B[39m\u001B[38;5;241m.\u001B[39mcolumns\u001B[38;5;241m.\u001B[39m_get_indexer_strict(key, \u001B[38;5;124m\"\u001B[39m\u001B[38;5;124mcolumns\u001B[39m\u001B[38;5;124m\"\u001B[39m)[\u001B[38;5;241m1\u001B[39m]\n\u001B[0;32m   4110\u001B[0m \u001B[38;5;66;03m# take() does not accept boolean indexers\u001B[39;00m\n\u001B[0;32m   4111\u001B[0m \u001B[38;5;28;01mif\u001B[39;00m \u001B[38;5;28mgetattr\u001B[39m(indexer, \u001B[38;5;124m\"\u001B[39m\u001B[38;5;124mdtype\u001B[39m\u001B[38;5;124m\"\u001B[39m, \u001B[38;5;28;01mNone\u001B[39;00m) \u001B[38;5;241m==\u001B[39m \u001B[38;5;28mbool\u001B[39m:\n",
      "File \u001B[1;32mD:\\conda\\Lib\\site-packages\\pandas\\core\\indexes\\base.py:6200\u001B[0m, in \u001B[0;36mIndex._get_indexer_strict\u001B[1;34m(self, key, axis_name)\u001B[0m\n\u001B[0;32m   6197\u001B[0m \u001B[38;5;28;01melse\u001B[39;00m:\n\u001B[0;32m   6198\u001B[0m     keyarr, indexer, new_indexer \u001B[38;5;241m=\u001B[39m \u001B[38;5;28mself\u001B[39m\u001B[38;5;241m.\u001B[39m_reindex_non_unique(keyarr)\n\u001B[1;32m-> 6200\u001B[0m \u001B[38;5;28mself\u001B[39m\u001B[38;5;241m.\u001B[39m_raise_if_missing(keyarr, indexer, axis_name)\n\u001B[0;32m   6202\u001B[0m keyarr \u001B[38;5;241m=\u001B[39m \u001B[38;5;28mself\u001B[39m\u001B[38;5;241m.\u001B[39mtake(indexer)\n\u001B[0;32m   6203\u001B[0m \u001B[38;5;28;01mif\u001B[39;00m \u001B[38;5;28misinstance\u001B[39m(key, Index):\n\u001B[0;32m   6204\u001B[0m     \u001B[38;5;66;03m# GH 42790 - Preserve name from an Index\u001B[39;00m\n",
      "File \u001B[1;32mD:\\conda\\Lib\\site-packages\\pandas\\core\\indexes\\base.py:6252\u001B[0m, in \u001B[0;36mIndex._raise_if_missing\u001B[1;34m(self, key, indexer, axis_name)\u001B[0m\n\u001B[0;32m   6249\u001B[0m     \u001B[38;5;28;01mraise\u001B[39;00m \u001B[38;5;167;01mKeyError\u001B[39;00m(\u001B[38;5;124mf\u001B[39m\u001B[38;5;124m\"\u001B[39m\u001B[38;5;124mNone of [\u001B[39m\u001B[38;5;132;01m{\u001B[39;00mkey\u001B[38;5;132;01m}\u001B[39;00m\u001B[38;5;124m] are in the [\u001B[39m\u001B[38;5;132;01m{\u001B[39;00maxis_name\u001B[38;5;132;01m}\u001B[39;00m\u001B[38;5;124m]\u001B[39m\u001B[38;5;124m\"\u001B[39m)\n\u001B[0;32m   6251\u001B[0m not_found \u001B[38;5;241m=\u001B[39m \u001B[38;5;28mlist\u001B[39m(ensure_index(key)[missing_mask\u001B[38;5;241m.\u001B[39mnonzero()[\u001B[38;5;241m0\u001B[39m]]\u001B[38;5;241m.\u001B[39munique())\n\u001B[1;32m-> 6252\u001B[0m \u001B[38;5;28;01mraise\u001B[39;00m \u001B[38;5;167;01mKeyError\u001B[39;00m(\u001B[38;5;124mf\u001B[39m\u001B[38;5;124m\"\u001B[39m\u001B[38;5;132;01m{\u001B[39;00mnot_found\u001B[38;5;132;01m}\u001B[39;00m\u001B[38;5;124m not in index\u001B[39m\u001B[38;5;124m\"\u001B[39m)\n",
      "\u001B[1;31mKeyError\u001B[0m: \"['combined_emotion', 'combined_intensity', 'binary_vector'] not in index\""
     ]
    }
   ],
   "source": [
    "columns = ['Utterances', 'sentiment', 'combined_emotion', 'combined_intensity', 'binary_vector']\n",
    "meta_dfs = meta_df[columns]"
   ],
   "metadata": {
    "collapsed": false,
    "ExecuteTime": {
     "end_time": "2024-09-26T13:35:23.802048Z",
     "start_time": "2024-09-26T13:35:23.768811Z"
    }
   },
   "id": "184e6b9773f3bb0f",
   "execution_count": 49
  },
  {
   "cell_type": "code",
   "outputs": [
    {
     "data": {
      "text/plain": "(20017, 12)"
     },
     "execution_count": 55,
     "metadata": {},
     "output_type": "execute_result"
    }
   ],
   "source": [
    "meta_dfs.shape"
   ],
   "metadata": {
    "collapsed": false,
    "ExecuteTime": {
     "end_time": "2024-09-26T13:38:01.839682Z",
     "start_time": "2024-09-26T13:38:01.835853Z"
    }
   },
   "id": "6bdd89207c5da50e",
   "execution_count": 55
  },
  {
   "cell_type": "code",
   "outputs": [],
   "source": [],
   "metadata": {
    "collapsed": false
   },
   "id": "6920024bf99e9bc2"
  }
 ],
 "metadata": {
  "kernelspec": {
   "display_name": "Python 3",
   "language": "python",
   "name": "python3"
  },
  "language_info": {
   "codemirror_mode": {
    "name": "ipython",
    "version": 2
   },
   "file_extension": ".py",
   "mimetype": "text/x-python",
   "name": "python",
   "nbconvert_exporter": "python",
   "pygments_lexer": "ipython2",
   "version": "2.7.6"
  }
 },
 "nbformat": 4,
 "nbformat_minor": 5
}
