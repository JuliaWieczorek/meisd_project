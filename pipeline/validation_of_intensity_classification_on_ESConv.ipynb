{
 "cells": [
  {
   "cell_type": "code",
   "execution_count": 18,
   "id": "initial_id",
   "metadata": {
    "collapsed": true,
    "ExecuteTime": {
     "end_time": "2024-12-20T12:50:40.777245Z",
     "start_time": "2024-12-20T12:50:40.773911Z"
    }
   },
   "outputs": [],
   "source": [
    "import os\n",
    "import json\n",
    "import pandas as pd\n",
    "import sys\n",
    "import torch\n",
    "from transformers import BertTokenizer, BertModel\n",
    "\n",
    "module_path = os.path.abspath(os.path.join('D:/julixus/MEISD/meisd_project/preprocessing.py'))\n",
    "if module_path not in sys.path:\n",
    "    sys.path.append(module_path)\n",
    "\n",
    "import preprocessing\n",
    "\n",
    "device = torch.device('cuda') if torch.cuda.is_available() else torch.device('cpu')"
   ]
  },
  {
   "cell_type": "code",
   "outputs": [],
   "source": [
    "def load_data(file_path):\n",
    "    with open(file_path, \"r\", encoding='utf-8') as file:\n",
    "        data = json.load(file)\n",
    "    return data\n",
    "\n",
    "dataset = load_data(\"D:/julixus/MEISD/meisd_project/data/ESConv.json\")"
   ],
   "metadata": {
    "collapsed": false,
    "ExecuteTime": {
     "end_time": "2024-12-20T13:02:24.616775Z",
     "start_time": "2024-12-20T13:02:24.549677Z"
    }
   },
   "id": "ced6b930dec9820b",
   "execution_count": 29
  },
  {
   "cell_type": "code",
   "outputs": [
    {
     "data": {
      "text/plain": "       experience_type emotion_type           problem_type  \\\n0  Previous Experience      anxiety             job crisis   \n1   Current Experience        anger  problems with friends   \n2   Current Experience         fear             job crisis   \n3   Current Experience   depression     ongoing depression   \n4   Current Experience   depression   breakup with partner   \n\n                                           situation  \\\n0  I hate my job but I am scared to quit and seek...   \n1  I have complete unsupportive friends its to th...   \n2  I have been out of work for five weeks in quar...   \n3           I am depressed staying home due to COVID   \n4  I found out that my boyfriend had been lying t...   \n\n                                        survey_score  \\\n0  {'seeker': {'initial_emotion_intensity': '5', ...   \n1  {'seeker': {'initial_emotion_intensity': '5', ...   \n2  {'seeker': {'initial_emotion_intensity': '4', ...   \n3  {'seeker': {'initial_emotion_intensity': '4', ...   \n4  {'seeker': {'initial_emotion_intensity': '5', ...   \n\n                                              dialog  \\\n0  [{'speaker': 'seeker', 'annotation': {}, 'cont...   \n1  [{'speaker': 'supporter', 'annotation': {'stra...   \n2  [{'speaker': 'supporter', 'annotation': {'stra...   \n3  [{'speaker': 'supporter', 'annotation': {'stra...   \n4  [{'speaker': 'supporter', 'annotation': {'stra...   \n\n              seeker_question1                           seeker_question2  \\\n0  Partner was very supportive  More guidance in conversation or examples   \n1                                                                           \n2                           no                                        no    \n3                           No                                         No   \n4                Good exercise                                         no   \n\n  supporter_question1                               supporter_question2  \n0                                                                        \n1       It was simple  The middle screen hover function gets in the way  \n2                                                                        \n3                                                                        \n4                                                                        ",
      "text/html": "<div>\n<style scoped>\n    .dataframe tbody tr th:only-of-type {\n        vertical-align: middle;\n    }\n\n    .dataframe tbody tr th {\n        vertical-align: top;\n    }\n\n    .dataframe thead th {\n        text-align: right;\n    }\n</style>\n<table border=\"1\" class=\"dataframe\">\n  <thead>\n    <tr style=\"text-align: right;\">\n      <th></th>\n      <th>experience_type</th>\n      <th>emotion_type</th>\n      <th>problem_type</th>\n      <th>situation</th>\n      <th>survey_score</th>\n      <th>dialog</th>\n      <th>seeker_question1</th>\n      <th>seeker_question2</th>\n      <th>supporter_question1</th>\n      <th>supporter_question2</th>\n    </tr>\n  </thead>\n  <tbody>\n    <tr>\n      <th>0</th>\n      <td>Previous Experience</td>\n      <td>anxiety</td>\n      <td>job crisis</td>\n      <td>I hate my job but I am scared to quit and seek...</td>\n      <td>{'seeker': {'initial_emotion_intensity': '5', ...</td>\n      <td>[{'speaker': 'seeker', 'annotation': {}, 'cont...</td>\n      <td>Partner was very supportive</td>\n      <td>More guidance in conversation or examples</td>\n      <td></td>\n      <td></td>\n    </tr>\n    <tr>\n      <th>1</th>\n      <td>Current Experience</td>\n      <td>anger</td>\n      <td>problems with friends</td>\n      <td>I have complete unsupportive friends its to th...</td>\n      <td>{'seeker': {'initial_emotion_intensity': '5', ...</td>\n      <td>[{'speaker': 'supporter', 'annotation': {'stra...</td>\n      <td></td>\n      <td></td>\n      <td>It was simple</td>\n      <td>The middle screen hover function gets in the way</td>\n    </tr>\n    <tr>\n      <th>2</th>\n      <td>Current Experience</td>\n      <td>fear</td>\n      <td>job crisis</td>\n      <td>I have been out of work for five weeks in quar...</td>\n      <td>{'seeker': {'initial_emotion_intensity': '4', ...</td>\n      <td>[{'speaker': 'supporter', 'annotation': {'stra...</td>\n      <td>no</td>\n      <td>no</td>\n      <td></td>\n      <td></td>\n    </tr>\n    <tr>\n      <th>3</th>\n      <td>Current Experience</td>\n      <td>depression</td>\n      <td>ongoing depression</td>\n      <td>I am depressed staying home due to COVID</td>\n      <td>{'seeker': {'initial_emotion_intensity': '4', ...</td>\n      <td>[{'speaker': 'supporter', 'annotation': {'stra...</td>\n      <td>No</td>\n      <td>No</td>\n      <td></td>\n      <td></td>\n    </tr>\n    <tr>\n      <th>4</th>\n      <td>Current Experience</td>\n      <td>depression</td>\n      <td>breakup with partner</td>\n      <td>I found out that my boyfriend had been lying t...</td>\n      <td>{'seeker': {'initial_emotion_intensity': '5', ...</td>\n      <td>[{'speaker': 'supporter', 'annotation': {'stra...</td>\n      <td>Good exercise</td>\n      <td>no</td>\n      <td></td>\n      <td></td>\n    </tr>\n  </tbody>\n</table>\n</div>"
     },
     "execution_count": 30,
     "metadata": {},
     "output_type": "execute_result"
    }
   ],
   "source": [
    "dataframe.head()"
   ],
   "metadata": {
    "collapsed": false,
    "ExecuteTime": {
     "end_time": "2024-12-20T13:02:24.887253Z",
     "start_time": "2024-12-20T13:02:24.822305Z"
    }
   },
   "id": "a63a003d2efd4989",
   "execution_count": 30
  },
  {
   "cell_type": "code",
   "outputs": [
    {
     "data": {
      "text/plain": "  initial_emotion_intensity                                             dialog\n0                         5  [Hello, I am having a lot of anxiety about qui...\n1                         5  [hello im looking for someone to talk to, im f...\n2                         4  [Hello, I'm concerned about my job. I have bee...\n3                         4  [I am dong good. You?, I have been staying hom...\n4                         5  [Infinitely complicated., Too many decisions. ...",
      "text/html": "<div>\n<style scoped>\n    .dataframe tbody tr th:only-of-type {\n        vertical-align: middle;\n    }\n\n    .dataframe tbody tr th {\n        vertical-align: top;\n    }\n\n    .dataframe thead th {\n        text-align: right;\n    }\n</style>\n<table border=\"1\" class=\"dataframe\">\n  <thead>\n    <tr style=\"text-align: right;\">\n      <th></th>\n      <th>initial_emotion_intensity</th>\n      <th>dialog</th>\n    </tr>\n  </thead>\n  <tbody>\n    <tr>\n      <th>0</th>\n      <td>5</td>\n      <td>[Hello, I am having a lot of anxiety about qui...</td>\n    </tr>\n    <tr>\n      <th>1</th>\n      <td>5</td>\n      <td>[hello im looking for someone to talk to, im f...</td>\n    </tr>\n    <tr>\n      <th>2</th>\n      <td>4</td>\n      <td>[Hello, I'm concerned about my job. I have bee...</td>\n    </tr>\n    <tr>\n      <th>3</th>\n      <td>4</td>\n      <td>[I am dong good. You?, I have been staying hom...</td>\n    </tr>\n    <tr>\n      <th>4</th>\n      <td>5</td>\n      <td>[Infinitely complicated., Too many decisions. ...</td>\n    </tr>\n  </tbody>\n</table>\n</div>"
     },
     "execution_count": 34,
     "metadata": {},
     "output_type": "execute_result"
    }
   ],
   "source": [
    "def extract_seeker_data(data, key):\n",
    "    result = []\n",
    "\n",
    "    for entry in data:\n",
    "        dialog = entry['dialog']\n",
    "        seeker_dialog = [item['content'].strip() for item in dialog if item['speaker'] == 'seeker']\n",
    "\n",
    "        quarter_length = max(1, len(seeker_dialog) // 4)\n",
    "\n",
    "        if key == 'initial_emotion_intensity':\n",
    "            selected_dialog = seeker_dialog[:quarter_length]\n",
    "        elif key == 'final_emotion_intensity':\n",
    "            selected_dialog = seeker_dialog[-quarter_length:]\n",
    "        else:\n",
    "            continue\n",
    "\n",
    "        result.append({\n",
    "            key: entry['survey_score']['seeker'][key],\n",
    "            'dialog': selected_dialog\n",
    "        })\n",
    "\n",
    "    return result\n",
    "\n",
    "first_25_percent = extract_seeker_data(dataset, 'initial_emotion_intensity')\n",
    "#last_25_percent = extract_seeker_data(dataset, 'final_emotion_intensity')\n",
    "\n",
    "first_25_df = pd.DataFrame(first_25_percent)\n",
    "#last_25_df = pd.DataFrame(last_25_percent)\n",
    "\n",
    "first_25_df.head()\n",
    "\n",
    "# with open('first_25_percent.json', 'w', encoding='utf-8') as file:\n",
    "#     json.dump(first_25_percent, file, ensure_ascii=False, indent=4)\n",
    "# \n",
    "# with open('last_25_percent.json', 'w', encoding='utf-8') as file:\n",
    "#     json.dump(last_25_percent, file, ensure_ascii=False, indent=4)\n",
    "\n",
    "#print(\"Zestawy danych zostały zapisane jako 'first_25_percent.json' i 'last_25_percent.json'.\")"
   ],
   "metadata": {
    "collapsed": false,
    "ExecuteTime": {
     "end_time": "2024-12-20T13:03:24.290665Z",
     "start_time": "2024-12-20T13:03:24.273093Z"
    }
   },
   "id": "e2cf9a537b0701eb",
   "execution_count": 34
  },
  {
   "cell_type": "code",
   "outputs": [],
   "source": [
    "MAX_LEN = 100\n",
    "BATCH = 8\n",
    "PRE_TRAINED_MODEL_NAME = 'bert-base-cased'\n",
    "EPOCHS = 10\n",
    "LEARNING_RATE = 1e-5\n",
    "THRESHOLD = 0.2\n",
    "DROPOUT_RATE = 0.3\n",
    "WEIGHT_DECAY = 0.01\n",
    "MODE = 'min'\n",
    "PATIENCE = 2\n",
    "FACTOR = 0.5\n",
    "VERBOSE = True"
   ],
   "metadata": {
    "collapsed": false,
    "ExecuteTime": {
     "end_time": "2024-12-20T13:04:17.754703Z",
     "start_time": "2024-12-20T13:04:17.751279Z"
    }
   },
   "id": "32ef9d02b8d71d2",
   "execution_count": 35
  },
  {
   "cell_type": "code",
   "outputs": [],
   "source": [
    "from transformers import BertTokenizer, BertModel\n",
    "tokenizer = BertTokenizer.from_pretrained(PRE_TRAINED_MODEL_NAME)\n",
    "# Test the tokenizer\n",
    "test_text = \"We are testing BERT tokenizer.\"\n",
    "# generate encodings\n",
    "encodings = tokenizer.encode_plus(test_text,\n",
    "                                  add_special_tokens = True, # Add '[CLS]' and '[SEP]'\n",
    "                                  max_length = 50,\n",
    "                                  truncation = True,\n",
    "                                  padding = \"max_length\",\n",
    "                                  return_attention_mask = True,\n",
    "                                  return_tensors = \"pt\")"
   ],
   "metadata": {
    "collapsed": false,
    "ExecuteTime": {
     "end_time": "2024-12-20T13:04:29.030093Z",
     "start_time": "2024-12-20T13:04:28.097627Z"
    }
   },
   "id": "94651e23f5e349b",
   "execution_count": 36
  },
  {
   "cell_type": "code",
   "outputs": [
    {
     "data": {
      "text/plain": "0       [Hello, I am having a lot of anxiety about qui...\n1       [hello im looking for someone to talk to, im f...\n2       [Hello, I'm concerned about my job. I have bee...\n3       [I am dong good. You?, I have been staying hom...\n4       [Infinitely complicated., Too many decisions. ...\n                              ...                        \n1295    [I feel sleepy but can not sleep, It has alway...\n1296    [I am fine. thanks. how about you ?, I lost my...\n1297          [HI how are you today, Doing well, thanks.]\n1298    [Hello, I am a little down today.  How are you...\n1299                                    [hi, i'm nereida]\nName: dialog, Length: 1300, dtype: object"
     },
     "execution_count": 43,
     "metadata": {},
     "output_type": "execute_result"
    }
   ],
   "source": [
    "first_25_df['dialog']"
   ],
   "metadata": {
    "collapsed": false,
    "ExecuteTime": {
     "end_time": "2024-12-20T13:12:28.882173Z",
     "start_time": "2024-12-20T13:12:28.875523Z"
    }
   },
   "id": "e8fb5381ed181450",
   "execution_count": 43
  },
  {
   "cell_type": "code",
   "outputs": [],
   "source": [
    "token_lens = []\n",
    "\n",
    "for txt in first_25_df['dialog']:\n",
    "    tokens = tokenizer.encode(txt, max_length=512, truncation=True)\n",
    "    token_lens.append(len(tokens))"
   ],
   "metadata": {
    "collapsed": false,
    "ExecuteTime": {
     "end_time": "2024-12-20T13:05:12.766777Z",
     "start_time": "2024-12-20T13:05:12.734956Z"
    }
   },
   "id": "123b0b74cc755136",
   "execution_count": 39
  },
  {
   "cell_type": "code",
   "outputs": [
    {
     "data": {
      "text/plain": "3"
     },
     "execution_count": 46,
     "metadata": {},
     "output_type": "execute_result"
    }
   ],
   "source": [
    "min(token_lens)"
   ],
   "metadata": {
    "collapsed": false,
    "ExecuteTime": {
     "end_time": "2024-12-20T13:16:40.292403Z",
     "start_time": "2024-12-20T13:16:40.288412Z"
    }
   },
   "id": "4a67a14e01220db4",
   "execution_count": 46
  },
  {
   "cell_type": "code",
   "outputs": [
    {
     "name": "stderr",
     "output_type": "stream",
     "text": [
      "C:\\Users\\Julix\\AppData\\Local\\Temp\\ipykernel_8440\\2924673779.py:4: UserWarning: \n",
      "\n",
      "`distplot` is a deprecated function and will be removed in seaborn v0.14.0.\n",
      "\n",
      "Please adapt your code to use either `displot` (a figure-level function with\n",
      "similar flexibility) or `histplot` (an axes-level function for histograms).\n",
      "\n",
      "For a guide to updating your code to use the new functions, please see\n",
      "https://gist.github.com/mwaskom/de44147ed2974457ad6372750bbe5751\n",
      "\n",
      "  sns.distplot(token_lens)\n"
     ]
    },
    {
     "data": {
      "text/plain": "Text(0.5, 0, 'Token count')"
     },
     "execution_count": 42,
     "metadata": {},
     "output_type": "execute_result"
    },
    {
     "data": {
      "text/plain": "<Figure size 640x480 with 1 Axes>",
      "image/png": "[encoded data removed]"
     },
     "metadata": {},
     "output_type": "display_data"
    }
   ],
   "source": [
    "import seaborn as sns\n",
    "import matplotlib.pyplot as plt\n",
    "\n",
    "sns.distplot(token_lens)\n",
    "plt.xlim([0, 20])\n",
    "plt.xlabel('Token count')"
   ],
   "metadata": {
    "collapsed": false,
    "ExecuteTime": {
     "end_time": "2024-12-20T13:05:31.981197Z",
     "start_time": "2024-12-20T13:05:31.780676Z"
    }
   },
   "id": "810fcf4d6e0a4b6e",
   "execution_count": 42
  },
  {
   "cell_type": "code",
   "outputs": [],
   "source": [],
   "metadata": {
    "collapsed": false
   },
   "id": "af9c474c58576aa1"
  }
 ],
 "metadata": {
  "kernelspec": {
   "display_name": "Python 3",
   "language": "python",
   "name": "python3"
  },
  "language_info": {
   "codemirror_mode": {
    "name": "ipython",
    "version": 2
   },
   "file_extension": ".py",
   "mimetype": "text/x-python",
   "name": "python",
   "nbconvert_exporter": "python",
   "pygments_lexer": "ipython2",
   "version": "2.7.6"
  }
 },
 "nbformat": 4,
 "nbformat_minor": 5
}
