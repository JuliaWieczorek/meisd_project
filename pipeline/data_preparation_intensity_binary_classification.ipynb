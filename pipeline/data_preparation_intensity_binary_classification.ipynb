{
 "cells": [
  {
   "cell_type": "code",
   "execution_count": 1,
   "id": "initial_id",
   "metadata": {
    "collapsed": true,
    "ExecuteTime": {
     "end_time": "2025-02-05T19:13:37.348045Z",
     "start_time": "2025-02-05T19:13:37.341045Z"
    }
   },
   "outputs": [],
   "source": [
    "import pandas as pd\n",
    "import numpy as np"
   ]
  },
  {
   "cell_type": "code",
   "outputs": [],
   "source": [
    "meta_df = pd.read_csv('C:/Users/juwieczo/DataspellProjects/meisd_project/data/MEISD_text.csv')"
   ],
   "metadata": {
    "collapsed": false,
    "ExecuteTime": {
     "end_time": "2025-02-05T19:13:39.287198Z",
     "start_time": "2025-02-05T19:13:39.213664Z"
    }
   },
   "id": "80922815aebdb115",
   "execution_count": 2
  },
  {
   "cell_type": "code",
   "outputs": [],
   "source": [
    "# For the multilabel classification we use:\n",
    "columns = ['Utterances', 'dialog_ids', 'intensity', 'intensity2', 'intensity3']\n",
    "meta_dfs = meta_df[columns].copy()"
   ],
   "metadata": {
    "collapsed": false,
    "ExecuteTime": {
     "end_time": "2025-02-05T19:13:40.095855Z",
     "start_time": "2025-02-05T19:13:40.083494Z"
    }
   },
   "id": "830cd359e6b364ba",
   "execution_count": 3
  },
  {
   "cell_type": "code",
   "outputs": [],
   "source": [
    "meta_dfs.loc[:, 'intensity'] = pd.to_numeric(meta_dfs['intensity'], errors='coerce')\n",
    "meta_dfs.loc[:, 'intensity2'] = pd.to_numeric(meta_dfs['intensity2'], errors='coerce')\n",
    "meta_dfs.loc[:, 'intensity3'] = pd.to_numeric(meta_dfs['intensity3'], errors='coerce')\n",
    "\n",
    "\n",
    "#Zamień wartości na liczby całkowite\n",
    "meta_dfs['intensity'] = pd.to_numeric(meta_dfs['intensity'], errors='coerce').fillna(0)\n",
    "meta_dfs['intensity2'] = pd.to_numeric(meta_dfs['intensity2'], errors='coerce').fillna(0)\n",
    "meta_dfs['intensity3'] = pd.to_numeric(meta_dfs['intensity3'], errors='coerce').fillna(0)\n",
    "\n",
    "#Zamień wartości zawierające tylko białe znaki lub '`', 'neu', 'po' na NaN\n",
    "meta_dfs['intensity'] = meta_dfs['intensity'].replace(r'^\\s*$', np.nan, regex=True)\n",
    "meta_dfs['intensity'] = meta_dfs['intensity'].replace(['`', 'neu', 'po'], np.nan)\n",
    "meta_dfs['intensity2'] = meta_dfs['intensity2'].replace(r'^\\s*$', np.nan, regex=True)\n",
    "meta_dfs['intensity2'] = meta_dfs['intensity2'].replace(['`', 'neu', 'po'], np.nan)\n",
    "meta_dfs['intensity3'] = meta_dfs['intensity3'].replace(r'^\\s*$', np.nan, regex=True)\n",
    "meta_dfs['intensity3'] = meta_dfs['intensity3'].replace(['`', 'neu', 'po'], np.nan)\n",
    "\n",
    "#Użyj forward fill, aby uzupełnić brakujące wartości poprzedzającą wartością\n",
    "meta_dfs['intensity'] = meta_dfs['intensity'].ffill()\n",
    "meta_dfs['intensity2'] = meta_dfs['intensity2'].ffill()\n",
    "meta_dfs['intensity3'] = meta_dfs['intensity3'].ffill()\n",
    "\n",
    "#Usuń znaki niebędące cyframi (np. '`') za pomocą wyrażeń regularnych\n",
    "meta_dfs['intensity'] = meta_dfs['intensity'].replace(r'\\D', '', regex=True).astype(int)  # Usuwa wszystko, co nie jest cyfrą\n",
    "meta_dfs['intensity2'] = meta_dfs['intensity2'].replace(r'\\D', '', regex=True).astype(int)\n",
    "meta_dfs['intensity3'] = meta_dfs['intensity3'].replace(r'\\D', '', regex=True).astype(int)"
   ],
   "metadata": {
    "collapsed": false,
    "ExecuteTime": {
     "end_time": "2025-02-05T19:13:41.103727Z",
     "start_time": "2025-02-05T19:13:41.053184Z"
    }
   },
   "id": "43900082716df67a",
   "execution_count": 4
  },
  {
   "cell_type": "code",
   "outputs": [
    {
     "name": "stderr",
     "output_type": "stream",
     "text": [
      "C:\\Users\\juwieczo\\AppData\\Local\\Temp\\ipykernel_3788\\3186010028.py:32: DeprecationWarning: DataFrameGroupBy.apply operated on the grouping columns. This behavior is deprecated, and in a future version of pandas the grouping columns will be excluded from the operation. Either pass `include_groups=False` to exclude the groupings or explicitly select the grouping columns after groupby to silence this warning.\n",
      "  meta_dfs.groupby('dialog_ids').apply(process_group)\n"
     ]
    }
   ],
   "source": [
    "first_25_data = []\n",
    "last_25_data = []\n",
    "\n",
    "def process_group(group):\n",
    "    num_rows = len(group)\n",
    "    quarter_size = max(1, num_rows // 4)\n",
    "\n",
    "    # First 25%\n",
    "    first_25 = group.iloc[:quarter_size]\n",
    "    last_25 = group.iloc[-quarter_size:]\n",
    "\n",
    "    # Maksymalna intensywność\n",
    "    first_25_max_intensity = first_25['intensity'].max()\n",
    "    last_25_max_intensity = last_25['intensity'].max()\n",
    "\n",
    "    # Łączenie wypowiedzi już tutaj\n",
    "    first_utterances = \" \".join(first_25['Utterances'])\n",
    "    last_utterances = \" \".join(last_25['Utterances'])\n",
    "\n",
    "    first_25_data.append(pd.Series({\n",
    "        'dialog_ids': group['dialog_ids'].iloc[0],\n",
    "        'Utterances': first_utterances,\n",
    "        'max_intensity': first_25_max_intensity\n",
    "    }))\n",
    "\n",
    "    last_25_data.append(pd.Series({\n",
    "        'dialog_ids': group['dialog_ids'].iloc[0],\n",
    "        'Utterances': last_utterances,\n",
    "        'max_intensity': last_25_max_intensity\n",
    "    }))\n",
    "\n",
    "meta_dfs.groupby('dialog_ids').apply(process_group)\n",
    "\n",
    "first_25_df = pd.DataFrame(first_25_data)\n",
    "last_25_df = pd.DataFrame(last_25_data)\n"
   ],
   "metadata": {
    "collapsed": false,
    "ExecuteTime": {
     "end_time": "2025-02-05T19:13:43.050078Z",
     "start_time": "2025-02-05T19:13:41.933475Z"
    }
   },
   "id": "e1bad54bd390f706",
   "execution_count": 5
  },
  {
   "cell_type": "code",
   "outputs": [
    {
     "data": {
      "text/plain": "      dialog_ids                                         Utterances  \\\n0              1  look around you say hello to your competition ...   \n1              2  i'm george o'malley uh, we met at the mixer. y...   \n2              3  seattle is surrounded by water on three sides ...   \n3              4  yes no other reason? just a favor for an old p...   \n4              5  if he doesn't respond to these tests in the ne...   \n...          ...                                                ...   \n1119        1121  i was thinking exactly the same thing no. crim...   \n1120        1122  just to be clear, he backed down an insurance ...   \n1121        1123  hey, michael, did you fall into a koi pond? i ...   \n1122        1124  hey, boss, did you find nemo? i can name pixar...   \n1123        1125  and it is now a scientific fact that you are h...   \n\n      max_intensity  \n0                 0  \n1                 2  \n2                 2  \n3                 2  \n4                 2  \n...             ...  \n1119              2  \n1120              3  \n1121              2  \n1122              2  \n1123              1  \n\n[1124 rows x 3 columns]",
      "text/html": "<div>\n<style scoped>\n    .dataframe tbody tr th:only-of-type {\n        vertical-align: middle;\n    }\n\n    .dataframe tbody tr th {\n        vertical-align: top;\n    }\n\n    .dataframe thead th {\n        text-align: right;\n    }\n</style>\n<table border=\"1\" class=\"dataframe\">\n  <thead>\n    <tr style=\"text-align: right;\">\n      <th></th>\n      <th>dialog_ids</th>\n      <th>Utterances</th>\n      <th>max_intensity</th>\n    </tr>\n  </thead>\n  <tbody>\n    <tr>\n      <th>0</th>\n      <td>1</td>\n      <td>look around you say hello to your competition ...</td>\n      <td>0</td>\n    </tr>\n    <tr>\n      <th>1</th>\n      <td>2</td>\n      <td>i'm george o'malley uh, we met at the mixer. y...</td>\n      <td>2</td>\n    </tr>\n    <tr>\n      <th>2</th>\n      <td>3</td>\n      <td>seattle is surrounded by water on three sides ...</td>\n      <td>2</td>\n    </tr>\n    <tr>\n      <th>3</th>\n      <td>4</td>\n      <td>yes no other reason? just a favor for an old p...</td>\n      <td>2</td>\n    </tr>\n    <tr>\n      <th>4</th>\n      <td>5</td>\n      <td>if he doesn't respond to these tests in the ne...</td>\n      <td>2</td>\n    </tr>\n    <tr>\n      <th>...</th>\n      <td>...</td>\n      <td>...</td>\n      <td>...</td>\n    </tr>\n    <tr>\n      <th>1119</th>\n      <td>1121</td>\n      <td>i was thinking exactly the same thing no. crim...</td>\n      <td>2</td>\n    </tr>\n    <tr>\n      <th>1120</th>\n      <td>1122</td>\n      <td>just to be clear, he backed down an insurance ...</td>\n      <td>3</td>\n    </tr>\n    <tr>\n      <th>1121</th>\n      <td>1123</td>\n      <td>hey, michael, did you fall into a koi pond? i ...</td>\n      <td>2</td>\n    </tr>\n    <tr>\n      <th>1122</th>\n      <td>1124</td>\n      <td>hey, boss, did you find nemo? i can name pixar...</td>\n      <td>2</td>\n    </tr>\n    <tr>\n      <th>1123</th>\n      <td>1125</td>\n      <td>and it is now a scientific fact that you are h...</td>\n      <td>1</td>\n    </tr>\n  </tbody>\n</table>\n<p>1124 rows × 3 columns</p>\n</div>"
     },
     "execution_count": 7,
     "metadata": {},
     "output_type": "execute_result"
    }
   ],
   "source": [
    "first_25_df"
   ],
   "metadata": {
    "collapsed": false,
    "ExecuteTime": {
     "end_time": "2025-02-05T19:14:15.017543Z",
     "start_time": "2025-02-05T19:14:15.003455Z"
    }
   },
   "id": "1d03ebad0fc0b952",
   "execution_count": 7
  },
  {
   "cell_type": "code",
   "outputs": [],
   "source": [
    "last_25_df.to_csv('max_first_25_intensity.csv', index=False)"
   ],
   "metadata": {
    "collapsed": false,
    "ExecuteTime": {
     "end_time": "2025-02-05T19:14:34.925241Z",
     "start_time": "2025-02-05T19:14:34.906797Z"
    }
   },
   "id": "240babbc92e91ee8",
   "execution_count": 8
  },
  {
   "cell_type": "code",
   "outputs": [],
   "source": [
    "last_25_df.head()"
   ],
   "metadata": {
    "collapsed": false
   },
   "id": "5a4a96cd6f3c7897",
   "execution_count": null
  },
  {
   "cell_type": "code",
   "outputs": [],
   "source": [
    "# Tworzenie nowej kolumny bazującej na intensity\n",
    "last_25_df['binary_intensity'] = (last_25_df['max_intensity'] == 2).astype(int)"
   ],
   "metadata": {
    "collapsed": false
   },
   "id": "7c627b265715b309",
   "execution_count": null
  },
  {
   "cell_type": "code",
   "outputs": [],
   "source": [
    "last_25_df"
   ],
   "metadata": {
    "collapsed": false
   },
   "id": "9902a6a6d8b7f31a",
   "execution_count": null
  },
  {
   "cell_type": "code",
   "outputs": [],
   "source": [],
   "metadata": {
    "collapsed": false
   },
   "id": "c676122e8a5e82a5"
  }
 ],
 "metadata": {
  "kernelspec": {
   "display_name": "Python 3",
   "language": "python",
   "name": "python3"
  },
  "language_info": {
   "codemirror_mode": {
    "name": "ipython",
    "version": 2
   },
   "file_extension": ".py",
   "mimetype": "text/x-python",
   "name": "python",
   "nbconvert_exporter": "python",
   "pygments_lexer": "ipython2",
   "version": "2.7.6"
  }
 },
 "nbformat": 4,
 "nbformat_minor": 5
}
