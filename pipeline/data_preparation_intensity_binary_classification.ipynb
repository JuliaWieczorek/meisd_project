{
 "cells": [
  {
   "cell_type": "code",
   "execution_count": 1,
   "id": "initial_id",
   "metadata": {
    "collapsed": true,
    "ExecuteTime": {
     "end_time": "2025-03-26T10:58:46.593423Z",
     "start_time": "2025-03-26T10:58:36.931248Z"
    }
   },
   "outputs": [],
   "source": [
    "import pandas as pd\n",
    "import numpy as np\n",
    "from collections import Counter\n",
    "import matplotlib.pyplot as plt"
   ]
  },
  {
   "cell_type": "code",
   "outputs": [],
   "source": [
    "df = pd.read_csv('C:/Users/juwieczo/DataspellProjects/meisd_project/data/MEISD_text.csv')"
   ],
   "metadata": {
    "collapsed": false,
    "ExecuteTime": {
     "end_time": "2025-03-26T10:59:02.539893Z",
     "start_time": "2025-03-26T10:59:02.163918Z"
    }
   },
   "id": "80922815aebdb115",
   "execution_count": 2
  },
  {
   "cell_type": "code",
   "outputs": [
    {
     "data": {
      "text/plain": "  TV Series                                       Utterances  dialog_ids  \\\n0        GA                                  look around you           1   \n1        GA                    say hello to your competition           1   \n2        GA  eight of you will switch to an easier specialty           1   \n3        GA        five of you will crack under the pressure           1   \n4        GA                two of you will be asked to leave           1   \n\n   uttr_ids  seasons  episodes   start_times     end_times sentiment  emotion  \\\n0         0        1         1  00:02:27:589  00:02:28:567   neutral  neutral   \n1         1        1         1  00:02:28:910  00:02:30:513   neutral  neutral   \n2         2        1         1  00:02:31:387  00:02:34:060   neutral  neutral   \n3         3        1         1  00:02:34:134  00:02:36:002   neutral  neutral   \n4         4        1         1  00:02:36:059  00:02:37:723   neutral  neutral   \n\n  intensity emotion2 intensity2 emotion3  intensity3  \n0       NaN      NaN        NaN      NaN         NaN  \n1       NaN      NaN        NaN      NaN         NaN  \n2       NaN      NaN        NaN      NaN         NaN  \n3       NaN      NaN        NaN      NaN         NaN  \n4       NaN      NaN        NaN      NaN         NaN  ",
      "text/html": "<div>\n<style scoped>\n    .dataframe tbody tr th:only-of-type {\n        vertical-align: middle;\n    }\n\n    .dataframe tbody tr th {\n        vertical-align: top;\n    }\n\n    .dataframe thead th {\n        text-align: right;\n    }\n</style>\n<table border=\"1\" class=\"dataframe\">\n  <thead>\n    <tr style=\"text-align: right;\">\n      <th></th>\n      <th>TV Series</th>\n      <th>Utterances</th>\n      <th>dialog_ids</th>\n      <th>uttr_ids</th>\n      <th>seasons</th>\n      <th>episodes</th>\n      <th>start_times</th>\n      <th>end_times</th>\n      <th>sentiment</th>\n      <th>emotion</th>\n      <th>intensity</th>\n      <th>emotion2</th>\n      <th>intensity2</th>\n      <th>emotion3</th>\n      <th>intensity3</th>\n    </tr>\n  </thead>\n  <tbody>\n    <tr>\n      <th>0</th>\n      <td>GA</td>\n      <td>look around you</td>\n      <td>1</td>\n      <td>0</td>\n      <td>1</td>\n      <td>1</td>\n      <td>00:02:27:589</td>\n      <td>00:02:28:567</td>\n      <td>neutral</td>\n      <td>neutral</td>\n      <td>NaN</td>\n      <td>NaN</td>\n      <td>NaN</td>\n      <td>NaN</td>\n      <td>NaN</td>\n    </tr>\n    <tr>\n      <th>1</th>\n      <td>GA</td>\n      <td>say hello to your competition</td>\n      <td>1</td>\n      <td>1</td>\n      <td>1</td>\n      <td>1</td>\n      <td>00:02:28:910</td>\n      <td>00:02:30:513</td>\n      <td>neutral</td>\n      <td>neutral</td>\n      <td>NaN</td>\n      <td>NaN</td>\n      <td>NaN</td>\n      <td>NaN</td>\n      <td>NaN</td>\n    </tr>\n    <tr>\n      <th>2</th>\n      <td>GA</td>\n      <td>eight of you will switch to an easier specialty</td>\n      <td>1</td>\n      <td>2</td>\n      <td>1</td>\n      <td>1</td>\n      <td>00:02:31:387</td>\n      <td>00:02:34:060</td>\n      <td>neutral</td>\n      <td>neutral</td>\n      <td>NaN</td>\n      <td>NaN</td>\n      <td>NaN</td>\n      <td>NaN</td>\n      <td>NaN</td>\n    </tr>\n    <tr>\n      <th>3</th>\n      <td>GA</td>\n      <td>five of you will crack under the pressure</td>\n      <td>1</td>\n      <td>3</td>\n      <td>1</td>\n      <td>1</td>\n      <td>00:02:34:134</td>\n      <td>00:02:36:002</td>\n      <td>neutral</td>\n      <td>neutral</td>\n      <td>NaN</td>\n      <td>NaN</td>\n      <td>NaN</td>\n      <td>NaN</td>\n      <td>NaN</td>\n    </tr>\n    <tr>\n      <th>4</th>\n      <td>GA</td>\n      <td>two of you will be asked to leave</td>\n      <td>1</td>\n      <td>4</td>\n      <td>1</td>\n      <td>1</td>\n      <td>00:02:36:059</td>\n      <td>00:02:37:723</td>\n      <td>neutral</td>\n      <td>neutral</td>\n      <td>NaN</td>\n      <td>NaN</td>\n      <td>NaN</td>\n      <td>NaN</td>\n      <td>NaN</td>\n    </tr>\n  </tbody>\n</table>\n</div>"
     },
     "execution_count": 12,
     "metadata": {},
     "output_type": "execute_result"
    }
   ],
   "source": [
    "df.head(5)"
   ],
   "metadata": {
    "collapsed": false,
    "ExecuteTime": {
     "end_time": "2025-03-26T13:59:43.518010Z",
     "start_time": "2025-03-26T13:59:43.498008Z"
    }
   },
   "id": "cd8c095f976c476a",
   "execution_count": 12
  },
  {
   "cell_type": "code",
   "outputs": [
    {
     "data": {
      "text/plain": "1125"
     },
     "execution_count": 6,
     "metadata": {},
     "output_type": "execute_result"
    }
   ],
   "source": [
    "max(df.dialog_ids)"
   ],
   "metadata": {
    "collapsed": false,
    "ExecuteTime": {
     "end_time": "2025-03-26T11:00:00.244945Z",
     "start_time": "2025-03-26T11:00:00.228719Z"
    }
   },
   "id": "76812ce2864af2ef",
   "execution_count": 6
  },
  {
   "cell_type": "code",
   "outputs": [
    {
     "data": {
      "text/plain": "35.32647249837638"
     },
     "execution_count": 10,
     "metadata": {},
     "output_type": "execute_result"
    }
   ],
   "source": [
    "import statistics\n",
    "statistics.mean(df.Utterances.str.len())"
   ],
   "metadata": {
    "collapsed": false,
    "ExecuteTime": {
     "end_time": "2025-03-26T13:55:06.827068Z",
     "start_time": "2025-03-26T13:55:06.792170Z"
    }
   },
   "id": "1844982d74379279",
   "execution_count": 10
  },
  {
   "cell_type": "code",
   "outputs": [
    {
     "data": {
      "text/plain": "         dialog_ids      uttr_ids       seasons      episodes  intensity3\ncount  20017.000000  20017.000000  20017.000000  20017.000000   67.000000\nmean     537.299995      9.337363      3.855523      9.560274    1.477612\nstd      328.879190      6.215363      2.184969      6.434132    0.785440\nmin        1.000000      0.000000      1.000000      1.000000    1.000000\n25%      262.000000      4.000000      2.000000      4.000000    1.000000\n50%      509.000000      9.000000      4.000000      8.000000    1.000000\n75%      818.000000     14.000000      5.000000     14.000000    2.000000\nmax     1125.000000     40.000000     10.000000     26.000000    3.000000",
      "text/html": "<div>\n<style scoped>\n    .dataframe tbody tr th:only-of-type {\n        vertical-align: middle;\n    }\n\n    .dataframe tbody tr th {\n        vertical-align: top;\n    }\n\n    .dataframe thead th {\n        text-align: right;\n    }\n</style>\n<table border=\"1\" class=\"dataframe\">\n  <thead>\n    <tr style=\"text-align: right;\">\n      <th></th>\n      <th>dialog_ids</th>\n      <th>uttr_ids</th>\n      <th>seasons</th>\n      <th>episodes</th>\n      <th>intensity3</th>\n    </tr>\n  </thead>\n  <tbody>\n    <tr>\n      <th>count</th>\n      <td>20017.000000</td>\n      <td>20017.000000</td>\n      <td>20017.000000</td>\n      <td>20017.000000</td>\n      <td>67.000000</td>\n    </tr>\n    <tr>\n      <th>mean</th>\n      <td>537.299995</td>\n      <td>9.337363</td>\n      <td>3.855523</td>\n      <td>9.560274</td>\n      <td>1.477612</td>\n    </tr>\n    <tr>\n      <th>std</th>\n      <td>328.879190</td>\n      <td>6.215363</td>\n      <td>2.184969</td>\n      <td>6.434132</td>\n      <td>0.785440</td>\n    </tr>\n    <tr>\n      <th>min</th>\n      <td>1.000000</td>\n      <td>0.000000</td>\n      <td>1.000000</td>\n      <td>1.000000</td>\n      <td>1.000000</td>\n    </tr>\n    <tr>\n      <th>25%</th>\n      <td>262.000000</td>\n      <td>4.000000</td>\n      <td>2.000000</td>\n      <td>4.000000</td>\n      <td>1.000000</td>\n    </tr>\n    <tr>\n      <th>50%</th>\n      <td>509.000000</td>\n      <td>9.000000</td>\n      <td>4.000000</td>\n      <td>8.000000</td>\n      <td>1.000000</td>\n    </tr>\n    <tr>\n      <th>75%</th>\n      <td>818.000000</td>\n      <td>14.000000</td>\n      <td>5.000000</td>\n      <td>14.000000</td>\n      <td>2.000000</td>\n    </tr>\n    <tr>\n      <th>max</th>\n      <td>1125.000000</td>\n      <td>40.000000</td>\n      <td>10.000000</td>\n      <td>26.000000</td>\n      <td>3.000000</td>\n    </tr>\n  </tbody>\n</table>\n</div>"
     },
     "execution_count": 11,
     "metadata": {},
     "output_type": "execute_result"
    }
   ],
   "source": [
    "df.describe()"
   ],
   "metadata": {
    "collapsed": false,
    "ExecuteTime": {
     "end_time": "2025-03-26T13:58:49.228532Z",
     "start_time": "2025-03-26T13:58:49.187118Z"
    }
   },
   "id": "ee26fb3ec6959499",
   "execution_count": 11
  },
  {
   "cell_type": "code",
   "outputs": [],
   "source": [],
   "metadata": {
    "collapsed": false
   },
   "id": "18c1bd96a3d9155d"
  },
  {
   "cell_type": "code",
   "outputs": [
    {
     "data": {
      "text/plain": "  TV Series                                       Utterances  dialog_ids  \\\n0        GA                                  look around you           1   \n1        GA                    say hello to your competition           1   \n2        GA  eight of you will switch to an easier specialty           1   \n3        GA        five of you will crack under the pressure           1   \n4        GA                two of you will be asked to leave           1   \n\n   uttr_ids  seasons  episodes   start_times     end_times sentiment  emotion  \\\n0         0        1         1  00:02:27:589  00:02:28:567   neutral  neutral   \n1         1        1         1  00:02:28:910  00:02:30:513   neutral  neutral   \n2         2        1         1  00:02:31:387  00:02:34:060   neutral  neutral   \n3         3        1         1  00:02:34:134  00:02:36:002   neutral  neutral   \n4         4        1         1  00:02:36:059  00:02:37:723   neutral  neutral   \n\n  intensity emotion2 intensity2 emotion3  intensity3  \n0       NaN      NaN        NaN      NaN         NaN  \n1       NaN      NaN        NaN      NaN         NaN  \n2       NaN      NaN        NaN      NaN         NaN  \n3       NaN      NaN        NaN      NaN         NaN  \n4       NaN      NaN        NaN      NaN         NaN  ",
      "text/html": "<div>\n<style scoped>\n    .dataframe tbody tr th:only-of-type {\n        vertical-align: middle;\n    }\n\n    .dataframe tbody tr th {\n        vertical-align: top;\n    }\n\n    .dataframe thead th {\n        text-align: right;\n    }\n</style>\n<table border=\"1\" class=\"dataframe\">\n  <thead>\n    <tr style=\"text-align: right;\">\n      <th></th>\n      <th>TV Series</th>\n      <th>Utterances</th>\n      <th>dialog_ids</th>\n      <th>uttr_ids</th>\n      <th>seasons</th>\n      <th>episodes</th>\n      <th>start_times</th>\n      <th>end_times</th>\n      <th>sentiment</th>\n      <th>emotion</th>\n      <th>intensity</th>\n      <th>emotion2</th>\n      <th>intensity2</th>\n      <th>emotion3</th>\n      <th>intensity3</th>\n    </tr>\n  </thead>\n  <tbody>\n    <tr>\n      <th>0</th>\n      <td>GA</td>\n      <td>look around you</td>\n      <td>1</td>\n      <td>0</td>\n      <td>1</td>\n      <td>1</td>\n      <td>00:02:27:589</td>\n      <td>00:02:28:567</td>\n      <td>neutral</td>\n      <td>neutral</td>\n      <td>NaN</td>\n      <td>NaN</td>\n      <td>NaN</td>\n      <td>NaN</td>\n      <td>NaN</td>\n    </tr>\n    <tr>\n      <th>1</th>\n      <td>GA</td>\n      <td>say hello to your competition</td>\n      <td>1</td>\n      <td>1</td>\n      <td>1</td>\n      <td>1</td>\n      <td>00:02:28:910</td>\n      <td>00:02:30:513</td>\n      <td>neutral</td>\n      <td>neutral</td>\n      <td>NaN</td>\n      <td>NaN</td>\n      <td>NaN</td>\n      <td>NaN</td>\n      <td>NaN</td>\n    </tr>\n    <tr>\n      <th>2</th>\n      <td>GA</td>\n      <td>eight of you will switch to an easier specialty</td>\n      <td>1</td>\n      <td>2</td>\n      <td>1</td>\n      <td>1</td>\n      <td>00:02:31:387</td>\n      <td>00:02:34:060</td>\n      <td>neutral</td>\n      <td>neutral</td>\n      <td>NaN</td>\n      <td>NaN</td>\n      <td>NaN</td>\n      <td>NaN</td>\n      <td>NaN</td>\n    </tr>\n    <tr>\n      <th>3</th>\n      <td>GA</td>\n      <td>five of you will crack under the pressure</td>\n      <td>1</td>\n      <td>3</td>\n      <td>1</td>\n      <td>1</td>\n      <td>00:02:34:134</td>\n      <td>00:02:36:002</td>\n      <td>neutral</td>\n      <td>neutral</td>\n      <td>NaN</td>\n      <td>NaN</td>\n      <td>NaN</td>\n      <td>NaN</td>\n      <td>NaN</td>\n    </tr>\n    <tr>\n      <th>4</th>\n      <td>GA</td>\n      <td>two of you will be asked to leave</td>\n      <td>1</td>\n      <td>4</td>\n      <td>1</td>\n      <td>1</td>\n      <td>00:02:36:059</td>\n      <td>00:02:37:723</td>\n      <td>neutral</td>\n      <td>neutral</td>\n      <td>NaN</td>\n      <td>NaN</td>\n      <td>NaN</td>\n      <td>NaN</td>\n      <td>NaN</td>\n    </tr>\n  </tbody>\n</table>\n</div>"
     },
     "execution_count": 48,
     "metadata": {},
     "output_type": "execute_result"
    }
   ],
   "source": [
    "df.head(5)"
   ],
   "metadata": {
    "collapsed": false,
    "ExecuteTime": {
     "end_time": "2025-03-25T09:00:52.527976Z",
     "start_time": "2025-03-25T09:00:52.496656Z"
    }
   },
   "id": "f5ce47930e446d80",
   "execution_count": 48
  },
  {
   "cell_type": "code",
   "outputs": [
    {
     "name": "stdout",
     "output_type": "stream",
     "text": [
      "Łączna liczba rekordów po filtracji: 10461\n",
      "Liczba wystąpień poszczególnych emocji:\n",
      "disgust: 6399\n",
      "sadness: 3687\n",
      "anger: 3761\n",
      "fear: 1245\n"
     ]
    }
   ],
   "source": [
    "# Mapa poprawnych emocji\n",
    "emotion_mapping = {\n",
    "    \"disgust\": \"disgust\", \"digust\": \"disgust\",\n",
    "    \"joy\": \"joy\",\n",
    "    \"neutral\": \"neutral\",\n",
    "    \"anger\": \"anger\", \"anger1\": \"anger\",\n",
    "    \"sadness\": \"sadness\", \"sadnes\": \"sadness\", \"asadness\": \"sadness\",\n",
    "    \"acceptance\": \"acceptance\",\n",
    "    \"surprise\": \"surprise\", \"sur\": \"surprise\",\n",
    "    \"fear\": \"fear\", \"faer\": \"fear\", \"fera\": \"fear\",\n",
    "    \"like\": \"like\",\n",
    "    \"df\": None, \"l\": None, \"an\": None  # Usuwamy błędne wartości\n",
    "}\n",
    "\n",
    "emotion_mapping = {\n",
    "    \"disgust\": \"disgust\", \"digust\": \"disgust\",\n",
    "    \"anger\": \"anger\", \"anger1\": \"anger\",\n",
    "    \"sadness\": \"sadness\", \"sadnes\": \"sadness\", \"asadness\": \"sadness\",\n",
    "    \"fear\": \"fear\", \"faer\": \"fear\", \"fera\": \"fear\",\n",
    "    \"anxiety\": \"anxiety\",\n",
    "    \"depression\": \"depression\",\n",
    "    \"shame\": \"shame\",\n",
    "    \"nervousness\": \"nervousness\",\n",
    "    \"pain\": \"pain\",\n",
    "    \"jealousy\": \"jealousy\",\n",
    "    \"guilt\": \"guilt\"\n",
    "}\n",
    "\n",
    "def normalize_emotion(emotion):\n",
    "    emotion = str(emotion).strip().lower()\n",
    "    return emotion_mapping.get(emotion, None) if emotion != \"nan\" else None\n",
    "\n",
    "\n",
    "df[['emotion', 'emotion2', 'emotion3']] = df[['emotion', 'emotion2', 'emotion3']].map(normalize_emotion)\n",
    "\n",
    "# Filtrowanie tylko wybranych emocji\n",
    "df_filtered = df[df[['emotion', 'emotion2', 'emotion3']].apply(lambda x: x.isin(emotion_mapping.values()).any(), axis=1)]\n",
    "\n",
    "# Pobranie wszystkich emocji\n",
    "all_emotions = df_filtered[['emotion', 'emotion2', 'emotion3']].values.flatten()\n",
    "filtered_emotions = [emo for emo in all_emotions if emo]\n",
    "\n",
    "# Zlicz wszystkie emocje\n",
    "emotion_counts = Counter(filtered_emotions)\n",
    "\n",
    "# Oblicz procentowy udział emocji\n",
    "total_emotions = sum(emotion_counts.values())\n",
    "emotion_percentages = {k: (v / total_emotions) * 100 for k, v in sorted(emotion_counts.items(), key=lambda x: x[1], reverse=True)}\n",
    "\n",
    "# Wypisanie statystyk\n",
    "print(f\"Łączna liczba rekordów po filtracji: {len(df_filtered)}\")\n",
    "print(\"Liczba wystąpień poszczególnych emocji:\")\n",
    "for emotion, count in emotion_counts.items():\n",
    "    print(f\"{emotion}: {count}\")\n"
   ],
   "metadata": {
    "collapsed": false,
    "ExecuteTime": {
     "end_time": "2025-03-25T09:00:56.044443Z",
     "start_time": "2025-03-25T09:00:52.756434Z"
    }
   },
   "id": "be793c0f2cb2bad9",
   "execution_count": 49
  },
  {
   "cell_type": "code",
   "outputs": [
    {
     "data": {
      "text/plain": "<Figure size 1200x600 with 1 Axes>",
      "image/png": "[encoded data removed]"
     },
     "metadata": {},
     "output_type": "display_data"
    }
   ],
   "source": [
    "# Tworzenie wykresu\n",
    "plt.figure(figsize=(12, 6))\n",
    "plt.bar(emotion_percentages.keys(), emotion_percentages.values(), color='lightcoral')\n",
    "plt.xlabel(\"Emotion Type\")\n",
    "plt.ylabel(\"Percentage (%)\")\n",
    "plt.title(\"Distribution of All Emotions\")\n",
    "plt.xticks(rotation=90)\n",
    "plt.grid(axis='y', linestyle='--', alpha=0.7)\n",
    "\n",
    "# Wyświetlenie wykresu\n",
    "plt.show()"
   ],
   "metadata": {
    "collapsed": false,
    "ExecuteTime": {
     "end_time": "2025-03-25T09:00:56.818927Z",
     "start_time": "2025-03-25T09:00:56.324743Z"
    }
   },
   "id": "51ec5e51b17872e9",
   "execution_count": 50
  },
  {
   "cell_type": "markdown",
   "source": [],
   "metadata": {
    "collapsed": false
   },
   "id": "b6a1a72751b84be9"
  },
  {
   "cell_type": "code",
   "outputs": [],
   "source": [
    "df_filtered.to_csv(\"C:/Users/juwieczo/DataspellProjects/meisd_project/data/filtered_negative_MEISD_intensity.csv\", index=False)"
   ],
   "metadata": {
    "collapsed": false,
    "ExecuteTime": {
     "end_time": "2025-03-25T09:00:56.886923Z",
     "start_time": "2025-03-25T09:00:56.819885Z"
    }
   },
   "id": "72fb35c8a1633bf8",
   "execution_count": 51
  },
  {
   "cell_type": "code",
   "outputs": [],
   "source": [
    "meta_df = df_filtered"
   ],
   "metadata": {
    "collapsed": false,
    "ExecuteTime": {
     "end_time": "2025-03-25T09:00:56.914891Z",
     "start_time": "2025-03-25T09:00:56.887885Z"
    }
   },
   "id": "d27fadf53fc64653",
   "execution_count": 52
  },
  {
   "cell_type": "code",
   "outputs": [],
   "source": [
    "# For the multilabel classification we use:\n",
    "columns = ['Utterances', 'dialog_ids', 'intensity', 'intensity2', 'intensity3']\n",
    "meta_dfs = meta_df[columns].copy()"
   ],
   "metadata": {
    "collapsed": false,
    "ExecuteTime": {
     "end_time": "2025-03-25T09:00:56.923792Z",
     "start_time": "2025-03-25T09:00:56.915941Z"
    }
   },
   "id": "830cd359e6b364ba",
   "execution_count": 53
  },
  {
   "cell_type": "code",
   "outputs": [],
   "source": [
    "meta_dfs.loc[:, 'intensity'] = pd.to_numeric(meta_dfs['intensity'], errors='coerce')\n",
    "meta_dfs.loc[:, 'intensity2'] = pd.to_numeric(meta_dfs['intensity2'], errors='coerce')\n",
    "meta_dfs.loc[:, 'intensity3'] = pd.to_numeric(meta_dfs['intensity3'], errors='coerce')\n",
    "\n",
    "\n",
    "#Zamień wartości na liczby całkowite\n",
    "meta_dfs['intensity'] = pd.to_numeric(meta_dfs['intensity'], errors='coerce').fillna(0)\n",
    "meta_dfs['intensity2'] = pd.to_numeric(meta_dfs['intensity2'], errors='coerce').fillna(0)\n",
    "meta_dfs['intensity3'] = pd.to_numeric(meta_dfs['intensity3'], errors='coerce').fillna(0)\n",
    "\n",
    "#Zamień wartości zawierające tylko białe znaki lub '`', 'neu', 'po' na NaN\n",
    "meta_dfs['intensity'] = meta_dfs['intensity'].replace(r'^\\s*$', np.nan, regex=True)\n",
    "meta_dfs['intensity'] = meta_dfs['intensity'].replace(['`', 'neu', 'po'], np.nan)\n",
    "meta_dfs['intensity2'] = meta_dfs['intensity2'].replace(r'^\\s*$', np.nan, regex=True)\n",
    "meta_dfs['intensity2'] = meta_dfs['intensity2'].replace(['`', 'neu', 'po'], np.nan)\n",
    "meta_dfs['intensity3'] = meta_dfs['intensity3'].replace(r'^\\s*$', np.nan, regex=True)\n",
    "meta_dfs['intensity3'] = meta_dfs['intensity3'].replace(['`', 'neu', 'po'], np.nan)\n",
    "\n",
    "#Użyj forward fill, aby uzupełnić brakujące wartości poprzedzającą wartością\n",
    "meta_dfs['intensity'] = meta_dfs['intensity'].ffill()\n",
    "meta_dfs['intensity2'] = meta_dfs['intensity2'].ffill()\n",
    "meta_dfs['intensity3'] = meta_dfs['intensity3'].ffill()\n",
    "\n",
    "#Usuń znaki niebędące cyframi (np. '`') za pomocą wyrażeń regularnych\n",
    "meta_dfs['intensity'] = meta_dfs['intensity'].replace(r'\\D', '', regex=True).astype(int)  # Usuwa wszystko, co nie jest cyfrą\n",
    "meta_dfs['intensity2'] = meta_dfs['intensity2'].replace(r'\\D', '', regex=True).astype(int)\n",
    "meta_dfs['intensity3'] = meta_dfs['intensity3'].replace(r'\\D', '', regex=True).astype(int)"
   ],
   "metadata": {
    "collapsed": false,
    "ExecuteTime": {
     "end_time": "2025-03-25T09:00:56.951617Z",
     "start_time": "2025-03-25T09:00:56.924756Z"
    }
   },
   "id": "43900082716df67a",
   "execution_count": 54
  },
  {
   "cell_type": "code",
   "outputs": [
    {
     "name": "stderr",
     "output_type": "stream",
     "text": [
      "C:\\Users\\juwieczo\\AppData\\Local\\Temp\\ipykernel_21496\\3186010028.py:32: DeprecationWarning: DataFrameGroupBy.apply operated on the grouping columns. This behavior is deprecated, and in a future version of pandas the grouping columns will be excluded from the operation. Either pass `include_groups=False` to exclude the groupings or explicitly select the grouping columns after groupby to silence this warning.\n",
      "  meta_dfs.groupby('dialog_ids').apply(process_group)\n"
     ]
    }
   ],
   "source": [
    "first_25_data = []\n",
    "last_25_data = []\n",
    "\n",
    "def process_group(group):\n",
    "    num_rows = len(group)\n",
    "    quarter_size = max(1, num_rows // 4)\n",
    "\n",
    "    # First 25%\n",
    "    first_25 = group.iloc[:quarter_size]\n",
    "    last_25 = group.iloc[-quarter_size:]\n",
    "\n",
    "    # Maksymalna intensywność\n",
    "    first_25_max_intensity = first_25['intensity'].max()\n",
    "    last_25_max_intensity = last_25['intensity'].max()\n",
    "\n",
    "    # Łączenie wypowiedzi już tutaj\n",
    "    first_utterances = \" \".join(first_25['Utterances'])\n",
    "    last_utterances = \" \".join(last_25['Utterances'])\n",
    "\n",
    "    first_25_data.append(pd.Series({\n",
    "        'dialog_ids': group['dialog_ids'].iloc[0],\n",
    "        'Utterances': first_utterances,\n",
    "        'max_intensity': first_25_max_intensity\n",
    "    }))\n",
    "\n",
    "    last_25_data.append(pd.Series({\n",
    "        'dialog_ids': group['dialog_ids'].iloc[0],\n",
    "        'Utterances': last_utterances,\n",
    "        'max_intensity': last_25_max_intensity\n",
    "    }))\n",
    "\n",
    "meta_dfs.groupby('dialog_ids').apply(process_group)\n",
    "\n",
    "first_25_df = pd.DataFrame(first_25_data)\n",
    "last_25_df = pd.DataFrame(last_25_data)\n"
   ],
   "metadata": {
    "collapsed": false,
    "ExecuteTime": {
     "end_time": "2025-03-25T09:00:58.698183Z",
     "start_time": "2025-03-25T09:00:56.952585Z"
    }
   },
   "id": "e1bad54bd390f706",
   "execution_count": 55
  },
  {
   "cell_type": "code",
   "outputs": [
    {
     "data": {
      "text/plain": "      dialog_ids                                         Utterances  \\\n0              1                                        like i said   \n1              2             now you think i'm gay. no, i'm not gay   \n2              3                         now i have to like it here   \n3              4  yes no other reason? just a favor for an old p...   \n4              5  if he doesn't respond to these tests in the ne...   \n...          ...                                                ...   \n1080        1121  i was thinking exactly the same thing you give...   \n1081        1122                   just to be clear, he backed down   \n1082        1123        hey, michael, did you fall into a koi pond?   \n1083        1124               toy story. don't you mean koi story?   \n1084        1125                   okay, i brought cheese, too okay   \n\n      max_intensity  \n0                 1  \n1                 1  \n2                 2  \n3                 2  \n4                 2  \n...             ...  \n1080              2  \n1081              3  \n1082              1  \n1083              1  \n1084              2  \n\n[1085 rows x 3 columns]",
      "text/html": "<div>\n<style scoped>\n    .dataframe tbody tr th:only-of-type {\n        vertical-align: middle;\n    }\n\n    .dataframe tbody tr th {\n        vertical-align: top;\n    }\n\n    .dataframe thead th {\n        text-align: right;\n    }\n</style>\n<table border=\"1\" class=\"dataframe\">\n  <thead>\n    <tr style=\"text-align: right;\">\n      <th></th>\n      <th>dialog_ids</th>\n      <th>Utterances</th>\n      <th>max_intensity</th>\n    </tr>\n  </thead>\n  <tbody>\n    <tr>\n      <th>0</th>\n      <td>1</td>\n      <td>like i said</td>\n      <td>1</td>\n    </tr>\n    <tr>\n      <th>1</th>\n      <td>2</td>\n      <td>now you think i'm gay. no, i'm not gay</td>\n      <td>1</td>\n    </tr>\n    <tr>\n      <th>2</th>\n      <td>3</td>\n      <td>now i have to like it here</td>\n      <td>2</td>\n    </tr>\n    <tr>\n      <th>3</th>\n      <td>4</td>\n      <td>yes no other reason? just a favor for an old p...</td>\n      <td>2</td>\n    </tr>\n    <tr>\n      <th>4</th>\n      <td>5</td>\n      <td>if he doesn't respond to these tests in the ne...</td>\n      <td>2</td>\n    </tr>\n    <tr>\n      <th>...</th>\n      <td>...</td>\n      <td>...</td>\n      <td>...</td>\n    </tr>\n    <tr>\n      <th>1080</th>\n      <td>1121</td>\n      <td>i was thinking exactly the same thing you give...</td>\n      <td>2</td>\n    </tr>\n    <tr>\n      <th>1081</th>\n      <td>1122</td>\n      <td>just to be clear, he backed down</td>\n      <td>3</td>\n    </tr>\n    <tr>\n      <th>1082</th>\n      <td>1123</td>\n      <td>hey, michael, did you fall into a koi pond?</td>\n      <td>1</td>\n    </tr>\n    <tr>\n      <th>1083</th>\n      <td>1124</td>\n      <td>toy story. don't you mean koi story?</td>\n      <td>1</td>\n    </tr>\n    <tr>\n      <th>1084</th>\n      <td>1125</td>\n      <td>okay, i brought cheese, too okay</td>\n      <td>2</td>\n    </tr>\n  </tbody>\n</table>\n<p>1085 rows × 3 columns</p>\n</div>"
     },
     "execution_count": 56,
     "metadata": {},
     "output_type": "execute_result"
    }
   ],
   "source": [
    "first_25_df"
   ],
   "metadata": {
    "collapsed": false,
    "ExecuteTime": {
     "end_time": "2025-03-25T09:00:58.711839Z",
     "start_time": "2025-03-25T09:00:58.700177Z"
    }
   },
   "id": "1d03ebad0fc0b952",
   "execution_count": 56
  },
  {
   "cell_type": "code",
   "outputs": [],
   "source": [
    "first_25_df.to_csv('C:/Users/juwieczo/DataspellProjects/meisd_project/data/filtered_negative_MEISD_intensity_max_first_25_conv.csv', index=False, header=True)"
   ],
   "metadata": {
    "collapsed": false,
    "ExecuteTime": {
     "end_time": "2025-03-25T09:00:58.724986Z",
     "start_time": "2025-03-25T09:00:58.713440Z"
    }
   },
   "id": "240babbc92e91ee8",
   "execution_count": 57
  },
  {
   "cell_type": "code",
   "outputs": [
    {
     "data": {
      "text/plain": "   dialog_ids                                         Utterances  \\\n0           1                 yeah. i hear one of them's a model   \n1           2  you will answer every page at a run - a run - ...   \n2           3  you're sexually harassing me. - i'm riding an ...   \n3           4  i am not slow. you are slow you want to bet? y...   \n4           5  so when we call \"time of death,\" we know that ...   \n\n   max_intensity  \n0              2  \n1              1  \n2              1  \n3              2  \n4              2  ",
      "text/html": "<div>\n<style scoped>\n    .dataframe tbody tr th:only-of-type {\n        vertical-align: middle;\n    }\n\n    .dataframe tbody tr th {\n        vertical-align: top;\n    }\n\n    .dataframe thead th {\n        text-align: right;\n    }\n</style>\n<table border=\"1\" class=\"dataframe\">\n  <thead>\n    <tr style=\"text-align: right;\">\n      <th></th>\n      <th>dialog_ids</th>\n      <th>Utterances</th>\n      <th>max_intensity</th>\n    </tr>\n  </thead>\n  <tbody>\n    <tr>\n      <th>0</th>\n      <td>1</td>\n      <td>yeah. i hear one of them's a model</td>\n      <td>2</td>\n    </tr>\n    <tr>\n      <th>1</th>\n      <td>2</td>\n      <td>you will answer every page at a run - a run - ...</td>\n      <td>1</td>\n    </tr>\n    <tr>\n      <th>2</th>\n      <td>3</td>\n      <td>you're sexually harassing me. - i'm riding an ...</td>\n      <td>1</td>\n    </tr>\n    <tr>\n      <th>3</th>\n      <td>4</td>\n      <td>i am not slow. you are slow you want to bet? y...</td>\n      <td>2</td>\n    </tr>\n    <tr>\n      <th>4</th>\n      <td>5</td>\n      <td>so when we call \"time of death,\" we know that ...</td>\n      <td>2</td>\n    </tr>\n  </tbody>\n</table>\n</div>"
     },
     "execution_count": 58,
     "metadata": {},
     "output_type": "execute_result"
    }
   ],
   "source": [
    "last_25_df.head()"
   ],
   "metadata": {
    "collapsed": false,
    "ExecuteTime": {
     "end_time": "2025-03-25T09:00:58.735799Z",
     "start_time": "2025-03-25T09:00:58.725940Z"
    }
   },
   "id": "5a4a96cd6f3c7897",
   "execution_count": 58
  },
  {
   "cell_type": "code",
   "outputs": [],
   "source": [
    "# Tworzenie nowej kolumny bazującej na intensity\n",
    "last_25_df['binary_intensity'] = (last_25_df['max_intensity'] == 2).astype(int)"
   ],
   "metadata": {
    "collapsed": false,
    "ExecuteTime": {
     "end_time": "2025-03-25T09:00:58.746397Z",
     "start_time": "2025-03-25T09:00:58.737798Z"
    }
   },
   "id": "7c627b265715b309",
   "execution_count": 59
  },
  {
   "cell_type": "code",
   "outputs": [
    {
     "data": {
      "text/plain": "      dialog_ids                                         Utterances  \\\n0              1                 yeah. i hear one of them's a model   \n1              2  you will answer every page at a run - a run - ...   \n2              3  you're sexually harassing me. - i'm riding an ...   \n3              4  i am not slow. you are slow you want to bet? y...   \n4              5  so when we call \"time of death,\" we know that ...   \n...          ...                                                ...   \n1080        1121  we do it the hard way all right, i will meet w...   \n1081        1122  i will. i will, kevin. i will make that my top...   \n1082        1123  no. don't. i'm not going to bump. i'm not goin...   \n1083        1124                      damn it, he'd still look good   \n1084        1125  please, pam, reconsider and have a bagel i hav...   \n\n      max_intensity  binary_intensity  \n0                 2                 1  \n1                 1                 0  \n2                 1                 0  \n3                 2                 1  \n4                 2                 1  \n...             ...               ...  \n1080              2                 1  \n1081              1                 0  \n1082              1                 0  \n1083              2                 1  \n1084              1                 0  \n\n[1085 rows x 4 columns]",
      "text/html": "<div>\n<style scoped>\n    .dataframe tbody tr th:only-of-type {\n        vertical-align: middle;\n    }\n\n    .dataframe tbody tr th {\n        vertical-align: top;\n    }\n\n    .dataframe thead th {\n        text-align: right;\n    }\n</style>\n<table border=\"1\" class=\"dataframe\">\n  <thead>\n    <tr style=\"text-align: right;\">\n      <th></th>\n      <th>dialog_ids</th>\n      <th>Utterances</th>\n      <th>max_intensity</th>\n      <th>binary_intensity</th>\n    </tr>\n  </thead>\n  <tbody>\n    <tr>\n      <th>0</th>\n      <td>1</td>\n      <td>yeah. i hear one of them's a model</td>\n      <td>2</td>\n      <td>1</td>\n    </tr>\n    <tr>\n      <th>1</th>\n      <td>2</td>\n      <td>you will answer every page at a run - a run - ...</td>\n      <td>1</td>\n      <td>0</td>\n    </tr>\n    <tr>\n      <th>2</th>\n      <td>3</td>\n      <td>you're sexually harassing me. - i'm riding an ...</td>\n      <td>1</td>\n      <td>0</td>\n    </tr>\n    <tr>\n      <th>3</th>\n      <td>4</td>\n      <td>i am not slow. you are slow you want to bet? y...</td>\n      <td>2</td>\n      <td>1</td>\n    </tr>\n    <tr>\n      <th>4</th>\n      <td>5</td>\n      <td>so when we call \"time of death,\" we know that ...</td>\n      <td>2</td>\n      <td>1</td>\n    </tr>\n    <tr>\n      <th>...</th>\n      <td>...</td>\n      <td>...</td>\n      <td>...</td>\n      <td>...</td>\n    </tr>\n    <tr>\n      <th>1080</th>\n      <td>1121</td>\n      <td>we do it the hard way all right, i will meet w...</td>\n      <td>2</td>\n      <td>1</td>\n    </tr>\n    <tr>\n      <th>1081</th>\n      <td>1122</td>\n      <td>i will. i will, kevin. i will make that my top...</td>\n      <td>1</td>\n      <td>0</td>\n    </tr>\n    <tr>\n      <th>1082</th>\n      <td>1123</td>\n      <td>no. don't. i'm not going to bump. i'm not goin...</td>\n      <td>1</td>\n      <td>0</td>\n    </tr>\n    <tr>\n      <th>1083</th>\n      <td>1124</td>\n      <td>damn it, he'd still look good</td>\n      <td>2</td>\n      <td>1</td>\n    </tr>\n    <tr>\n      <th>1084</th>\n      <td>1125</td>\n      <td>please, pam, reconsider and have a bagel i hav...</td>\n      <td>1</td>\n      <td>0</td>\n    </tr>\n  </tbody>\n</table>\n<p>1085 rows × 4 columns</p>\n</div>"
     },
     "execution_count": 45,
     "metadata": {},
     "output_type": "execute_result"
    }
   ],
   "source": [
    "last_25_df"
   ],
   "metadata": {
    "collapsed": false,
    "ExecuteTime": {
     "end_time": "2025-03-24T11:29:43.199201Z",
     "start_time": "2025-03-24T11:29:43.188661Z"
    }
   },
   "id": "9902a6a6d8b7f31a",
   "execution_count": 45
  },
  {
   "cell_type": "code",
   "outputs": [],
   "source": [],
   "metadata": {
    "collapsed": false
   },
   "id": "c676122e8a5e82a5"
  }
 ],
 "metadata": {
  "kernelspec": {
   "display_name": "Python 3",
   "language": "python",
   "name": "python3"
  },
  "language_info": {
   "codemirror_mode": {
    "name": "ipython",
    "version": 2
   },
   "file_extension": ".py",
   "mimetype": "text/x-python",
   "name": "python",
   "nbconvert_exporter": "python",
   "pygments_lexer": "ipython2",
   "version": "2.7.6"
  }
 },
 "nbformat": 4,
 "nbformat_minor": 5
}
