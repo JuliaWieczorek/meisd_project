{
 "cells": [
  {
   "cell_type": "code",
   "execution_count": 2,
   "id": "initial_id",
   "metadata": {
    "collapsed": true,
    "ExecuteTime": {
     "end_time": "2024-11-29T21:45:52.176509Z",
     "start_time": "2024-11-29T21:45:51.970900Z"
    }
   },
   "outputs": [],
   "source": [
    "import shutil\n",
    "import sys\n",
    "\n",
    "import os\n",
    "import pandas as pd\n",
    "import numpy as np\n",
    "import matplotlib.pyplot as plt\n",
    "import seaborn as sns\n",
    "from pylab import rcParams\n",
    "from matplotlib import rc\n",
    "\n",
    "\n",
    "from sklearn.model_selection import train_test_split\n",
    "from sklearn.metrics import f1_score, classification_report, multilabel_confusion_matrix\n",
    "from sklearn.preprocessing import MultiLabelBinarizer\n",
    "from sklearn.preprocessing import OneHotEncoder\n",
    "\n",
    "\n",
    "import torch\n",
    "import torch.nn as nn\n",
    "from torch.utils.data import Dataset, DataLoader\n",
    "\n",
    "from transformers import pipeline\n",
    "from transformers import BertTokenizerFast as BertTokenizer, BertModel, AdamW, get_linear_schedule_with_warmup\n",
    "\n",
    "\n",
    "import pytorch_lightning as pl\n",
    "from pytorch_lightning.metrics.functional import accuracy, f1, auroc\n",
    "from pytorch_lightning.callbacks import ModelCheckpoint, EarlyStopping\n",
    "from pytorch_lightning.loggers import TensorBoardLogger\n",
    "\n",
    "\n",
    "import nltk\n",
    "from nltk.corpus import wordnet\n",
    "from deep_translator import GoogleTranslator\n",
    "from googletrans import Translator\n",
    "\n",
    "\n",
    "from tqdm import tqdm\n",
    "import tqdm.notebook as tq\n",
    "\n",
    "import random\n",
    "import time\n",
    "\n",
    "from collections import defaultdict, Counter\n",
    "\n",
    "sns.set(style='whitegrid', palette='muted', font_scale=1.2)\n",
    "HAPPY_COLORS_PALETTE = [\"#01BEFE\", \"#FFDD00\", \"#FF7D00\", \"#FF006D\", \"#ADFF02\", \"#8F00FF\"]\n",
    "sns.set_palette(sns.color_palette(HAPPY_COLORS_PALETTE))\n",
    "rcParams['figure.figsize'] = 12, 8\n",
    "\n",
    "#nltk.download('wordnet')\n",
    "#nltk.download('omw-1.4')\n",
    "\n",
    "translator = Translator()\n",
    "\n",
    "#device = torch.device('cuda') if torch.cuda.is_available() else torch.device('cpu')"
   ]
  },
  {
   "cell_type": "code",
   "outputs": [],
   "source": [
    "# Hyperparameters\n",
    "PRE_TRAINED_MODEL_NAME = 'bert-base-cased'\n",
    "\n",
    "MAX_LEN = 30\n",
    "#MAX_LEN = min(30, max(df_train['Utterances'].str.split().apply(len).max(), 50))\n",
    "BATCH_SIZE = 16\n",
    "# TRAIN_BATCH_SIZE = 16\n",
    "# VALID_BATCH_SIZE = 16\n",
    "# TEST_BATCH_SIZE = 16\n",
    "EPOCHS = 2\n",
    "LEARNING_RATE = 0.001 #1e-05\n",
    "THRESHOLD = 0.2 # threshold for the sigmoid"
   ],
   "metadata": {
    "collapsed": false,
    "ExecuteTime": {
     "end_time": "2024-11-29T21:45:54.611821Z",
     "start_time": "2024-11-29T21:45:54.609052Z"
    }
   },
   "id": "904ac53922491685",
   "execution_count": 3
  },
  {
   "cell_type": "code",
   "outputs": [],
   "source": [
    "df_data = pd.read_csv('MEISD/MEISD_text.csv')"
   ],
   "metadata": {
    "collapsed": false,
    "ExecuteTime": {
     "end_time": "2024-11-29T21:45:54.658208Z",
     "start_time": "2024-11-29T21:45:54.612827Z"
    }
   },
   "id": "191da412cb222efc",
   "execution_count": 4
  },
  {
   "cell_type": "code",
   "outputs": [
    {
     "data": {
      "text/plain": "  TV Series                                       Utterances  dialog_ids  \\\n0        GA                                  look around you           1   \n1        GA                    say hello to your competition           1   \n2        GA  eight of you will switch to an easier specialty           1   \n3        GA        five of you will crack under the pressure           1   \n4        GA                two of you will be asked to leave           1   \n\n   uttr_ids  seasons  episodes   start_times     end_times sentiment  emotion  \\\n0         0        1         1  00:02:27:589  00:02:28:567   neutral  neutral   \n1         1        1         1  00:02:28:910  00:02:30:513   neutral  neutral   \n2         2        1         1  00:02:31:387  00:02:34:060   neutral  neutral   \n3         3        1         1  00:02:34:134  00:02:36:002   neutral  neutral   \n4         4        1         1  00:02:36:059  00:02:37:723   neutral  neutral   \n\n  intensity emotion2 intensity2 emotion3  intensity3  \n0       NaN      NaN        NaN      NaN         NaN  \n1       NaN      NaN        NaN      NaN         NaN  \n2       NaN      NaN        NaN      NaN         NaN  \n3       NaN      NaN        NaN      NaN         NaN  \n4       NaN      NaN        NaN      NaN         NaN  ",
      "text/html": "<div>\n<style scoped>\n    .dataframe tbody tr th:only-of-type {\n        vertical-align: middle;\n    }\n\n    .dataframe tbody tr th {\n        vertical-align: top;\n    }\n\n    .dataframe thead th {\n        text-align: right;\n    }\n</style>\n<table border=\"1\" class=\"dataframe\">\n  <thead>\n    <tr style=\"text-align: right;\">\n      <th></th>\n      <th>TV Series</th>\n      <th>Utterances</th>\n      <th>dialog_ids</th>\n      <th>uttr_ids</th>\n      <th>seasons</th>\n      <th>episodes</th>\n      <th>start_times</th>\n      <th>end_times</th>\n      <th>sentiment</th>\n      <th>emotion</th>\n      <th>intensity</th>\n      <th>emotion2</th>\n      <th>intensity2</th>\n      <th>emotion3</th>\n      <th>intensity3</th>\n    </tr>\n  </thead>\n  <tbody>\n    <tr>\n      <th>0</th>\n      <td>GA</td>\n      <td>look around you</td>\n      <td>1</td>\n      <td>0</td>\n      <td>1</td>\n      <td>1</td>\n      <td>00:02:27:589</td>\n      <td>00:02:28:567</td>\n      <td>neutral</td>\n      <td>neutral</td>\n      <td>NaN</td>\n      <td>NaN</td>\n      <td>NaN</td>\n      <td>NaN</td>\n      <td>NaN</td>\n    </tr>\n    <tr>\n      <th>1</th>\n      <td>GA</td>\n      <td>say hello to your competition</td>\n      <td>1</td>\n      <td>1</td>\n      <td>1</td>\n      <td>1</td>\n      <td>00:02:28:910</td>\n      <td>00:02:30:513</td>\n      <td>neutral</td>\n      <td>neutral</td>\n      <td>NaN</td>\n      <td>NaN</td>\n      <td>NaN</td>\n      <td>NaN</td>\n      <td>NaN</td>\n    </tr>\n    <tr>\n      <th>2</th>\n      <td>GA</td>\n      <td>eight of you will switch to an easier specialty</td>\n      <td>1</td>\n      <td>2</td>\n      <td>1</td>\n      <td>1</td>\n      <td>00:02:31:387</td>\n      <td>00:02:34:060</td>\n      <td>neutral</td>\n      <td>neutral</td>\n      <td>NaN</td>\n      <td>NaN</td>\n      <td>NaN</td>\n      <td>NaN</td>\n      <td>NaN</td>\n    </tr>\n    <tr>\n      <th>3</th>\n      <td>GA</td>\n      <td>five of you will crack under the pressure</td>\n      <td>1</td>\n      <td>3</td>\n      <td>1</td>\n      <td>1</td>\n      <td>00:02:34:134</td>\n      <td>00:02:36:002</td>\n      <td>neutral</td>\n      <td>neutral</td>\n      <td>NaN</td>\n      <td>NaN</td>\n      <td>NaN</td>\n      <td>NaN</td>\n      <td>NaN</td>\n    </tr>\n    <tr>\n      <th>4</th>\n      <td>GA</td>\n      <td>two of you will be asked to leave</td>\n      <td>1</td>\n      <td>4</td>\n      <td>1</td>\n      <td>1</td>\n      <td>00:02:36:059</td>\n      <td>00:02:37:723</td>\n      <td>neutral</td>\n      <td>neutral</td>\n      <td>NaN</td>\n      <td>NaN</td>\n      <td>NaN</td>\n      <td>NaN</td>\n      <td>NaN</td>\n    </tr>\n  </tbody>\n</table>\n</div>"
     },
     "execution_count": 5,
     "metadata": {},
     "output_type": "execute_result"
    }
   ],
   "source": [
    "df_data.head()"
   ],
   "metadata": {
    "collapsed": false,
    "ExecuteTime": {
     "end_time": "2024-11-29T21:45:54.886142Z",
     "start_time": "2024-11-29T21:45:54.873798Z"
    }
   },
   "id": "be38c4ec0e98b8b0",
   "execution_count": 5
  },
  {
   "cell_type": "markdown",
   "source": [
    "## Data Preprocessing"
   ],
   "metadata": {
    "collapsed": false
   },
   "id": "5387eb99bd8c623d"
  },
  {
   "cell_type": "code",
   "outputs": [
    {
     "name": "stdout",
     "output_type": "stream",
     "text": [
      "=== Weryfikacja integralności danych ===\n",
      "\n",
      ">>> Sprawdzanie brakujących wartości:\n",
      "intensity      3568\n",
      "emotion2      11128\n",
      "intensity2    11129\n",
      "emotion3      19950\n",
      "intensity3    19950\n",
      "dtype: int64\n",
      "\n",
      ">>> Typy danych:\n",
      "TV Series       object\n",
      "Utterances      object\n",
      "dialog_ids       int64\n",
      "uttr_ids         int64\n",
      "seasons          int64\n",
      "episodes         int64\n",
      "start_times     object\n",
      "end_times       object\n",
      "sentiment       object\n",
      "emotion         object\n",
      "intensity       object\n",
      "emotion2        object\n",
      "intensity2      object\n",
      "emotion3        object\n",
      "intensity3     float64\n",
      "dtype: object\n",
      "\n",
      ">>> Liczba duplikatów:\n",
      "Liczba zduplikowanych wierszy: 0\n",
      "\n",
      ">>> Zakres wartości w kolumnach liczbowych:\n",
      "dialog_ids: min = 1, max = 1125\n",
      "uttr_ids: min = 0, max = 40\n",
      "seasons: min = 1, max = 10\n",
      "episodes: min = 1, max = 26\n",
      "intensity3: min = 1.0, max = 3.0\n",
      "\n",
      ">>> Unikalne wartości w kolumnach kluczowych:\n",
      "emotion: ['neutral' 'acceptance' 'disgust' 'surprise' 'joy' 'sadness' 'anger'\n",
      " 'like' 'fear' 'acceptance ' 'faer' 'Fear ' 'fear ' 'Fear' 'Anger'\n",
      " 'Disgust' 'Neutral' 'Surprise' 'Joy' 'Sadness' 'Fera' 'ANGER' ' disgust'\n",
      " 'Neutral ' 'neutral ']\n",
      "emotion2: [nan 'disgust' 'sadness' 'joy' 'acceptance' 'anger' 'like' 'fear'\n",
      " 'surprise' 'acceptance ' ' disgust' 'Surprise ' 'sadnes' 'l' ' surprise'\n",
      " ' anger' ' sadness' 'Disgust' 'Anger' 'Surprise' 'Fear' 'Sadness' 'Joy'\n",
      " 'sadness ' 'ANGER' 'anger1' 'Sadness ' 'digust' 'sur' 'an' '  disgust'\n",
      " 'asadness']\n",
      "emotion3: [nan 'disgust' 'joy' 'acceptance' 'sadness' 'anger' 'surprise' 'Disgust'\n",
      " 'fear' 'Anger']\n",
      "\n",
      "Weryfikacja zakończona.\n"
     ]
    }
   ],
   "source": [
    "def check_data_integrity(df):\n",
    "    print(\"=== Weryfikacja integralności danych ===\")\n",
    "\n",
    "    print(\"\\n>>> Sprawdzanie brakujących wartości:\")\n",
    "    missing_values = df.isnull().sum()\n",
    "    print(missing_values[missing_values > 0])\n",
    "\n",
    "    print(\"\\n>>> Typy danych:\")\n",
    "    print(df.dtypes)\n",
    "\n",
    "    print(\"\\n>>> Liczba duplikatów:\")\n",
    "    duplicates = df.duplicated().sum()\n",
    "    print(f\"Liczba zduplikowanych wierszy: {duplicates}\")\n",
    "\n",
    "    print(\"\\n>>> Zakres wartości w kolumnach liczbowych:\")\n",
    "    for col in df.select_dtypes(include=[np.number]).columns:\n",
    "        print(f\"{col}: min = {df[col].min()}, max = {df[col].max()}\")\n",
    "\n",
    "    print(\"\\n>>> Unikalne wartości w kolumnach kluczowych:\")\n",
    "    for col in ['emotion', 'emotion2', 'emotion3']:\n",
    "        if col in df.columns:\n",
    "            print(f\"{col}: {df[col].unique()}\")\n",
    "\n",
    "    print(\"\\nWeryfikacja zakończona.\\n\")\n",
    "\n",
    "\n",
    "# Funkcja do weryfikacji kompletności danych\n",
    "def verify_data_integrity(data):\n",
    "    issues = []\n",
    "\n",
    "    if 'combined_emotions' not in data.columns:\n",
    "        print(\"Column 'combined_emotions' is missing!\")\n",
    "        return\n",
    "\n",
    "    for idx, entry in data.iterrows():\n",
    "        combined_emotions = entry['combined_emotions']\n",
    "\n",
    "        if not combined_emotions:  \n",
    "            issues.append(f\"Entry {idx} has an empty 'combined_emotions' list.\")\n",
    "        elif not isinstance(combined_emotions, list):  \n",
    "            issues.append(f\"Entry {idx} has 'combined_emotions' which is not a list.\")\n",
    "\n",
    "    if issues:\n",
    "        print(\"Data integrity check failed:\")\n",
    "        for issue in issues:\n",
    "            print(issue)\n",
    "    else:\n",
    "        print(\"All entries in 'combined_emotions' are valid!\")\n",
    "\n",
    "check_data_integrity(df_data)"
   ],
   "metadata": {
    "collapsed": false,
    "ExecuteTime": {
     "end_time": "2024-11-29T21:45:58.319671Z",
     "start_time": "2024-11-29T21:45:58.291634Z"
    }
   },
   "id": "d502e133144d6890",
   "execution_count": 6
  },
  {
   "cell_type": "code",
   "outputs": [
    {
     "name": "stdout",
     "output_type": "stream",
     "text": [
      "{' anger', 'Joy', '  disgust', 'acceptance ', 'digust', 'neutral ', 'Anger', 'disgust', 'anger', ' surprise', 'Disgust', 'anger1', nan, 'acceptance', 'Fera', 'sadness', 'faer', 'Fear ', ' disgust', 'Sadness ', 'Surprise ', 'an', 'Neutral ', 'Surprise', 'sadnes', 'neutral', 'ANGER', 'asadness', 'Fear', 'Sadness', 'fear ', 'surprise', 'joy', 'like', 'sadness ', 'Neutral', 'l', ' sadness', 'sur', 'fear'}\n"
     ]
    }
   ],
   "source": [
    "unique_emotions = set(df_data['emotion'].unique()) | set(df_data['emotion2'].unique()) | set(df_data['emotion3'].unique())\n",
    "print(unique_emotions)"
   ],
   "metadata": {
    "collapsed": false,
    "ExecuteTime": {
     "end_time": "2024-11-29T21:45:59.335877Z",
     "start_time": "2024-11-29T21:45:59.331601Z"
    }
   },
   "id": "3e9f6b6ecff771d8",
   "execution_count": 7
  },
  {
   "cell_type": "code",
   "outputs": [],
   "source": [
    "emotion_map = {\n",
    "    'neutral': 0, 'Neutral': 0, 'Neutral ': 0, 'neutral ': 0,\n",
    "    'acceptance': 1, 'acceptance ': 1,\n",
    "    'disgust': 2, 'Disgust': 2, ' disgust': 2, '  disgust': 2, 'digust': 2,\n",
    "    'surprise': 3, 'Surprise': 3, ' surprise': 3, 'Surprise ': 3, 'sur': 3,\n",
    "    'joy': 4, 'Joy': 4, 'like': 4,\n",
    "    'sadness': 5, 'Sadness': 5, ' sadness': 5, 'Sadness ': 5, 'sadness ': 5, 'sadnes': 5, 'asadness': 5,\n",
    "    'anger': 6, 'Anger': 6, ' anger': 6, 'ANGER': 6, 'anger1': 6, 'an': 6,\n",
    "    'fear': 8, 'Fear': 8, 'fear ': 8, 'Fear ': 8, 'faer': 8, 'Fera': 8,\n",
    "    'l': None, np.nan: None\n",
    "}\n",
    "\n",
    "data_emotion = pd.DataFrame()\n",
    "data_emotion['Utterances'] = df_data['Utterances']\n",
    "\n",
    "data_emotion['target1'] = df_data['emotion'].map(emotion_map)\n",
    "data_emotion['target2'] = df_data['emotion2'].map(emotion_map)\n",
    "data_emotion['target3'] = df_data['emotion3'].map(emotion_map)\n",
    "\n",
    "\n",
    "def fill_nans(row):\n",
    "    if row.isna().sum() == 2 and row.count() == 1:\n",
    "        row = row.fillna(row.dropna().iloc[0])\n",
    "\n",
    "    elif row.isna().sum() == 1 and row.count() == 2:\n",
    "        row = row.fillna(row.dropna().iloc[0])\n",
    "\n",
    "    return row\n",
    "\n",
    "\n",
    "data_emotion[['target1', 'target2', 'target3']] = data_emotion[['target1', 'target2', 'target3']].apply(fill_nans, axis=1)\n",
    "\n",
    "data_emotion['target1'] = data_emotion['target1'].astype(int)\n",
    "data_emotion['target2'] = data_emotion['target2'].astype(int)\n",
    "data_emotion['target3'] = data_emotion['target3'].astype(int)"
   ],
   "metadata": {
    "collapsed": false,
    "ExecuteTime": {
     "end_time": "2024-11-29T21:46:05.056454Z",
     "start_time": "2024-11-29T21:45:59.855941Z"
    }
   },
   "id": "5a8aaa8b880c6ccb",
   "execution_count": 8
  },
  {
   "cell_type": "code",
   "outputs": [
    {
     "data": {
      "text/plain": "                                        Utterances  target1  target2  target3\n0                                  look around you        0        0        0\n1                    say hello to your competition        0        0        0\n2  eight of you will switch to an easier specialty        0        0        0\n3        five of you will crack under the pressure        0        0        0\n4                two of you will be asked to leave        0        0        0",
      "text/html": "<div>\n<style scoped>\n    .dataframe tbody tr th:only-of-type {\n        vertical-align: middle;\n    }\n\n    .dataframe tbody tr th {\n        vertical-align: top;\n    }\n\n    .dataframe thead th {\n        text-align: right;\n    }\n</style>\n<table border=\"1\" class=\"dataframe\">\n  <thead>\n    <tr style=\"text-align: right;\">\n      <th></th>\n      <th>Utterances</th>\n      <th>target1</th>\n      <th>target2</th>\n      <th>target3</th>\n    </tr>\n  </thead>\n  <tbody>\n    <tr>\n      <th>0</th>\n      <td>look around you</td>\n      <td>0</td>\n      <td>0</td>\n      <td>0</td>\n    </tr>\n    <tr>\n      <th>1</th>\n      <td>say hello to your competition</td>\n      <td>0</td>\n      <td>0</td>\n      <td>0</td>\n    </tr>\n    <tr>\n      <th>2</th>\n      <td>eight of you will switch to an easier specialty</td>\n      <td>0</td>\n      <td>0</td>\n      <td>0</td>\n    </tr>\n    <tr>\n      <th>3</th>\n      <td>five of you will crack under the pressure</td>\n      <td>0</td>\n      <td>0</td>\n      <td>0</td>\n    </tr>\n    <tr>\n      <th>4</th>\n      <td>two of you will be asked to leave</td>\n      <td>0</td>\n      <td>0</td>\n      <td>0</td>\n    </tr>\n  </tbody>\n</table>\n</div>"
     },
     "execution_count": 9,
     "metadata": {},
     "output_type": "execute_result"
    }
   ],
   "source": [
    "data_emotion.head(5)"
   ],
   "metadata": {
    "collapsed": false,
    "ExecuteTime": {
     "end_time": "2024-11-29T21:46:05.062752Z",
     "start_time": "2024-11-29T21:46:05.057459Z"
    }
   },
   "id": "332b2987537a0e76",
   "execution_count": 9
  },
  {
   "cell_type": "code",
   "outputs": [],
   "source": [
    "data_emotion['combined_emotions'] = data_emotion[['target1', 'target2', 'target3']].apply(lambda x: x.dropna().unique().astype(int).tolist(), axis=1)"
   ],
   "metadata": {
    "collapsed": false,
    "ExecuteTime": {
     "end_time": "2024-11-29T21:46:06.303693Z",
     "start_time": "2024-11-29T21:46:05.062752Z"
    }
   },
   "id": "270a8a1cc8fd661a",
   "execution_count": 10
  },
  {
   "cell_type": "code",
   "outputs": [
    {
     "name": "stdout",
     "output_type": "stream",
     "text": [
      "All entries in 'combined_emotions' are valid!\n"
     ]
    }
   ],
   "source": [
    "verify_data_integrity(data_emotion)"
   ],
   "metadata": {
    "collapsed": false,
    "ExecuteTime": {
     "end_time": "2024-11-29T21:46:06.817644Z",
     "start_time": "2024-11-29T21:46:06.304701Z"
    }
   },
   "id": "753d4c967550c0ab",
   "execution_count": 11
  },
  {
   "cell_type": "code",
   "outputs": [],
   "source": [
    "# One-hot encoding\n",
    "mlb_emotion = MultiLabelBinarizer()\n",
    "emotion_binarized = mlb_emotion.fit_transform(data_emotion['combined_emotions'])\n",
    "emotion_df = pd.DataFrame(emotion_binarized, columns=[f'emotion_{i+1}' for i in range(emotion_binarized.shape[1])])"
   ],
   "metadata": {
    "collapsed": false,
    "ExecuteTime": {
     "end_time": "2024-11-29T21:46:06.832982Z",
     "start_time": "2024-11-29T21:46:06.818678Z"
    }
   },
   "id": "4272a0bab8f57fd3",
   "execution_count": 12
  },
  {
   "cell_type": "code",
   "outputs": [
    {
     "name": "stdout",
     "output_type": "stream",
     "text": [
      "=== Weryfikacja integralności danych ===\n",
      "\n",
      ">>> Sprawdzanie brakujących wartości:\n",
      "Series([], dtype: int64)\n",
      "\n",
      ">>> Typy danych:\n",
      "emotion_1    int32\n",
      "emotion_2    int32\n",
      "emotion_3    int32\n",
      "emotion_4    int32\n",
      "emotion_5    int32\n",
      "emotion_6    int32\n",
      "emotion_7    int32\n",
      "emotion_8    int32\n",
      "dtype: object\n",
      "\n",
      ">>> Liczba duplikatów:\n",
      "Liczba zduplikowanych wierszy: 19970\n",
      "\n",
      ">>> Zakres wartości w kolumnach liczbowych:\n",
      "emotion_1: min = 0, max = 1\n",
      "emotion_2: min = 0, max = 1\n",
      "emotion_3: min = 0, max = 1\n",
      "emotion_4: min = 0, max = 1\n",
      "emotion_5: min = 0, max = 1\n",
      "emotion_6: min = 0, max = 1\n",
      "emotion_7: min = 0, max = 1\n",
      "emotion_8: min = 0, max = 1\n",
      "\n",
      ">>> Unikalne wartości w kolumnach kluczowych:\n",
      "\n",
      "Weryfikacja zakończona.\n"
     ]
    }
   ],
   "source": [
    "check_data_integrity(emotion_df)"
   ],
   "metadata": {
    "collapsed": false,
    "ExecuteTime": {
     "end_time": "2024-11-29T21:46:06.839921Z",
     "start_time": "2024-11-29T21:46:06.833989Z"
    }
   },
   "id": "38d0ae96bdbe486c",
   "execution_count": 13
  },
  {
   "cell_type": "code",
   "outputs": [
    {
     "data": {
      "text/plain": "                                              Utterances  emotion_1  \\\n0                                        look around you          1   \n1                          say hello to your competition          1   \n2        eight of you will switch to an easier specialty          1   \n3              five of you will crack under the pressure          1   \n4                      two of you will be asked to leave          1   \n...                                                  ...        ...   \n20012  oh, that's right, you're a woman and you need ...          0   \n20013                                     i'll try again          0   \n20014           please, pam, reconsider and have a bagel          0   \n20015                              i have an early lunch          0   \n20016  michael's been trying to get jim and me to han...          0   \n\n       emotion_2  emotion_3  emotion_4  emotion_5  emotion_6  emotion_7  \\\n0              0          0          0          0          0          0   \n1              0          0          0          0          0          0   \n2              0          0          0          0          0          0   \n3              0          0          0          0          0          0   \n4              0          0          0          0          0          0   \n...          ...        ...        ...        ...        ...        ...   \n20012          0          1          0          0          0          1   \n20013          0          1          0          0          0          1   \n20014          1          1          0          0          0          0   \n20015          0          1          0          0          0          1   \n20016          0          0          0          1          0          0   \n\n       emotion_8  \n0              0  \n1              0  \n2              0  \n3              0  \n4              0  \n...          ...  \n20012          0  \n20013          0  \n20014          0  \n20015          0  \n20016          0  \n\n[20017 rows x 9 columns]",
      "text/html": "<div>\n<style scoped>\n    .dataframe tbody tr th:only-of-type {\n        vertical-align: middle;\n    }\n\n    .dataframe tbody tr th {\n        vertical-align: top;\n    }\n\n    .dataframe thead th {\n        text-align: right;\n    }\n</style>\n<table border=\"1\" class=\"dataframe\">\n  <thead>\n    <tr style=\"text-align: right;\">\n      <th></th>\n      <th>Utterances</th>\n      <th>emotion_1</th>\n      <th>emotion_2</th>\n      <th>emotion_3</th>\n      <th>emotion_4</th>\n      <th>emotion_5</th>\n      <th>emotion_6</th>\n      <th>emotion_7</th>\n      <th>emotion_8</th>\n    </tr>\n  </thead>\n  <tbody>\n    <tr>\n      <th>0</th>\n      <td>look around you</td>\n      <td>1</td>\n      <td>0</td>\n      <td>0</td>\n      <td>0</td>\n      <td>0</td>\n      <td>0</td>\n      <td>0</td>\n      <td>0</td>\n    </tr>\n    <tr>\n      <th>1</th>\n      <td>say hello to your competition</td>\n      <td>1</td>\n      <td>0</td>\n      <td>0</td>\n      <td>0</td>\n      <td>0</td>\n      <td>0</td>\n      <td>0</td>\n      <td>0</td>\n    </tr>\n    <tr>\n      <th>2</th>\n      <td>eight of you will switch to an easier specialty</td>\n      <td>1</td>\n      <td>0</td>\n      <td>0</td>\n      <td>0</td>\n      <td>0</td>\n      <td>0</td>\n      <td>0</td>\n      <td>0</td>\n    </tr>\n    <tr>\n      <th>3</th>\n      <td>five of you will crack under the pressure</td>\n      <td>1</td>\n      <td>0</td>\n      <td>0</td>\n      <td>0</td>\n      <td>0</td>\n      <td>0</td>\n      <td>0</td>\n      <td>0</td>\n    </tr>\n    <tr>\n      <th>4</th>\n      <td>two of you will be asked to leave</td>\n      <td>1</td>\n      <td>0</td>\n      <td>0</td>\n      <td>0</td>\n      <td>0</td>\n      <td>0</td>\n      <td>0</td>\n      <td>0</td>\n    </tr>\n    <tr>\n      <th>...</th>\n      <td>...</td>\n      <td>...</td>\n      <td>...</td>\n      <td>...</td>\n      <td>...</td>\n      <td>...</td>\n      <td>...</td>\n      <td>...</td>\n      <td>...</td>\n    </tr>\n    <tr>\n      <th>20012</th>\n      <td>oh, that's right, you're a woman and you need ...</td>\n      <td>0</td>\n      <td>0</td>\n      <td>1</td>\n      <td>0</td>\n      <td>0</td>\n      <td>0</td>\n      <td>1</td>\n      <td>0</td>\n    </tr>\n    <tr>\n      <th>20013</th>\n      <td>i'll try again</td>\n      <td>0</td>\n      <td>0</td>\n      <td>1</td>\n      <td>0</td>\n      <td>0</td>\n      <td>0</td>\n      <td>1</td>\n      <td>0</td>\n    </tr>\n    <tr>\n      <th>20014</th>\n      <td>please, pam, reconsider and have a bagel</td>\n      <td>0</td>\n      <td>1</td>\n      <td>1</td>\n      <td>0</td>\n      <td>0</td>\n      <td>0</td>\n      <td>0</td>\n      <td>0</td>\n    </tr>\n    <tr>\n      <th>20015</th>\n      <td>i have an early lunch</td>\n      <td>0</td>\n      <td>0</td>\n      <td>1</td>\n      <td>0</td>\n      <td>0</td>\n      <td>0</td>\n      <td>1</td>\n      <td>0</td>\n    </tr>\n    <tr>\n      <th>20016</th>\n      <td>michael's been trying to get jim and me to han...</td>\n      <td>0</td>\n      <td>0</td>\n      <td>0</td>\n      <td>0</td>\n      <td>1</td>\n      <td>0</td>\n      <td>0</td>\n      <td>0</td>\n    </tr>\n  </tbody>\n</table>\n<p>20017 rows × 9 columns</p>\n</div>"
     },
     "execution_count": 14,
     "metadata": {},
     "output_type": "execute_result"
    }
   ],
   "source": [
    "multi_label_binarizer_MEISD = pd.concat([data_emotion['Utterances'], emotion_df], axis=1)\n",
    "multi_label_binarizer_MEISD"
   ],
   "metadata": {
    "collapsed": false,
    "ExecuteTime": {
     "end_time": "2024-11-29T21:46:06.848488Z",
     "start_time": "2024-11-29T21:46:06.840928Z"
    }
   },
   "id": "754405fbae26709b",
   "execution_count": 14
  },
  {
   "cell_type": "markdown",
   "source": [
    "## Data Augmentation"
   ],
   "metadata": {
    "collapsed": false
   },
   "id": "d5c567cd5cc6cb2b"
  },
  {
   "cell_type": "code",
   "outputs": [],
   "source": [
    "# 1. Synonym Replacement\n",
    "def synonym_replacement(text):\n",
    "    words = text.split()\n",
    "    new_words = words[:]\n",
    "    num_replacements = max(1, len(words) // 5)  # Replace about 20% of words\n",
    "    random_words = random.sample(words, num_replacements)\n",
    "\n",
    "    for word in random_words:\n",
    "        synonyms = wordnet.synsets(word)\n",
    "        if synonyms:\n",
    "            #synonym = synonyms[0].lemmas()[0].name()  # Take first synonym\n",
    "            synonym = random.choice(synonyms).lemmas()[0].name()\n",
    "            if synonym != word:  # Avoid replacement if the synonym is identical\n",
    "                new_words = [synonym if w == word else w for w in new_words]\n",
    "    return ' '.join(new_words)\n",
    "\n",
    "\n",
    "# 2. Random Insertion\n",
    "def random_insertion(text, n=1):\n",
    "    words = text.split()\n",
    "    for _ in range(n):\n",
    "        new_word = random.choice(words)\n",
    "        insert_pos = random.randint(0, len(words))\n",
    "        words.insert(insert_pos, new_word)\n",
    "    return ' '.join(words)\n",
    "\n",
    "\n",
    "# 3. Random Deletion\n",
    "def random_deletion(text, p=0.3):\n",
    "    words = text.split()\n",
    "    if len(words) == 1:\n",
    "        return text  # Avoid deleting single-word text\n",
    "    new_words = [word for word in words if random.uniform(0, 1) > p]\n",
    "    if not new_words:\n",
    "        return random.choice(words)  # Return one word if all words are deleted\n",
    "    return ' '.join(new_words)\n",
    "\n",
    "# 4. Back Translation\n",
    "def back_translation(text, src_lang='en', mid_lang='fr', max_retries=3):\n",
    "    attempt = 0\n",
    "    while attempt < max_retries:\n",
    "        try:\n",
    "            translated = GoogleTranslator(source=src_lang, target=mid_lang).translate(text)\n",
    "            back_translated = GoogleTranslator(source=mid_lang, target=src_lang).translate(translated)\n",
    "            return back_translated\n",
    "        except Exception as e:\n",
    "            print(f\"Back translation error on attempt {attempt + 1}: {e}\")\n",
    "            attempt += 1\n",
    "            time.sleep(1)\n",
    "    raise ValueError(\"Back translation failed\")"
   ],
   "metadata": {
    "collapsed": false
   },
   "id": "b0e09026fb2c262d",
   "execution_count": null
  },
  {
   "cell_type": "code",
   "outputs": [],
   "source": [
    "def augment_text(text, num_augments=2):\n",
    "    augmented_texts = []\n",
    "    for _ in range(num_augments):\n",
    "        augmentation_choice = random.choice(['synonym', 'insertion', 'deletion', 'back_translation'])\n",
    "        if augmentation_choice == 'synonym':\n",
    "            augmented_texts.append(synonym_replacement(text))\n",
    "        elif augmentation_choice == 'insertion':\n",
    "            augmented_texts.append(random_insertion(text))\n",
    "        elif augmentation_choice == 'deletion':\n",
    "            augmented_texts.append(random_deletion(text))\n",
    "        elif augmentation_choice == 'back_translation':\n",
    "            augmented_texts.append(back_translation(text))\n",
    "    return augmented_texts"
   ],
   "metadata": {
    "collapsed": false
   },
   "id": "828baedf8d3f7533",
   "execution_count": null
  },
  {
   "cell_type": "code",
   "outputs": [],
   "source": [
    "label_sums = multi_label_binarizer_MEISD.iloc[:, 1:].sum()\n",
    "\n",
    "plt.figure(figsize=(10, 6))\n",
    "label_sums.plot(kind='bar', color='skyblue')\n",
    "plt.title('Rozkład klas (emocji)')\n",
    "plt.xlabel('Emocje')\n",
    "plt.ylabel('Liczba próbek')\n",
    "plt.xticks(rotation=45)\n",
    "plt.grid(axis='y', linestyle='--', alpha=0.7)\n",
    "plt.show()\n"
   ],
   "metadata": {
    "collapsed": false
   },
   "id": "3c1f4e7f58136cf2",
   "execution_count": null
  },
  {
   "cell_type": "markdown",
   "source": [
    "## Split into train and test"
   ],
   "metadata": {
    "collapsed": false
   },
   "id": "e99bc1455429e485"
  },
  {
   "cell_type": "code",
   "outputs": [],
   "source": [
    "# split into train and test\n",
    "df_train, df_temp = train_test_split(multi_label_binarizer_MEISD, random_state=77, test_size=0.30, shuffle=True)\n",
    "# split test into test and validation datasets\n",
    "df_test, df_valid = train_test_split(df_temp, random_state=88, test_size=0.50, shuffle=True)"
   ],
   "metadata": {
    "collapsed": false,
    "ExecuteTime": {
     "end_time": "2024-11-29T21:46:11.795769Z",
     "start_time": "2024-11-29T21:46:11.788585Z"
    }
   },
   "id": "f53fda54f02119db",
   "execution_count": 15
  },
  {
   "cell_type": "code",
   "outputs": [
    {
     "data": {
      "text/plain": "                                              Utterances  emotion_1  \\\n13858                had you asked a couple of weeks ago          1   \n14789                                     Yeah! Richard!          0   \n17589            young benjamin here knows what's coming          0   \n8549   i don't see why they had to keep my credit car...          0   \n18378                                         between us          0   \n\n       emotion_2  emotion_3  emotion_4  emotion_5  emotion_6  emotion_7  \\\n13858          0          0          0          0          0          0   \n14789          0          0          0          0          0          1   \n17589          0          1          0          0          0          1   \n8549           0          0          0          0          1          1   \n18378          0          0          0          0          1          0   \n\n       emotion_8  \n13858          0  \n14789          0  \n17589          0  \n8549           0  \n18378          0  ",
      "text/html": "<div>\n<style scoped>\n    .dataframe tbody tr th:only-of-type {\n        vertical-align: middle;\n    }\n\n    .dataframe tbody tr th {\n        vertical-align: top;\n    }\n\n    .dataframe thead th {\n        text-align: right;\n    }\n</style>\n<table border=\"1\" class=\"dataframe\">\n  <thead>\n    <tr style=\"text-align: right;\">\n      <th></th>\n      <th>Utterances</th>\n      <th>emotion_1</th>\n      <th>emotion_2</th>\n      <th>emotion_3</th>\n      <th>emotion_4</th>\n      <th>emotion_5</th>\n      <th>emotion_6</th>\n      <th>emotion_7</th>\n      <th>emotion_8</th>\n    </tr>\n  </thead>\n  <tbody>\n    <tr>\n      <th>13858</th>\n      <td>had you asked a couple of weeks ago</td>\n      <td>1</td>\n      <td>0</td>\n      <td>0</td>\n      <td>0</td>\n      <td>0</td>\n      <td>0</td>\n      <td>0</td>\n      <td>0</td>\n    </tr>\n    <tr>\n      <th>14789</th>\n      <td>Yeah! Richard!</td>\n      <td>0</td>\n      <td>0</td>\n      <td>0</td>\n      <td>0</td>\n      <td>0</td>\n      <td>0</td>\n      <td>1</td>\n      <td>0</td>\n    </tr>\n    <tr>\n      <th>17589</th>\n      <td>young benjamin here knows what's coming</td>\n      <td>0</td>\n      <td>0</td>\n      <td>1</td>\n      <td>0</td>\n      <td>0</td>\n      <td>0</td>\n      <td>1</td>\n      <td>0</td>\n    </tr>\n    <tr>\n      <th>8549</th>\n      <td>i don't see why they had to keep my credit car...</td>\n      <td>0</td>\n      <td>0</td>\n      <td>0</td>\n      <td>0</td>\n      <td>0</td>\n      <td>1</td>\n      <td>1</td>\n      <td>0</td>\n    </tr>\n    <tr>\n      <th>18378</th>\n      <td>between us</td>\n      <td>0</td>\n      <td>0</td>\n      <td>0</td>\n      <td>0</td>\n      <td>0</td>\n      <td>1</td>\n      <td>0</td>\n      <td>0</td>\n    </tr>\n  </tbody>\n</table>\n</div>"
     },
     "execution_count": 16,
     "metadata": {},
     "output_type": "execute_result"
    }
   ],
   "source": [
    "df_train.head()"
   ],
   "metadata": {
    "collapsed": false,
    "ExecuteTime": {
     "end_time": "2024-11-29T21:46:12.455937Z",
     "start_time": "2024-11-29T21:46:12.448849Z"
    }
   },
   "id": "7725fb6a329484a6",
   "execution_count": 16
  },
  {
   "cell_type": "code",
   "outputs": [
    {
     "name": "stdout",
     "output_type": "stream",
     "text": [
      "<class 'pandas.core.frame.DataFrame'>\n",
      "Index: 14011 entries, 13858 to 15063\n",
      "Data columns (total 9 columns):\n",
      " #   Column      Non-Null Count  Dtype \n",
      "---  ------      --------------  ----- \n",
      " 0   Utterances  14011 non-null  object\n",
      " 1   emotion_1   14011 non-null  int32 \n",
      " 2   emotion_2   14011 non-null  int32 \n",
      " 3   emotion_3   14011 non-null  int32 \n",
      " 4   emotion_4   14011 non-null  int32 \n",
      " 5   emotion_5   14011 non-null  int32 \n",
      " 6   emotion_6   14011 non-null  int32 \n",
      " 7   emotion_7   14011 non-null  int32 \n",
      " 8   emotion_8   14011 non-null  int32 \n",
      "dtypes: int32(8), object(1)\n",
      "memory usage: 656.8+ KB\n"
     ]
    }
   ],
   "source": [
    "df_train.info()"
   ],
   "metadata": {
    "collapsed": false,
    "ExecuteTime": {
     "end_time": "2024-11-29T21:46:13.124496Z",
     "start_time": "2024-11-29T21:46:13.115705Z"
    }
   },
   "id": "e72544c7a36c6f62",
   "execution_count": 17
  },
  {
   "cell_type": "code",
   "outputs": [
    {
     "data": {
      "text/plain": "<Figure size 1200x800 with 1 Axes>",
      "image/png": "[encoded data removed]"
     },
     "metadata": {},
     "output_type": "display_data"
    }
   ],
   "source": [
    "LABEL_COLUMNS = multi_label_binarizer_MEISD.columns.tolist()[1:]\n",
    "multi_label_binarizer_MEISD[LABEL_COLUMNS].sum().sort_values().plot(kind=\"barh\");"
   ],
   "metadata": {
    "collapsed": false,
    "ExecuteTime": {
     "end_time": "2024-11-29T21:46:15.898248Z",
     "start_time": "2024-11-29T21:46:15.616793Z"
    }
   },
   "id": "69754a4785d3b2c2",
   "execution_count": 18
  },
  {
   "cell_type": "code",
   "outputs": [
    {
     "data": {
      "text/plain": "emotion_1    2701\nemotion_2    2236\nemotion_3    4509\nemotion_4    1674\nemotion_5    2941\nemotion_6    2563\nemotion_7    2631\nemotion_8     842\ndtype: int64"
     },
     "execution_count": 19,
     "metadata": {},
     "output_type": "execute_result"
    }
   ],
   "source": [
    "class_counts = df_train[['emotion_1', 'emotion_2', 'emotion_3', 'emotion_4',\n",
    "                         'emotion_5', 'emotion_6', 'emotion_7', 'emotion_8']].sum(axis=0)\n",
    "\n",
    "max_count = class_counts.max()\n",
    "class_counts"
   ],
   "metadata": {
    "collapsed": false,
    "ExecuteTime": {
     "end_time": "2024-11-29T21:46:16.055009Z",
     "start_time": "2024-11-29T21:46:16.049628Z"
    }
   },
   "id": "c5b582ff5f60ec39",
   "execution_count": 19
  },
  {
   "cell_type": "code",
   "outputs": [],
   "source": [
    "def check_balance(class_counts):\n",
    "    \"\"\"\n",
    "    Analizuje balans w danych na podstawie liczby próbek w każdej klasie.\n",
    "\n",
    "    Args:\n",
    "        class_counts (list or dict): Liczność próbek w klasach. Może być listą liczb\n",
    "                                     lub słownikiem {nazwa_klasy: liczba_próbek}.\n",
    "    Returns:\n",
    "        dict: Słownik z obliczonymi miarami balansu:\n",
    "              - Rozpiętość (range)\n",
    "              - Odchylenie standardowe (std)\n",
    "              - Średnia liczba próbek (mean)\n",
    "              - Największa klasa (max_class)\n",
    "              - Najmniejsza klasa (min_class)\n",
    "              - Interpretacja (interpretation)\n",
    "    \"\"\"\n",
    "    if isinstance(class_counts, dict):\n",
    "        class_counts = list(class_counts.values())\n",
    "\n",
    "    max_count = max(class_counts)\n",
    "    min_count = min(class_counts)\n",
    "    mean_count = np.mean(class_counts)\n",
    "    std_count = np.std(class_counts)\n",
    "    range_count = max_count - min_count\n",
    "\n",
    "    # Interpretacja balansu\n",
    "    if std_count < 0.1 * mean_count:\n",
    "        interpretation = \"Dane są bardzo dobrze zbalansowane.\"\n",
    "    elif std_count < 0.3 * mean_count:\n",
    "        interpretation = \"Dane są umiarkowanie zbalansowane.\"\n",
    "    else:\n",
    "        interpretation = \"Dane są niezbalansowane.\"\n",
    "\n",
    "    return {\n",
    "        \"range\": range_count,\n",
    "        \"std\": std_count,\n",
    "        \"mean\": mean_count,\n",
    "        \"max_class\": max_count,\n",
    "        \"min_class\": min_count,\n",
    "        \"interpretation\": interpretation\n",
    "    }"
   ],
   "metadata": {
    "collapsed": false,
    "ExecuteTime": {
     "end_time": "2024-11-29T21:46:19.359779Z",
     "start_time": "2024-11-29T21:46:19.356244Z"
    }
   },
   "id": "8f61871ea5bdbb49",
   "execution_count": 20
  },
  {
   "cell_type": "code",
   "outputs": [
    {
     "data": {
      "text/plain": "{'range': 3667,\n 'std': 986.9050660397888,\n 'mean': 2512.125,\n 'max_class': 4509,\n 'min_class': 842,\n 'interpretation': 'Dane są niezbalansowane.'}"
     },
     "execution_count": 21,
     "metadata": {},
     "output_type": "execute_result"
    }
   ],
   "source": [
    "check_balance(class_counts)"
   ],
   "metadata": {
    "collapsed": false,
    "ExecuteTime": {
     "end_time": "2024-11-29T21:46:19.702594Z",
     "start_time": "2024-11-29T21:46:19.698318Z"
    }
   },
   "id": "aead14f020392fa3",
   "execution_count": 21
  },
  {
   "cell_type": "code",
   "outputs": [],
   "source": [
    "from tqdm import tqdm\n",
    "\n",
    "def augment_multilabel_data(df, label_columns, augment_text, num_augments=2):\n",
    "    \"\"\"\n",
    "    Augments multilabel data to balance class distributions, ignoring samples with the most frequent class.\n",
    "\n",
    "    Parameters:\n",
    "    - df (pd.DataFrame): Input DataFrame with 'Utterances' column and label columns.\n",
    "    - label_columns (list): List of column names corresponding to binary label columns.\n",
    "    - augment_text (callable): Function to augment text. Should take a string and return a list of augmented strings.\n",
    "    - num_augments (int): Number of augmented samples to generate per original sample.\n",
    "\n",
    "    Returns:\n",
    "    - pd.DataFrame: Augmented DataFrame with balanced class distributions.\n",
    "    \"\"\"\n",
    "    # Calculate class counts\n",
    "    class_counts = {label: df[label].sum() for label in label_columns}\n",
    "    max_count = max(class_counts.values())\n",
    "    most_frequent_class = max(class_counts, key=class_counts.get)\n",
    "\n",
    "    print(f\"Class counts: {class_counts}\")\n",
    "    print(f\"Maximum class count: {max_count}\")\n",
    "    print(f\"Most frequent class: {most_frequent_class} (ignoring samples with this label)\")\n",
    "\n",
    "    # Initialize storage for augmented data\n",
    "    augmented_data = {'Utterances': [], **{label: [] for label in label_columns}}\n",
    "\n",
    "    for label in label_columns:\n",
    "        if label == most_frequent_class:\n",
    "            print(f\"Skipping augmentation for the most frequent class '{label}'.\")\n",
    "            continue  # Skip augmenting the most frequent class\n",
    "\n",
    "        # Select rows where the current label is 1\n",
    "        class_subset = df[df[label] == 1]\n",
    "        augmented_data['Utterances'].extend(class_subset['Utterances'])\n",
    "        for lbl in label_columns:\n",
    "            augmented_data[lbl].extend(class_subset[lbl])\n",
    "\n",
    "        # Calculate how many samples to augment\n",
    "        num_to_augment = max_count - len(class_subset)\n",
    "\n",
    "        if num_to_augment > 0:\n",
    "            print(f\"Augmenting class '{label}' with {num_to_augment} samples.\")\n",
    "            for _, row in tqdm(class_subset.iterrows(), total=len(class_subset), desc=f\"Augmenting {label}\"):\n",
    "                if num_to_augment <= 0:\n",
    "                    break\n",
    "\n",
    "                # Perform text augmentation\n",
    "                new_texts = augment_text(row['Utterances'], num_augments=num_augments)\n",
    "                for new_text in new_texts:\n",
    "                    if num_to_augment <= 0:\n",
    "                        break\n",
    "                    augmented_data['Utterances'].append(new_text)\n",
    "\n",
    "                    # Add the multilabels for the augmented data\n",
    "                    for lbl in label_columns:\n",
    "                        augmented_data[lbl].append(row[lbl])\n",
    "\n",
    "                    num_to_augment -= 1\n",
    "\n",
    "    # Create a new DataFrame with augmented data\n",
    "    augmented_df = pd.DataFrame(augmented_data)\n",
    "    return augmented_df\n"
   ],
   "metadata": {
    "collapsed": false,
    "ExecuteTime": {
     "end_time": "2024-11-29T21:46:20.573600Z",
     "start_time": "2024-11-29T21:46:20.567380Z"
    }
   },
   "id": "6ba48dafa7fdbdd8",
   "execution_count": 22
  },
  {
   "cell_type": "code",
   "outputs": [],
   "source": [
    "# ## Augmentation\n",
    "# augmented_df = augment_multilabel_data(\n",
    "#     df=df_train,\n",
    "#     label_columns=[f\"emotion_{i}\" for i in range(1, 9)],\n",
    "#     augment_text=augment_text,\n",
    "#     num_augments=2\n",
    "# )\n",
    "# \n",
    "# print(augmented_df)"
   ],
   "metadata": {
    "collapsed": false
   },
   "id": "8a58c80b7d9f9328",
   "execution_count": null
  },
  {
   "cell_type": "code",
   "outputs": [],
   "source": [
    "# class_counts = augmented_df[['emotion_1', 'emotion_2', 'emotion_3', 'emotion_4',\n",
    "#                          'emotion_5', 'emotion_6', 'emotion_7', 'emotion_8']].sum(axis=0)\n",
    "# max_count = class_counts.max()\n",
    "# class_counts"
   ],
   "metadata": {
    "collapsed": false
   },
   "id": "66b9cbac7d9e0fa2",
   "execution_count": null
  },
  {
   "cell_type": "code",
   "outputs": [],
   "source": [
    "# check_balance(class_counts)"
   ],
   "metadata": {
    "collapsed": false
   },
   "id": "f83d17416924fa3",
   "execution_count": null
  },
  {
   "cell_type": "code",
   "outputs": [],
   "source": [
    "# augmented_df.to_csv('balanced_augmented_emotion_data.csv', index=False)"
   ],
   "metadata": {
    "collapsed": false
   },
   "id": "255912947b3e7d06",
   "execution_count": null
  },
  {
   "cell_type": "markdown",
   "source": [
    "## Read Augmetnation data"
   ],
   "metadata": {
    "collapsed": false
   },
   "id": "89d19bfd3c0c0d46"
  },
  {
   "cell_type": "code",
   "outputs": [],
   "source": [
    "# augmented_df = pd.read_csv('balanced_augmented_emotion_data.csv')"
   ],
   "metadata": {
    "collapsed": false
   },
   "id": "495284a35ade1b26",
   "execution_count": null
  },
  {
   "cell_type": "code",
   "outputs": [],
   "source": [
    "# df_train_augmented = pd.concat([df_train, augmented_df], ignore_index=True)\n",
    "# \n",
    "# print(df_train_augmented[['emotion_1', 'emotion_2', 'emotion_3', 'emotion_4',\n",
    "#                           'emotion_5', 'emotion_6', 'emotion_7', 'emotion_8']].sum(axis=0))"
   ],
   "metadata": {
    "collapsed": false
   },
   "id": "c7a6c9cf2324646d",
   "execution_count": null
  },
  {
   "cell_type": "markdown",
   "source": [
    "## Run from here"
   ],
   "metadata": {
    "collapsed": false
   },
   "id": "b1ec7f25b6e865b6"
  },
  {
   "cell_type": "code",
   "outputs": [
    {
     "name": "stdout",
     "output_type": "stream",
     "text": [
      "Original train size: (20017, 9)\n",
      "Train: (14011, 9), Test: (3003, 9), Valid: (3003, 9)\n"
     ]
    }
   ],
   "source": [
    "print(f\"Original train size: {multi_label_binarizer_MEISD.shape}\")\n",
    "print(f\"Train: {df_train.shape}, Test: {df_test.shape}, Valid: {df_valid.shape}\")"
   ],
   "metadata": {
    "collapsed": false,
    "ExecuteTime": {
     "end_time": "2024-11-29T21:46:24.656200Z",
     "start_time": "2024-11-29T21:46:24.653110Z"
    }
   },
   "id": "359789b7b940660b",
   "execution_count": 23
  },
  {
   "cell_type": "code",
   "outputs": [
    {
     "data": {
      "text/plain": "{'input_ids': tensor([[  101,  1284,  1132,  5193,   139,  9637,  1942, 22559, 17260,   119,\n           102,     0,     0,     0,     0,     0,     0,     0,     0,     0,\n             0,     0,     0,     0,     0,     0,     0,     0,     0,     0]]), 'token_type_ids': tensor([[0, 0, 0, 0, 0, 0, 0, 0, 0, 0, 0, 0, 0, 0, 0, 0, 0, 0, 0, 0, 0, 0, 0, 0,\n         0, 0, 0, 0, 0, 0]]), 'attention_mask': tensor([[1, 1, 1, 1, 1, 1, 1, 1, 1, 1, 1, 0, 0, 0, 0, 0, 0, 0, 0, 0, 0, 0, 0, 0,\n         0, 0, 0, 0, 0, 0]])}"
     },
     "execution_count": 24,
     "metadata": {},
     "output_type": "execute_result"
    }
   ],
   "source": [
    "from transformers import BertTokenizer, BertModel\n",
    "tokenizer = BertTokenizer.from_pretrained(PRE_TRAINED_MODEL_NAME)\n",
    "# Test the tokenizer\n",
    "test_text = \"We are testing BERT tokenizer.\"\n",
    "# generate encodings\n",
    "encodings = tokenizer.encode_plus(test_text,\n",
    "                                  add_special_tokens = True, # Add '[CLS]' and '[SEP]'\n",
    "                                  max_length = MAX_LEN,\n",
    "                                  truncation = True,\n",
    "                                  padding = \"max_length\",\n",
    "                                  return_attention_mask = True,\n",
    "                                  return_tensors = \"pt\")\n",
    "# we get a dictionary with three keys (see: https://huggingface.co/transformers/glossary.html) \n",
    "encodings"
   ],
   "metadata": {
    "collapsed": false,
    "ExecuteTime": {
     "end_time": "2024-11-29T21:46:25.514035Z",
     "start_time": "2024-11-29T21:46:24.938249Z"
    }
   },
   "id": "d2a7b6b395283c1e",
   "execution_count": 24
  },
  {
   "cell_type": "code",
   "outputs": [],
   "source": [
    "LABEL_COLUMNS = df_train.columns.tolist()[1:]"
   ],
   "metadata": {
    "collapsed": false,
    "ExecuteTime": {
     "end_time": "2024-11-29T21:46:25.518558Z",
     "start_time": "2024-11-29T21:46:25.515073Z"
    }
   },
   "id": "bdfb2d5004eb0c75",
   "execution_count": 25
  },
  {
   "cell_type": "code",
   "outputs": [
    {
     "data": {
      "text/plain": "['emotion_1',\n 'emotion_2',\n 'emotion_3',\n 'emotion_4',\n 'emotion_5',\n 'emotion_6',\n 'emotion_7',\n 'emotion_8']"
     },
     "execution_count": 26,
     "metadata": {},
     "output_type": "execute_result"
    }
   ],
   "source": [
    "LABEL_COLUMNS"
   ],
   "metadata": {
    "collapsed": false,
    "ExecuteTime": {
     "end_time": "2024-11-29T21:46:25.837981Z",
     "start_time": "2024-11-29T21:46:25.834482Z"
    }
   },
   "id": "97a86f1c1c5e0eef",
   "execution_count": 26
  },
  {
   "cell_type": "code",
   "outputs": [],
   "source": [
    "class EmotionalDataset(Dataset):\n",
    "    def __init__(self,\n",
    "                data: pd.DataFrame,\n",
    "                tokenizer: BertTokenizer,\n",
    "                max_token_len: int = 128):\n",
    "        self.tokenizer = tokenizer\n",
    "        self.data = data\n",
    "        self.max_token_len = max_token_len\n",
    "\n",
    "    def __len__(self):\n",
    "        return len(self.data)\n",
    "\n",
    "    def __getitem__(self, index: int):\n",
    "        data_row = self.data.iloc[index]\n",
    "\n",
    "        # Extract text and labels\n",
    "        text = data_row['Utterances']\n",
    "        labels = data_row[LABEL_COLUMNS].astype(float).values  # Convert labels to float\n",
    "\n",
    "        # Tokenize text\n",
    "        encoding = self.tokenizer.encode_plus(\n",
    "            text,\n",
    "            add_special_tokens=True,\n",
    "            max_length=self.max_token_len,\n",
    "            return_token_type_ids=False,\n",
    "            padding=\"max_length\",\n",
    "            truncation=True,\n",
    "            return_attention_mask=True,\n",
    "            return_tensors='pt',\n",
    "        )\n",
    "\n",
    "        # Return dictionary\n",
    "        return dict(\n",
    "            utterances=text,\n",
    "            input_ids=encoding[\"input_ids\"].squeeze(),\n",
    "            attention_mask=encoding[\"attention_mask\"].squeeze(),\n",
    "            labels=torch.tensor(labels, dtype=torch.float)  # Explicitly set tensor dtype\n",
    "        )\n"
   ],
   "metadata": {
    "collapsed": false,
    "ExecuteTime": {
     "end_time": "2024-11-29T21:46:26.226524Z",
     "start_time": "2024-11-29T21:46:26.221644Z"
    }
   },
   "id": "9f9fa99c62199e58",
   "execution_count": 27
  },
  {
   "cell_type": "code",
   "outputs": [
    {
     "data": {
      "text/plain": "{'utterances': 'had you asked a couple of weeks ago',\n 'input_ids': tensor([ 101, 1125, 1128, 1455,  170, 2337, 1104, 2277, 2403,  102,    0,    0,\n            0,    0,    0,    0,    0,    0,    0,    0,    0,    0,    0,    0,\n            0,    0,    0,    0,    0,    0]),\n 'attention_mask': tensor([1, 1, 1, 1, 1, 1, 1, 1, 1, 1, 0, 0, 0, 0, 0, 0, 0, 0, 0, 0, 0, 0, 0, 0,\n         0, 0, 0, 0, 0, 0]),\n 'labels': tensor([1., 0., 0., 0., 0., 0., 0., 0.])}"
     },
     "execution_count": 31,
     "metadata": {},
     "output_type": "execute_result"
    }
   ],
   "source": [
    "next(iter(train_dataset))"
   ],
   "metadata": {
    "collapsed": false,
    "ExecuteTime": {
     "end_time": "2024-11-29T21:46:27.698064Z",
     "start_time": "2024-11-29T21:46:27.691770Z"
    }
   },
   "id": "2c96e3a1eee73c69",
   "execution_count": 31
  },
  {
   "cell_type": "code",
   "outputs": [
    {
     "data": {
      "text/plain": "'had you asked a couple of weeks ago'"
     },
     "execution_count": 29,
     "metadata": {},
     "output_type": "execute_result"
    }
   ],
   "source": [
    "sample_item[\"utterances\"]"
   ],
   "metadata": {
    "collapsed": false,
    "ExecuteTime": {
     "end_time": "2024-11-29T21:46:27.086341Z",
     "start_time": "2024-11-29T21:46:27.082348Z"
    }
   },
   "id": "5da7b9d9b36a1a65",
   "execution_count": 29
  },
  {
   "cell_type": "code",
   "outputs": [
    {
     "data": {
      "text/plain": "dict_keys(['utterances', 'input_ids', 'attention_mask', 'labels'])"
     },
     "execution_count": 28,
     "metadata": {},
     "output_type": "execute_result"
    }
   ],
   "source": [
    "train_dataset = EmotionalDataset(df_train, tokenizer, max_token_len=MAX_LEN)\n",
    "sample_item = train_dataset[0]\n",
    "sample_item.keys()"
   ],
   "metadata": {
    "collapsed": false,
    "ExecuteTime": {
     "end_time": "2024-11-29T21:46:26.932236Z",
     "start_time": "2024-11-29T21:46:26.922461Z"
    }
   },
   "id": "157b09813f955354",
   "execution_count": 28
  },
  {
   "cell_type": "code",
   "outputs": [
    {
     "data": {
      "text/plain": "tensor([1., 0., 0., 0., 0., 0., 0., 0.])"
     },
     "execution_count": 30,
     "metadata": {},
     "output_type": "execute_result"
    }
   ],
   "source": [
    "sample_item[\"labels\"]"
   ],
   "metadata": {
    "collapsed": false,
    "ExecuteTime": {
     "end_time": "2024-11-29T21:46:27.255342Z",
     "start_time": "2024-11-29T21:46:27.250497Z"
    }
   },
   "id": "38eab56920aa855a",
   "execution_count": 30
  },
  {
   "cell_type": "code",
   "outputs": [],
   "source": [
    "bert_model = BertModel.from_pretrained(PRE_TRAINED_MODEL_NAME, return_dict=True)"
   ],
   "metadata": {
    "collapsed": false,
    "ExecuteTime": {
     "end_time": "2024-11-29T21:46:29.340681Z",
     "start_time": "2024-11-29T21:46:28.965173Z"
    }
   },
   "id": "1f8a62f76d847e78",
   "execution_count": 32
  },
  {
   "cell_type": "code",
   "outputs": [],
   "source": [
    "# from time import time\n",
    "# \n",
    "# start_time = time()\n",
    "# for i, batch in enumerate(DataLoader(train_dataset, batch_size=1, num_workers=0)):\n",
    "#     if i == 10:  # Zatrzymaj po 10 iteracjach\n",
    "#         break\n",
    "# end_time = time()\n",
    "# print(f\"Time for 10 batches: {end_time - start_time:.2f} seconds\")\n"
   ],
   "metadata": {
    "collapsed": false
   },
   "id": "40d55e2ccafe66d8",
   "execution_count": null
  },
  {
   "cell_type": "code",
   "outputs": [
    {
     "data": {
      "text/plain": "(torch.Size([8, 30]), torch.Size([8, 30]))"
     },
     "execution_count": 33,
     "metadata": {},
     "output_type": "execute_result"
    }
   ],
   "source": [
    "sample_batch = next(iter(DataLoader(train_dataset, batch_size=8, num_workers=0)))\n",
    "sample_batch[\"input_ids\"].shape, sample_batch[\"attention_mask\"].shape"
   ],
   "metadata": {
    "collapsed": false,
    "ExecuteTime": {
     "end_time": "2024-11-29T21:46:32.591802Z",
     "start_time": "2024-11-29T21:46:32.578337Z"
    }
   },
   "id": "3c32c9901643533b",
   "execution_count": 33
  },
  {
   "cell_type": "code",
   "outputs": [],
   "source": [
    "output = bert_model(sample_batch[\"input_ids\"], sample_batch[\"attention_mask\"])"
   ],
   "metadata": {
    "collapsed": false,
    "ExecuteTime": {
     "end_time": "2024-11-29T21:46:33.708836Z",
     "start_time": "2024-11-29T21:46:32.754176Z"
    }
   },
   "id": "b196faff70292714",
   "execution_count": 34
  },
  {
   "cell_type": "code",
   "outputs": [
    {
     "data": {
      "text/plain": "(torch.Size([8, 30, 768]), torch.Size([8, 768]))"
     },
     "execution_count": 35,
     "metadata": {},
     "output_type": "execute_result"
    }
   ],
   "source": [
    "output.last_hidden_state.shape, output.pooler_output.shape"
   ],
   "metadata": {
    "collapsed": false,
    "ExecuteTime": {
     "end_time": "2024-11-29T21:46:33.714252Z",
     "start_time": "2024-11-29T21:46:33.709867Z"
    }
   },
   "id": "b75878ccb4fdaed",
   "execution_count": 35
  },
  {
   "cell_type": "code",
   "outputs": [
    {
     "data": {
      "text/plain": "768"
     },
     "execution_count": 36,
     "metadata": {},
     "output_type": "execute_result"
    }
   ],
   "source": [
    "bert_model.config.hidden_size"
   ],
   "metadata": {
    "collapsed": false,
    "ExecuteTime": {
     "end_time": "2024-11-29T21:46:33.718859Z",
     "start_time": "2024-11-29T21:46:33.715287Z"
    }
   },
   "id": "be628529910e9c61",
   "execution_count": 36
  },
  {
   "cell_type": "code",
   "outputs": [],
   "source": [
    "class EmotionalDataModule(pl.LightningDataModule):\n",
    "\n",
    "    def __init__(self, train_df, test_df, tokenizer, batch_size=8, max_token_len=128):\n",
    "        super().__init__()\n",
    "        self.batch_size = batch_size\n",
    "        self.train_df = train_df\n",
    "        self.test_df = test_df\n",
    "        self.tokenizer = tokenizer\n",
    "        self.max_token_len = max_token_len\n",
    "\n",
    "    def setup(self, stage=None):\n",
    "        self.train_dataset = EmotionalDataset(\n",
    "            self.train_df,\n",
    "            self.tokenizer,\n",
    "            self.max_token_len\n",
    "        )\n",
    "\n",
    "        self.test_dataset = EmotionalDataset(\n",
    "            self.test_df,\n",
    "            self.tokenizer,\n",
    "            self.max_token_len\n",
    "        )\n",
    "\n",
    "    def train_dataloader(self):\n",
    "        return DataLoader(\n",
    "            self.train_dataset,\n",
    "            batch_size=self.batch_size,\n",
    "            shuffle=True,\n",
    "            num_workers=2\n",
    "        )\n",
    "\n",
    "    def val_dataloader(self):\n",
    "        return DataLoader(\n",
    "            self.test_dataset,\n",
    "            batch_size=self.batch_size,\n",
    "            num_workers=2\n",
    "        )\n",
    "\n",
    "    def test_dataloader(self):\n",
    "        return DataLoader(\n",
    "            self.test_dataset,\n",
    "            batch_size=self.batch_size,\n",
    "            num_workers=2\n",
    "        )\n"
   ],
   "metadata": {
    "collapsed": false,
    "ExecuteTime": {
     "end_time": "2024-11-29T22:19:46.383259Z",
     "start_time": "2024-11-29T22:19:46.378653Z"
    }
   },
   "id": "e47f715b3a0d2f42",
   "execution_count": 59
  },
  {
   "cell_type": "code",
   "outputs": [],
   "source": [
    "data_module = EmotionalDataModule(\n",
    "    df_train,\n",
    "    df_test,\n",
    "    tokenizer,\n",
    "    batch_size=BATCH_SIZE,\n",
    "    max_token_len=MAX_LEN\n",
    ")"
   ],
   "metadata": {
    "collapsed": false,
    "ExecuteTime": {
     "end_time": "2024-11-29T22:19:47.847777Z",
     "start_time": "2024-11-29T22:19:47.845321Z"
    }
   },
   "id": "435f955d3a2c954f",
   "execution_count": 60
  },
  {
   "cell_type": "markdown",
   "source": [
    "## Model"
   ],
   "metadata": {
    "collapsed": false
   },
   "id": "9c25124aeee49d0d"
  },
  {
   "cell_type": "code",
   "outputs": [],
   "source": [
    "class EmotionalTagger(pl.LightningModule):\n",
    "\n",
    "    def __init__(self, n_classes: int, n_training_steps=None, n_warmup_steps=None):\n",
    "        super().__init__()\n",
    "        self.bert = BertModel.from_pretrained(PRE_TRAINED_MODEL_NAME, return_dict=True)\n",
    "        self.classifier = nn.Linear(self.bert.config.hidden_size, n_classes)\n",
    "        self.n_training_steps = n_training_steps\n",
    "        self.n_warmup_steps = n_warmup_steps\n",
    "        self.criterion = nn.BCELoss()\n",
    "\n",
    "    def forward(self, input_ids, attention_mask, labels=None):\n",
    "        output = self.bert(input_ids, attention_mask=attention_mask)\n",
    "        output = self.classifier(output.pooler_output)\n",
    "        output = torch.sigmoid(output)\n",
    "        loss = 0\n",
    "        if labels is not None:\n",
    "            loss = self.criterion(output, labels)\n",
    "        return loss, output\n",
    "\n",
    "    def training_step(self, batch, batch_idx):\n",
    "        input_ids = batch[\"input_ids\"]\n",
    "        attention_mask = batch[\"attention_mask\"]\n",
    "        labels = batch[\"labels\"]\n",
    "        loss, outputs = self(input_ids, attention_mask, labels)\n",
    "        self.log(\"train_loss\", loss, prog_bar=True, logger=True)\n",
    "        return {\"loss\": loss, \"predictions\": outputs, \"labels\": labels}\n",
    "\n",
    "    def validation_step(self, batch, batch_idx):\n",
    "        input_ids = batch[\"input_ids\"]\n",
    "        attention_mask = batch[\"attention_mask\"]\n",
    "        labels = batch[\"labels\"]\n",
    "        loss, outputs = self(input_ids, attention_mask, labels)\n",
    "        self.log(\"val_loss\", loss, prog_bar=True, logger=True)\n",
    "        return loss\n",
    "\n",
    "    def test_step(self, batch, batch_idx):\n",
    "        input_ids = batch[\"input_ids\"]\n",
    "        attention_mask = batch[\"attention_mask\"]\n",
    "        labels = batch[\"labels\"]\n",
    "        loss, outputs = self(input_ids, attention_mask, labels)\n",
    "        self.log(\"test_loss\", loss, prog_bar=True, logger=True)\n",
    "        return loss\n",
    "\n",
    "    def training_epoch_end(self, outputs):\n",
    "\n",
    "        labels = []\n",
    "        predictions = []\n",
    "        for output in outputs:\n",
    "            for out_labels in output[\"labels\"].detach().cpu():\n",
    "                labels.append(out_labels)\n",
    "            for out_predictions in output[\"predictions\"].detach().cpu():\n",
    "                predictions.append(out_predictions)\n",
    "\n",
    "        labels = torch.stack(labels).int()\n",
    "        predictions = torch.stack(predictions)\n",
    "\n",
    "        for i, name in enumerate(LABEL_COLUMNS):\n",
    "            class_roc_auc = auroc(predictions[:, i], labels[:, i])\n",
    "            self.logger.experiment.add_scalar(f\"{name}_roc_auc/Train\", class_roc_auc, self.current_epoch)\n",
    "\n",
    "\n",
    "    def configure_optimizers(self):\n",
    "\n",
    "        optimizer = AdamW(self.parameters(), lr=2e-5)\n",
    "\n",
    "        scheduler = get_linear_schedule_with_warmup(\n",
    "            optimizer,\n",
    "            num_warmup_steps=self.n_warmup_steps,\n",
    "            num_training_steps=self.n_training_steps\n",
    "        )\n",
    "\n",
    "        return dict(\n",
    "            optimizer=optimizer,\n",
    "            lr_scheduler=dict(\n",
    "                scheduler=scheduler,\n",
    "                interval='step'\n",
    "            )\n",
    "        )"
   ],
   "metadata": {
    "collapsed": false,
    "ExecuteTime": {
     "end_time": "2024-11-29T21:46:36.663941Z",
     "start_time": "2024-11-29T21:46:36.656026Z"
    }
   },
   "id": "c02655435885cfe1",
   "execution_count": 39
  },
  {
   "cell_type": "markdown",
   "source": [
    "## Optimizer scheduler"
   ],
   "metadata": {
    "collapsed": false
   },
   "id": "f01852b641cb6058"
  },
  {
   "cell_type": "code",
   "outputs": [
    {
     "name": "stderr",
     "output_type": "stream",
     "text": [
      "D:\\conda\\Lib\\site-packages\\transformers\\optimization.py:591: FutureWarning: This implementation of AdamW is deprecated and will be removed in a future version. Use the PyTorch implementation torch.optim.AdamW instead, or set `no_deprecation_warning=True` to disable this warning\n",
      "  warnings.warn(\n"
     ]
    }
   ],
   "source": [
    "dummy_model = nn.Linear(2, 1)\n",
    "\n",
    "optimizer = AdamW(params=dummy_model.parameters(), lr=0.001)\n",
    "\n",
    "warmup_steps = 20\n",
    "total_training_steps = 100\n",
    "\n",
    "scheduler = get_linear_schedule_with_warmup(\n",
    "    optimizer,\n",
    "    num_warmup_steps=warmup_steps,\n",
    "    num_training_steps=total_training_steps\n",
    ")\n",
    "\n",
    "learning_rate_history = []\n",
    "\n",
    "for step in range(total_training_steps):\n",
    "    optimizer.step()\n",
    "    scheduler.step()\n",
    "    learning_rate_history.append(optimizer.param_groups[0]['lr'])"
   ],
   "metadata": {
    "collapsed": false,
    "ExecuteTime": {
     "end_time": "2024-11-29T21:46:39.408180Z",
     "start_time": "2024-11-29T21:46:38.679606Z"
    }
   },
   "id": "9bf141ad5e11b3e3",
   "execution_count": 40
  },
  {
   "cell_type": "code",
   "outputs": [
    {
     "data": {
      "text/plain": "<Figure size 1200x800 with 1 Axes>",
      "image/png": "[encoded data removed]"
     },
     "metadata": {},
     "output_type": "display_data"
    }
   ],
   "source": [
    "plt.plot(learning_rate_history, label=\"learning rate\")\n",
    "plt.axvline(x=warmup_steps, color=\"red\", linestyle=(0, (5, 10)), label=\"warmup end\")\n",
    "plt.legend()\n",
    "plt.xlabel(\"Step\")\n",
    "plt.ylabel(\"Learning rate\")\n",
    "plt.tight_layout();"
   ],
   "metadata": {
    "collapsed": false,
    "ExecuteTime": {
     "end_time": "2024-11-29T21:46:42.726641Z",
     "start_time": "2024-11-29T21:46:42.530235Z"
    }
   },
   "id": "db8c882f80712ee1",
   "execution_count": 41
  },
  {
   "cell_type": "code",
   "outputs": [],
   "source": [
    "steps_per_epoch=len(train_dataset) // BATCH_SIZE\n",
    "total_training_steps = steps_per_epoch * EPOCHS"
   ],
   "metadata": {
    "collapsed": false,
    "ExecuteTime": {
     "end_time": "2024-11-29T21:46:43.203931Z",
     "start_time": "2024-11-29T21:46:43.201200Z"
    }
   },
   "id": "3f7d5a1b1614ccb2",
   "execution_count": 42
  },
  {
   "cell_type": "code",
   "outputs": [
    {
     "data": {
      "text/plain": "875"
     },
     "execution_count": 57,
     "metadata": {},
     "output_type": "execute_result"
    }
   ],
   "source": [
    "steps_per_epoch"
   ],
   "metadata": {
    "collapsed": false,
    "ExecuteTime": {
     "end_time": "2024-11-29T22:11:55.032534Z",
     "start_time": "2024-11-29T22:11:55.029014Z"
    }
   },
   "id": "4fb4e2dde8ac8602",
   "execution_count": 57
  },
  {
   "cell_type": "code",
   "outputs": [
    {
     "data": {
      "text/plain": "(350, 1750)"
     },
     "execution_count": 43,
     "metadata": {},
     "output_type": "execute_result"
    }
   ],
   "source": [
    "warmup_steps = total_training_steps // 5\n",
    "warmup_steps, total_training_steps"
   ],
   "metadata": {
    "collapsed": false,
    "ExecuteTime": {
     "end_time": "2024-11-29T21:46:43.830908Z",
     "start_time": "2024-11-29T21:46:43.827163Z"
    }
   },
   "id": "2e7a9638a578a7f9",
   "execution_count": 43
  },
  {
   "cell_type": "code",
   "outputs": [],
   "source": [
    "model = EmotionalTagger(\n",
    "    n_classes=len(LABEL_COLUMNS),\n",
    "    n_warmup_steps=warmup_steps,\n",
    "    n_training_steps=total_training_steps\n",
    ")"
   ],
   "metadata": {
    "collapsed": false,
    "ExecuteTime": {
     "end_time": "2024-11-29T21:46:44.378949Z",
     "start_time": "2024-11-29T21:46:44.067280Z"
    }
   },
   "id": "f7d5bb6d5b144561",
   "execution_count": 44
  },
  {
   "cell_type": "markdown",
   "source": [
    "## Evaluation"
   ],
   "metadata": {
    "collapsed": false
   },
   "id": "824f01a1d35a220"
  },
  {
   "cell_type": "code",
   "outputs": [],
   "source": [
    "criterion = nn.BCELoss()\n",
    "\n",
    "prediction = torch.FloatTensor(\n",
    "    [10.95873564, 1.07321467, 1.58524066, 0.03839076, 15.72987556, 1.09513213]\n",
    ")\n",
    "labels = torch.FloatTensor(\n",
    "    [1., 0., 0., 0., 1., 0.]\n",
    ")"
   ],
   "metadata": {
    "collapsed": false,
    "ExecuteTime": {
     "end_time": "2024-11-29T21:46:45.408535Z",
     "start_time": "2024-11-29T21:46:45.405042Z"
    }
   },
   "id": "428ddbac248ec525",
   "execution_count": 45
  },
  {
   "cell_type": "code",
   "outputs": [
    {
     "data": {
      "text/plain": "tensor([1.0000, 0.7452, 0.8299, 0.5096, 1.0000, 0.7493])"
     },
     "execution_count": 46,
     "metadata": {},
     "output_type": "execute_result"
    }
   ],
   "source": [
    "torch.sigmoid(prediction)"
   ],
   "metadata": {
    "collapsed": false,
    "ExecuteTime": {
     "end_time": "2024-11-29T21:46:45.844047Z",
     "start_time": "2024-11-29T21:46:45.839170Z"
    }
   },
   "id": "101ec7015281cdad",
   "execution_count": 46
  },
  {
   "cell_type": "code",
   "outputs": [
    {
     "data": {
      "text/plain": "tensor(0.8725)"
     },
     "execution_count": 47,
     "metadata": {},
     "output_type": "execute_result"
    }
   ],
   "source": [
    "criterion(torch.sigmoid(prediction), labels)"
   ],
   "metadata": {
    "collapsed": false,
    "ExecuteTime": {
     "end_time": "2024-11-29T21:46:46.234879Z",
     "start_time": "2024-11-29T21:46:46.229038Z"
    }
   },
   "id": "d3d7881834b2c364",
   "execution_count": 47
  },
  {
   "cell_type": "code",
   "outputs": [
    {
     "data": {
      "text/plain": "tensor([[0.5950, 0.4538, 0.3843, 0.5120, 0.5147, 0.4869, 0.5258, 0.2400],\n        [0.5927, 0.4759, 0.3898, 0.4746, 0.5165, 0.4374, 0.5069, 0.2367],\n        [0.5802, 0.4849, 0.4031, 0.4752, 0.5078, 0.4485, 0.5072, 0.2486],\n        [0.5847, 0.4369, 0.4075, 0.5005, 0.4806, 0.5089, 0.5103, 0.2792],\n        [0.5635, 0.5094, 0.3721, 0.4662, 0.5278, 0.4865, 0.4913, 0.2746],\n        [0.5709, 0.4772, 0.4157, 0.4605, 0.5085, 0.4386, 0.4812, 0.2720],\n        [0.5763, 0.4809, 0.4033, 0.4604, 0.5087, 0.4640, 0.4713, 0.2582],\n        [0.5945, 0.4559, 0.3752, 0.4762, 0.5201, 0.4591, 0.5132, 0.2297]],\n       grad_fn=<SigmoidBackward0>)"
     },
     "execution_count": 48,
     "metadata": {},
     "output_type": "execute_result"
    }
   ],
   "source": [
    "_, predictions = model(sample_batch[\"input_ids\"], sample_batch[\"attention_mask\"])\n",
    "predictions"
   ],
   "metadata": {
    "collapsed": false,
    "ExecuteTime": {
     "end_time": "2024-11-29T21:46:46.659110Z",
     "start_time": "2024-11-29T21:46:46.446613Z"
    }
   },
   "id": "4a6ff8d7b88876d9",
   "execution_count": 48
  },
  {
   "cell_type": "code",
   "outputs": [
    {
     "data": {
      "text/plain": "tensor(0.6224, grad_fn=<BinaryCrossEntropyBackward0>)"
     },
     "execution_count": 49,
     "metadata": {},
     "output_type": "execute_result"
    }
   ],
   "source": [
    "criterion(predictions, sample_batch[\"labels\"])"
   ],
   "metadata": {
    "collapsed": false,
    "ExecuteTime": {
     "end_time": "2024-11-29T21:46:47.207072Z",
     "start_time": "2024-11-29T21:46:47.202471Z"
    }
   },
   "id": "764161445b68ee95",
   "execution_count": 49
  },
  {
   "cell_type": "markdown",
   "source": [
    "## ROC Curve"
   ],
   "metadata": {
    "collapsed": false
   },
   "id": "97e2c6bc577fc050"
  },
  {
   "cell_type": "code",
   "outputs": [
    {
     "data": {
      "text/plain": "<Figure size 1200x800 with 1 Axes>",
      "image/png": "[encoded data removed]"
     },
     "metadata": {},
     "output_type": "display_data"
    }
   ],
   "source": [
    "from sklearn import metrics\n",
    "\n",
    "fpr = [0.        , 0.        , 0.        , 0.02857143, 0.02857143,\n",
    "       0.11428571, 0.11428571, 0.2       , 0.4       , 1.        ]\n",
    "\n",
    "tpr = [0.        , 0.01265823, 0.67202532, 0.76202532, 0.91468354,\n",
    "       0.97468354, 0.98734177, 0.98734177, 1.        , 1.        ]\n",
    "\n",
    "_, ax = plt.subplots()\n",
    "ax.plot(fpr, tpr, label=\"ROC\")\n",
    "ax.plot([0.05, 0.95], [0.05, 0.95], transform=ax.transAxes, label=\"Random classifier\", color=\"red\")\n",
    "ax.legend(loc=4)\n",
    "ax.set_xlabel(\"False positive rate\")\n",
    "ax.set_ylabel(\"True positive rate\")\n",
    "ax.set_title(\"Example ROC curve\")\n",
    "plt.show();"
   ],
   "metadata": {
    "collapsed": false,
    "ExecuteTime": {
     "end_time": "2024-11-29T21:46:48.090148Z",
     "start_time": "2024-11-29T21:46:47.933786Z"
    }
   },
   "id": "e3f3e2991a643864",
   "execution_count": 50
  },
  {
   "cell_type": "markdown",
   "source": [
    "## Training"
   ],
   "metadata": {
    "collapsed": false
   },
   "id": "89ee85fbc2a8f44f"
  },
  {
   "cell_type": "code",
   "outputs": [],
   "source": [
    "checkpoint_callback = ModelCheckpoint(\n",
    "    dirpath=\"checkpoints\",\n",
    "    filename=\"best-checkpoint\",\n",
    "    save_top_k=1,\n",
    "    verbose=True,\n",
    "    monitor=\"val_loss\",\n",
    "    mode=\"min\"\n",
    ")"
   ],
   "metadata": {
    "collapsed": false,
    "ExecuteTime": {
     "end_time": "2024-11-29T21:46:50.091045Z",
     "start_time": "2024-11-29T21:46:50.087268Z"
    }
   },
   "id": "ba54c73956ce1e3",
   "execution_count": 51
  },
  {
   "cell_type": "code",
   "outputs": [],
   "source": [
    "logger = TensorBoardLogger(\"lightning_logs\", name=\"toxic-comments\")"
   ],
   "metadata": {
    "collapsed": false,
    "ExecuteTime": {
     "end_time": "2024-11-29T21:46:51.097114Z",
     "start_time": "2024-11-29T21:46:51.094050Z"
    }
   },
   "id": "6c3ae1d051ce75ff",
   "execution_count": 52
  },
  {
   "cell_type": "code",
   "outputs": [],
   "source": [
    "early_stopping_callback = EarlyStopping(monitor='val_loss', patience=2)"
   ],
   "metadata": {
    "collapsed": false,
    "ExecuteTime": {
     "end_time": "2024-11-29T21:46:51.755476Z",
     "start_time": "2024-11-29T21:46:51.752493Z"
    }
   },
   "id": "ae34a6d17fef60b9",
   "execution_count": 53
  },
  {
   "cell_type": "code",
   "outputs": [
    {
     "name": "stderr",
     "output_type": "stream",
     "text": [
      "GPU available: False, used: False\n",
      "TPU available: False, using: 0 TPU cores\n"
     ]
    }
   ],
   "source": [
    "trainer = pl.Trainer(\n",
    "    logger=logger,\n",
    "    checkpoint_callback=checkpoint_callback,\n",
    "    callbacks=[early_stopping_callback],\n",
    "    max_epochs=EPOCHS,\n",
    "    #accelerator=\"cpu\",\n",
    "    #devices=1,\n",
    "    #gpus=1,\n",
    "    progress_bar_refresh_rate=30\n",
    ")"
   ],
   "metadata": {
    "collapsed": false,
    "ExecuteTime": {
     "end_time": "2024-11-29T21:46:52.715847Z",
     "start_time": "2024-11-29T21:46:52.710347Z"
    }
   },
   "id": "844c7289a2f6d037",
   "execution_count": 54
  },
  {
   "cell_type": "code",
   "outputs": [
    {
     "ename": "TypeError",
     "evalue": "EmotionalDataModule.train_dataloader() takes 1 positional argument but 2 were given",
     "output_type": "error",
     "traceback": [
      "\u001B[1;31m---------------------------------------------------------------------------\u001B[0m",
      "\u001B[1;31mTypeError\u001B[0m                                 Traceback (most recent call last)",
      "Cell \u001B[1;32mIn[61], line 1\u001B[0m\n\u001B[1;32m----> 1\u001B[0m \u001B[38;5;28;01mfor\u001B[39;00m batch \u001B[38;5;129;01min\u001B[39;00m data_module\u001B[38;5;241m.\u001B[39mtrain_dataloader(df_train):\n\u001B[0;32m      2\u001B[0m     \u001B[38;5;28mprint\u001B[39m(batch)\n\u001B[0;32m      3\u001B[0m     \u001B[38;5;28;01mbreak\u001B[39;00m\n",
      "\u001B[1;31mTypeError\u001B[0m: EmotionalDataModule.train_dataloader() takes 1 positional argument but 2 were given"
     ]
    }
   ],
   "source": [
    "for batch in data_module.train_dataloader():\n",
    "    print(batch)\n",
    "    break"
   ],
   "metadata": {
    "collapsed": false,
    "ExecuteTime": {
     "end_time": "2024-11-29T22:58:44.111924Z",
     "start_time": "2024-11-29T22:58:44.080026Z"
    }
   },
   "id": "2d5b1ebdab86a552",
   "execution_count": 61
  },
  {
   "cell_type": "code",
   "outputs": [],
   "source": [
    "trainer.fit(model, data_module)"
   ],
   "metadata": {
    "collapsed": false
   },
   "id": "b1a1488bc0d69431"
  },
  {
   "cell_type": "code",
   "outputs": [],
   "source": [
    "trainer.test()"
   ],
   "metadata": {
    "collapsed": false
   },
   "id": "a2c23169a3f6ed50"
  },
  {
   "cell_type": "markdown",
   "source": [
    "## Predictions"
   ],
   "metadata": {
    "collapsed": false
   },
   "id": "823da1ee795e648"
  },
  {
   "cell_type": "code",
   "outputs": [],
   "source": [
    "trained_model = EmotionalTagger.load_from_checkpoint(\n",
    "    trainer.checkpoint_callback.best_model_path,\n",
    "    n_classes=len(LABEL_COLUMNS)\n",
    ")\n",
    "trained_model.eval()\n",
    "trained_model.freeze()"
   ],
   "metadata": {
    "collapsed": false
   },
   "id": "955c340396e1e16"
  },
  {
   "cell_type": "code",
   "outputs": [],
   "source": [
    "test_comment = \"Hi, I'm Meredith and I'm an alch... good at supplier relations\"\n",
    "\n",
    "encoding = tokenizer.encode_plus(\n",
    "    test_comment,\n",
    "    add_special_tokens=True,\n",
    "    max_length=512,\n",
    "    return_token_type_ids=False,\n",
    "    padding=\"max_length\",\n",
    "    return_attention_mask=True,\n",
    "    return_tensors='pt',\n",
    ")\n",
    "\n",
    "_, test_prediction = trained_model(encoding[\"input_ids\"], encoding[\"attention_mask\"])\n",
    "test_prediction = test_prediction.flatten().numpy()\n",
    "\n",
    "for label, prediction in zip(LABEL_COLUMNS, test_prediction):\n",
    "    print(f\"{label}: {prediction}\")\n"
   ],
   "metadata": {
    "collapsed": false
   },
   "id": "5d7208688c1d3c4d"
  },
  {
   "cell_type": "code",
   "outputs": [],
   "source": [
    "THRESHOLD = 0.5\n",
    "\n",
    "test_comment = \"You are such a loser! You'll regret everything you've done to me!\"\n",
    "encoding = tokenizer.encode_plus(\n",
    "    test_comment,\n",
    "    add_special_tokens=True,\n",
    "    max_length=512,\n",
    "    return_token_type_ids=False,\n",
    "    padding=\"max_length\",\n",
    "    return_attention_mask=True,\n",
    "    return_tensors='pt',\n",
    ")\n",
    "\n",
    "_, test_prediction = trained_model(encoding[\"input_ids\"], encoding[\"attention_mask\"])\n",
    "test_prediction = test_prediction.flatten().numpy()\n",
    "\n",
    "for label, prediction in zip(LABEL_COLUMNS, test_prediction):\n",
    "    if prediction < THRESHOLD:\n",
    "        continue\n",
    "    print(f\"{label}: {prediction}\")\n"
   ],
   "metadata": {
    "collapsed": false
   },
   "id": "9c769d054cc439bc"
  },
  {
   "cell_type": "markdown",
   "source": [
    "## Evaluation"
   ],
   "metadata": {
    "collapsed": false
   },
   "id": "99bbcccc2863e4e3"
  },
  {
   "cell_type": "code",
   "outputs": [],
   "source": [
    "device = torch.device('cuda' if torch.cuda.is_available() else 'cpu')\n",
    "trained_model = trained_model.to(device)\n",
    "\n",
    "val_dataset = EmotionalDataset(\n",
    "    df_valid,\n",
    "    tokenizer,\n",
    "    max_token_len=MAX_LEN\n",
    ")\n",
    "\n",
    "predictions = []\n",
    "labels = []\n",
    "\n",
    "for item in tqdm(val_dataset):\n",
    "    _, prediction = trained_model(\n",
    "        item[\"input_ids\"].unsqueeze(dim=0).to(device),\n",
    "        item[\"attention_mask\"].unsqueeze(dim=0).to(device)\n",
    "    )\n",
    "    predictions.append(prediction.flatten())\n",
    "    labels.append(item[\"labels\"].int())\n",
    "\n",
    "predictions = torch.stack(predictions).detach().cpu()\n",
    "labels = torch.stack(labels).detach().cpu()\n"
   ],
   "metadata": {
    "collapsed": false
   },
   "id": "e8faa8b218cfb2e2"
  },
  {
   "cell_type": "code",
   "outputs": [],
   "source": [
    "accuracy(predictions, labels, threshold=THRESHOLD)"
   ],
   "metadata": {
    "collapsed": false
   },
   "id": "fc2fbd23801fae8e"
  },
  {
   "cell_type": "code",
   "outputs": [],
   "source": [
    "print(\"AUROC per tag\")\n",
    "for i, name in enumerate(LABEL_COLUMNS):\n",
    "    tag_auroc = auroc(predictions[:, i], labels[:, i], pos_label=1)\n",
    "    print(f\"{name}: {tag_auroc}\")\n"
   ],
   "metadata": {
    "collapsed": false
   },
   "id": "808a0beeb80538c3"
  },
  {
   "cell_type": "code",
   "outputs": [],
   "source": [
    "y_pred = predictions.numpy()\n",
    "y_true = labels.numpy()\n",
    "\n",
    "upper, lower = 1, 0\n",
    "\n",
    "y_pred = np.where(y_pred > THRESHOLD, upper, lower)\n",
    "\n",
    "print(classification_report(\n",
    "    y_true,\n",
    "    y_pred,\n",
    "    target_names=LABEL_COLUMNS,\n",
    "    zero_division=0\n",
    "))\n"
   ],
   "metadata": {
    "collapsed": false
   },
   "id": "987b40075914a700"
  },
  {
   "cell_type": "code",
   "outputs": [],
   "source": [],
   "metadata": {
    "collapsed": false
   },
   "id": "abc4cc481110d26e"
  }
 ],
 "metadata": {
  "kernelspec": {
   "display_name": "Python 3",
   "language": "python",
   "name": "python3"
  },
  "language_info": {
   "codemirror_mode": {
    "name": "ipython",
    "version": 2
   },
   "file_extension": ".py",
   "mimetype": "text/x-python",
   "name": "python",
   "nbconvert_exporter": "python",
   "pygments_lexer": "ipython2",
   "version": "2.7.6"
  }
 },
 "nbformat": 4,
 "nbformat_minor": 5
}
