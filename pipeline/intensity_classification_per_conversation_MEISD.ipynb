{
 "cells": [
  {
   "cell_type": "code",
   "outputs": [],
   "source": [
    "import pandas as pd\n",
    "import numpy as np\n",
    "import tqdm.notebook as tq\n",
    "from collections import defaultdict\n",
    "\n",
    "import torch\n",
    "import torch.nn as nn\n",
    "from transformers import BertTokenizer, BertModel\n",
    "\n",
    "from sklearn.metrics import f1_score\n",
    "device = torch.device('cuda') if torch.cuda.is_available() else torch.device('cpu')"
   ],
   "metadata": {
    "collapsed": false,
    "ExecuteTime": {
     "end_time": "2025-01-22T11:21:53.320316Z",
     "start_time": "2025-01-22T11:21:37.987371Z"
    }
   },
   "id": "61c6d47e5a26b8d7",
   "execution_count": 1
  },
  {
   "cell_type": "code",
   "outputs": [],
   "source": [
    "NUM_CLASSES = 4\n",
    "MAX_LEN = 100\n",
    "BATCH = 8\n",
    "PRE_TRAINED_MODEL_NAME = \"distilbert-base-uncased\" #'bert-base-cased'\n",
    "EPOCHS = 8\n",
    "LEARNING_RATE = 0.0001\n",
    "THRESHOLD = 0.2\n",
    "DROPOUT_RATE = 0.4\n",
    "WEIGHT_DECAY = 0.001\n",
    "MODE = 'min'\n",
    "PATIENCE = 2\n",
    "FACTOR = 0.5\n",
    "VERBOSE = True"
   ],
   "metadata": {
    "collapsed": false,
    "ExecuteTime": {
     "end_time": "2025-01-22T11:21:53.331786Z",
     "start_time": "2025-01-22T11:21:53.323259Z"
    }
   },
   "id": "88a75ce76d5afc9c",
   "execution_count": 2
  },
  {
   "cell_type": "code",
   "outputs": [
    {
     "name": "stdout",
     "output_type": "stream",
     "text": [
      "Liczba braków w kolumnie 'intensity': 0\n",
      "Unikalne wartości w kolumnie 'intensity': [2 1 3 0]\n"
     ]
    }
   ],
   "source": [
    "df = pd.read_csv('C:/Users/juwieczo/DataspellProjects/meisd_project/pipeline/balanced_augmented_data_primary_intensity.csv')\n",
    "# Zamień wartości na liczby całkowite\n",
    "# df['intensity'] = pd.to_numeric(df['intensity'], errors='coerce').fillna(0)\n",
    "# df['intensity2'] = pd.to_numeric(df['intensity2'], errors='coerce').fillna(0)\n",
    "# df['intensity3'] = pd.to_numeric(df['intensity3'], errors='coerce').fillna(0)\n",
    "\n",
    "# Zamień wartości zawierające tylko białe znaki lub '`', 'neu', 'po' na NaN\n",
    "# df['intensity'] = df['intensity'].replace(r'^\\s*$', np.nan, regex=True)\n",
    "# df['intensity'] = df['intensity'].replace(['`', 'neu', 'po'], np.nan)\n",
    "# df['intensity2'] = df['intensity2'].replace(r'^\\s*$', np.nan, regex=True)\n",
    "# df['intensity2'] = df['intensity2'].replace(['`', 'neu', 'po'], np.nan)\n",
    "# df['intensity3'] = df['intensity3'].replace(r'^\\s*$', np.nan, regex=True)\n",
    "# df['intensity3'] = df['intensity3'].replace(['`', 'neu', 'po'], np.nan)\n",
    "\n",
    "# Użyj forward fill, aby uzupełnić brakujące wartości poprzedzającą wartością\n",
    "# df['intensity'] = df['intensity'].ffill()\n",
    "# df['intensity2'] = df['intensity2'].ffill()\n",
    "# df['intensity3'] = df['intensity3'].ffill()\n",
    "\n",
    "# Usuń znaki niebędące cyframi (np. '`') za pomocą wyrażeń regularnych\n",
    "# df['intensity'] = df['intensity'].replace(r'\\D', '', regex=True).astype(int)  # Usuwa wszystko, co nie jest cyfrą\n",
    "# df['intensity2'] = df['intensity2'].replace(r'\\D', '', regex=True).astype(int)\n",
    "# df['intensity3'] = df['intensity3'].replace(r'\\D', '', regex=True).astype(int)\n",
    "\n",
    "missing_count = df['label'].isna().sum()\n",
    "print(f\"Liczba braków w kolumnie 'intensity': {missing_count}\")\n",
    "unique_values = df['label'].unique()\n",
    "print(f\"Unikalne wartości w kolumnie 'intensity': {unique_values}\")"
   ],
   "metadata": {
    "collapsed": false,
    "ExecuteTime": {
     "end_time": "2025-01-22T11:21:53.427732Z",
     "start_time": "2025-01-22T11:21:53.337923Z"
    }
   },
   "id": "c32f6bc864fddd97",
   "execution_count": 3
  },
  {
   "cell_type": "code",
   "outputs": [],
   "source": [
    "#columns = ['Utterances', 'dialog_ids', 'uttr_ids', 'intensity', 'intensity2', 'intensity3']\n",
    "columns = ['Utterances', 'label']\n",
    "df = df[columns].copy()"
   ],
   "metadata": {
    "collapsed": false,
    "ExecuteTime": {
     "end_time": "2025-01-22T11:21:53.442763Z",
     "start_time": "2025-01-22T11:21:53.431530Z"
    }
   },
   "id": "f489ce945c69132",
   "execution_count": 4
  },
  {
   "cell_type": "code",
   "outputs": [],
   "source": [
    "# first_25_data = []\n",
    "# last_25_data = []\n",
    "# \n",
    "# def process_group(group):\n",
    "#     num_rows = len(group)\n",
    "#     quarter_size = max(1, num_rows // 4)\n",
    "# \n",
    "#     # First 25%\n",
    "#     first_25 = group.iloc[:quarter_size]\n",
    "#     primary_intensity = max(\n",
    "#         group['intensity'].iloc[0],\n",
    "#         group['intensity2'].iloc[0],\n",
    "#         group['intensity3'].iloc[0]\n",
    "#     )\n",
    "#     first_25 = first_25.assign(primary_intensity=primary_intensity)\n",
    "# \n",
    "#     # Last 25%\n",
    "#     last_25 = group.iloc[-quarter_size:]\n",
    "#     final_intensity = max(\n",
    "#         group['intensity'].iloc[-1],\n",
    "#         group['intensity2'].iloc[-1],\n",
    "#         group['intensity3'].iloc[-1]\n",
    "#     )\n",
    "#     last_25 = last_25.assign(final_intensity=final_intensity)\n",
    "# \n",
    "#     first_25_data.append(first_25)\n",
    "#     last_25_data.append(last_25)\n",
    "# \n",
    "# df.groupby('dialog_ids').apply(process_group)\n",
    "# \n",
    "# first_25_df = pd.concat(first_25_data).reset_index(drop=True)\n",
    "# last_25_df = pd.concat(last_25_data).reset_index(drop=True)\n",
    "# \n",
    "# grouped_first_25 = first_25_df.groupby('dialog_ids').agg({\n",
    "#     'Utterances': ' '.join,\n",
    "#     'primary_intensity': 'first'\n",
    "# }).reset_index()\n",
    "# \n",
    "# grouped_last_25 = last_25_df.groupby('dialog_ids').agg({\n",
    "#     'Utterances': ' '.join,\n",
    "#     'final_intensity': 'first'\n",
    "# }).reset_index()\n",
    "# \n",
    "# df = grouped_first_25.drop(df.columns[0], axis=1)\n",
    "# \n",
    "# # grouped_first_25.to_csv('first_25_percent.csv', index=False)\n",
    "# # grouped_last_25.to_csv('last_25_percent.csv', index=False)"
   ],
   "metadata": {
    "collapsed": false,
    "ExecuteTime": {
     "end_time": "2025-01-22T11:21:53.455948Z",
     "start_time": "2025-01-22T11:21:53.446785Z"
    }
   },
   "id": "e56f08b5653e50db",
   "execution_count": 5
  },
  {
   "cell_type": "code",
   "outputs": [],
   "source": [
    "#grouped_first_25.head()"
   ],
   "metadata": {
    "collapsed": false,
    "ExecuteTime": {
     "end_time": "2025-01-22T11:21:53.469426Z",
     "start_time": "2025-01-22T11:21:53.459222Z"
    }
   },
   "id": "f201920484f65a4",
   "execution_count": 6
  },
  {
   "cell_type": "code",
   "outputs": [],
   "source": [
    "# from transformers import BertTokenizer, BertModel\n",
    "# tokenizer = BertTokenizer.from_pretrained(PRE_TRAINED_MODEL_NAME)\n",
    "# \n",
    "# # Test the tokenizer\n",
    "# test_text = \"We are testing BERT tokenizer.\"\n",
    "# # generate encodings\n",
    "# encodings = tokenizer.encode_plus(test_text,\n",
    "#                                   add_special_tokens = True, # Add '[CLS]' and '[SEP]'\n",
    "#                                   max_length = 50,\n",
    "#                                   truncation = True,\n",
    "#                                   padding = \"max_length\",\n",
    "#                                   return_attention_mask = True,\n",
    "#                                   return_tensors = \"pt\")"
   ],
   "metadata": {
    "collapsed": false,
    "ExecuteTime": {
     "end_time": "2025-01-22T11:21:53.480545Z",
     "start_time": "2025-01-22T11:21:53.472862Z"
    }
   },
   "id": "a8049e14d2a5eb2f",
   "execution_count": 7
  },
  {
   "cell_type": "code",
   "outputs": [
    {
     "name": "stdout",
     "output_type": "stream",
     "text": [
      "Input IDs: tensor([[  101,  2057,  2024,  5604, 14324, 19204, 17629,  1012,   102,     0,\n",
      "             0,     0,     0,     0,     0,     0,     0,     0,     0,     0,\n",
      "             0,     0,     0,     0,     0,     0,     0,     0,     0,     0,\n",
      "             0,     0,     0,     0,     0,     0,     0,     0,     0,     0,\n",
      "             0,     0,     0,     0,     0,     0,     0,     0,     0,     0]])\n",
      "Attention Mask: tensor([[1, 1, 1, 1, 1, 1, 1, 1, 1, 0, 0, 0, 0, 0, 0, 0, 0, 0, 0, 0, 0, 0, 0, 0,\n",
      "         0, 0, 0, 0, 0, 0, 0, 0, 0, 0, 0, 0, 0, 0, 0, 0, 0, 0, 0, 0, 0, 0, 0, 0,\n",
      "         0, 0]])\n"
     ]
    }
   ],
   "source": [
    "from transformers import BertTokenizer, BertModel, DistilBertTokenizer\n",
    "\n",
    "tokenizer = DistilBertTokenizer.from_pretrained(PRE_TRAINED_MODEL_NAME)\n",
    "\n",
    "test_text = \"We are testing BERT tokenizer.\"\n",
    "encodings = tokenizer.encode_plus(\n",
    "    test_text,\n",
    "    add_special_tokens=True,  # Add '[CLS]' and '[SEP]'\n",
    "    max_length=50,\n",
    "    truncation=True,\n",
    "    padding=\"max_length\",\n",
    "    return_attention_mask=True,\n",
    "    return_tensors=\"pt\"\n",
    ")\n",
    "\n",
    "print(\"Input IDs:\", encodings[\"input_ids\"])\n",
    "print(\"Attention Mask:\", encodings[\"attention_mask\"])\n"
   ],
   "metadata": {
    "collapsed": false,
    "ExecuteTime": {
     "end_time": "2025-01-22T11:21:53.914898Z",
     "start_time": "2025-01-22T11:21:53.483600Z"
    }
   },
   "id": "61380a94d9a6e7a1",
   "execution_count": 8
  },
  {
   "cell_type": "code",
   "outputs": [
    {
     "data": {
      "text/plain": "                                          Utterances  label\n0  i'm george o'malley uh, we met at the mixer. y...      2\n1  if he doesn't respond to these tests in the ne...      2\n2  without i.d., you can't contact the family wit...      2\n3  mr. humphrey, i'm sorry to wake you come on wh...      2\n4  means i have it all the time i know what \"chro...      2",
      "text/html": "<div>\n<style scoped>\n    .dataframe tbody tr th:only-of-type {\n        vertical-align: middle;\n    }\n\n    .dataframe tbody tr th {\n        vertical-align: top;\n    }\n\n    .dataframe thead th {\n        text-align: right;\n    }\n</style>\n<table border=\"1\" class=\"dataframe\">\n  <thead>\n    <tr style=\"text-align: right;\">\n      <th></th>\n      <th>Utterances</th>\n      <th>label</th>\n    </tr>\n  </thead>\n  <tbody>\n    <tr>\n      <th>0</th>\n      <td>i'm george o'malley uh, we met at the mixer. y...</td>\n      <td>2</td>\n    </tr>\n    <tr>\n      <th>1</th>\n      <td>if he doesn't respond to these tests in the ne...</td>\n      <td>2</td>\n    </tr>\n    <tr>\n      <th>2</th>\n      <td>without i.d., you can't contact the family wit...</td>\n      <td>2</td>\n    </tr>\n    <tr>\n      <th>3</th>\n      <td>mr. humphrey, i'm sorry to wake you come on wh...</td>\n      <td>2</td>\n    </tr>\n    <tr>\n      <th>4</th>\n      <td>means i have it all the time i know what \"chro...</td>\n      <td>2</td>\n    </tr>\n  </tbody>\n</table>\n</div>"
     },
     "execution_count": 9,
     "metadata": {},
     "output_type": "execute_result"
    }
   ],
   "source": [
    "df.head()"
   ],
   "metadata": {
    "collapsed": false,
    "ExecuteTime": {
     "end_time": "2025-01-22T11:21:53.968079Z",
     "start_time": "2025-01-22T11:21:53.917941Z"
    }
   },
   "id": "cbdd95a0a34cab18",
   "execution_count": 9
  },
  {
   "cell_type": "code",
   "outputs": [],
   "source": [
    "token_lens = []\n",
    "\n",
    "for txt in df['Utterances']:\n",
    "    tokens = tokenizer.encode(txt, max_length=512, truncation=True)\n",
    "    token_lens.append(len(tokens))\n"
   ],
   "metadata": {
    "collapsed": false,
    "ExecuteTime": {
     "end_time": "2025-01-22T11:21:56.636638Z",
     "start_time": "2025-01-22T11:21:53.971821Z"
    }
   },
   "id": "f6e84cca3a6993fc",
   "execution_count": 10
  },
  {
   "cell_type": "code",
   "outputs": [
    {
     "name": "stderr",
     "output_type": "stream",
     "text": [
      "C:\\Users\\juwieczo\\AppData\\Local\\Temp\\ipykernel_3636\\1466372787.py:4: UserWarning: \n",
      "\n",
      "`distplot` is a deprecated function and will be removed in seaborn v0.14.0.\n",
      "\n",
      "Please adapt your code to use either `displot` (a figure-level function with\n",
      "similar flexibility) or `histplot` (an axes-level function for histograms).\n",
      "\n",
      "For a guide to updating your code to use the new functions, please see\n",
      "https://gist.github.com/mwaskom/de44147ed2974457ad6372750bbe5751\n",
      "\n",
      "  sns.distplot(token_lens)\n"
     ]
    },
    {
     "data": {
      "text/plain": "Text(0.5, 0, 'Token count')"
     },
     "execution_count": 11,
     "metadata": {},
     "output_type": "execute_result"
    },
    {
     "data": {
      "text/plain": "<Figure size 640x480 with 1 Axes>",
      "image/png": "[encoded data removed]"
     },
     "metadata": {},
     "output_type": "display_data"
    }
   ],
   "source": [
    "import seaborn as sns\n",
    "import matplotlib.pyplot as plt\n",
    "\n",
    "sns.distplot(token_lens)\n",
    "plt.xlim([0, 100])\n",
    "plt.xlabel('Token count')"
   ],
   "metadata": {
    "collapsed": false,
    "ExecuteTime": {
     "end_time": "2025-01-22T11:21:57.576750Z",
     "start_time": "2025-01-22T11:21:56.645868Z"
    }
   },
   "id": "749900659c725beb",
   "execution_count": 11
  },
  {
   "cell_type": "code",
   "outputs": [],
   "source": [
    "#df = grouped_first_25"
   ],
   "metadata": {
    "collapsed": false,
    "ExecuteTime": {
     "end_time": "2025-01-22T11:21:57.587789Z",
     "start_time": "2025-01-22T11:21:57.579856Z"
    }
   },
   "id": "fffaa3ad682825bd",
   "execution_count": 12
  },
  {
   "cell_type": "code",
   "outputs": [],
   "source": [
    "class CustomDataset(torch.utils.data.Dataset):\n",
    "    def __init__(self, df, tokenizer, max_len):\n",
    "        self.tokenizer = tokenizer\n",
    "        self.df = df\n",
    "        self.utterances = list(df['Utterances'])\n",
    "        self.targets = self.df['label'].astype(int).values\n",
    "        self.max_len = max_len\n",
    "\n",
    "    def __len__(self):\n",
    "        return len(self.utterances)\n",
    "\n",
    "    def __getitem__(self, index):\n",
    "        utterances = str(self.utterances[index])\n",
    "\n",
    "        inputs = self.tokenizer.encode_plus(\n",
    "            utterances,\n",
    "            None,\n",
    "            add_special_tokens=True,\n",
    "            max_length=self.max_len,\n",
    "            padding='max_length',\n",
    "            return_token_type_ids=True,\n",
    "            truncation=True,\n",
    "            return_attention_mask=True,\n",
    "            return_tensors='pt'\n",
    "        )\n",
    "        target = torch.tensor(self.targets[index], dtype=torch.long)\n",
    "\n",
    "        return {\n",
    "            'input_ids': inputs['input_ids'].flatten(),\n",
    "            'attention_mask': inputs['attention_mask'].flatten(),\n",
    "            'token_type_ids': inputs[\"token_type_ids\"].flatten(),\n",
    "            'targets': torch.tensor(self.targets[index], dtype=torch.long),\n",
    "            'utterances': utterances\n",
    "        }\n"
   ],
   "metadata": {
    "collapsed": false,
    "ExecuteTime": {
     "end_time": "2025-01-22T11:21:57.605655Z",
     "start_time": "2025-01-22T11:21:57.590830Z"
    }
   },
   "id": "a7f70271994ce23d",
   "execution_count": 13
  },
  {
   "cell_type": "code",
   "outputs": [],
   "source": [
    "from sklearn.model_selection import train_test_split\n",
    "\n",
    "# split into train and test\n",
    "df_train, df_test = train_test_split(df, random_state=77, test_size=0.30, shuffle=True)\n",
    "# split test into test and validation datasets\n",
    "df_test, df_valid = train_test_split(df_test, random_state=88, test_size=0.50, shuffle=True)"
   ],
   "metadata": {
    "collapsed": false,
    "ExecuteTime": {
     "end_time": "2025-01-22T11:21:57.758804Z",
     "start_time": "2025-01-22T11:21:57.609635Z"
    }
   },
   "id": "e26dd199592b9a07",
   "execution_count": 14
  },
  {
   "cell_type": "code",
   "outputs": [
    {
     "name": "stdout",
     "output_type": "stream",
     "text": [
      "Original train size: (1584, 2)\n",
      "Validation size: (238, 2), Test size: (238, 2)\n"
     ]
    }
   ],
   "source": [
    "print(f\"Original train size: {df.shape}\")\n",
    "print(f\"Validation size: {df_valid.shape}, Test size: {df_test.shape}\")"
   ],
   "metadata": {
    "collapsed": false,
    "ExecuteTime": {
     "end_time": "2025-01-22T11:21:57.773687Z",
     "start_time": "2025-01-22T11:21:57.763951Z"
    }
   },
   "id": "bd8a98fbef943116",
   "execution_count": 15
  },
  {
   "cell_type": "code",
   "outputs": [
    {
     "name": "stdout",
     "output_type": "stream",
     "text": [
      "label\n",
      "0    26.263538\n",
      "1    25.902527\n",
      "3    25.090253\n",
      "2    22.743682\n",
      "Name: proportion, dtype: float64\n",
      "label\n",
      "0    291\n",
      "1    287\n",
      "3    278\n",
      "2    252\n",
      "Name: count, dtype: int64\n"
     ]
    }
   ],
   "source": [
    "label_frequencies = df_train['label'].value_counts()\n",
    "label_frequencies_percent = df_train['label'].value_counts(normalize=True) * 100\n",
    "print(label_frequencies_percent)\n",
    "print(label_frequencies)"
   ],
   "metadata": {
    "collapsed": false,
    "ExecuteTime": {
     "end_time": "2025-01-22T11:21:57.792476Z",
     "start_time": "2025-01-22T11:21:57.778476Z"
    }
   },
   "id": "d7987bc066a1b131",
   "execution_count": 16
  },
  {
   "cell_type": "code",
   "outputs": [
    {
     "data": {
      "text/plain": "['label']"
     },
     "execution_count": 17,
     "metadata": {},
     "output_type": "execute_result"
    }
   ],
   "source": [
    "target_list = list(df.columns)\n",
    "target_list = target_list[1:]\n",
    "target_list"
   ],
   "metadata": {
    "collapsed": false,
    "ExecuteTime": {
     "end_time": "2025-01-22T11:21:57.813689Z",
     "start_time": "2025-01-22T11:21:57.794865Z"
    }
   },
   "id": "b5d2bf8b8703971e",
   "execution_count": 17
  },
  {
   "cell_type": "code",
   "outputs": [],
   "source": [
    "# class BERT_IntensityClass(torch.nn.Module):\n",
    "#     def __init__(self, bert_model):\n",
    "#         super(BERT_IntensityClass, self).__init__()\n",
    "#         self.bert_model = BertModel.from_pretrained(PRE_TRAINED_MODEL_NAME, return_dict=True)\n",
    "#         self.dropout = torch.nn.Dropout(p=DROPOUT_RATE) #0.5\n",
    "#         self.linear = torch.nn.Linear(bert_model.config.hidden_size, NUM_CLASSES)\n",
    "#         #self.softmax = nn.Softmax(dim=1) #remove for sentiment analysis\n",
    "#         #CrossEntropyLoss automatycznie aplikuje funkcję softmax, więc nie ma potrzeby używać Softmax w modelu.\n",
    "# \n",
    "# \n",
    "#     def forward(self, input_ids, attn_mask, token_type_ids=None):\n",
    "#         output = self.bert_model(input_ids, attention_mask=attn_mask, token_type_ids=token_type_ids)\n",
    "#         #pooler_output = self.pooler_output\n",
    "#         dropout_output = self.dropout(output.pooler_output)\n",
    "#         linear_output = self.linear(dropout_output)\n",
    "#         #output = self.dropout(linear_output)\n",
    "#         # output = self.softmax(linear_output)\n",
    "#         return linear_output"
   ],
   "metadata": {
    "collapsed": false,
    "ExecuteTime": {
     "end_time": "2025-01-22T11:21:57.825146Z",
     "start_time": "2025-01-22T11:21:57.816809Z"
    }
   },
   "id": "7e66c5471d9631d7",
   "execution_count": 18
  },
  {
   "cell_type": "code",
   "outputs": [],
   "source": [
    "class DistilBERT_IntensityClass(torch.nn.Module):\n",
    "    def __init__(self, distilbert_model, dropout_rate=DROPOUT_RATE, num_classes=NUM_CLASSES):\n",
    "        super(DistilBERT_IntensityClass, self).__init__()\n",
    "        self.distilbert_model = distilbert_model\n",
    "        self.dropout = torch.nn.Dropout(p=DROPOUT_RATE)\n",
    "        self.linear = torch.nn.Linear(self.distilbert_model.config.hidden_size, num_classes)\n",
    "\n",
    "    def forward(self, input_ids, attn_mask):\n",
    "        # DistilBERT model processing\n",
    "        output = self.distilbert_model(input_ids, attention_mask=attn_mask)\n",
    "\n",
    "        # Use the last hidden state (the embedding for [CLS] token is at index 0)\n",
    "        cls_output = output.last_hidden_state[:, 0, :]  # Shape: [batch_size, hidden_size]\n",
    "        # Apply dropout\n",
    "        dropout_output = self.dropout(cls_output)\n",
    "        # Get final class logits\n",
    "        linear_output = self.linear(dropout_output)\n",
    "        return linear_output\n"
   ],
   "metadata": {
    "collapsed": false,
    "ExecuteTime": {
     "end_time": "2025-01-22T11:21:57.843252Z",
     "start_time": "2025-01-22T11:21:57.829054Z"
    }
   },
   "id": "a3d48855c6a6f9e0",
   "execution_count": 19
  },
  {
   "cell_type": "code",
   "outputs": [],
   "source": [
    "# bert_model = BertModel.from_pretrained(PRE_TRAINED_MODEL_NAME)\n",
    "# model = BERT_IntensityClass(bert_model)\n",
    "# model.to(device)\n",
    "# tokenizer = BertTokenizer.from_pretrained(PRE_TRAINED_MODEL_NAME)"
   ],
   "metadata": {
    "collapsed": false,
    "ExecuteTime": {
     "end_time": "2025-01-22T11:21:57.856013Z",
     "start_time": "2025-01-22T11:21:57.847076Z"
    }
   },
   "id": "a90aee7dd6a5312b",
   "execution_count": 20
  },
  {
   "cell_type": "code",
   "outputs": [],
   "source": [
    "from transformers import DistilBertModel\n",
    "distilbert_model = DistilBertModel.from_pretrained(PRE_TRAINED_MODEL_NAME)\n",
    "\n",
    "# for loop - blokowanie warst \n",
    "for i, layer in enumerate(distilbert_model.transformer.layer):\n",
    "    if i < 2:\n",
    "        for param in layer.parameters():\n",
    "            param.requires_grad = False\n",
    "\n",
    "\n",
    "model = DistilBERT_IntensityClass(distilbert_model)\n",
    "model.to(device)\n",
    "tokenizer = DistilBertTokenizer.from_pretrained(PRE_TRAINED_MODEL_NAME)"
   ],
   "metadata": {
    "collapsed": false,
    "ExecuteTime": {
     "end_time": "2025-01-22T11:21:58.354591Z",
     "start_time": "2025-01-22T11:21:57.861977Z"
    }
   },
   "id": "4e37f0d6ce056d33",
   "execution_count": 21
  },
  {
   "cell_type": "code",
   "outputs": [],
   "source": [
    "train_dataset = CustomDataset(df_train, tokenizer, MAX_LEN)\n",
    "valid_dataset = CustomDataset(df_valid, tokenizer, MAX_LEN)\n",
    "test_dataset = CustomDataset(df_test, tokenizer, MAX_LEN)"
   ],
   "metadata": {
    "collapsed": false,
    "ExecuteTime": {
     "end_time": "2025-01-22T11:21:58.373848Z",
     "start_time": "2025-01-22T11:21:58.360729Z"
    }
   },
   "id": "1ab9f1d0ec1d16f8",
   "execution_count": 22
  },
  {
   "cell_type": "code",
   "outputs": [],
   "source": [
    "train_data_loader = torch.utils.data.DataLoader(train_dataset, batch_size=BATCH, shuffle=True, num_workers=0)\n",
    "val_data_loader = torch.utils.data.DataLoader(valid_dataset, batch_size=BATCH, shuffle=False, num_workers=0)\n",
    "test_data_loader = torch.utils.data.DataLoader(test_dataset, batch_size=BATCH, shuffle=False, num_workers=0)"
   ],
   "metadata": {
    "collapsed": false,
    "ExecuteTime": {
     "end_time": "2025-01-22T11:21:58.405228Z",
     "start_time": "2025-01-22T11:21:58.380062Z"
    }
   },
   "id": "8f6bb1de72c32ea0",
   "execution_count": 23
  },
  {
   "cell_type": "code",
   "outputs": [],
   "source": [
    "# data = next(iter(train_data_loader))\n",
    "# outputs = model(data[\"input_ids\"], attn_mask=data[\"attention_mask\"])\n",
    "# print(outputs)"
   ],
   "metadata": {
    "collapsed": false,
    "ExecuteTime": {
     "end_time": "2025-01-22T11:21:58.423590Z",
     "start_time": "2025-01-22T11:21:58.408319Z"
    }
   },
   "id": "d5ca1f227bf8d526",
   "execution_count": 24
  },
  {
   "cell_type": "code",
   "outputs": [],
   "source": [
    "data = next(iter(train_data_loader))"
   ],
   "metadata": {
    "collapsed": false,
    "ExecuteTime": {
     "end_time": "2025-01-22T11:21:58.524099Z",
     "start_time": "2025-01-22T11:21:58.428220Z"
    }
   },
   "id": "ad73480f389e4909",
   "execution_count": 25
  },
  {
   "cell_type": "code",
   "outputs": [],
   "source": [
    "# test_text = \"We are testing BERT tokenizer.\"\n",
    "# encodings = tokenizer.encode_plus(test_text,\n",
    "#                                   add_special_tokens=True,  # Add '[CLS]' and '[SEP]'\n",
    "#                                   max_length=50,\n",
    "#                                   truncation=True,\n",
    "#                                   padding=\"max_length\",\n",
    "#                                   return_attention_mask=True,\n",
    "#                                   return_tensors=\"pt\")\n"
   ],
   "metadata": {
    "collapsed": false,
    "ExecuteTime": {
     "end_time": "2025-01-22T11:21:58.543988Z",
     "start_time": "2025-01-22T11:21:58.530099Z"
    }
   },
   "id": "472bb4d14d690cb3",
   "execution_count": 26
  },
  {
   "cell_type": "code",
   "outputs": [
    {
     "name": "stdout",
     "output_type": "stream",
     "text": [
      "Input IDs: tensor([[  101,  2057,  2024,  5604, 14324, 19204, 17629,  1012,   102,     0,\n",
      "             0,     0,     0,     0,     0,     0,     0,     0,     0,     0,\n",
      "             0,     0,     0,     0,     0,     0,     0,     0,     0,     0,\n",
      "             0,     0,     0,     0,     0,     0,     0,     0,     0,     0,\n",
      "             0,     0,     0,     0,     0,     0,     0,     0,     0,     0]])\n",
      "Attention Mask: tensor([[1, 1, 1, 1, 1, 1, 1, 1, 1, 0, 0, 0, 0, 0, 0, 0, 0, 0, 0, 0, 0, 0, 0, 0,\n",
      "         0, 0, 0, 0, 0, 0, 0, 0, 0, 0, 0, 0, 0, 0, 0, 0, 0, 0, 0, 0, 0, 0, 0, 0,\n",
      "         0, 0]])\n"
     ]
    }
   ],
   "source": [
    "from transformers import BertTokenizer, BertModel, DistilBertTokenizer\n",
    "\n",
    "test_text = \"We are testing BERT tokenizer.\"\n",
    "encodings = tokenizer.encode_plus(\n",
    "    test_text,\n",
    "    add_special_tokens=True,  # Add '[CLS]' and '[SEP]'\n",
    "    max_length=50,\n",
    "    truncation=True,\n",
    "    padding=\"max_length\",\n",
    "    return_attention_mask=True,\n",
    "    return_tensors=\"pt\"\n",
    ")\n",
    "\n",
    "print(\"Input IDs:\", encodings[\"input_ids\"])\n",
    "print(\"Attention Mask:\", encodings[\"attention_mask\"])\n"
   ],
   "metadata": {
    "collapsed": false,
    "ExecuteTime": {
     "end_time": "2025-01-22T11:21:58.579837Z",
     "start_time": "2025-01-22T11:21:58.547978Z"
    }
   },
   "id": "44d24164d47e1a32",
   "execution_count": 27
  },
  {
   "cell_type": "code",
   "outputs": [],
   "source": [
    "# bert_model = BertModel.from_pretrained(PRE_TRAINED_MODEL_NAME)\n",
    "# last_hidden_state, pooled_output = bert_model(\n",
    "#     input_ids=encodings['input_ids'],\n",
    "#     attention_mask=encodings['attention_mask']\n",
    "# )"
   ],
   "metadata": {
    "collapsed": false,
    "ExecuteTime": {
     "end_time": "2025-01-22T11:21:58.591238Z",
     "start_time": "2025-01-22T11:21:58.585557Z"
    }
   },
   "id": "5255f143cf8725fd",
   "execution_count": 28
  },
  {
   "cell_type": "code",
   "outputs": [],
   "source": [
    "# Pass the inputs through the DistilBERT model\n",
    "output = distilbert_model(\n",
    "    input_ids=encodings['input_ids'],\n",
    "    attention_mask=encodings['attention_mask']\n",
    ")\n",
    "\n",
    "# Extract the last hidden state\n",
    "last_hidden_state = output.last_hidden_state\n",
    "\n",
    "# Extract the representation of the [CLS] token (first token in the sequence)\n",
    "cls_output = last_hidden_state[:, 0, :]  # Shape: [batch_size, hidden_size]\n",
    "\n",
    "# Now you can use cls_output for downstream tasks (e.g., classification)\n"
   ],
   "metadata": {
    "collapsed": false,
    "ExecuteTime": {
     "end_time": "2025-01-22T11:21:59.530899Z",
     "start_time": "2025-01-22T11:21:58.594413Z"
    }
   },
   "id": "284094d3a727a604",
   "execution_count": 29
  },
  {
   "cell_type": "code",
   "outputs": [
    {
     "data": {
      "text/plain": "tensor([3.8076, 3.8606, 3.9856, 4.3968])"
     },
     "execution_count": 30,
     "metadata": {},
     "output_type": "execute_result"
    }
   ],
   "source": [
    "class_distribution = df_train['label'].value_counts(normalize=True)\n",
    "total_samples = sum(class_distribution)\n",
    "class_weights = [total_samples / count for count in class_distribution]\n",
    "class_weights = torch.tensor(class_weights, dtype=torch.float).to(device)\n",
    "class_weights"
   ],
   "metadata": {
    "collapsed": false,
    "ExecuteTime": {
     "end_time": "2025-01-22T11:21:59.585561Z",
     "start_time": "2025-01-22T11:21:59.534794Z"
    }
   },
   "id": "83abf052a0741cf6",
   "execution_count": 30
  },
  {
   "cell_type": "code",
   "outputs": [],
   "source": [
    "def loss_fn(outputs, targets):\n",
    "    return torch.nn.CrossEntropyLoss(weight=class_weights)(outputs, targets)"
   ],
   "metadata": {
    "collapsed": false,
    "ExecuteTime": {
     "end_time": "2025-01-22T11:21:59.594276Z",
     "start_time": "2025-01-22T11:21:59.588546Z"
    }
   },
   "id": "1bf88e8032b196ae",
   "execution_count": 31
  },
  {
   "cell_type": "code",
   "outputs": [],
   "source": [
    "from torch.utils.tensorboard import SummaryWriter\n",
    "\n",
    "writer = SummaryWriter(log_dir='logs')"
   ],
   "metadata": {
    "collapsed": false,
    "ExecuteTime": {
     "end_time": "2025-01-22T11:22:00.406867Z",
     "start_time": "2025-01-22T11:21:59.597337Z"
    }
   },
   "id": "ad813080e544a445",
   "execution_count": 32
  },
  {
   "cell_type": "code",
   "outputs": [
    {
     "name": "stderr",
     "output_type": "stream",
     "text": [
      "C:\\Users\\juwieczo\\AppData\\Local\\Programs\\Python\\Python312\\Lib\\site-packages\\transformers\\optimization.py:591: FutureWarning: This implementation of AdamW is deprecated and will be removed in a future version. Use the PyTorch implementation torch.optim.AdamW instead, or set `no_deprecation_warning=True` to disable this warning\n",
      "  warnings.warn(\n",
      "C:\\Users\\juwieczo\\AppData\\Local\\Programs\\Python\\Python312\\Lib\\site-packages\\torch\\optim\\lr_scheduler.py:62: UserWarning: The verbose parameter is deprecated. Please use get_last_lr() to access the learning rate.\n",
      "  warnings.warn(\n"
     ]
    }
   ],
   "source": [
    "from transformers import AdamW, get_linear_schedule_with_warmup\n",
    "\n",
    "#EPOCHS = 10\n",
    "optimizer = AdamW(model.parameters(), lr=LEARNING_RATE, weight_decay=WEIGHT_DECAY)\n",
    "scheduler = torch.optim.lr_scheduler.ReduceLROnPlateau(optimizer, mode=MODE, patience=PATIENCE, factor=FACTOR, verbose=VERBOSE)"
   ],
   "metadata": {
    "collapsed": false,
    "ExecuteTime": {
     "end_time": "2025-01-22T11:22:03.112679Z",
     "start_time": "2025-01-22T11:22:00.409817Z"
    }
   },
   "id": "30a39e6dab7d1f20",
   "execution_count": 33
  },
  {
   "cell_type": "code",
   "outputs": [],
   "source": [
    "def train_model(training_loader, model, optimizer):\n",
    "    losses = []\n",
    "    correct_predictions = 0\n",
    "    num_samples = 0\n",
    "    all_preds = []\n",
    "    all_labels = []\n",
    "\n",
    "    model.train()\n",
    "    loop = tq.tqdm(enumerate(training_loader), total=len(training_loader), leave=True, colour='steelblue')\n",
    "\n",
    "    for batch_idx, data in loop:\n",
    "        ids = data['input_ids'].to(device, dtype=torch.long)\n",
    "        mask = data['attention_mask'].to(device, dtype=torch.long)\n",
    "        token_type_ids = data['token_type_ids'].to(device, dtype=torch.long)\n",
    "        targets = data['targets'].to(device, dtype=torch.long)\n",
    "\n",
    "\n",
    "# Forward pass\n",
    "        outputs = model(ids, mask)\n",
    "\n",
    "        # Calculate loss\n",
    "        loss = loss_fn(outputs, targets)\n",
    "        losses.append(loss.item())\n",
    "\n",
    "        # Calculate predictions and accuracy\n",
    "        _, preds = torch.max(outputs, dim=1)\n",
    "        correct_predictions += torch.sum(preds == targets).item()\n",
    "        num_samples += targets.size(0)\n",
    "\n",
    "        # Collect predictions and labels for F1-score\n",
    "        all_preds.extend(preds.cpu().numpy())\n",
    "        all_labels.extend(targets.cpu().numpy())\n",
    "\n",
    "        # Backward pass and optimization\n",
    "        loss.backward()\n",
    "        nn.utils.clip_grad_norm_(model.parameters(), max_norm=1.0)\n",
    "        optimizer.step()\n",
    "        optimizer.zero_grad()\n",
    "\n",
    "        # Update progress bar\n",
    "        loop.set_postfix(batch_loss=loss.item())\n",
    "\n",
    "    # Calculate F1-score for training data\n",
    "    train_f1 = f1_score(all_labels, all_preds, average='weighted')\n",
    "\n",
    "    return model, correct_predictions / num_samples, np.mean(losses), train_f1"
   ],
   "metadata": {
    "collapsed": false,
    "ExecuteTime": {
     "end_time": "2025-01-22T11:22:03.135444Z",
     "start_time": "2025-01-22T11:22:03.117206Z"
    }
   },
   "id": "fdf002b23294d72f",
   "execution_count": 34
  },
  {
   "cell_type": "code",
   "outputs": [],
   "source": [
    "def eval_model(validation_loader, model, epoch):\n",
    "    losses = []\n",
    "    correct_predictions = 0\n",
    "    num_samples = 0\n",
    "    all_preds = []\n",
    "    all_labels = []\n",
    "\n",
    "    model.eval()\n",
    "\n",
    "    with torch.no_grad():\n",
    "        for data in validation_loader:\n",
    "            ids = data['input_ids'].to(device, dtype=torch.long)\n",
    "            mask = data['attention_mask'].to(device, dtype=torch.long)\n",
    "            token_type_ids = data['token_type_ids'].to(device, dtype=torch.long)\n",
    "            targets = data['targets'].to(device, dtype=torch.long)\n",
    "\n",
    "            # Forward pass\n",
    "            outputs = model(ids, mask)\n",
    "\n",
    "            # Calculate loss\n",
    "            loss = loss_fn(outputs, targets)\n",
    "            losses.append(loss.item())\n",
    "\n",
    "            # Calculate predictions and accuracy\n",
    "            _, preds = torch.max(outputs, dim=1)\n",
    "            correct_predictions += torch.sum(preds == targets).item()\n",
    "            num_samples += targets.size(0)\n",
    "\n",
    "            all_preds.extend(preds.cpu().numpy())\n",
    "            all_labels.extend(targets.cpu().numpy())\n",
    "\n",
    "    avg_loss = np.mean(losses)\n",
    "    val_f1 = f1_score(all_labels, all_preds, average='weighted')\n",
    "\n",
    "    # Logowanie do TensorBoard\n",
    "    writer.add_scalar('Loss/validation', avg_loss, epoch)\n",
    "    writer.add_scalar('F1-Score/validation', val_f1, epoch)\n",
    "\n",
    "    return correct_predictions / num_samples, avg_loss, val_f1"
   ],
   "metadata": {
    "collapsed": false,
    "ExecuteTime": {
     "end_time": "2025-01-22T11:22:03.160830Z",
     "start_time": "2025-01-22T11:22:03.146589Z"
    }
   },
   "id": "a99195b89cece76f",
   "execution_count": 35
  },
  {
   "cell_type": "code",
   "outputs": [],
   "source": [
    "from collections import defaultdict\n",
    "import torch\n",
    "from torch.utils.tensorboard import SummaryWriter\n",
    "from sklearn.metrics import confusion_matrix\n",
    "import matplotlib.pyplot as plt\n",
    "import seaborn as sns\n",
    "import io\n",
    "\n",
    "history = defaultdict(list)\n",
    "best_accuracy = 0\n",
    "writer = SummaryWriter(log_dir='logs')\n",
    "\n",
    "def plot_confusion_matrix(cm, class_names, epoch):\n",
    "    figure = plt.figure(figsize=(10, 8))\n",
    "    sns.heatmap(cm, annot=True, fmt='d', cmap='Blues', xticklabels=class_names, yticklabels=class_names)\n",
    "    plt.ylabel('True label')\n",
    "    plt.xlabel('Predicted label')\n",
    "    plt.title(f'Confusion Matrix at Epoch {epoch}')\n",
    "\n",
    "    buf = io.BytesIO()\n",
    "    plt.savefig(buf, format='png')\n",
    "    buf.seek(0)\n",
    "    image = torch.tensor(np.frombuffer(buf.getvalue(), dtype=np.uint8)).float()\n",
    "    writer.add_image('Confusion Matrix', image, epoch)\n",
    "\n",
    "    plt.close(figure)  "
   ],
   "metadata": {
    "collapsed": false,
    "ExecuteTime": {
     "end_time": "2025-01-22T11:22:03.184101Z",
     "start_time": "2025-01-22T11:22:03.163812Z"
    }
   },
   "id": "affa34ced3abe45f",
   "execution_count": 36
  },
  {
   "cell_type": "code",
   "outputs": [
    {
     "name": "stdout",
     "output_type": "stream",
     "text": [
      "Epoch 1/8\n"
     ]
    },
    {
     "data": {
      "text/plain": "  0%|          | 0/139 [00:00<?, ?it/s]",
      "application/vnd.jupyter.widget-view+json": {
       "version_major": 2,
       "version_minor": 0,
       "model_id": "ff94889d38dc40918d9efffd5eb031ad"
      }
     },
     "metadata": {},
     "output_type": "display_data"
    },
    {
     "name": "stdout",
     "output_type": "stream",
     "text": [
      "Train loss 1.3494 | Train accuracy 0.3339 | Train F1 0.3291\n",
      "Val loss 1.3065 | Val accuracy 0.3193 | Val F1 0.2639\n",
      "Saved new best model.\n",
      "Epoch 2/8\n"
     ]
    },
    {
     "data": {
      "text/plain": "  0%|          | 0/139 [00:00<?, ?it/s]",
      "application/vnd.jupyter.widget-view+json": {
       "version_major": 2,
       "version_minor": 0,
       "model_id": "09e2b971512746de8d89c0e48a283d60"
      }
     },
     "metadata": {},
     "output_type": "display_data"
    },
    {
     "name": "stdout",
     "output_type": "stream",
     "text": [
      "Train loss 0.9893 | Train accuracy 0.5677 | Train F1 0.5597\n",
      "Val loss 1.2301 | Val accuracy 0.4958 | Val F1 0.4742\n",
      "Saved new best model.\n",
      "Epoch 3/8\n"
     ]
    },
    {
     "data": {
      "text/plain": "  0%|          | 0/139 [00:00<?, ?it/s]",
      "application/vnd.jupyter.widget-view+json": {
       "version_major": 2,
       "version_minor": 0,
       "model_id": "588bb705378a495e8e67dbc34328f430"
      }
     },
     "metadata": {},
     "output_type": "display_data"
    },
    {
     "name": "stdout",
     "output_type": "stream",
     "text": [
      "Train loss 0.5749 | Train accuracy 0.7870 | Train F1 0.7865\n",
      "Val loss 1.3236 | Val accuracy 0.5630 | Val F1 0.5586\n",
      "Saved new best model.\n",
      "Epoch 4/8\n"
     ]
    },
    {
     "data": {
      "text/plain": "  0%|          | 0/139 [00:00<?, ?it/s]",
      "application/vnd.jupyter.widget-view+json": {
       "version_major": 2,
       "version_minor": 0,
       "model_id": "2fc577459b644170a66bf530914d6720"
      }
     },
     "metadata": {},
     "output_type": "display_data"
    },
    {
     "name": "stdout",
     "output_type": "stream",
     "text": [
      "Train loss 0.2988 | Train accuracy 0.8989 | Train F1 0.8985\n",
      "Val loss 1.8443 | Val accuracy 0.5252 | Val F1 0.5197\n",
      "Epoch 5/8\n"
     ]
    },
    {
     "data": {
      "text/plain": "  0%|          | 0/139 [00:00<?, ?it/s]",
      "application/vnd.jupyter.widget-view+json": {
       "version_major": 2,
       "version_minor": 0,
       "model_id": "277ed79bbf20436b82a295f9a1315214"
      }
     },
     "metadata": {},
     "output_type": "display_data"
    },
    {
     "name": "stdout",
     "output_type": "stream",
     "text": [
      "Train loss 0.1339 | Train accuracy 0.9621 | Train F1 0.9622\n",
      "Val loss 2.3016 | Val accuracy 0.5714 | Val F1 0.5736\n",
      "Saved new best model.\n",
      "Epoch 6/8\n"
     ]
    },
    {
     "data": {
      "text/plain": "  0%|          | 0/139 [00:00<?, ?it/s]",
      "application/vnd.jupyter.widget-view+json": {
       "version_major": 2,
       "version_minor": 0,
       "model_id": "bf180bca1f3a49518cd930d53bbf7def"
      }
     },
     "metadata": {},
     "output_type": "display_data"
    },
    {
     "name": "stdout",
     "output_type": "stream",
     "text": [
      "Train loss 0.0289 | Train accuracy 0.9901 | Train F1 0.9901\n",
      "Val loss 2.8688 | Val accuracy 0.5378 | Val F1 0.5502\n",
      "Epoch 7/8\n"
     ]
    },
    {
     "data": {
      "text/plain": "  0%|          | 0/139 [00:00<?, ?it/s]",
      "application/vnd.jupyter.widget-view+json": {
       "version_major": 2,
       "version_minor": 0,
       "model_id": "c451812064e14df2a03087d8ea5b8573"
      }
     },
     "metadata": {},
     "output_type": "display_data"
    },
    {
     "name": "stdout",
     "output_type": "stream",
     "text": [
      "Train loss 0.0038 | Train accuracy 0.9982 | Train F1 0.9982\n",
      "Val loss 2.8072 | Val accuracy 0.5546 | Val F1 0.5511\n",
      "Epoch 8/8\n"
     ]
    },
    {
     "data": {
      "text/plain": "  0%|          | 0/139 [00:00<?, ?it/s]",
      "application/vnd.jupyter.widget-view+json": {
       "version_major": 2,
       "version_minor": 0,
       "model_id": "e8f938b0b8a54c5dae4ae381ddf102c0"
      }
     },
     "metadata": {},
     "output_type": "display_data"
    },
    {
     "name": "stdout",
     "output_type": "stream",
     "text": [
      "Train loss 0.0016 | Train accuracy 0.9991 | Train F1 0.9991\n",
      "Val loss 2.9227 | Val accuracy 0.5798 | Val F1 0.5851\n",
      "Saved new best model.\n"
     ]
    }
   ],
   "source": [
    "# Główna pętla treningowa\n",
    "# %%time\n",
    "history = defaultdict(list)\n",
    "best_f1 = 0\n",
    "\n",
    "for epoch in range(1, EPOCHS + 1):\n",
    "    print(f'Epoch {epoch}/{EPOCHS}')\n",
    "\n",
    "    model, train_acc, train_loss, train_f1 = train_model(train_data_loader, model, optimizer)\n",
    "    print(f'Train loss {train_loss:.4f} | Train accuracy {train_acc:.4f} | Train F1 {train_f1:.4f}')\n",
    "\n",
    "    val_acc, val_loss, val_f1 = eval_model(val_data_loader, model, epoch)\n",
    "    print(f'Val loss {val_loss:.4f} | Val accuracy {val_acc:.4f} | Val F1 {val_f1:.4f}')\n",
    "\n",
    "    # Logowanie metryk do TensorBoard\n",
    "    writer.add_scalar('Loss/train', train_loss, epoch)\n",
    "    writer.add_scalar('Accuracy/train', train_acc, epoch)\n",
    "    writer.add_scalar('F1-Score/train', train_f1, epoch)\n",
    "\n",
    "    history['train_acc'].append(train_acc)\n",
    "    history['train_loss'].append(train_loss)\n",
    "    history['train_f1'].append(train_f1)\n",
    "    history['val_acc'].append(val_acc)\n",
    "    history['val_loss'].append(val_loss)\n",
    "    history['val_f1'].append(val_f1)\n",
    "\n",
    "    # Sprawdzenie najlepszej F1 i zapisanie modelu\n",
    "    if val_f1 > best_f1:\n",
    "        torch.save(model.state_dict(), \"best_model_state.bin\")\n",
    "        best_f1 = val_f1\n",
    "        print(\"Saved new best model.\")\n",
    "\n",
    "    scheduler.step(val_loss)  # Tuning LR\n",
    "\n",
    "writer.close()"
   ],
   "metadata": {
    "collapsed": false,
    "ExecuteTime": {
     "end_time": "2025-01-22T11:57:34.031405Z",
     "start_time": "2025-01-22T11:22:03.187849Z"
    }
   },
   "id": "aa4135f847993eba",
   "execution_count": 37
  },
  {
   "cell_type": "code",
   "outputs": [],
   "source": [
    "#Validation"
   ],
   "metadata": {
    "collapsed": false,
    "ExecuteTime": {
     "end_time": "2025-01-22T11:57:34.037606Z",
     "start_time": "2025-01-22T11:57:34.033330Z"
    }
   },
   "id": "ded96e575901612d",
   "execution_count": 38
  },
  {
   "cell_type": "code",
   "outputs": [
    {
     "data": {
      "text/plain": "  label                                         Utterances\n0     5  [Hello, I am having a lot of anxiety about qui...\n1     5  [hello im looking for someone to talk to, im f...\n2     4  [Hello, I'm concerned about my job. I have bee...\n3     4  [I am dong good. You?, I have been staying hom...\n4     5  [Infinitely complicated., Too many decisions. ...",
      "text/html": "<div>\n<style scoped>\n    .dataframe tbody tr th:only-of-type {\n        vertical-align: middle;\n    }\n\n    .dataframe tbody tr th {\n        vertical-align: top;\n    }\n\n    .dataframe thead th {\n        text-align: right;\n    }\n</style>\n<table border=\"1\" class=\"dataframe\">\n  <thead>\n    <tr style=\"text-align: right;\">\n      <th></th>\n      <th>label</th>\n      <th>Utterances</th>\n    </tr>\n  </thead>\n  <tbody>\n    <tr>\n      <th>0</th>\n      <td>5</td>\n      <td>[Hello, I am having a lot of anxiety about qui...</td>\n    </tr>\n    <tr>\n      <th>1</th>\n      <td>5</td>\n      <td>[hello im looking for someone to talk to, im f...</td>\n    </tr>\n    <tr>\n      <th>2</th>\n      <td>4</td>\n      <td>[Hello, I'm concerned about my job. I have bee...</td>\n    </tr>\n    <tr>\n      <th>3</th>\n      <td>4</td>\n      <td>[I am dong good. You?, I have been staying hom...</td>\n    </tr>\n    <tr>\n      <th>4</th>\n      <td>5</td>\n      <td>[Infinitely complicated., Too many decisions. ...</td>\n    </tr>\n  </tbody>\n</table>\n</div>"
     },
     "execution_count": 39,
     "metadata": {},
     "output_type": "execute_result"
    }
   ],
   "source": [
    "import json\n",
    "def load_data(file_path):\n",
    "    with open(file_path, \"r\", encoding='utf-8') as file:\n",
    "        data = json.load(file)\n",
    "    return data\n",
    "\n",
    "def extract_seeker_data(data, key):\n",
    "    result = []\n",
    "\n",
    "    for entry in data:\n",
    "        dialog = entry['dialog']\n",
    "        seeker_dialog = [item['content'].strip() for item in dialog if item['speaker'] == 'seeker']\n",
    "\n",
    "        quarter_length = max(1, len(seeker_dialog) // 4)\n",
    "\n",
    "        if key == 'initial_emotion_intensity':\n",
    "            selected_dialog = seeker_dialog[:quarter_length]\n",
    "        elif key == 'final_emotion_intensity':\n",
    "            selected_dialog = seeker_dialog[-quarter_length:]\n",
    "        else:\n",
    "            continue\n",
    "\n",
    "        result.append({\n",
    "            key: entry['survey_score']['seeker'][key],\n",
    "            'dialog': selected_dialog\n",
    "        })\n",
    "\n",
    "    return result\n",
    "\n",
    "dataset = load_data('C:/Users/juwieczo/DataspellProjects/meisd_project/pipeline/ESConv.json')\n",
    "\n",
    "first_25_percent = extract_seeker_data(dataset, 'initial_emotion_intensity')\n",
    "first_25_df = pd.DataFrame(first_25_percent)\n",
    "first_25_df.columns = ['label', 'Utterances']\n",
    "first_25_df.head()"
   ],
   "metadata": {
    "collapsed": false,
    "ExecuteTime": {
     "end_time": "2025-01-22T11:57:34.243057Z",
     "start_time": "2025-01-22T11:57:34.039369Z"
    }
   },
   "id": "fbff4476fd78e076",
   "execution_count": 39
  },
  {
   "cell_type": "code",
   "outputs": [],
   "source": [
    "label_counts = first_25_df['label'].value_counts()\n",
    "least_common_label = label_counts.idxmin()\n",
    "first_25_df = first_25_df[first_25_df['label'] != least_common_label]\n",
    "first_25_df['label'] = pd.to_numeric(first_25_df['label'], errors='coerce')\n",
    "first_25_df['label'] = first_25_df['label'] - 2"
   ],
   "metadata": {
    "collapsed": false,
    "ExecuteTime": {
     "end_time": "2025-01-22T11:57:34.255031Z",
     "start_time": "2025-01-22T11:57:34.245206Z"
    }
   },
   "id": "ddfdc4f3763c960e",
   "execution_count": 40
  },
  {
   "cell_type": "code",
   "outputs": [],
   "source": [
    "# distilbert_model = DistilBertModel.from_pretrained(PRE_TRAINED_MODEL_NAME)\n",
    "# model = DistilBERT_IntensityClass(distilbert_model)\n",
    "# model.load_state_dict(torch.load(\"best_model_state.bin\"))\n",
    "# model.to(device)\n",
    "# model.eval()\n",
    "\n",
    "tokenizer = DistilBertTokenizer.from_pretrained(PRE_TRAINED_MODEL_NAME)\n",
    "valid_dataset = CustomDataset(first_25_df, tokenizer, MAX_LEN)\n",
    "val_data_loader = torch.utils.data.DataLoader(valid_dataset, batch_size=BATCH, shuffle=False, num_workers=0)"
   ],
   "metadata": {
    "collapsed": false,
    "ExecuteTime": {
     "end_time": "2025-01-22T11:57:34.674875Z",
     "start_time": "2025-01-22T11:57:34.256702Z"
    }
   },
   "id": "c1f9e082990d8051",
   "execution_count": 41
  },
  {
   "cell_type": "code",
   "outputs": [
    {
     "name": "stdout",
     "output_type": "stream",
     "text": [
      "              precision    recall  f1-score   support\n",
      "\n",
      "           0       0.00      0.00      0.00        37\n",
      "           1       0.20      0.27      0.23       267\n",
      "           2       0.42      0.61      0.50       567\n",
      "           3       0.27      0.07      0.11       427\n",
      "\n",
      "    accuracy                           0.35      1298\n",
      "   macro avg       0.22      0.24      0.21      1298\n",
      "weighted avg       0.31      0.35      0.30      1298\n"
     ]
    }
   ],
   "source": [
    "def validate_model(data_loader, model):\n",
    "    model.eval()\n",
    "    predictions = []\n",
    "    true_labels = []\n",
    "\n",
    "    with torch.no_grad():\n",
    "        for batch in data_loader:\n",
    "            input_ids = batch['input_ids'].to(device)\n",
    "            attention_mask = batch['attention_mask'].to(device)\n",
    "            labels = batch['targets'].to(device)\n",
    "\n",
    "            outputs = model(input_ids=input_ids, attn_mask=attention_mask)\n",
    "            _, preds = torch.max(outputs, dim=1)\n",
    "\n",
    "            predictions.extend(preds.cpu().numpy())\n",
    "            true_labels.extend(labels.cpu().numpy())\n",
    "\n",
    "    return predictions, true_labels\n",
    "\n",
    "# Run validation\n",
    "predictions, true_labels = validate_model(val_data_loader, model)\n",
    "\n",
    "# Calculate metrics\n",
    "from sklearn.metrics import classification_report\n",
    "print(classification_report(true_labels, predictions))"
   ],
   "metadata": {
    "collapsed": false,
    "ExecuteTime": {
     "end_time": "2025-01-22T11:58:53.148314Z",
     "start_time": "2025-01-22T11:57:34.676936Z"
    }
   },
   "id": "b2a8a6c4f7f53f24",
   "execution_count": 42
  },
  {
   "cell_type": "code",
   "outputs": [],
   "source": [],
   "metadata": {
    "collapsed": false,
    "ExecuteTime": {
     "end_time": "2025-01-22T11:58:53.154772Z",
     "start_time": "2025-01-22T11:58:53.151433Z"
    }
   },
   "id": "d047f3885c35a869",
   "execution_count": 42
  }
 ],
 "metadata": {
  "kernelspec": {
   "display_name": "Python 3",
   "language": "python",
   "name": "python3"
  },
  "language_info": {
   "codemirror_mode": {
    "name": "ipython",
    "version": 2
   },
   "file_extension": ".py",
   "mimetype": "text/x-python",
   "name": "python",
   "nbconvert_exporter": "python",
   "pygments_lexer": "ipython2",
   "version": "2.7.6"
  }
 },
 "nbformat": 4,
 "nbformat_minor": 5
}
