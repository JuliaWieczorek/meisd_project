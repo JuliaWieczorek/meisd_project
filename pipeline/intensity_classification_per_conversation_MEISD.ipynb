{
 "cells": [
  {
   "cell_type": "code",
   "outputs": [],
   "source": [
    "import pandas as pd\n",
    "import numpy as np\n",
    "import tqdm.notebook as tq\n",
    "from collections import defaultdict\n",
    "\n",
    "import torch\n",
    "import torch.nn as nn\n",
    "from transformers import BertTokenizer, BertModel\n",
    "\n",
    "from sklearn.metrics import f1_score\n",
    "device = torch.device('cuda') if torch.cuda.is_available() else torch.device('cpu')"
   ],
   "metadata": {
    "collapsed": false,
    "ExecuteTime": {
     "end_time": "2024-12-22T10:54:28.692164Z",
     "start_time": "2024-12-22T10:54:23.619121Z"
    }
   },
   "id": "61c6d47e5a26b8d7",
   "execution_count": 1
  },
  {
   "cell_type": "code",
   "outputs": [],
   "source": [
    "NUM_CLASSES = 4\n",
    "MAX_LEN = 100\n",
    "BATCH = 16\n",
    "PRE_TRAINED_MODEL_NAME = \"distilbert-base-uncased\" #'bert-base-cased'\n",
    "EPOCHS = 50\n",
    "LEARNING_RATE = 0.001\n",
    "THRESHOLD = 0.2\n",
    "DROPOUT_RATE = 0.5\n",
    "WEIGHT_DECAY = 0.0001\n",
    "MODE = 'min'\n",
    "PATIENCE = 2\n",
    "FACTOR = 0.5\n",
    "VERBOSE = True"
   ],
   "metadata": {
    "collapsed": false,
    "ExecuteTime": {
     "end_time": "2024-12-22T10:54:28.698693Z",
     "start_time": "2024-12-22T10:54:28.694171Z"
    }
   },
   "id": "88a75ce76d5afc9c",
   "execution_count": 2
  },
  {
   "cell_type": "code",
   "outputs": [
    {
     "name": "stdout",
     "output_type": "stream",
     "text": [
      "Liczba braków w kolumnie 'intensity': 0\n",
      "Unikalne wartości w kolumnie 'intensity': [0 1 2 3]\n"
     ]
    }
   ],
   "source": [
    "df = pd.read_csv('D:/julixus/MEISD/meisd_project/data/MEISD_text.csv')\n",
    "# Zamień wartości na liczby całkowite\n",
    "df['intensity'] = pd.to_numeric(df['intensity'], errors='coerce').fillna(0)\n",
    "df['intensity2'] = pd.to_numeric(df['intensity2'], errors='coerce').fillna(0)\n",
    "df['intensity3'] = pd.to_numeric(df['intensity3'], errors='coerce').fillna(0)\n",
    "\n",
    "# Zamień wartości zawierające tylko białe znaki lub '`', 'neu', 'po' na NaN\n",
    "df['intensity'] = df['intensity'].replace(r'^\\s*$', np.nan, regex=True)\n",
    "df['intensity'] = df['intensity'].replace(['`', 'neu', 'po'], np.nan)\n",
    "df['intensity2'] = df['intensity2'].replace(r'^\\s*$', np.nan, regex=True)\n",
    "df['intensity2'] = df['intensity2'].replace(['`', 'neu', 'po'], np.nan)\n",
    "df['intensity3'] = df['intensity3'].replace(r'^\\s*$', np.nan, regex=True)\n",
    "df['intensity3'] = df['intensity3'].replace(['`', 'neu', 'po'], np.nan)\n",
    "\n",
    "# Użyj forward fill, aby uzupełnić brakujące wartości poprzedzającą wartością\n",
    "df['intensity'] = df['intensity'].ffill()\n",
    "df['intensity2'] = df['intensity2'].ffill()\n",
    "df['intensity3'] = df['intensity3'].ffill()\n",
    "\n",
    "# Usuń znaki niebędące cyframi (np. '`') za pomocą wyrażeń regularnych\n",
    "df['intensity'] = df['intensity'].replace(r'\\D', '', regex=True).astype(int)  # Usuwa wszystko, co nie jest cyfrą\n",
    "df['intensity2'] = df['intensity2'].replace(r'\\D', '', regex=True).astype(int)\n",
    "df['intensity3'] = df['intensity3'].replace(r'\\D', '', regex=True).astype(int)\n",
    "\n",
    "missing_count = df['intensity'].isna().sum()\n",
    "print(f\"Liczba braków w kolumnie 'intensity': {missing_count}\")\n",
    "unique_values = df['intensity'].unique()\n",
    "print(f\"Unikalne wartości w kolumnie 'intensity': {unique_values}\")"
   ],
   "metadata": {
    "collapsed": false,
    "ExecuteTime": {
     "end_time": "2024-12-22T10:54:28.762670Z",
     "start_time": "2024-12-22T10:54:28.699699Z"
    }
   },
   "id": "c32f6bc864fddd97",
   "execution_count": 3
  },
  {
   "cell_type": "code",
   "outputs": [],
   "source": [
    "columns = ['Utterances', 'dialog_ids', 'uttr_ids', 'intensity', 'intensity2', 'intensity3']\n",
    "df = df[columns].copy()"
   ],
   "metadata": {
    "collapsed": false,
    "ExecuteTime": {
     "end_time": "2024-12-22T10:54:28.768607Z",
     "start_time": "2024-12-22T10:54:28.763675Z"
    }
   },
   "id": "f489ce945c69132",
   "execution_count": 4
  },
  {
   "cell_type": "code",
   "outputs": [
    {
     "name": "stderr",
     "output_type": "stream",
     "text": [
      "C:\\Users\\Julix\\AppData\\Local\\Temp\\ipykernel_14860\\2868896721.py:29: DeprecationWarning: DataFrameGroupBy.apply operated on the grouping columns. This behavior is deprecated, and in a future version of pandas the grouping columns will be excluded from the operation. Either pass `include_groups=False` to exclude the groupings or explicitly select the grouping columns after groupby to silence this warning.\n",
      "  df.groupby('dialog_ids').apply(process_group)\n"
     ]
    }
   ],
   "source": [
    "first_25_data = []\n",
    "last_25_data = []\n",
    "\n",
    "def process_group(group):\n",
    "    num_rows = len(group)\n",
    "    quarter_size = max(1, num_rows // 4)\n",
    "\n",
    "    # First 25%\n",
    "    first_25 = group.iloc[:quarter_size]\n",
    "    primary_intensity = max(\n",
    "        group['intensity'].iloc[0],\n",
    "        group['intensity2'].iloc[0],\n",
    "        group['intensity3'].iloc[0]\n",
    "    )\n",
    "    first_25 = first_25.assign(primary_intensity=primary_intensity)\n",
    "\n",
    "    # Last 25%\n",
    "    last_25 = group.iloc[-quarter_size:]\n",
    "    final_intensity = max(\n",
    "        group['intensity'].iloc[-1],\n",
    "        group['intensity2'].iloc[-1],\n",
    "        group['intensity3'].iloc[-1]\n",
    "    )\n",
    "    last_25 = last_25.assign(final_intensity=final_intensity)\n",
    "\n",
    "    first_25_data.append(first_25)\n",
    "    last_25_data.append(last_25)\n",
    "\n",
    "df.groupby('dialog_ids').apply(process_group)\n",
    "\n",
    "first_25_df = pd.concat(first_25_data).reset_index(drop=True)\n",
    "last_25_df = pd.concat(last_25_data).reset_index(drop=True)\n",
    "\n",
    "grouped_first_25 = first_25_df.groupby('dialog_ids').agg({\n",
    "    'Utterances': ' '.join,\n",
    "    'primary_intensity': 'first'\n",
    "}).reset_index()\n",
    "\n",
    "grouped_last_25 = last_25_df.groupby('dialog_ids').agg({\n",
    "    'Utterances': ' '.join,\n",
    "    'final_intensity': 'first'\n",
    "}).reset_index()\n",
    "\n",
    "df = grouped_first_25.drop(df.columns[0], axis=1)\n",
    "\n",
    "# grouped_first_25.to_csv('first_25_percent.csv', index=False)\n",
    "# grouped_last_25.to_csv('last_25_percent.csv', index=False)"
   ],
   "metadata": {
    "collapsed": false,
    "ExecuteTime": {
     "end_time": "2024-12-22T10:54:29.791793Z",
     "start_time": "2024-12-22T10:54:28.769612Z"
    }
   },
   "id": "e56f08b5653e50db",
   "execution_count": 5
  },
  {
   "cell_type": "code",
   "outputs": [
    {
     "data": {
      "text/plain": "   dialog_ids                                         Utterances  \\\n0           1  look around you say hello to your competition ...   \n1           2  i'm george o'malley uh, we met at the mixer. y...   \n2           3  seattle is surrounded by water on three sides ...   \n3           4  yes no other reason? just a favor for an old p...   \n4           5  if he doesn't respond to these tests in the ne...   \n\n   primary_intensity  \n0                  0  \n1                  2  \n2                  1  \n3                  1  \n4                  2  ",
      "text/html": "<div>\n<style scoped>\n    .dataframe tbody tr th:only-of-type {\n        vertical-align: middle;\n    }\n\n    .dataframe tbody tr th {\n        vertical-align: top;\n    }\n\n    .dataframe thead th {\n        text-align: right;\n    }\n</style>\n<table border=\"1\" class=\"dataframe\">\n  <thead>\n    <tr style=\"text-align: right;\">\n      <th></th>\n      <th>dialog_ids</th>\n      <th>Utterances</th>\n      <th>primary_intensity</th>\n    </tr>\n  </thead>\n  <tbody>\n    <tr>\n      <th>0</th>\n      <td>1</td>\n      <td>look around you say hello to your competition ...</td>\n      <td>0</td>\n    </tr>\n    <tr>\n      <th>1</th>\n      <td>2</td>\n      <td>i'm george o'malley uh, we met at the mixer. y...</td>\n      <td>2</td>\n    </tr>\n    <tr>\n      <th>2</th>\n      <td>3</td>\n      <td>seattle is surrounded by water on three sides ...</td>\n      <td>1</td>\n    </tr>\n    <tr>\n      <th>3</th>\n      <td>4</td>\n      <td>yes no other reason? just a favor for an old p...</td>\n      <td>1</td>\n    </tr>\n    <tr>\n      <th>4</th>\n      <td>5</td>\n      <td>if he doesn't respond to these tests in the ne...</td>\n      <td>2</td>\n    </tr>\n  </tbody>\n</table>\n</div>"
     },
     "execution_count": 6,
     "metadata": {},
     "output_type": "execute_result"
    }
   ],
   "source": [
    "grouped_first_25.head()"
   ],
   "metadata": {
    "collapsed": false,
    "ExecuteTime": {
     "end_time": "2024-12-22T10:54:29.803611Z",
     "start_time": "2024-12-22T10:54:29.792799Z"
    }
   },
   "id": "f201920484f65a4",
   "execution_count": 6
  },
  {
   "cell_type": "code",
   "outputs": [],
   "source": [
    "# from transformers import BertTokenizer, BertModel\n",
    "# tokenizer = BertTokenizer.from_pretrained(PRE_TRAINED_MODEL_NAME)\n",
    "# \n",
    "# # Test the tokenizer\n",
    "# test_text = \"We are testing BERT tokenizer.\"\n",
    "# # generate encodings\n",
    "# encodings = tokenizer.encode_plus(test_text,\n",
    "#                                   add_special_tokens = True, # Add '[CLS]' and '[SEP]'\n",
    "#                                   max_length = 50,\n",
    "#                                   truncation = True,\n",
    "#                                   padding = \"max_length\",\n",
    "#                                   return_attention_mask = True,\n",
    "#                                   return_tensors = \"pt\")"
   ],
   "metadata": {
    "collapsed": false,
    "ExecuteTime": {
     "end_time": "2024-12-22T10:54:29.807198Z",
     "start_time": "2024-12-22T10:54:29.804619Z"
    }
   },
   "id": "a8049e14d2a5eb2f",
   "execution_count": 7
  },
  {
   "cell_type": "code",
   "outputs": [
    {
     "name": "stdout",
     "output_type": "stream",
     "text": [
      "Input IDs: tensor([[  101,  2057,  2024,  5604, 14324, 19204, 17629,  1012,   102,     0,\n",
      "             0,     0,     0,     0,     0,     0,     0,     0,     0,     0,\n",
      "             0,     0,     0,     0,     0,     0,     0,     0,     0,     0,\n",
      "             0,     0,     0,     0,     0,     0,     0,     0,     0,     0,\n",
      "             0,     0,     0,     0,     0,     0,     0,     0,     0,     0]])\n",
      "Attention Mask: tensor([[1, 1, 1, 1, 1, 1, 1, 1, 1, 0, 0, 0, 0, 0, 0, 0, 0, 0, 0, 0, 0, 0, 0, 0,\n",
      "         0, 0, 0, 0, 0, 0, 0, 0, 0, 0, 0, 0, 0, 0, 0, 0, 0, 0, 0, 0, 0, 0, 0, 0,\n",
      "         0, 0]])\n"
     ]
    }
   ],
   "source": [
    "from transformers import BertTokenizer, BertModel, DistilBertTokenizer\n",
    "\n",
    "# Jeśli używasz DistilBERT, musisz załadować tokenizer dla DistilBERT\n",
    "tokenizer = DistilBertTokenizer.from_pretrained(PRE_TRAINED_MODEL_NAME)\n",
    "\n",
    "test_text = \"We are testing BERT tokenizer.\"\n",
    "encodings = tokenizer.encode_plus(\n",
    "    test_text,\n",
    "    add_special_tokens=True,  # Add '[CLS]' and '[SEP]'\n",
    "    max_length=50,\n",
    "    truncation=True,\n",
    "    padding=\"max_length\",\n",
    "    return_attention_mask=True,\n",
    "    return_tensors=\"pt\"\n",
    ")\n",
    "\n",
    "print(\"Input IDs:\", encodings[\"input_ids\"])\n",
    "print(\"Attention Mask:\", encodings[\"attention_mask\"])\n"
   ],
   "metadata": {
    "collapsed": false,
    "ExecuteTime": {
     "end_time": "2024-12-22T10:54:29.893503Z",
     "start_time": "2024-12-22T10:54:29.808204Z"
    }
   },
   "id": "61380a94d9a6e7a1",
   "execution_count": 8
  },
  {
   "cell_type": "code",
   "outputs": [
    {
     "data": {
      "text/plain": "   dialog_ids                                         Utterances  \\\n0           1  you're cristina, right? - patton, monroe which...   \n1           2  i have five rules. memorize them rule number o...   \n2           3  \"i'm your sister, i'm your daughter.\" you're s...   \n3           4  just be quick about it you're the one that's s...   \n4           5  people do wake up. that's why we do a series o...   \n\n   final_intensity  \n0                2  \n1                0  \n2                0  \n3                3  \n4                1  ",
      "text/html": "<div>\n<style scoped>\n    .dataframe tbody tr th:only-of-type {\n        vertical-align: middle;\n    }\n\n    .dataframe tbody tr th {\n        vertical-align: top;\n    }\n\n    .dataframe thead th {\n        text-align: right;\n    }\n</style>\n<table border=\"1\" class=\"dataframe\">\n  <thead>\n    <tr style=\"text-align: right;\">\n      <th></th>\n      <th>dialog_ids</th>\n      <th>Utterances</th>\n      <th>final_intensity</th>\n    </tr>\n  </thead>\n  <tbody>\n    <tr>\n      <th>0</th>\n      <td>1</td>\n      <td>you're cristina, right? - patton, monroe which...</td>\n      <td>2</td>\n    </tr>\n    <tr>\n      <th>1</th>\n      <td>2</td>\n      <td>i have five rules. memorize them rule number o...</td>\n      <td>0</td>\n    </tr>\n    <tr>\n      <th>2</th>\n      <td>3</td>\n      <td>\"i'm your sister, i'm your daughter.\" you're s...</td>\n      <td>0</td>\n    </tr>\n    <tr>\n      <th>3</th>\n      <td>4</td>\n      <td>just be quick about it you're the one that's s...</td>\n      <td>3</td>\n    </tr>\n    <tr>\n      <th>4</th>\n      <td>5</td>\n      <td>people do wake up. that's why we do a series o...</td>\n      <td>1</td>\n    </tr>\n  </tbody>\n</table>\n</div>"
     },
     "execution_count": 9,
     "metadata": {},
     "output_type": "execute_result"
    }
   ],
   "source": [
    "grouped_last_25.head()"
   ],
   "metadata": {
    "collapsed": false,
    "ExecuteTime": {
     "end_time": "2024-12-22T10:54:29.900147Z",
     "start_time": "2024-12-22T10:54:29.894511Z"
    }
   },
   "id": "cbdd95a0a34cab18",
   "execution_count": 9
  },
  {
   "cell_type": "code",
   "outputs": [],
   "source": [
    "token_lens = []\n",
    "\n",
    "for txt in grouped_first_25['Utterances']:\n",
    "    tokens = tokenizer.encode(txt, max_length=512, truncation=True)\n",
    "    token_lens.append(len(tokens))\n"
   ],
   "metadata": {
    "collapsed": false,
    "ExecuteTime": {
     "end_time": "2024-12-22T10:54:30.448118Z",
     "start_time": "2024-12-22T10:54:29.901154Z"
    }
   },
   "id": "f6e84cca3a6993fc",
   "execution_count": 10
  },
  {
   "cell_type": "code",
   "outputs": [
    {
     "name": "stderr",
     "output_type": "stream",
     "text": [
      "C:\\Users\\Julix\\AppData\\Local\\Temp\\ipykernel_14860\\1466372787.py:4: UserWarning: \n",
      "\n",
      "`distplot` is a deprecated function and will be removed in seaborn v0.14.0.\n",
      "\n",
      "Please adapt your code to use either `displot` (a figure-level function with\n",
      "similar flexibility) or `histplot` (an axes-level function for histograms).\n",
      "\n",
      "For a guide to updating your code to use the new functions, please see\n",
      "https://gist.github.com/mwaskom/de44147ed2974457ad6372750bbe5751\n",
      "\n",
      "  sns.distplot(token_lens)\n"
     ]
    },
    {
     "data": {
      "text/plain": "Text(0.5, 0, 'Token count')"
     },
     "execution_count": 11,
     "metadata": {},
     "output_type": "execute_result"
    },
    {
     "data": {
      "text/plain": "<Figure size 640x480 with 1 Axes>",
      "image/png": "[encoded data removed]"
     },
     "metadata": {},
     "output_type": "display_data"
    }
   ],
   "source": [
    "import seaborn as sns\n",
    "import matplotlib.pyplot as plt\n",
    "\n",
    "sns.distplot(token_lens)\n",
    "plt.xlim([0, 100])\n",
    "plt.xlabel('Token count')"
   ],
   "metadata": {
    "collapsed": false,
    "ExecuteTime": {
     "end_time": "2024-12-22T10:54:30.764822Z",
     "start_time": "2024-12-22T10:54:30.449128Z"
    }
   },
   "id": "749900659c725beb",
   "execution_count": 11
  },
  {
   "cell_type": "code",
   "outputs": [],
   "source": [
    "df = grouped_first_25"
   ],
   "metadata": {
    "collapsed": false,
    "ExecuteTime": {
     "end_time": "2024-12-22T10:54:30.770613Z",
     "start_time": "2024-12-22T10:54:30.767942Z"
    }
   },
   "id": "fffaa3ad682825bd",
   "execution_count": 12
  },
  {
   "cell_type": "code",
   "outputs": [],
   "source": [
    "class CustomDataset(torch.utils.data.Dataset):\n",
    "    def __init__(self, df, tokenizer, max_len):\n",
    "        self.tokenizer = tokenizer\n",
    "        self.df = df\n",
    "        self.utterances = list(df['Utterances'])\n",
    "        self.targets = self.df['primary_intensity'].astype(int).values\n",
    "        self.max_len = max_len\n",
    "\n",
    "    def __len__(self):\n",
    "        return len(self.utterances)\n",
    "\n",
    "    def __getitem__(self, index):\n",
    "        utterances = str(self.utterances[index])\n",
    "\n",
    "        inputs = self.tokenizer.encode_plus(\n",
    "            utterances,\n",
    "            None,\n",
    "            add_special_tokens=True,\n",
    "            max_length=self.max_len,\n",
    "            padding='max_length',\n",
    "            return_token_type_ids=True,\n",
    "            truncation=True,\n",
    "            return_attention_mask=True,\n",
    "            return_tensors='pt'\n",
    "        )\n",
    "        target = torch.tensor(self.targets[index], dtype=torch.long)\n",
    "\n",
    "        return {\n",
    "            'input_ids': inputs['input_ids'].flatten(),\n",
    "            'attention_mask': inputs['attention_mask'].flatten(),\n",
    "            'token_type_ids': inputs[\"token_type_ids\"].flatten(),\n",
    "            'targets': torch.tensor(self.targets[index], dtype=torch.long),\n",
    "            'utterances': utterances\n",
    "        }\n"
   ],
   "metadata": {
    "collapsed": false,
    "ExecuteTime": {
     "end_time": "2024-12-22T10:54:30.776052Z",
     "start_time": "2024-12-22T10:54:30.771620Z"
    }
   },
   "id": "a7f70271994ce23d",
   "execution_count": 13
  },
  {
   "cell_type": "code",
   "outputs": [],
   "source": [
    "from sklearn.model_selection import train_test_split\n",
    "\n",
    "# split into train and test\n",
    "df_train, df_test = train_test_split(df, random_state=77, test_size=0.30, shuffle=True)\n",
    "# split test into test and validation datasets\n",
    "df_test, df_valid = train_test_split(df_test, random_state=88, test_size=0.50, shuffle=True)"
   ],
   "metadata": {
    "collapsed": false,
    "ExecuteTime": {
     "end_time": "2024-12-22T10:54:30.809508Z",
     "start_time": "2024-12-22T10:54:30.777103Z"
    }
   },
   "id": "e26dd199592b9a07",
   "execution_count": 14
  },
  {
   "cell_type": "code",
   "outputs": [
    {
     "name": "stdout",
     "output_type": "stream",
     "text": [
      "Original train size: (1124, 3)\n",
      "Validation size: (169, 3), Test size: (169, 3)\n"
     ]
    }
   ],
   "source": [
    "print(f\"Original train size: {df.shape}\")\n",
    "print(f\"Validation size: {df_valid.shape}, Test size: {df_test.shape}\")"
   ],
   "metadata": {
    "collapsed": false,
    "ExecuteTime": {
     "end_time": "2024-12-22T10:54:30.813767Z",
     "start_time": "2024-12-22T10:54:30.810513Z"
    }
   },
   "id": "bd8a98fbef943116",
   "execution_count": 15
  },
  {
   "cell_type": "code",
   "outputs": [
    {
     "name": "stdout",
     "output_type": "stream",
     "text": [
      "primary_intensity\n",
      "2    36.259542\n",
      "1    25.954198\n",
      "3    24.045802\n",
      "0    13.740458\n",
      "Name: proportion, dtype: float64\n",
      "primary_intensity\n",
      "2    285\n",
      "1    204\n",
      "3    189\n",
      "0    108\n",
      "Name: count, dtype: int64\n"
     ]
    }
   ],
   "source": [
    "label_frequencies = df_train['primary_intensity'].value_counts()\n",
    "label_frequencies_percent = df_train['primary_intensity'].value_counts(normalize=True) * 100\n",
    "print(label_frequencies_percent)\n",
    "print(label_frequencies)"
   ],
   "metadata": {
    "collapsed": false,
    "ExecuteTime": {
     "end_time": "2024-12-22T10:54:30.819196Z",
     "start_time": "2024-12-22T10:54:30.814771Z"
    }
   },
   "id": "d7987bc066a1b131",
   "execution_count": 16
  },
  {
   "cell_type": "code",
   "outputs": [
    {
     "data": {
      "text/plain": "['Utterances', 'primary_intensity']"
     },
     "execution_count": 17,
     "metadata": {},
     "output_type": "execute_result"
    }
   ],
   "source": [
    "target_list = list(df.columns)\n",
    "target_list = target_list[1:]\n",
    "target_list"
   ],
   "metadata": {
    "collapsed": false,
    "ExecuteTime": {
     "end_time": "2024-12-22T10:54:30.823559Z",
     "start_time": "2024-12-22T10:54:30.820204Z"
    }
   },
   "id": "b5d2bf8b8703971e",
   "execution_count": 17
  },
  {
   "cell_type": "code",
   "outputs": [],
   "source": [
    "# class BERT_IntensityClass(torch.nn.Module):\n",
    "#     def __init__(self, bert_model):\n",
    "#         super(BERT_IntensityClass, self).__init__()\n",
    "#         self.bert_model = BertModel.from_pretrained(PRE_TRAINED_MODEL_NAME, return_dict=True)\n",
    "#         self.dropout = torch.nn.Dropout(p=DROPOUT_RATE) #0.5\n",
    "#         self.linear = torch.nn.Linear(bert_model.config.hidden_size, NUM_CLASSES)\n",
    "#         #self.softmax = nn.Softmax(dim=1) #remove for sentiment analysis\n",
    "#         #CrossEntropyLoss automatycznie aplikuje funkcję softmax, więc nie ma potrzeby używać Softmax w modelu.\n",
    "# \n",
    "# \n",
    "#     def forward(self, input_ids, attn_mask, token_type_ids=None):\n",
    "#         output = self.bert_model(input_ids, attention_mask=attn_mask, token_type_ids=token_type_ids)\n",
    "#         #pooler_output = self.pooler_output\n",
    "#         dropout_output = self.dropout(output.pooler_output)\n",
    "#         linear_output = self.linear(dropout_output)\n",
    "#         #output = self.dropout(linear_output)\n",
    "#         # output = self.softmax(linear_output)\n",
    "#         return linear_output"
   ],
   "metadata": {
    "collapsed": false,
    "ExecuteTime": {
     "end_time": "2024-12-22T10:54:30.830185Z",
     "start_time": "2024-12-22T10:54:30.824565Z"
    }
   },
   "id": "7e66c5471d9631d7",
   "execution_count": 18
  },
  {
   "cell_type": "code",
   "outputs": [],
   "source": [
    "class DistilBERT_IntensityClass(torch.nn.Module):\n",
    "    def __init__(self, distilbert_model, dropout_rate=DROPOUT_RATE, num_classes=NUM_CLASSES):\n",
    "        super(DistilBERT_IntensityClass, self).__init__()\n",
    "        self.distilbert_model = distilbert_model\n",
    "        self.dropout = torch.nn.Dropout(p=DROPOUT_RATE)\n",
    "        self.linear = torch.nn.Linear(self.distilbert_model.config.hidden_size, num_classes)\n",
    "\n",
    "    def forward(self, input_ids, attn_mask):\n",
    "        # DistilBERT model processing\n",
    "        output = self.distilbert_model(input_ids, attention_mask=attn_mask)\n",
    "\n",
    "        # Use the last hidden state (the embedding for [CLS] token is at index 0)\n",
    "        cls_output = output.last_hidden_state[:, 0, :]  # Shape: [batch_size, hidden_size]\n",
    "        # Apply dropout\n",
    "        dropout_output = self.dropout(cls_output)\n",
    "        # Get final class logits\n",
    "        linear_output = self.linear(dropout_output)\n",
    "        return linear_output\n"
   ],
   "metadata": {
    "collapsed": false,
    "ExecuteTime": {
     "end_time": "2024-12-22T10:54:30.835911Z",
     "start_time": "2024-12-22T10:54:30.831192Z"
    }
   },
   "id": "a3d48855c6a6f9e0",
   "execution_count": 19
  },
  {
   "cell_type": "code",
   "outputs": [],
   "source": [
    "# bert_model = BertModel.from_pretrained(PRE_TRAINED_MODEL_NAME)\n",
    "# model = BERT_IntensityClass(bert_model)\n",
    "# model.to(device)\n",
    "# tokenizer = BertTokenizer.from_pretrained(PRE_TRAINED_MODEL_NAME)"
   ],
   "metadata": {
    "collapsed": false,
    "ExecuteTime": {
     "end_time": "2024-12-22T10:54:30.839385Z",
     "start_time": "2024-12-22T10:54:30.836917Z"
    }
   },
   "id": "a90aee7dd6a5312b",
   "execution_count": 20
  },
  {
   "cell_type": "code",
   "outputs": [],
   "source": [
    "from transformers import DistilBertModel\n",
    "distilbert_model = DistilBertModel.from_pretrained(PRE_TRAINED_MODEL_NAME)\n",
    "model = DistilBERT_IntensityClass(distilbert_model)\n",
    "model.to(device)\n",
    "tokenizer = DistilBertTokenizer.from_pretrained(PRE_TRAINED_MODEL_NAME)"
   ],
   "metadata": {
    "collapsed": false,
    "ExecuteTime": {
     "end_time": "2024-12-22T10:54:30.920278Z",
     "start_time": "2024-12-22T10:54:30.840391Z"
    }
   },
   "id": "4e37f0d6ce056d33",
   "execution_count": 21
  },
  {
   "cell_type": "code",
   "outputs": [],
   "source": [
    "train_dataset = CustomDataset(df_train, tokenizer, MAX_LEN)\n",
    "valid_dataset = CustomDataset(df_valid, tokenizer, MAX_LEN)\n",
    "test_dataset = CustomDataset(df_test, tokenizer, MAX_LEN)"
   ],
   "metadata": {
    "collapsed": false,
    "ExecuteTime": {
     "end_time": "2024-12-22T10:54:30.924474Z",
     "start_time": "2024-12-22T10:54:30.921284Z"
    }
   },
   "id": "1ab9f1d0ec1d16f8",
   "execution_count": 22
  },
  {
   "cell_type": "code",
   "outputs": [],
   "source": [
    "train_data_loader = torch.utils.data.DataLoader(train_dataset, batch_size=BATCH, shuffle=True, num_workers=0)\n",
    "val_data_loader = torch.utils.data.DataLoader(valid_dataset, batch_size=BATCH, shuffle=False, num_workers=0)\n",
    "test_data_loader = torch.utils.data.DataLoader(test_dataset, batch_size=BATCH, shuffle=False, num_workers=0)"
   ],
   "metadata": {
    "collapsed": false,
    "ExecuteTime": {
     "end_time": "2024-12-22T10:54:30.928739Z",
     "start_time": "2024-12-22T10:54:30.925479Z"
    }
   },
   "id": "8f6bb1de72c32ea0",
   "execution_count": 23
  },
  {
   "cell_type": "code",
   "outputs": [],
   "source": [
    "# data = next(iter(train_data_loader))\n",
    "# outputs = model(data[\"input_ids\"], attn_mask=data[\"attention_mask\"])\n",
    "# print(outputs)"
   ],
   "metadata": {
    "collapsed": false,
    "ExecuteTime": {
     "end_time": "2024-12-22T10:54:30.932152Z",
     "start_time": "2024-12-22T10:54:30.929797Z"
    }
   },
   "id": "d5ca1f227bf8d526",
   "execution_count": 24
  },
  {
   "cell_type": "code",
   "outputs": [],
   "source": [
    "data = next(iter(train_data_loader))"
   ],
   "metadata": {
    "collapsed": false,
    "ExecuteTime": {
     "end_time": "2024-12-22T10:54:30.944381Z",
     "start_time": "2024-12-22T10:54:30.933203Z"
    }
   },
   "id": "ad73480f389e4909",
   "execution_count": 25
  },
  {
   "cell_type": "code",
   "outputs": [],
   "source": [
    "# test_text = \"We are testing BERT tokenizer.\"\n",
    "# encodings = tokenizer.encode_plus(test_text,\n",
    "#                                   add_special_tokens=True,  # Add '[CLS]' and '[SEP]'\n",
    "#                                   max_length=50,\n",
    "#                                   truncation=True,\n",
    "#                                   padding=\"max_length\",\n",
    "#                                   return_attention_mask=True,\n",
    "#                                   return_tensors=\"pt\")\n"
   ],
   "metadata": {
    "collapsed": false,
    "ExecuteTime": {
     "end_time": "2024-12-22T10:54:30.948148Z",
     "start_time": "2024-12-22T10:54:30.945387Z"
    }
   },
   "id": "472bb4d14d690cb3",
   "execution_count": 26
  },
  {
   "cell_type": "code",
   "outputs": [
    {
     "name": "stdout",
     "output_type": "stream",
     "text": [
      "Input IDs: tensor([[  101,  2057,  2024,  5604, 14324, 19204, 17629,  1012,   102,     0,\n",
      "             0,     0,     0,     0,     0,     0,     0,     0,     0,     0,\n",
      "             0,     0,     0,     0,     0,     0,     0,     0,     0,     0,\n",
      "             0,     0,     0,     0,     0,     0,     0,     0,     0,     0,\n",
      "             0,     0,     0,     0,     0,     0,     0,     0,     0,     0]])\n",
      "Attention Mask: tensor([[1, 1, 1, 1, 1, 1, 1, 1, 1, 0, 0, 0, 0, 0, 0, 0, 0, 0, 0, 0, 0, 0, 0, 0,\n",
      "         0, 0, 0, 0, 0, 0, 0, 0, 0, 0, 0, 0, 0, 0, 0, 0, 0, 0, 0, 0, 0, 0, 0, 0,\n",
      "         0, 0]])\n"
     ]
    }
   ],
   "source": [
    "from transformers import BertTokenizer, BertModel, DistilBertTokenizer\n",
    "\n",
    "# Jeśli używasz DistilBERT, musisz załadować tokenizer dla DistilBERT\n",
    "\n",
    "test_text = \"We are testing BERT tokenizer.\"\n",
    "encodings = tokenizer.encode_plus(\n",
    "    test_text,\n",
    "    add_special_tokens=True,  # Add '[CLS]' and '[SEP]'\n",
    "    max_length=50,\n",
    "    truncation=True,\n",
    "    padding=\"max_length\",\n",
    "    return_attention_mask=True,\n",
    "    return_tensors=\"pt\"\n",
    ")\n",
    "\n",
    "print(\"Input IDs:\", encodings[\"input_ids\"])\n",
    "print(\"Attention Mask:\", encodings[\"attention_mask\"])\n"
   ],
   "metadata": {
    "collapsed": false,
    "ExecuteTime": {
     "end_time": "2024-12-22T10:54:30.953558Z",
     "start_time": "2024-12-22T10:54:30.949155Z"
    }
   },
   "id": "44d24164d47e1a32",
   "execution_count": 27
  },
  {
   "cell_type": "code",
   "outputs": [],
   "source": [
    "# bert_model = BertModel.from_pretrained(PRE_TRAINED_MODEL_NAME)\n",
    "# last_hidden_state, pooled_output = bert_model(\n",
    "#     input_ids=encodings['input_ids'],\n",
    "#     attention_mask=encodings['attention_mask']\n",
    "# )"
   ],
   "metadata": {
    "collapsed": false,
    "ExecuteTime": {
     "end_time": "2024-12-22T10:54:30.956623Z",
     "start_time": "2024-12-22T10:54:30.954565Z"
    }
   },
   "id": "5255f143cf8725fd",
   "execution_count": 28
  },
  {
   "cell_type": "code",
   "outputs": [],
   "source": [
    "# Pass the inputs through the DistilBERT model\n",
    "output = distilbert_model(\n",
    "    input_ids=encodings['input_ids'],\n",
    "    attention_mask=encodings['attention_mask']\n",
    ")\n",
    "\n",
    "# Extract the last hidden state\n",
    "last_hidden_state = output.last_hidden_state\n",
    "\n",
    "# Extract the representation of the [CLS] token (first token in the sequence)\n",
    "cls_output = last_hidden_state[:, 0, :]  # Shape: [batch_size, hidden_size]\n",
    "\n",
    "# Now you can use cls_output for downstream tasks (e.g., classification)\n"
   ],
   "metadata": {
    "collapsed": false,
    "ExecuteTime": {
     "end_time": "2024-12-22T10:54:31.609972Z",
     "start_time": "2024-12-22T10:54:30.957631Z"
    }
   },
   "id": "284094d3a727a604",
   "execution_count": 29
  },
  {
   "cell_type": "code",
   "outputs": [
    {
     "data": {
      "text/plain": "tensor([2.7579, 3.8529, 4.1587, 7.2778])"
     },
     "execution_count": 30,
     "metadata": {},
     "output_type": "execute_result"
    }
   ],
   "source": [
    "class_distribution = df_train['primary_intensity'].value_counts(normalize=True)\n",
    "total_samples = sum(class_distribution)\n",
    "class_weights = [total_samples / count for count in class_distribution]\n",
    "class_weights = torch.tensor(class_weights, dtype=torch.float).to(device)\n",
    "class_weights"
   ],
   "metadata": {
    "collapsed": false,
    "ExecuteTime": {
     "end_time": "2024-12-22T10:54:31.618877Z",
     "start_time": "2024-12-22T10:54:31.610983Z"
    }
   },
   "id": "83abf052a0741cf6",
   "execution_count": 30
  },
  {
   "cell_type": "code",
   "outputs": [],
   "source": [
    "def loss_fn(outputs, targets):\n",
    "    return torch.nn.CrossEntropyLoss(weight=class_weights)(outputs, targets)"
   ],
   "metadata": {
    "collapsed": false,
    "ExecuteTime": {
     "end_time": "2024-12-22T10:54:31.630698Z",
     "start_time": "2024-12-22T10:54:31.619942Z"
    }
   },
   "id": "1bf88e8032b196ae",
   "execution_count": 31
  },
  {
   "cell_type": "code",
   "outputs": [],
   "source": [
    "from torch.utils.tensorboard import SummaryWriter\n",
    "\n",
    "writer = SummaryWriter(log_dir='logs')"
   ],
   "metadata": {
    "collapsed": false,
    "ExecuteTime": {
     "end_time": "2024-12-22T10:54:31.970515Z",
     "start_time": "2024-12-22T10:54:31.631805Z"
    }
   },
   "id": "ad813080e544a445",
   "execution_count": 32
  },
  {
   "cell_type": "code",
   "outputs": [
    {
     "name": "stderr",
     "output_type": "stream",
     "text": [
      "D:\\conda\\Lib\\site-packages\\transformers\\optimization.py:591: FutureWarning: This implementation of AdamW is deprecated and will be removed in a future version. Use the PyTorch implementation torch.optim.AdamW instead, or set `no_deprecation_warning=True` to disable this warning\n",
      "  warnings.warn(\n"
     ]
    }
   ],
   "source": [
    "from transformers import AdamW, get_linear_schedule_with_warmup\n",
    "\n",
    "#EPOCHS = 10\n",
    "optimizer = AdamW(model.parameters(), lr=LEARNING_RATE, weight_decay=WEIGHT_DECAY)\n",
    "scheduler = torch.optim.lr_scheduler.ReduceLROnPlateau(optimizer, mode=MODE, patience=PATIENCE, factor=FACTOR, verbose=VERBOSE)"
   ],
   "metadata": {
    "collapsed": false,
    "ExecuteTime": {
     "end_time": "2024-12-22T10:54:32.625757Z",
     "start_time": "2024-12-22T10:54:31.971520Z"
    }
   },
   "id": "30a39e6dab7d1f20",
   "execution_count": 33
  },
  {
   "cell_type": "code",
   "outputs": [],
   "source": [
    "def train_model(training_loader, model, optimizer):\n",
    "    losses = []\n",
    "    correct_predictions = 0\n",
    "    num_samples = 0\n",
    "    all_preds = []\n",
    "    all_labels = []\n",
    "\n",
    "    model.train()\n",
    "    loop = tq.tqdm(enumerate(training_loader), total=len(training_loader), leave=True, colour='steelblue')\n",
    "\n",
    "    for batch_idx, data in loop:\n",
    "        ids = data['input_ids'].to(device, dtype=torch.long)\n",
    "        mask = data['attention_mask'].to(device, dtype=torch.long)\n",
    "        token_type_ids = data['token_type_ids'].to(device, dtype=torch.long)\n",
    "        targets = data['targets'].to(device, dtype=torch.long)\n",
    "\n",
    "\n",
    "# Forward pass\n",
    "        outputs = model(ids, mask)\n",
    "\n",
    "        # Calculate loss\n",
    "        loss = loss_fn(outputs, targets)\n",
    "        losses.append(loss.item())\n",
    "\n",
    "        # Calculate predictions and accuracy\n",
    "        _, preds = torch.max(outputs, dim=1)\n",
    "        correct_predictions += torch.sum(preds == targets).item()\n",
    "        num_samples += targets.size(0)\n",
    "\n",
    "        # Collect predictions and labels for F1-score\n",
    "        all_preds.extend(preds.cpu().numpy())\n",
    "        all_labels.extend(targets.cpu().numpy())\n",
    "\n",
    "        # Backward pass and optimization\n",
    "        loss.backward()\n",
    "        nn.utils.clip_grad_norm_(model.parameters(), max_norm=1.0)\n",
    "        optimizer.step()\n",
    "        optimizer.zero_grad()\n",
    "\n",
    "        # Update progress bar\n",
    "        loop.set_postfix(batch_loss=loss.item())\n",
    "\n",
    "    # Calculate F1-score for training data\n",
    "    train_f1 = f1_score(all_labels, all_preds, average='weighted')\n",
    "\n",
    "    return model, correct_predictions / num_samples, np.mean(losses), train_f1"
   ],
   "metadata": {
    "collapsed": false,
    "ExecuteTime": {
     "end_time": "2024-12-22T10:54:32.635098Z",
     "start_time": "2024-12-22T10:54:32.626764Z"
    }
   },
   "id": "fdf002b23294d72f",
   "execution_count": 34
  },
  {
   "cell_type": "code",
   "outputs": [],
   "source": [
    "def eval_model(validation_loader, model, epoch):\n",
    "    losses = []\n",
    "    correct_predictions = 0\n",
    "    num_samples = 0\n",
    "    all_preds = []\n",
    "    all_labels = []\n",
    "\n",
    "    model.eval()\n",
    "\n",
    "    with torch.no_grad():\n",
    "        for data in validation_loader:\n",
    "            ids = data['input_ids'].to(device, dtype=torch.long)\n",
    "            mask = data['attention_mask'].to(device, dtype=torch.long)\n",
    "            token_type_ids = data['token_type_ids'].to(device, dtype=torch.long)\n",
    "            targets = data['targets'].to(device, dtype=torch.long)\n",
    "\n",
    "            # Forward pass\n",
    "            outputs = model(ids, mask)\n",
    "\n",
    "            # Calculate loss\n",
    "            loss = loss_fn(outputs, targets)\n",
    "            losses.append(loss.item())\n",
    "\n",
    "            # Calculate predictions and accuracy\n",
    "            _, preds = torch.max(outputs, dim=1)\n",
    "            correct_predictions += torch.sum(preds == targets).item()\n",
    "            num_samples += targets.size(0)\n",
    "\n",
    "            all_preds.extend(preds.cpu().numpy())\n",
    "            all_labels.extend(targets.cpu().numpy())\n",
    "\n",
    "    avg_loss = np.mean(losses)\n",
    "    val_f1 = f1_score(all_labels, all_preds, average='weighted')\n",
    "\n",
    "    # Logowanie do TensorBoard\n",
    "    writer.add_scalar('Loss/validation', avg_loss, epoch)\n",
    "    writer.add_scalar('F1-Score/validation', val_f1, epoch)\n",
    "\n",
    "    return correct_predictions / num_samples, avg_loss, val_f1"
   ],
   "metadata": {
    "collapsed": false,
    "ExecuteTime": {
     "end_time": "2024-12-22T10:54:32.657612Z",
     "start_time": "2024-12-22T10:54:32.636106Z"
    }
   },
   "id": "a99195b89cece76f",
   "execution_count": 35
  },
  {
   "cell_type": "code",
   "outputs": [],
   "source": [
    "from collections import defaultdict\n",
    "import torch\n",
    "from torch.utils.tensorboard import SummaryWriter\n",
    "from sklearn.metrics import confusion_matrix\n",
    "import matplotlib.pyplot as plt\n",
    "import seaborn as sns\n",
    "import io\n",
    "\n",
    "history = defaultdict(list)\n",
    "best_accuracy = 0\n",
    "writer = SummaryWriter(log_dir='logs')\n",
    "\n",
    "def plot_confusion_matrix(cm, class_names, epoch):\n",
    "    figure = plt.figure(figsize=(10, 8))\n",
    "    sns.heatmap(cm, annot=True, fmt='d', cmap='Blues', xticklabels=class_names, yticklabels=class_names)\n",
    "    plt.ylabel('True label')\n",
    "    plt.xlabel('Predicted label')\n",
    "    plt.title(f'Confusion Matrix at Epoch {epoch}')\n",
    "\n",
    "    buf = io.BytesIO()\n",
    "    plt.savefig(buf, format='png')\n",
    "    buf.seek(0)\n",
    "    image = torch.tensor(np.frombuffer(buf.getvalue(), dtype=np.uint8)).float()\n",
    "    writer.add_image('Confusion Matrix', image, epoch)\n",
    "\n",
    "    plt.close(figure)  "
   ],
   "metadata": {
    "collapsed": false,
    "ExecuteTime": {
     "end_time": "2024-12-22T10:54:32.667563Z",
     "start_time": "2024-12-22T10:54:32.659620Z"
    }
   },
   "id": "affa34ced3abe45f",
   "execution_count": 36
  },
  {
   "cell_type": "code",
   "outputs": [
    {
     "name": "stdout",
     "output_type": "stream",
     "text": [
      "Epoch 1/50\n"
     ]
    },
    {
     "data": {
      "text/plain": "  0%|          | 0/50 [00:00<?, ?it/s]",
      "application/vnd.jupyter.widget-view+json": {
       "version_major": 2,
       "version_minor": 0,
       "model_id": "087a832bc6544a5e8d72f7d65a5b08d0"
      }
     },
     "metadata": {},
     "output_type": "display_data"
    },
    {
     "name": "stdout",
     "output_type": "stream",
     "text": [
      "Train loss 1.4359 | Train accuracy 0.3219 | Train F1 0.2933\n",
      "Val loss 1.2763 | Val accuracy 0.3077 | Val F1 0.1448\n",
      "Saved new best model.\n",
      "Epoch 2/50\n"
     ]
    },
    {
     "data": {
      "text/plain": "  0%|          | 0/50 [00:00<?, ?it/s]",
      "application/vnd.jupyter.widget-view+json": {
       "version_major": 2,
       "version_minor": 0,
       "model_id": "d2c94e9d54ac4cc882d823e050c4bba6"
      }
     },
     "metadata": {},
     "output_type": "display_data"
    },
    {
     "name": "stdout",
     "output_type": "stream",
     "text": [
      "Train loss 1.3141 | Train accuracy 0.2875 | Train F1 0.2433\n",
      "Val loss 1.2482 | Val accuracy 0.2781 | Val F1 0.1210\n",
      "Epoch 3/50\n"
     ]
    },
    {
     "data": {
      "text/plain": "  0%|          | 0/50 [00:00<?, ?it/s]",
      "application/vnd.jupyter.widget-view+json": {
       "version_major": 2,
       "version_minor": 0,
       "model_id": "0d082612c24a41758bd974b46f1f2d3d"
      }
     },
     "metadata": {},
     "output_type": "display_data"
    },
    {
     "name": "stdout",
     "output_type": "stream",
     "text": [
      "Train loss 1.3040 | Train accuracy 0.2964 | Train F1 0.2337\n",
      "Val loss 1.2883 | Val accuracy 0.3077 | Val F1 0.1448\n",
      "Epoch 4/50\n"
     ]
    },
    {
     "data": {
      "text/plain": "  0%|          | 0/50 [00:00<?, ?it/s]",
      "application/vnd.jupyter.widget-view+json": {
       "version_major": 2,
       "version_minor": 0,
       "model_id": "5c1ee55ce1e048f3818e0ab26292d736"
      }
     },
     "metadata": {},
     "output_type": "display_data"
    },
    {
     "name": "stdout",
     "output_type": "stream",
     "text": [
      "Train loss 1.3001 | Train accuracy 0.2557 | Train F1 0.2022\n",
      "Val loss 1.2522 | Val accuracy 0.2781 | Val F1 0.1210\n",
      "Epoch 5/50\n"
     ]
    },
    {
     "data": {
      "text/plain": "  0%|          | 0/50 [00:00<?, ?it/s]",
      "application/vnd.jupyter.widget-view+json": {
       "version_major": 2,
       "version_minor": 0,
       "model_id": "60d01fc4ce3840e8998034389e4319dd"
      }
     },
     "metadata": {},
     "output_type": "display_data"
    },
    {
     "name": "stdout",
     "output_type": "stream",
     "text": [
      "Train loss 1.2856 | Train accuracy 0.2672 | Train F1 0.1892\n",
      "Val loss 1.2573 | Val accuracy 0.2781 | Val F1 0.1210\n",
      "Epoch 6/50\n"
     ]
    },
    {
     "data": {
      "text/plain": "  0%|          | 0/50 [00:00<?, ?it/s]",
      "application/vnd.jupyter.widget-view+json": {
       "version_major": 2,
       "version_minor": 0,
       "model_id": "e9a95736622341279440860f569d2e07"
      }
     },
     "metadata": {},
     "output_type": "display_data"
    },
    {
     "name": "stdout",
     "output_type": "stream",
     "text": [
      "Train loss 1.2889 | Train accuracy 0.2672 | Train F1 0.2012\n",
      "Val loss 1.2512 | Val accuracy 0.2781 | Val F1 0.1210\n",
      "Epoch 7/50\n"
     ]
    },
    {
     "data": {
      "text/plain": "  0%|          | 0/50 [00:00<?, ?it/s]",
      "application/vnd.jupyter.widget-view+json": {
       "version_major": 2,
       "version_minor": 0,
       "model_id": "4717fb9f4740463bb25ce416523cc3a1"
      }
     },
     "metadata": {},
     "output_type": "display_data"
    },
    {
     "name": "stdout",
     "output_type": "stream",
     "text": [
      "Train loss 1.2903 | Train accuracy 0.2990 | Train F1 0.2257\n",
      "Val loss 1.2598 | Val accuracy 0.2781 | Val F1 0.1210\n",
      "Epoch 8/50\n"
     ]
    },
    {
     "data": {
      "text/plain": "  0%|          | 0/50 [00:00<?, ?it/s]",
      "application/vnd.jupyter.widget-view+json": {
       "version_major": 2,
       "version_minor": 0,
       "model_id": "0aa4925f01e844f4b0fd7ecbf5061a1a"
      }
     },
     "metadata": {},
     "output_type": "display_data"
    },
    {
     "name": "stdout",
     "output_type": "stream",
     "text": [
      "Train loss 1.2788 | Train accuracy 0.2519 | Train F1 0.1572\n",
      "Val loss 1.2680 | Val accuracy 0.3077 | Val F1 0.1448\n",
      "Epoch 9/50\n"
     ]
    },
    {
     "data": {
      "text/plain": "  0%|          | 0/50 [00:00<?, ?it/s]",
      "application/vnd.jupyter.widget-view+json": {
       "version_major": 2,
       "version_minor": 0,
       "model_id": "4b5c46a75004406bb3f261495242ae33"
      }
     },
     "metadata": {},
     "output_type": "display_data"
    },
    {
     "name": "stdout",
     "output_type": "stream",
     "text": [
      "Train loss 1.2922 | Train accuracy 0.3003 | Train F1 0.2276\n",
      "Val loss 1.2483 | Val accuracy 0.2781 | Val F1 0.1210\n",
      "Epoch 10/50\n"
     ]
    },
    {
     "data": {
      "text/plain": "  0%|          | 0/50 [00:00<?, ?it/s]",
      "application/vnd.jupyter.widget-view+json": {
       "version_major": 2,
       "version_minor": 0,
       "model_id": "7e7cd46899834da9abc8a5a8f21da167"
      }
     },
     "metadata": {},
     "output_type": "display_data"
    },
    {
     "name": "stdout",
     "output_type": "stream",
     "text": [
      "Train loss 1.2762 | Train accuracy 0.2761 | Train F1 0.1943\n",
      "Val loss 1.2480 | Val accuracy 0.2781 | Val F1 0.1210\n",
      "Epoch 11/50\n"
     ]
    },
    {
     "data": {
      "text/plain": "  0%|          | 0/50 [00:00<?, ?it/s]",
      "application/vnd.jupyter.widget-view+json": {
       "version_major": 2,
       "version_minor": 0,
       "model_id": "386a63c1b4ea4f58a4e22b188c0aeebb"
      }
     },
     "metadata": {},
     "output_type": "display_data"
    },
    {
     "name": "stdout",
     "output_type": "stream",
     "text": [
      "Train loss 1.2902 | Train accuracy 0.2786 | Train F1 0.2011\n",
      "Val loss 1.2512 | Val accuracy 0.2781 | Val F1 0.1210\n",
      "Epoch 12/50\n"
     ]
    },
    {
     "data": {
      "text/plain": "  0%|          | 0/50 [00:00<?, ?it/s]",
      "application/vnd.jupyter.widget-view+json": {
       "version_major": 2,
       "version_minor": 0,
       "model_id": "75d119045b1745f18c5eb689c0b6eccc"
      }
     },
     "metadata": {},
     "output_type": "display_data"
    },
    {
     "name": "stdout",
     "output_type": "stream",
     "text": [
      "Train loss 1.2828 | Train accuracy 0.2621 | Train F1 0.1835\n",
      "Val loss 1.2511 | Val accuracy 0.2781 | Val F1 0.1210\n",
      "Epoch 13/50\n"
     ]
    },
    {
     "data": {
      "text/plain": "  0%|          | 0/50 [00:00<?, ?it/s]",
      "application/vnd.jupyter.widget-view+json": {
       "version_major": 2,
       "version_minor": 0,
       "model_id": "67d7c2a8c5cf4bab94b765618a4c17e7"
      }
     },
     "metadata": {},
     "output_type": "display_data"
    },
    {
     "name": "stdout",
     "output_type": "stream",
     "text": [
      "Train loss 1.2771 | Train accuracy 0.2608 | Train F1 0.1909\n",
      "Val loss 1.2500 | Val accuracy 0.2781 | Val F1 0.1210\n",
      "Epoch 14/50\n"
     ]
    },
    {
     "data": {
      "text/plain": "  0%|          | 0/50 [00:00<?, ?it/s]",
      "application/vnd.jupyter.widget-view+json": {
       "version_major": 2,
       "version_minor": 0,
       "model_id": "937c76c3b336481fb539202d7932f899"
      }
     },
     "metadata": {},
     "output_type": "display_data"
    },
    {
     "name": "stdout",
     "output_type": "stream",
     "text": [
      "Train loss 1.2790 | Train accuracy 0.2608 | Train F1 0.1721\n",
      "Val loss 1.2525 | Val accuracy 0.2781 | Val F1 0.1210\n",
      "Epoch 15/50\n"
     ]
    },
    {
     "data": {
      "text/plain": "  0%|          | 0/50 [00:00<?, ?it/s]",
      "application/vnd.jupyter.widget-view+json": {
       "version_major": 2,
       "version_minor": 0,
       "model_id": "cbb42307d8f046339b874977dee209f2"
      }
     },
     "metadata": {},
     "output_type": "display_data"
    },
    {
     "name": "stdout",
     "output_type": "stream",
     "text": [
      "Train loss 1.2741 | Train accuracy 0.2964 | Train F1 0.2256\n",
      "Val loss 1.2525 | Val accuracy 0.2781 | Val F1 0.1210\n",
      "Epoch 16/50\n"
     ]
    },
    {
     "data": {
      "text/plain": "  0%|          | 0/50 [00:00<?, ?it/s]",
      "application/vnd.jupyter.widget-view+json": {
       "version_major": 2,
       "version_minor": 0,
       "model_id": "c88d5633f1a24568a5021e062b24b2f9"
      }
     },
     "metadata": {},
     "output_type": "display_data"
    },
    {
     "name": "stdout",
     "output_type": "stream",
     "text": [
      "Train loss 1.2805 | Train accuracy 0.2926 | Train F1 0.2208\n",
      "Val loss 1.2502 | Val accuracy 0.2781 | Val F1 0.1210\n",
      "Epoch 17/50\n"
     ]
    },
    {
     "data": {
      "text/plain": "  0%|          | 0/50 [00:00<?, ?it/s]",
      "application/vnd.jupyter.widget-view+json": {
       "version_major": 2,
       "version_minor": 0,
       "model_id": "92f9a814df79430da6292642aad50df3"
      }
     },
     "metadata": {},
     "output_type": "display_data"
    },
    {
     "name": "stdout",
     "output_type": "stream",
     "text": [
      "Train loss 1.2695 | Train accuracy 0.2595 | Train F1 0.1515\n",
      "Val loss 1.2483 | Val accuracy 0.2781 | Val F1 0.1210\n",
      "Epoch 18/50\n"
     ]
    },
    {
     "data": {
      "text/plain": "  0%|          | 0/50 [00:00<?, ?it/s]",
      "application/vnd.jupyter.widget-view+json": {
       "version_major": 2,
       "version_minor": 0,
       "model_id": "9c471874cbfe4df1b14c3cf9067aaad6"
      }
     },
     "metadata": {},
     "output_type": "display_data"
    },
    {
     "name": "stdout",
     "output_type": "stream",
     "text": [
      "Train loss 1.2957 | Train accuracy 0.2379 | Train F1 0.1337\n",
      "Val loss 1.2486 | Val accuracy 0.2781 | Val F1 0.1210\n",
      "Epoch 19/50\n"
     ]
    },
    {
     "data": {
      "text/plain": "  0%|          | 0/50 [00:00<?, ?it/s]",
      "application/vnd.jupyter.widget-view+json": {
       "version_major": 2,
       "version_minor": 0,
       "model_id": "18509d686d8244b6a169db117ddba3d7"
      }
     },
     "metadata": {},
     "output_type": "display_data"
    },
    {
     "name": "stdout",
     "output_type": "stream",
     "text": [
      "Train loss 1.2896 | Train accuracy 0.2468 | Train F1 0.1544\n",
      "Val loss 1.2484 | Val accuracy 0.2781 | Val F1 0.1210\n",
      "Epoch 20/50\n"
     ]
    },
    {
     "data": {
      "text/plain": "  0%|          | 0/50 [00:00<?, ?it/s]",
      "application/vnd.jupyter.widget-view+json": {
       "version_major": 2,
       "version_minor": 0,
       "model_id": "6824cf2da1174e5f92d5e613c0d466ee"
      }
     },
     "metadata": {},
     "output_type": "display_data"
    },
    {
     "name": "stdout",
     "output_type": "stream",
     "text": [
      "Train loss 1.2735 | Train accuracy 0.2532 | Train F1 0.1500\n",
      "Val loss 1.2501 | Val accuracy 0.2781 | Val F1 0.1210\n",
      "Epoch 21/50\n"
     ]
    },
    {
     "data": {
      "text/plain": "  0%|          | 0/50 [00:00<?, ?it/s]",
      "application/vnd.jupyter.widget-view+json": {
       "version_major": 2,
       "version_minor": 0,
       "model_id": "a162e0e619d84ee2829e7e39998e026e"
      }
     },
     "metadata": {},
     "output_type": "display_data"
    },
    {
     "name": "stdout",
     "output_type": "stream",
     "text": [
      "Train loss 1.2724 | Train accuracy 0.2646 | Train F1 0.1761\n",
      "Val loss 1.2507 | Val accuracy 0.2781 | Val F1 0.1210\n",
      "Epoch 22/50\n"
     ]
    },
    {
     "data": {
      "text/plain": "  0%|          | 0/50 [00:00<?, ?it/s]",
      "application/vnd.jupyter.widget-view+json": {
       "version_major": 2,
       "version_minor": 0,
       "model_id": "79660ea1f7f5492d93f78d609d1917c6"
      }
     },
     "metadata": {},
     "output_type": "display_data"
    },
    {
     "name": "stdout",
     "output_type": "stream",
     "text": [
      "Train loss 1.2740 | Train accuracy 0.2723 | Train F1 0.1919\n",
      "Val loss 1.2515 | Val accuracy 0.2781 | Val F1 0.1210\n",
      "Epoch 23/50\n"
     ]
    },
    {
     "data": {
      "text/plain": "  0%|          | 0/50 [00:00<?, ?it/s]",
      "application/vnd.jupyter.widget-view+json": {
       "version_major": 2,
       "version_minor": 0,
       "model_id": "35e3febe49724256af64abcf07a89b35"
      }
     },
     "metadata": {},
     "output_type": "display_data"
    },
    {
     "name": "stdout",
     "output_type": "stream",
     "text": [
      "Train loss 1.2761 | Train accuracy 0.2506 | Train F1 0.1710\n",
      "Val loss 1.2512 | Val accuracy 0.2781 | Val F1 0.1210\n",
      "Epoch 24/50\n"
     ]
    },
    {
     "data": {
      "text/plain": "  0%|          | 0/50 [00:00<?, ?it/s]",
      "application/vnd.jupyter.widget-view+json": {
       "version_major": 2,
       "version_minor": 0,
       "model_id": "9b36454473db467b955af854b1ddc573"
      }
     },
     "metadata": {},
     "output_type": "display_data"
    },
    {
     "name": "stdout",
     "output_type": "stream",
     "text": [
      "Train loss 1.2832 | Train accuracy 0.2748 | Train F1 0.1939\n",
      "Val loss 1.2505 | Val accuracy 0.2781 | Val F1 0.1210\n",
      "Epoch 25/50\n"
     ]
    },
    {
     "data": {
      "text/plain": "  0%|          | 0/50 [00:00<?, ?it/s]",
      "application/vnd.jupyter.widget-view+json": {
       "version_major": 2,
       "version_minor": 0,
       "model_id": "636a26808d8c49ac8312e7fed80565a8"
      }
     },
     "metadata": {},
     "output_type": "display_data"
    },
    {
     "name": "stdout",
     "output_type": "stream",
     "text": [
      "Train loss 1.2831 | Train accuracy 0.2557 | Train F1 0.1616\n",
      "Val loss 1.2500 | Val accuracy 0.2781 | Val F1 0.1210\n",
      "Epoch 26/50\n"
     ]
    },
    {
     "data": {
      "text/plain": "  0%|          | 0/50 [00:00<?, ?it/s]",
      "application/vnd.jupyter.widget-view+json": {
       "version_major": 2,
       "version_minor": 0,
       "model_id": "53d7dc68b36443c5b13882a08977c8d2"
      }
     },
     "metadata": {},
     "output_type": "display_data"
    },
    {
     "name": "stdout",
     "output_type": "stream",
     "text": [
      "Train loss 1.2739 | Train accuracy 0.2735 | Train F1 0.1811\n",
      "Val loss 1.2503 | Val accuracy 0.2781 | Val F1 0.1210\n",
      "Epoch 27/50\n"
     ]
    },
    {
     "data": {
      "text/plain": "  0%|          | 0/50 [00:00<?, ?it/s]",
      "application/vnd.jupyter.widget-view+json": {
       "version_major": 2,
       "version_minor": 0,
       "model_id": "791507aa5c2e403a8ab9ff3aa5e8c152"
      }
     },
     "metadata": {},
     "output_type": "display_data"
    },
    {
     "name": "stdout",
     "output_type": "stream",
     "text": [
      "Train loss 1.2762 | Train accuracy 0.2455 | Train F1 0.1479\n",
      "Val loss 1.2503 | Val accuracy 0.2781 | Val F1 0.1210\n",
      "Epoch 28/50\n"
     ]
    },
    {
     "data": {
      "text/plain": "  0%|          | 0/50 [00:00<?, ?it/s]",
      "application/vnd.jupyter.widget-view+json": {
       "version_major": 2,
       "version_minor": 0,
       "model_id": "3da93efd3ebd43db859e8613e2143555"
      }
     },
     "metadata": {},
     "output_type": "display_data"
    },
    {
     "name": "stdout",
     "output_type": "stream",
     "text": [
      "Train loss 1.2841 | Train accuracy 0.2570 | Train F1 0.1620\n",
      "Val loss 1.2500 | Val accuracy 0.2781 | Val F1 0.1210\n",
      "Epoch 29/50\n"
     ]
    },
    {
     "data": {
      "text/plain": "  0%|          | 0/50 [00:00<?, ?it/s]",
      "application/vnd.jupyter.widget-view+json": {
       "version_major": 2,
       "version_minor": 0,
       "model_id": "8bd09f14610849829eab79097c0c6794"
      }
     },
     "metadata": {},
     "output_type": "display_data"
    },
    {
     "name": "stdout",
     "output_type": "stream",
     "text": [
      "Train loss 1.2926 | Train accuracy 0.2723 | Train F1 0.1782\n",
      "Val loss 1.2504 | Val accuracy 0.2781 | Val F1 0.1210\n",
      "Epoch 30/50\n"
     ]
    },
    {
     "data": {
      "text/plain": "  0%|          | 0/50 [00:00<?, ?it/s]",
      "application/vnd.jupyter.widget-view+json": {
       "version_major": 2,
       "version_minor": 0,
       "model_id": "9a80b3f52f8642c6bdf1267edc1f4163"
      }
     },
     "metadata": {},
     "output_type": "display_data"
    },
    {
     "name": "stdout",
     "output_type": "stream",
     "text": [
      "Train loss 1.2834 | Train accuracy 0.2481 | Train F1 0.1562\n",
      "Val loss 1.2503 | Val accuracy 0.2781 | Val F1 0.1210\n",
      "Epoch 31/50\n"
     ]
    },
    {
     "data": {
      "text/plain": "  0%|          | 0/50 [00:00<?, ?it/s]",
      "application/vnd.jupyter.widget-view+json": {
       "version_major": 2,
       "version_minor": 0,
       "model_id": "92097d726cdf489392b867eae50bddb5"
      }
     },
     "metadata": {},
     "output_type": "display_data"
    },
    {
     "name": "stdout",
     "output_type": "stream",
     "text": [
      "Train loss 1.2741 | Train accuracy 0.2570 | Train F1 0.1680\n",
      "Val loss 1.2504 | Val accuracy 0.2781 | Val F1 0.1210\n",
      "Epoch 32/50\n"
     ]
    },
    {
     "data": {
      "text/plain": "  0%|          | 0/50 [00:00<?, ?it/s]",
      "application/vnd.jupyter.widget-view+json": {
       "version_major": 2,
       "version_minor": 0,
       "model_id": "5a1d2aa618d7459eaf2885a212ff1c1a"
      }
     },
     "metadata": {},
     "output_type": "display_data"
    },
    {
     "name": "stdout",
     "output_type": "stream",
     "text": [
      "Train loss 1.2776 | Train accuracy 0.2405 | Train F1 0.1532\n",
      "Val loss 1.2504 | Val accuracy 0.2781 | Val F1 0.1210\n",
      "Epoch 33/50\n"
     ]
    },
    {
     "data": {
      "text/plain": "  0%|          | 0/50 [00:00<?, ?it/s]",
      "application/vnd.jupyter.widget-view+json": {
       "version_major": 2,
       "version_minor": 0,
       "model_id": "61f8d48892f947da9710bcb19f6161e5"
      }
     },
     "metadata": {},
     "output_type": "display_data"
    },
    {
     "name": "stdout",
     "output_type": "stream",
     "text": [
      "Train loss 1.2691 | Train accuracy 0.2621 | Train F1 0.1582\n",
      "Val loss 1.2504 | Val accuracy 0.2781 | Val F1 0.1210\n",
      "Epoch 34/50\n"
     ]
    },
    {
     "data": {
      "text/plain": "  0%|          | 0/50 [00:00<?, ?it/s]",
      "application/vnd.jupyter.widget-view+json": {
       "version_major": 2,
       "version_minor": 0,
       "model_id": "715acbc06b364431b962db2487dafb77"
      }
     },
     "metadata": {},
     "output_type": "display_data"
    },
    {
     "name": "stdout",
     "output_type": "stream",
     "text": [
      "Train loss 1.2790 | Train accuracy 0.2545 | Train F1 0.1653\n",
      "Val loss 1.2504 | Val accuracy 0.2781 | Val F1 0.1210\n",
      "Epoch 35/50\n"
     ]
    },
    {
     "data": {
      "text/plain": "  0%|          | 0/50 [00:00<?, ?it/s]",
      "application/vnd.jupyter.widget-view+json": {
       "version_major": 2,
       "version_minor": 0,
       "model_id": "f3dc411330984249a215517246465c47"
      }
     },
     "metadata": {},
     "output_type": "display_data"
    },
    {
     "name": "stdout",
     "output_type": "stream",
     "text": [
      "Train loss 1.2803 | Train accuracy 0.2443 | Train F1 0.1551\n",
      "Val loss 1.2505 | Val accuracy 0.2781 | Val F1 0.1210\n",
      "Epoch 36/50\n"
     ]
    },
    {
     "data": {
      "text/plain": "  0%|          | 0/50 [00:00<?, ?it/s]",
      "application/vnd.jupyter.widget-view+json": {
       "version_major": 2,
       "version_minor": 0,
       "model_id": "680eca7f48fc483aa27a2d8e9d6b7574"
      }
     },
     "metadata": {},
     "output_type": "display_data"
    },
    {
     "name": "stdout",
     "output_type": "stream",
     "text": [
      "Train loss 1.2761 | Train accuracy 0.2710 | Train F1 0.1757\n",
      "Val loss 1.2504 | Val accuracy 0.2781 | Val F1 0.1210\n",
      "Epoch 37/50\n"
     ]
    },
    {
     "data": {
      "text/plain": "  0%|          | 0/50 [00:00<?, ?it/s]",
      "application/vnd.jupyter.widget-view+json": {
       "version_major": 2,
       "version_minor": 0,
       "model_id": "c21a88d9f0dd4ed8a49ef33c9a630dc1"
      }
     },
     "metadata": {},
     "output_type": "display_data"
    },
    {
     "name": "stdout",
     "output_type": "stream",
     "text": [
      "Train loss 1.2772 | Train accuracy 0.2684 | Train F1 0.1784\n",
      "Val loss 1.2504 | Val accuracy 0.2781 | Val F1 0.1210\n",
      "Epoch 38/50\n"
     ]
    },
    {
     "data": {
      "text/plain": "  0%|          | 0/50 [00:00<?, ?it/s]",
      "application/vnd.jupyter.widget-view+json": {
       "version_major": 2,
       "version_minor": 0,
       "model_id": "02dbec28050d4d6e8f48ecc9129ddfc1"
      }
     },
     "metadata": {},
     "output_type": "display_data"
    },
    {
     "name": "stdout",
     "output_type": "stream",
     "text": [
      "Train loss 1.2747 | Train accuracy 0.2913 | Train F1 0.2009\n",
      "Val loss 1.2504 | Val accuracy 0.2781 | Val F1 0.1210\n",
      "Epoch 39/50\n"
     ]
    },
    {
     "data": {
      "text/plain": "  0%|          | 0/50 [00:00<?, ?it/s]",
      "application/vnd.jupyter.widget-view+json": {
       "version_major": 2,
       "version_minor": 0,
       "model_id": "e3da48cf135341a69dbf8d7fcc4955a9"
      }
     },
     "metadata": {},
     "output_type": "display_data"
    },
    {
     "name": "stdout",
     "output_type": "stream",
     "text": [
      "Train loss 1.2890 | Train accuracy 0.2608 | Train F1 0.1783\n",
      "Val loss 1.2505 | Val accuracy 0.2781 | Val F1 0.1210\n",
      "Epoch 40/50\n"
     ]
    },
    {
     "data": {
      "text/plain": "  0%|          | 0/50 [00:00<?, ?it/s]",
      "application/vnd.jupyter.widget-view+json": {
       "version_major": 2,
       "version_minor": 0,
       "model_id": "f635665c26af49abbe6e480f03818eea"
      }
     },
     "metadata": {},
     "output_type": "display_data"
    }
   ],
   "source": [
    "# Główna pętla treningowa\n",
    "# %%time\n",
    "history = defaultdict(list)\n",
    "best_f1 = 0\n",
    "\n",
    "for epoch in range(1, EPOCHS + 1):\n",
    "    print(f'Epoch {epoch}/{EPOCHS}')\n",
    "\n",
    "    model, train_acc, train_loss, train_f1 = train_model(train_data_loader, model, optimizer)\n",
    "    print(f'Train loss {train_loss:.4f} | Train accuracy {train_acc:.4f} | Train F1 {train_f1:.4f}')\n",
    "\n",
    "    val_acc, val_loss, val_f1 = eval_model(val_data_loader, model, epoch)\n",
    "    print(f'Val loss {val_loss:.4f} | Val accuracy {val_acc:.4f} | Val F1 {val_f1:.4f}')\n",
    "\n",
    "    # Logowanie metryk do TensorBoard\n",
    "    writer.add_scalar('Loss/train', train_loss, epoch)\n",
    "    writer.add_scalar('Accuracy/train', train_acc, epoch)\n",
    "    writer.add_scalar('F1-Score/train', train_f1, epoch)\n",
    "\n",
    "    history['train_acc'].append(train_acc)\n",
    "    history['train_loss'].append(train_loss)\n",
    "    history['train_f1'].append(train_f1)\n",
    "    history['val_acc'].append(val_acc)\n",
    "    history['val_loss'].append(val_loss)\n",
    "    history['val_f1'].append(val_f1)\n",
    "\n",
    "    # Sprawdzenie najlepszej F1 i zapisanie modelu\n",
    "    if val_f1 > best_f1:\n",
    "        torch.save(model.state_dict(), \"best_model_state.bin\")\n",
    "        best_f1 = val_f1\n",
    "        print(\"Saved new best model.\")\n",
    "\n",
    "    scheduler.step(val_loss)  # Tuning LR\n",
    "\n",
    "writer.close()"
   ],
   "metadata": {
    "collapsed": false,
    "is_executing": true,
    "ExecuteTime": {
     "start_time": "2024-12-22T10:54:32.668572Z"
    }
   },
   "id": "aa4135f847993eba",
   "execution_count": null
  },
  {
   "cell_type": "code",
   "outputs": [],
   "source": [],
   "metadata": {
    "collapsed": false
   },
   "id": "33e1aa162763d9af",
   "execution_count": null
  },
  {
   "cell_type": "code",
   "outputs": [],
   "source": [],
   "metadata": {
    "collapsed": false
   },
   "id": "b8a72238f3b1baa3"
  },
  {
   "cell_type": "code",
   "outputs": [],
   "source": [],
   "metadata": {
    "collapsed": false
   },
   "id": "ac0a9ce76506c057"
  },
  {
   "cell_type": "code",
   "outputs": [],
   "source": [],
   "metadata": {
    "collapsed": false
   },
   "id": "32d751feba8be1f0"
  }
 ],
 "metadata": {
  "kernelspec": {
   "display_name": "Python 3",
   "language": "python",
   "name": "python3"
  },
  "language_info": {
   "codemirror_mode": {
    "name": "ipython",
    "version": 2
   },
   "file_extension": ".py",
   "mimetype": "text/x-python",
   "name": "python",
   "nbconvert_exporter": "python",
   "pygments_lexer": "ipython2",
   "version": "2.7.6"
  }
 },
 "nbformat": 4,
 "nbformat_minor": 5
}
