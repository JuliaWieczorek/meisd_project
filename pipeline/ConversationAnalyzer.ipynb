{
 "cells": [
  {
   "cell_type": "code",
   "outputs": [],
   "source": [
    "import numpy as np\n",
    "import sys\n",
    "from pathlib import Path\n",
    "\n",
    "# project_dir = Path(r\"D:\\julixus\\MEISD\\meisd_project\")\n",
    "# data_dir = project_dir / \"data_dir\"\n",
    "# sys.path.append(str(data_dir))\n",
    "\n",
    "from project.data_preparation import EmotionDataProcessor\n",
    "from project.conversation_analyzer import ConversationAnalyzer\n",
    "from project.data_quality_cheker import DataQualityChecker"
   ],
   "metadata": {
    "collapsed": false,
    "ExecuteTime": {
     "end_time": "2024-12-10T18:20:24.168298Z",
     "start_time": "2024-12-10T18:20:23.310614Z"
    }
   },
   "id": "918deb24d6b907f8",
   "execution_count": 1
  },
  {
   "cell_type": "code",
   "outputs": [
    {
     "name": "stdout",
     "output_type": "stream",
     "text": [
      "Warning: 4 sentiment values could not be mapped.\n",
      "Unmapped sentiment values: 4\n",
      "Missing sentiment values replaced with default (0).\n"
     ]
    },
    {
     "name": "stderr",
     "output_type": "stream",
     "text": [
      "D:\\julixus\\MEISD\\meisd_project\\project\\data_quality_cheker.py:49: FutureWarning: A value is trying to be set on a copy of a DataFrame or Series through chained assignment using an inplace method.\n",
      "The behavior will change in pandas 3.0. This inplace method will never work because the intermediate object on which we are setting values always behaves as a copy.\n",
      "\n",
      "For example, when doing 'df[col].method(value, inplace=True)', try using 'df.method({col: value}, inplace=True)' or df[col] = df[col].method(value) instead, to perform the operation inplace on the original object.\n",
      "\n",
      "\n",
      "  df[sentiment_column].fillna(0, inplace=True)\n"
     ]
    }
   ],
   "source": [
    "# Data preparation\n",
    "emotion_map = {\n",
    "    'neutral': 0, 'Neutral': 0, 'Neutral ': 0, 'neutral ': 0,\n",
    "    'acceptance': 1, 'acceptance ': 1,\n",
    "    'disgust': 2, 'Disgust': 2, ' disgust': 2, '  disgust': 2, 'digust': 2,\n",
    "    'surprise': 3, 'Surprise': 3, ' surprise': 3, 'Surprise ': 3, 'sur': 3,\n",
    "    'joy': 4, 'Joy': 4, 'like': 4,\n",
    "    'sadness': 5, 'Sadness': 5, ' sadness': 5, 'Sadness ': 5, 'sadness ': 5, 'sadnes': 5, 'asadness': 5,\n",
    "    'anger': 6, 'Anger': 6, ' anger': 6, 'ANGER': 6, 'anger1': 6, 'an': 6,\n",
    "    'fear': 8, 'Fear': 8, 'fear ': 8, 'Fear ': 8, 'faer': 8, 'Fera': 8,\n",
    "    'l': None, np.nan: None\n",
    "}\n",
    "\n",
    "sentiment_map = {\n",
    "    'neutral': 0, 'Neutral': 0, 'Neutral ': 0, 'beg': 0,\n",
    "    'negative ': -1, 'negative': -1, 'Negative ': -1, 'Negative': -1, 'neh': -1,\n",
    "    'positive': 1, 'Positive ': 1, 'positive ': 1, 'Positive': 1, 'Postive ': 1, 'Posit': 1, 'positve': 1, \n",
    "    np.nan: None\n",
    "}\n",
    "\n",
    "processor = EmotionDataProcessor(emotion_map=emotion_map, sentiment_map=sentiment_map, test_size=1.0, random_state=42)\n",
    "data = processor.load_data('D:/julixus/MEISD/meisd_project/data/MEISD_text.csv')\n",
    "df = processor.map_emotions(data)\n",
    "df = processor.fill_missing_emotions(df)\n",
    "quality_cheker = DataQualityChecker(data, df)\n",
    "quality_cheker.check_missing_emotion(df)\n",
    "df = processor.map_sentiment(df)\n",
    "quality_cheker.check_missing_sentiment(df)"
   ],
   "metadata": {
    "collapsed": false,
    "ExecuteTime": {
     "end_time": "2024-12-10T18:21:36.977025Z",
     "start_time": "2024-12-10T18:21:33.097332Z"
    }
   },
   "id": "71af0e7287969bd7",
   "execution_count": 5
  },
  {
   "cell_type": "code",
   "outputs": [],
   "source": [
    "analyzer = ConversationAnalyzer(df)\n",
    "correlation, p_value = analyzer.compute_correlation(\"target_emotion\", \"sentiment\")"
   ],
   "metadata": {
    "collapsed": false,
    "ExecuteTime": {
     "end_time": "2024-12-10T18:43:24.162482Z",
     "start_time": "2024-12-10T18:43:24.157657Z"
    }
   },
   "id": "c2b365aa6cae4268",
   "execution_count": 14
  },
  {
   "cell_type": "code",
   "outputs": [
    {
     "data": {
      "text/plain": "(-0.29807243400551975, 0.0)"
     },
     "execution_count": 17,
     "metadata": {},
     "output_type": "execute_result"
    }
   ],
   "source": [
    "correlation, p_value"
   ],
   "metadata": {
    "collapsed": false,
    "ExecuteTime": {
     "end_time": "2024-12-10T18:44:38.105779Z",
     "start_time": "2024-12-10T18:44:38.102279Z"
    }
   },
   "id": "feb1b263181d8143",
   "execution_count": 17
  },
  {
   "cell_type": "markdown",
   "source": [
    "Brak korelacji miedzy sentymentem, target_emotion a intensywnoscia"
   ],
   "metadata": {
    "collapsed": false
   },
   "id": "261b1051acee541c"
  },
  {
   "cell_type": "code",
   "outputs": [
    {
     "ename": "TypeError",
     "evalue": "DataQualityChecker.analyze() missing 1 required positional argument: 'expected_types'",
     "output_type": "error",
     "traceback": [
      "\u001B[1;31m---------------------------------------------------------------------------\u001B[0m",
      "\u001B[1;31mTypeError\u001B[0m                                 Traceback (most recent call last)",
      "Cell \u001B[1;32mIn[20], line 1\u001B[0m\n\u001B[1;32m----> 1\u001B[0m analysis \u001B[38;5;241m=\u001B[39m quality_cheker\u001B[38;5;241m.\u001B[39manalyze()\n\u001B[0;32m      2\u001B[0m quality_cheker\u001B[38;5;241m.\u001B[39mprint_analysis(analysis)\n",
      "\u001B[1;31mTypeError\u001B[0m: DataQualityChecker.analyze() missing 1 required positional argument: 'expected_types'"
     ]
    }
   ],
   "source": [
    "analysis = quality_cheker.analyze()\n",
    "quality_cheker.print_analysis(analysis)"
   ],
   "metadata": {
    "collapsed": false,
    "ExecuteTime": {
     "end_time": "2024-12-10T18:48:13.334019Z",
     "start_time": "2024-12-10T18:48:13.323375Z"
    }
   },
   "id": "1e932bc78ea8e12a",
   "execution_count": 20
  },
  {
   "cell_type": "code",
   "outputs": [
    {
     "ename": "AttributeError",
     "evalue": "'DataFrame' object has no attribute 'headers'",
     "output_type": "error",
     "traceback": [
      "\u001B[1;31m---------------------------------------------------------------------------\u001B[0m",
      "\u001B[1;31mAttributeError\u001B[0m                            Traceback (most recent call last)",
      "\u001B[1;32m~\\AppData\\Local\\Temp\\ipykernel_10752\\166649819.py\u001B[0m in \u001B[0;36m?\u001B[1;34m()\u001B[0m\n\u001B[1;32m----> 1\u001B[1;33m \u001B[0mdf\u001B[0m\u001B[1;33m.\u001B[0m\u001B[0mheaders\u001B[0m\u001B[1;33m\u001B[0m\u001B[1;33m\u001B[0m\u001B[0m\n\u001B[0m",
      "\u001B[1;32mD:\\conda\\Lib\\site-packages\\pandas\\core\\generic.py\u001B[0m in \u001B[0;36m?\u001B[1;34m(self, name)\u001B[0m\n\u001B[0;32m   6295\u001B[0m             \u001B[1;32mand\u001B[0m \u001B[0mname\u001B[0m \u001B[1;32mnot\u001B[0m \u001B[1;32min\u001B[0m \u001B[0mself\u001B[0m\u001B[1;33m.\u001B[0m\u001B[0m_accessors\u001B[0m\u001B[1;33m\u001B[0m\u001B[1;33m\u001B[0m\u001B[0m\n\u001B[0;32m   6296\u001B[0m             \u001B[1;32mand\u001B[0m \u001B[0mself\u001B[0m\u001B[1;33m.\u001B[0m\u001B[0m_info_axis\u001B[0m\u001B[1;33m.\u001B[0m\u001B[0m_can_hold_identifiers_and_holds_name\u001B[0m\u001B[1;33m(\u001B[0m\u001B[0mname\u001B[0m\u001B[1;33m)\u001B[0m\u001B[1;33m\u001B[0m\u001B[1;33m\u001B[0m\u001B[0m\n\u001B[0;32m   6297\u001B[0m         \u001B[1;33m)\u001B[0m\u001B[1;33m:\u001B[0m\u001B[1;33m\u001B[0m\u001B[1;33m\u001B[0m\u001B[0m\n\u001B[0;32m   6298\u001B[0m             \u001B[1;32mreturn\u001B[0m \u001B[0mself\u001B[0m\u001B[1;33m[\u001B[0m\u001B[0mname\u001B[0m\u001B[1;33m]\u001B[0m\u001B[1;33m\u001B[0m\u001B[1;33m\u001B[0m\u001B[0m\n\u001B[1;32m-> 6299\u001B[1;33m         \u001B[1;32mreturn\u001B[0m \u001B[0mobject\u001B[0m\u001B[1;33m.\u001B[0m\u001B[0m__getattribute__\u001B[0m\u001B[1;33m(\u001B[0m\u001B[0mself\u001B[0m\u001B[1;33m,\u001B[0m \u001B[0mname\u001B[0m\u001B[1;33m)\u001B[0m\u001B[1;33m\u001B[0m\u001B[1;33m\u001B[0m\u001B[0m\n\u001B[0m",
      "\u001B[1;31mAttributeError\u001B[0m: 'DataFrame' object has no attribute 'headers'"
     ]
    }
   ],
   "source": [],
   "metadata": {
    "collapsed": false,
    "ExecuteTime": {
     "end_time": "2024-12-10T18:49:08.538455Z",
     "start_time": "2024-12-10T18:49:08.529936Z"
    }
   },
   "id": "abda4b85c3a11d18",
   "execution_count": 23
  },
  {
   "cell_type": "code",
   "outputs": [],
   "source": [],
   "metadata": {
    "collapsed": false
   },
   "id": "e4b9d8ec713f63e9"
  }
 ],
 "metadata": {
  "kernelspec": {
   "display_name": "Python 3",
   "language": "python",
   "name": "python3"
  },
  "language_info": {
   "codemirror_mode": {
    "name": "ipython",
    "version": 2
   },
   "file_extension": ".py",
   "mimetype": "text/x-python",
   "name": "python",
   "nbconvert_exporter": "python",
   "pygments_lexer": "ipython2",
   "version": "2.7.6"
  }
 },
 "nbformat": 4,
 "nbformat_minor": 5
}
