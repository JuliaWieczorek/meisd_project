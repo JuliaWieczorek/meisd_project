{
 "cells": [
  {
   "cell_type": "code",
   "outputs": [],
   "source": [
    "import json\n",
    "import pandas as pd\n",
    "import numpy as np\n",
    "import tqdm.notebook as tq\n",
    "from collections import defaultdict\n",
    "\n",
    "import torch\n",
    "import torch.nn as nn\n",
    "from transformers import DistilBertTokenizer\n",
    "from transformers import DistilBertForSequenceClassification\n",
    "\n",
    "\n",
    "from sklearn.metrics import f1_score\n",
    "device = torch.device('cuda') if torch.cuda.is_available() else torch.device('cpu')"
   ],
   "metadata": {
    "collapsed": false,
    "ExecuteTime": {
     "end_time": "2025-01-21T20:02:08.238157Z",
     "start_time": "2025-01-21T20:02:01.484726Z"
    }
   },
   "id": "316c16d6bbc62a53",
   "execution_count": 1
  },
  {
   "cell_type": "code",
   "outputs": [],
   "source": [
    "NUM_CLASSES = 4\n",
    "MAX_LEN = 100\n",
    "BATCH = 8\n",
    "PRE_TRAINED_MODEL_NAME = \"distilbert-base-uncased\""
   ],
   "metadata": {
    "collapsed": false,
    "ExecuteTime": {
     "end_time": "2025-01-21T20:02:08.245468Z",
     "start_time": "2025-01-21T20:02:08.240140Z"
    }
   },
   "id": "7dc5513b26925148",
   "execution_count": 2
  },
  {
   "cell_type": "code",
   "outputs": [
    {
     "data": {
      "text/plain": "  initial_emotion_intensity                                             dialog\n0                         5  [Hello, I am having a lot of anxiety about qui...\n1                         5  [hello im looking for someone to talk to, im f...\n2                         4  [Hello, I'm concerned about my job. I have bee...\n3                         4  [I am dong good. You?, I have been staying hom...\n4                         5  [Infinitely complicated., Too many decisions. ...",
      "text/html": "<div>\n<style scoped>\n    .dataframe tbody tr th:only-of-type {\n        vertical-align: middle;\n    }\n\n    .dataframe tbody tr th {\n        vertical-align: top;\n    }\n\n    .dataframe thead th {\n        text-align: right;\n    }\n</style>\n<table border=\"1\" class=\"dataframe\">\n  <thead>\n    <tr style=\"text-align: right;\">\n      <th></th>\n      <th>initial_emotion_intensity</th>\n      <th>dialog</th>\n    </tr>\n  </thead>\n  <tbody>\n    <tr>\n      <th>0</th>\n      <td>5</td>\n      <td>[Hello, I am having a lot of anxiety about qui...</td>\n    </tr>\n    <tr>\n      <th>1</th>\n      <td>5</td>\n      <td>[hello im looking for someone to talk to, im f...</td>\n    </tr>\n    <tr>\n      <th>2</th>\n      <td>4</td>\n      <td>[Hello, I'm concerned about my job. I have bee...</td>\n    </tr>\n    <tr>\n      <th>3</th>\n      <td>4</td>\n      <td>[I am dong good. You?, I have been staying hom...</td>\n    </tr>\n    <tr>\n      <th>4</th>\n      <td>5</td>\n      <td>[Infinitely complicated., Too many decisions. ...</td>\n    </tr>\n  </tbody>\n</table>\n</div>"
     },
     "execution_count": 3,
     "metadata": {},
     "output_type": "execute_result"
    }
   ],
   "source": [
    "def load_data(file_path):\n",
    "    with open(file_path, \"r\", encoding='utf-8') as file:\n",
    "        data = json.load(file)\n",
    "    return data\n",
    "\n",
    "def extract_seeker_data(data, key):\n",
    "    result = []\n",
    "\n",
    "    for entry in data:\n",
    "        dialog = entry['dialog']\n",
    "        seeker_dialog = [item['content'].strip() for item in dialog if item['speaker'] == 'seeker']\n",
    "\n",
    "        quarter_length = max(1, len(seeker_dialog) // 4)\n",
    "\n",
    "        if key == 'initial_emotion_intensity':\n",
    "            selected_dialog = seeker_dialog[:quarter_length]\n",
    "        elif key == 'final_emotion_intensity':\n",
    "            selected_dialog = seeker_dialog[-quarter_length:]\n",
    "        else:\n",
    "            continue\n",
    "\n",
    "        result.append({\n",
    "            key: entry['survey_score']['seeker'][key],\n",
    "            'dialog': selected_dialog\n",
    "        })\n",
    "\n",
    "    return result\n",
    "\n",
    "dataset = load_data('C:/Users/juwieczo/DataspellProjects/meisd_project/pipeline/ESConv.json')\n",
    "\n",
    "first_25_percent = extract_seeker_data(dataset, 'initial_emotion_intensity')\n",
    "first_25_df = pd.DataFrame(first_25_percent)\n",
    "first_25_df.head()"
   ],
   "metadata": {
    "collapsed": false,
    "ExecuteTime": {
     "end_time": "2025-01-21T20:02:08.439077Z",
     "start_time": "2025-01-21T20:02:08.247596Z"
    }
   },
   "id": "c04762a3e0b61955",
   "execution_count": 3
  },
  {
   "cell_type": "code",
   "outputs": [],
   "source": [
    "label_counts = first_25_df['initial_emotion_intensity'].value_counts()\n",
    "least_common_label = label_counts.idxmin()\n",
    "first_25_df = first_25_df[first_25_df['initial_emotion_intensity'] != least_common_label]\n",
    "first_25_df['initial_emotion_intensity'] = pd.to_numeric(first_25_df['initial_emotion_intensity'], errors='coerce')\n",
    "first_25_df['initial_emotion_intensity'] = first_25_df['initial_emotion_intensity'] - 2"
   ],
   "metadata": {
    "collapsed": false,
    "ExecuteTime": {
     "end_time": "2025-01-21T20:08:28.680285Z",
     "start_time": "2025-01-21T20:08:28.667828Z"
    }
   },
   "id": "40283d88982e3820",
   "execution_count": 15
  },
  {
   "cell_type": "code",
   "outputs": [],
   "source": [
    "class CustomDataset(torch.utils.data.Dataset):\n",
    "    def __init__(self, df, tokenizer, max_len):\n",
    "        self.tokenizer = tokenizer\n",
    "        self.df = df\n",
    "        self.utterances = df['dialog']\n",
    "        self.targets = self.df['initial_emotion_intensity'].astype(int).values\n",
    "        self.max_len = max_len\n",
    "\n",
    "    def __len__(self):\n",
    "        return len(self.utterances)\n",
    "\n",
    "    def __getitem__(self, index):\n",
    "        utterances = str(self.utterances[index])\n",
    "\n",
    "        inputs = self.tokenizer.encode_plus(\n",
    "            utterances,\n",
    "            None,\n",
    "            add_special_tokens=True,\n",
    "            max_length=self.max_len,\n",
    "            padding='max_length',\n",
    "            return_token_type_ids=True,\n",
    "            truncation=True,\n",
    "            return_attention_mask=True,\n",
    "            return_tensors='pt'\n",
    "        )\n",
    "        target = torch.tensor(self.targets[index], dtype=torch.long)\n",
    "\n",
    "        return {\n",
    "            'input_ids': inputs['input_ids'].flatten(),\n",
    "            'attention_mask': inputs['attention_mask'].flatten(),\n",
    "            'token_type_ids': inputs[\"token_type_ids\"].flatten(),\n",
    "            'targets': torch.tensor(self.targets[index], dtype=torch.long),\n",
    "            'utterances': utterances\n",
    "        }"
   ],
   "metadata": {
    "collapsed": false,
    "ExecuteTime": {
     "end_time": "2025-01-21T20:08:49.003700Z",
     "start_time": "2025-01-21T20:08:48.970693Z"
    }
   },
   "id": "608f6771a10d36a3",
   "execution_count": 19
  },
  {
   "cell_type": "code",
   "outputs": [],
   "source": [
    "tokenizer = DistilBertTokenizer.from_pretrained(PRE_TRAINED_MODEL_NAME)\n",
    "valid_dataset = CustomDataset(first_25_df, tokenizer, MAX_LEN)\n",
    "val_data_loader = torch.utils.data.DataLoader(valid_dataset, batch_size=BATCH, shuffle=False, num_workers=0)"
   ],
   "metadata": {
    "collapsed": false,
    "ExecuteTime": {
     "end_time": "2025-01-21T20:08:51.270194Z",
     "start_time": "2025-01-21T20:08:50.108526Z"
    }
   },
   "id": "e3526b4d33b72f7e",
   "execution_count": 20
  },
  {
   "cell_type": "code",
   "outputs": [
    {
     "name": "stderr",
     "output_type": "stream",
     "text": [
      "Some weights of DistilBertForSequenceClassification were not initialized from the model checkpoint at distilbert-base-uncased and are newly initialized: ['classifier.bias', 'classifier.weight', 'pre_classifier.bias', 'pre_classifier.weight']\n",
      "You should probably TRAIN this model on a down-stream task to be able to use it for predictions and inference.\n",
      "C:\\Users\\juwieczo\\AppData\\Local\\Temp\\ipykernel_4656\\1677618017.py:4: FutureWarning: You are using `torch.load` with `weights_only=False` (the current default value), which uses the default pickle module implicitly. It is possible to construct malicious pickle data which will execute arbitrary code during unpickling (See https://github.com/pytorch/pytorch/blob/main/SECURITY.md#untrusted-models for more details). In a future release, the default value for `weights_only` will be flipped to `True`. This limits the functions that could be executed during unpickling. Arbitrary objects will no longer be allowed to be loaded via this mode unless they are explicitly allowlisted by the user via `torch.serialization.add_safe_globals`. We recommend you start setting `weights_only=True` for any use case where you don't have full control of the loaded file. Please open an issue on GitHub for any issues related to this experimental feature.\n",
      "  model.load_state_dict(torch.load('C:/Users/juwieczo/DataspellProjects/meisd_project/pipeline/best_model_state.bin'))\n"
     ]
    },
    {
     "ename": "RuntimeError",
     "evalue": "Error(s) in loading state_dict for DistilBertForSequenceClassification:\n\tMissing key(s) in state_dict: \"distilbert.embeddings.word_embeddings.weight\", \"distilbert.embeddings.position_embeddings.weight\", \"distilbert.embeddings.LayerNorm.weight\", \"distilbert.embeddings.LayerNorm.bias\", \"distilbert.transformer.layer.0.attention.q_lin.weight\", \"distilbert.transformer.layer.0.attention.q_lin.bias\", \"distilbert.transformer.layer.0.attention.k_lin.weight\", \"distilbert.transformer.layer.0.attention.k_lin.bias\", \"distilbert.transformer.layer.0.attention.v_lin.weight\", \"distilbert.transformer.layer.0.attention.v_lin.bias\", \"distilbert.transformer.layer.0.attention.out_lin.weight\", \"distilbert.transformer.layer.0.attention.out_lin.bias\", \"distilbert.transformer.layer.0.sa_layer_norm.weight\", \"distilbert.transformer.layer.0.sa_layer_norm.bias\", \"distilbert.transformer.layer.0.ffn.lin1.weight\", \"distilbert.transformer.layer.0.ffn.lin1.bias\", \"distilbert.transformer.layer.0.ffn.lin2.weight\", \"distilbert.transformer.layer.0.ffn.lin2.bias\", \"distilbert.transformer.layer.0.output_layer_norm.weight\", \"distilbert.transformer.layer.0.output_layer_norm.bias\", \"distilbert.transformer.layer.1.attention.q_lin.weight\", \"distilbert.transformer.layer.1.attention.q_lin.bias\", \"distilbert.transformer.layer.1.attention.k_lin.weight\", \"distilbert.transformer.layer.1.attention.k_lin.bias\", \"distilbert.transformer.layer.1.attention.v_lin.weight\", \"distilbert.transformer.layer.1.attention.v_lin.bias\", \"distilbert.transformer.layer.1.attention.out_lin.weight\", \"distilbert.transformer.layer.1.attention.out_lin.bias\", \"distilbert.transformer.layer.1.sa_layer_norm.weight\", \"distilbert.transformer.layer.1.sa_layer_norm.bias\", \"distilbert.transformer.layer.1.ffn.lin1.weight\", \"distilbert.transformer.layer.1.ffn.lin1.bias\", \"distilbert.transformer.layer.1.ffn.lin2.weight\", \"distilbert.transformer.layer.1.ffn.lin2.bias\", \"distilbert.transformer.layer.1.output_layer_norm.weight\", \"distilbert.transformer.layer.1.output_layer_norm.bias\", \"distilbert.transformer.layer.2.attention.q_lin.weight\", \"distilbert.transformer.layer.2.attention.q_lin.bias\", \"distilbert.transformer.layer.2.attention.k_lin.weight\", \"distilbert.transformer.layer.2.attention.k_lin.bias\", \"distilbert.transformer.layer.2.attention.v_lin.weight\", \"distilbert.transformer.layer.2.attention.v_lin.bias\", \"distilbert.transformer.layer.2.attention.out_lin.weight\", \"distilbert.transformer.layer.2.attention.out_lin.bias\", \"distilbert.transformer.layer.2.sa_layer_norm.weight\", \"distilbert.transformer.layer.2.sa_layer_norm.bias\", \"distilbert.transformer.layer.2.ffn.lin1.weight\", \"distilbert.transformer.layer.2.ffn.lin1.bias\", \"distilbert.transformer.layer.2.ffn.lin2.weight\", \"distilbert.transformer.layer.2.ffn.lin2.bias\", \"distilbert.transformer.layer.2.output_layer_norm.weight\", \"distilbert.transformer.layer.2.output_layer_norm.bias\", \"distilbert.transformer.layer.3.attention.q_lin.weight\", \"distilbert.transformer.layer.3.attention.q_lin.bias\", \"distilbert.transformer.layer.3.attention.k_lin.weight\", \"distilbert.transformer.layer.3.attention.k_lin.bias\", \"distilbert.transformer.layer.3.attention.v_lin.weight\", \"distilbert.transformer.layer.3.attention.v_lin.bias\", \"distilbert.transformer.layer.3.attention.out_lin.weight\", \"distilbert.transformer.layer.3.attention.out_lin.bias\", \"distilbert.transformer.layer.3.sa_layer_norm.weight\", \"distilbert.transformer.layer.3.sa_layer_norm.bias\", \"distilbert.transformer.layer.3.ffn.lin1.weight\", \"distilbert.transformer.layer.3.ffn.lin1.bias\", \"distilbert.transformer.layer.3.ffn.lin2.weight\", \"distilbert.transformer.layer.3.ffn.lin2.bias\", \"distilbert.transformer.layer.3.output_layer_norm.weight\", \"distilbert.transformer.layer.3.output_layer_norm.bias\", \"distilbert.transformer.layer.4.attention.q_lin.weight\", \"distilbert.transformer.layer.4.attention.q_lin.bias\", \"distilbert.transformer.layer.4.attention.k_lin.weight\", \"distilbert.transformer.layer.4.attention.k_lin.bias\", \"distilbert.transformer.layer.4.attention.v_lin.weight\", \"distilbert.transformer.layer.4.attention.v_lin.bias\", \"distilbert.transformer.layer.4.attention.out_lin.weight\", \"distilbert.transformer.layer.4.attention.out_lin.bias\", \"distilbert.transformer.layer.4.sa_layer_norm.weight\", \"distilbert.transformer.layer.4.sa_layer_norm.bias\", \"distilbert.transformer.layer.4.ffn.lin1.weight\", \"distilbert.transformer.layer.4.ffn.lin1.bias\", \"distilbert.transformer.layer.4.ffn.lin2.weight\", \"distilbert.transformer.layer.4.ffn.lin2.bias\", \"distilbert.transformer.layer.4.output_layer_norm.weight\", \"distilbert.transformer.layer.4.output_layer_norm.bias\", \"distilbert.transformer.layer.5.attention.q_lin.weight\", \"distilbert.transformer.layer.5.attention.q_lin.bias\", \"distilbert.transformer.layer.5.attention.k_lin.weight\", \"distilbert.transformer.layer.5.attention.k_lin.bias\", \"distilbert.transformer.layer.5.attention.v_lin.weight\", \"distilbert.transformer.layer.5.attention.v_lin.bias\", \"distilbert.transformer.layer.5.attention.out_lin.weight\", \"distilbert.transformer.layer.5.attention.out_lin.bias\", \"distilbert.transformer.layer.5.sa_layer_norm.weight\", \"distilbert.transformer.layer.5.sa_layer_norm.bias\", \"distilbert.transformer.layer.5.ffn.lin1.weight\", \"distilbert.transformer.layer.5.ffn.lin1.bias\", \"distilbert.transformer.layer.5.ffn.lin2.weight\", \"distilbert.transformer.layer.5.ffn.lin2.bias\", \"distilbert.transformer.layer.5.output_layer_norm.weight\", \"distilbert.transformer.layer.5.output_layer_norm.bias\", \"pre_classifier.weight\", \"pre_classifier.bias\", \"classifier.weight\", \"classifier.bias\". \n\tUnexpected key(s) in state_dict: \"distilbert_model.embeddings.word_embeddings.weight\", \"distilbert_model.embeddings.position_embeddings.weight\", \"distilbert_model.embeddings.LayerNorm.weight\", \"distilbert_model.embeddings.LayerNorm.bias\", \"distilbert_model.transformer.layer.0.attention.q_lin.weight\", \"distilbert_model.transformer.layer.0.attention.q_lin.bias\", \"distilbert_model.transformer.layer.0.attention.k_lin.weight\", \"distilbert_model.transformer.layer.0.attention.k_lin.bias\", \"distilbert_model.transformer.layer.0.attention.v_lin.weight\", \"distilbert_model.transformer.layer.0.attention.v_lin.bias\", \"distilbert_model.transformer.layer.0.attention.out_lin.weight\", \"distilbert_model.transformer.layer.0.attention.out_lin.bias\", \"distilbert_model.transformer.layer.0.sa_layer_norm.weight\", \"distilbert_model.transformer.layer.0.sa_layer_norm.bias\", \"distilbert_model.transformer.layer.0.ffn.lin1.weight\", \"distilbert_model.transformer.layer.0.ffn.lin1.bias\", \"distilbert_model.transformer.layer.0.ffn.lin2.weight\", \"distilbert_model.transformer.layer.0.ffn.lin2.bias\", \"distilbert_model.transformer.layer.0.output_layer_norm.weight\", \"distilbert_model.transformer.layer.0.output_layer_norm.bias\", \"distilbert_model.transformer.layer.1.attention.q_lin.weight\", \"distilbert_model.transformer.layer.1.attention.q_lin.bias\", \"distilbert_model.transformer.layer.1.attention.k_lin.weight\", \"distilbert_model.transformer.layer.1.attention.k_lin.bias\", \"distilbert_model.transformer.layer.1.attention.v_lin.weight\", \"distilbert_model.transformer.layer.1.attention.v_lin.bias\", \"distilbert_model.transformer.layer.1.attention.out_lin.weight\", \"distilbert_model.transformer.layer.1.attention.out_lin.bias\", \"distilbert_model.transformer.layer.1.sa_layer_norm.weight\", \"distilbert_model.transformer.layer.1.sa_layer_norm.bias\", \"distilbert_model.transformer.layer.1.ffn.lin1.weight\", \"distilbert_model.transformer.layer.1.ffn.lin1.bias\", \"distilbert_model.transformer.layer.1.ffn.lin2.weight\", \"distilbert_model.transformer.layer.1.ffn.lin2.bias\", \"distilbert_model.transformer.layer.1.output_layer_norm.weight\", \"distilbert_model.transformer.layer.1.output_layer_norm.bias\", \"distilbert_model.transformer.layer.2.attention.q_lin.weight\", \"distilbert_model.transformer.layer.2.attention.q_lin.bias\", \"distilbert_model.transformer.layer.2.attention.k_lin.weight\", \"distilbert_model.transformer.layer.2.attention.k_lin.bias\", \"distilbert_model.transformer.layer.2.attention.v_lin.weight\", \"distilbert_model.transformer.layer.2.attention.v_lin.bias\", \"distilbert_model.transformer.layer.2.attention.out_lin.weight\", \"distilbert_model.transformer.layer.2.attention.out_lin.bias\", \"distilbert_model.transformer.layer.2.sa_layer_norm.weight\", \"distilbert_model.transformer.layer.2.sa_layer_norm.bias\", \"distilbert_model.transformer.layer.2.ffn.lin1.weight\", \"distilbert_model.transformer.layer.2.ffn.lin1.bias\", \"distilbert_model.transformer.layer.2.ffn.lin2.weight\", \"distilbert_model.transformer.layer.2.ffn.lin2.bias\", \"distilbert_model.transformer.layer.2.output_layer_norm.weight\", \"distilbert_model.transformer.layer.2.output_layer_norm.bias\", \"distilbert_model.transformer.layer.3.attention.q_lin.weight\", \"distilbert_model.transformer.layer.3.attention.q_lin.bias\", \"distilbert_model.transformer.layer.3.attention.k_lin.weight\", \"distilbert_model.transformer.layer.3.attention.k_lin.bias\", \"distilbert_model.transformer.layer.3.attention.v_lin.weight\", \"distilbert_model.transformer.layer.3.attention.v_lin.bias\", \"distilbert_model.transformer.layer.3.attention.out_lin.weight\", \"distilbert_model.transformer.layer.3.attention.out_lin.bias\", \"distilbert_model.transformer.layer.3.sa_layer_norm.weight\", \"distilbert_model.transformer.layer.3.sa_layer_norm.bias\", \"distilbert_model.transformer.layer.3.ffn.lin1.weight\", \"distilbert_model.transformer.layer.3.ffn.lin1.bias\", \"distilbert_model.transformer.layer.3.ffn.lin2.weight\", \"distilbert_model.transformer.layer.3.ffn.lin2.bias\", \"distilbert_model.transformer.layer.3.output_layer_norm.weight\", \"distilbert_model.transformer.layer.3.output_layer_norm.bias\", \"distilbert_model.transformer.layer.4.attention.q_lin.weight\", \"distilbert_model.transformer.layer.4.attention.q_lin.bias\", \"distilbert_model.transformer.layer.4.attention.k_lin.weight\", \"distilbert_model.transformer.layer.4.attention.k_lin.bias\", \"distilbert_model.transformer.layer.4.attention.v_lin.weight\", \"distilbert_model.transformer.layer.4.attention.v_lin.bias\", \"distilbert_model.transformer.layer.4.attention.out_lin.weight\", \"distilbert_model.transformer.layer.4.attention.out_lin.bias\", \"distilbert_model.transformer.layer.4.sa_layer_norm.weight\", \"distilbert_model.transformer.layer.4.sa_layer_norm.bias\", \"distilbert_model.transformer.layer.4.ffn.lin1.weight\", \"distilbert_model.transformer.layer.4.ffn.lin1.bias\", \"distilbert_model.transformer.layer.4.ffn.lin2.weight\", \"distilbert_model.transformer.layer.4.ffn.lin2.bias\", \"distilbert_model.transformer.layer.4.output_layer_norm.weight\", \"distilbert_model.transformer.layer.4.output_layer_norm.bias\", \"distilbert_model.transformer.layer.5.attention.q_lin.weight\", \"distilbert_model.transformer.layer.5.attention.q_lin.bias\", \"distilbert_model.transformer.layer.5.attention.k_lin.weight\", \"distilbert_model.transformer.layer.5.attention.k_lin.bias\", \"distilbert_model.transformer.layer.5.attention.v_lin.weight\", \"distilbert_model.transformer.layer.5.attention.v_lin.bias\", \"distilbert_model.transformer.layer.5.attention.out_lin.weight\", \"distilbert_model.transformer.layer.5.attention.out_lin.bias\", \"distilbert_model.transformer.layer.5.sa_layer_norm.weight\", \"distilbert_model.transformer.layer.5.sa_layer_norm.bias\", \"distilbert_model.transformer.layer.5.ffn.lin1.weight\", \"distilbert_model.transformer.layer.5.ffn.lin1.bias\", \"distilbert_model.transformer.layer.5.ffn.lin2.weight\", \"distilbert_model.transformer.layer.5.ffn.lin2.bias\", \"distilbert_model.transformer.layer.5.output_layer_norm.weight\", \"distilbert_model.transformer.layer.5.output_layer_norm.bias\", \"linear.weight\", \"linear.bias\". ",
     "output_type": "error",
     "traceback": [
      "\u001B[1;31m---------------------------------------------------------------------------\u001B[0m",
      "\u001B[1;31mRuntimeError\u001B[0m                              Traceback (most recent call last)",
      "Cell \u001B[1;32mIn[26], line 4\u001B[0m\n\u001B[0;32m      1\u001B[0m model \u001B[38;5;241m=\u001B[39m DistilBertForSequenceClassification\u001B[38;5;241m.\u001B[39mfrom_pretrained(PRE_TRAINED_MODEL_NAME, num_labels\u001B[38;5;241m=\u001B[39mNUM_CLASSES)\n\u001B[0;32m      2\u001B[0m model\u001B[38;5;241m.\u001B[39mto(device)\n\u001B[1;32m----> 4\u001B[0m \u001B[43mmodel\u001B[49m\u001B[38;5;241;43m.\u001B[39;49m\u001B[43mload_state_dict\u001B[49m\u001B[43m(\u001B[49m\u001B[43mtorch\u001B[49m\u001B[38;5;241;43m.\u001B[39;49m\u001B[43mload\u001B[49m\u001B[43m(\u001B[49m\u001B[38;5;124;43m'\u001B[39;49m\u001B[38;5;124;43mC:/Users/juwieczo/DataspellProjects/meisd_project/pipeline/best_model_state.bin\u001B[39;49m\u001B[38;5;124;43m'\u001B[39;49m\u001B[43m)\u001B[49m\u001B[43m)\u001B[49m\n\u001B[0;32m      5\u001B[0m model\u001B[38;5;241m.\u001B[39meval()\n\u001B[0;32m      7\u001B[0m \u001B[38;5;28;01mdef\u001B[39;00m \u001B[38;5;21mvalidate_model\u001B[39m(model, dataloader, criterion):\n",
      "File \u001B[1;32m~\\AppData\\Local\\Programs\\Python\\Python312\\Lib\\site-packages\\torch\\nn\\modules\\module.py:2584\u001B[0m, in \u001B[0;36mModule.load_state_dict\u001B[1;34m(self, state_dict, strict, assign)\u001B[0m\n\u001B[0;32m   2576\u001B[0m         error_msgs\u001B[38;5;241m.\u001B[39minsert(\n\u001B[0;32m   2577\u001B[0m             \u001B[38;5;241m0\u001B[39m,\n\u001B[0;32m   2578\u001B[0m             \u001B[38;5;124m\"\u001B[39m\u001B[38;5;124mMissing key(s) in state_dict: \u001B[39m\u001B[38;5;132;01m{}\u001B[39;00m\u001B[38;5;124m. \u001B[39m\u001B[38;5;124m\"\u001B[39m\u001B[38;5;241m.\u001B[39mformat(\n\u001B[0;32m   2579\u001B[0m                 \u001B[38;5;124m\"\u001B[39m\u001B[38;5;124m, \u001B[39m\u001B[38;5;124m\"\u001B[39m\u001B[38;5;241m.\u001B[39mjoin(\u001B[38;5;124mf\u001B[39m\u001B[38;5;124m'\u001B[39m\u001B[38;5;124m\"\u001B[39m\u001B[38;5;132;01m{\u001B[39;00mk\u001B[38;5;132;01m}\u001B[39;00m\u001B[38;5;124m\"\u001B[39m\u001B[38;5;124m'\u001B[39m \u001B[38;5;28;01mfor\u001B[39;00m k \u001B[38;5;129;01min\u001B[39;00m missing_keys)\n\u001B[0;32m   2580\u001B[0m             ),\n\u001B[0;32m   2581\u001B[0m         )\n\u001B[0;32m   2583\u001B[0m \u001B[38;5;28;01mif\u001B[39;00m \u001B[38;5;28mlen\u001B[39m(error_msgs) \u001B[38;5;241m>\u001B[39m \u001B[38;5;241m0\u001B[39m:\n\u001B[1;32m-> 2584\u001B[0m     \u001B[38;5;28;01mraise\u001B[39;00m \u001B[38;5;167;01mRuntimeError\u001B[39;00m(\n\u001B[0;32m   2585\u001B[0m         \u001B[38;5;124m\"\u001B[39m\u001B[38;5;124mError(s) in loading state_dict for \u001B[39m\u001B[38;5;132;01m{}\u001B[39;00m\u001B[38;5;124m:\u001B[39m\u001B[38;5;130;01m\\n\u001B[39;00m\u001B[38;5;130;01m\\t\u001B[39;00m\u001B[38;5;132;01m{}\u001B[39;00m\u001B[38;5;124m\"\u001B[39m\u001B[38;5;241m.\u001B[39mformat(\n\u001B[0;32m   2586\u001B[0m             \u001B[38;5;28mself\u001B[39m\u001B[38;5;241m.\u001B[39m\u001B[38;5;18m__class__\u001B[39m\u001B[38;5;241m.\u001B[39m\u001B[38;5;18m__name__\u001B[39m, \u001B[38;5;124m\"\u001B[39m\u001B[38;5;130;01m\\n\u001B[39;00m\u001B[38;5;130;01m\\t\u001B[39;00m\u001B[38;5;124m\"\u001B[39m\u001B[38;5;241m.\u001B[39mjoin(error_msgs)\n\u001B[0;32m   2587\u001B[0m         )\n\u001B[0;32m   2588\u001B[0m     )\n\u001B[0;32m   2589\u001B[0m \u001B[38;5;28;01mreturn\u001B[39;00m _IncompatibleKeys(missing_keys, unexpected_keys)\n",
      "\u001B[1;31mRuntimeError\u001B[0m: Error(s) in loading state_dict for DistilBertForSequenceClassification:\n\tMissing key(s) in state_dict: \"distilbert.embeddings.word_embeddings.weight\", \"distilbert.embeddings.position_embeddings.weight\", \"distilbert.embeddings.LayerNorm.weight\", \"distilbert.embeddings.LayerNorm.bias\", \"distilbert.transformer.layer.0.attention.q_lin.weight\", \"distilbert.transformer.layer.0.attention.q_lin.bias\", \"distilbert.transformer.layer.0.attention.k_lin.weight\", \"distilbert.transformer.layer.0.attention.k_lin.bias\", \"distilbert.transformer.layer.0.attention.v_lin.weight\", \"distilbert.transformer.layer.0.attention.v_lin.bias\", \"distilbert.transformer.layer.0.attention.out_lin.weight\", \"distilbert.transformer.layer.0.attention.out_lin.bias\", \"distilbert.transformer.layer.0.sa_layer_norm.weight\", \"distilbert.transformer.layer.0.sa_layer_norm.bias\", \"distilbert.transformer.layer.0.ffn.lin1.weight\", \"distilbert.transformer.layer.0.ffn.lin1.bias\", \"distilbert.transformer.layer.0.ffn.lin2.weight\", \"distilbert.transformer.layer.0.ffn.lin2.bias\", \"distilbert.transformer.layer.0.output_layer_norm.weight\", \"distilbert.transformer.layer.0.output_layer_norm.bias\", \"distilbert.transformer.layer.1.attention.q_lin.weight\", \"distilbert.transformer.layer.1.attention.q_lin.bias\", \"distilbert.transformer.layer.1.attention.k_lin.weight\", \"distilbert.transformer.layer.1.attention.k_lin.bias\", \"distilbert.transformer.layer.1.attention.v_lin.weight\", \"distilbert.transformer.layer.1.attention.v_lin.bias\", \"distilbert.transformer.layer.1.attention.out_lin.weight\", \"distilbert.transformer.layer.1.attention.out_lin.bias\", \"distilbert.transformer.layer.1.sa_layer_norm.weight\", \"distilbert.transformer.layer.1.sa_layer_norm.bias\", \"distilbert.transformer.layer.1.ffn.lin1.weight\", \"distilbert.transformer.layer.1.ffn.lin1.bias\", \"distilbert.transformer.layer.1.ffn.lin2.weight\", \"distilbert.transformer.layer.1.ffn.lin2.bias\", \"distilbert.transformer.layer.1.output_layer_norm.weight\", \"distilbert.transformer.layer.1.output_layer_norm.bias\", \"distilbert.transformer.layer.2.attention.q_lin.weight\", \"distilbert.transformer.layer.2.attention.q_lin.bias\", \"distilbert.transformer.layer.2.attention.k_lin.weight\", \"distilbert.transformer.layer.2.attention.k_lin.bias\", \"distilbert.transformer.layer.2.attention.v_lin.weight\", \"distilbert.transformer.layer.2.attention.v_lin.bias\", \"distilbert.transformer.layer.2.attention.out_lin.weight\", \"distilbert.transformer.layer.2.attention.out_lin.bias\", \"distilbert.transformer.layer.2.sa_layer_norm.weight\", \"distilbert.transformer.layer.2.sa_layer_norm.bias\", \"distilbert.transformer.layer.2.ffn.lin1.weight\", \"distilbert.transformer.layer.2.ffn.lin1.bias\", \"distilbert.transformer.layer.2.ffn.lin2.weight\", \"distilbert.transformer.layer.2.ffn.lin2.bias\", \"distilbert.transformer.layer.2.output_layer_norm.weight\", \"distilbert.transformer.layer.2.output_layer_norm.bias\", \"distilbert.transformer.layer.3.attention.q_lin.weight\", \"distilbert.transformer.layer.3.attention.q_lin.bias\", \"distilbert.transformer.layer.3.attention.k_lin.weight\", \"distilbert.transformer.layer.3.attention.k_lin.bias\", \"distilbert.transformer.layer.3.attention.v_lin.weight\", \"distilbert.transformer.layer.3.attention.v_lin.bias\", \"distilbert.transformer.layer.3.attention.out_lin.weight\", \"distilbert.transformer.layer.3.attention.out_lin.bias\", \"distilbert.transformer.layer.3.sa_layer_norm.weight\", \"distilbert.transformer.layer.3.sa_layer_norm.bias\", \"distilbert.transformer.layer.3.ffn.lin1.weight\", \"distilbert.transformer.layer.3.ffn.lin1.bias\", \"distilbert.transformer.layer.3.ffn.lin2.weight\", \"distilbert.transformer.layer.3.ffn.lin2.bias\", \"distilbert.transformer.layer.3.output_layer_norm.weight\", \"distilbert.transformer.layer.3.output_layer_norm.bias\", \"distilbert.transformer.layer.4.attention.q_lin.weight\", \"distilbert.transformer.layer.4.attention.q_lin.bias\", \"distilbert.transformer.layer.4.attention.k_lin.weight\", \"distilbert.transformer.layer.4.attention.k_lin.bias\", \"distilbert.transformer.layer.4.attention.v_lin.weight\", \"distilbert.transformer.layer.4.attention.v_lin.bias\", \"distilbert.transformer.layer.4.attention.out_lin.weight\", \"distilbert.transformer.layer.4.attention.out_lin.bias\", \"distilbert.transformer.layer.4.sa_layer_norm.weight\", \"distilbert.transformer.layer.4.sa_layer_norm.bias\", \"distilbert.transformer.layer.4.ffn.lin1.weight\", \"distilbert.transformer.layer.4.ffn.lin1.bias\", \"distilbert.transformer.layer.4.ffn.lin2.weight\", \"distilbert.transformer.layer.4.ffn.lin2.bias\", \"distilbert.transformer.layer.4.output_layer_norm.weight\", \"distilbert.transformer.layer.4.output_layer_norm.bias\", \"distilbert.transformer.layer.5.attention.q_lin.weight\", \"distilbert.transformer.layer.5.attention.q_lin.bias\", \"distilbert.transformer.layer.5.attention.k_lin.weight\", \"distilbert.transformer.layer.5.attention.k_lin.bias\", \"distilbert.transformer.layer.5.attention.v_lin.weight\", \"distilbert.transformer.layer.5.attention.v_lin.bias\", \"distilbert.transformer.layer.5.attention.out_lin.weight\", \"distilbert.transformer.layer.5.attention.out_lin.bias\", \"distilbert.transformer.layer.5.sa_layer_norm.weight\", \"distilbert.transformer.layer.5.sa_layer_norm.bias\", \"distilbert.transformer.layer.5.ffn.lin1.weight\", \"distilbert.transformer.layer.5.ffn.lin1.bias\", \"distilbert.transformer.layer.5.ffn.lin2.weight\", \"distilbert.transformer.layer.5.ffn.lin2.bias\", \"distilbert.transformer.layer.5.output_layer_norm.weight\", \"distilbert.transformer.layer.5.output_layer_norm.bias\", \"pre_classifier.weight\", \"pre_classifier.bias\", \"classifier.weight\", \"classifier.bias\". \n\tUnexpected key(s) in state_dict: \"distilbert_model.embeddings.word_embeddings.weight\", \"distilbert_model.embeddings.position_embeddings.weight\", \"distilbert_model.embeddings.LayerNorm.weight\", \"distilbert_model.embeddings.LayerNorm.bias\", \"distilbert_model.transformer.layer.0.attention.q_lin.weight\", \"distilbert_model.transformer.layer.0.attention.q_lin.bias\", \"distilbert_model.transformer.layer.0.attention.k_lin.weight\", \"distilbert_model.transformer.layer.0.attention.k_lin.bias\", \"distilbert_model.transformer.layer.0.attention.v_lin.weight\", \"distilbert_model.transformer.layer.0.attention.v_lin.bias\", \"distilbert_model.transformer.layer.0.attention.out_lin.weight\", \"distilbert_model.transformer.layer.0.attention.out_lin.bias\", \"distilbert_model.transformer.layer.0.sa_layer_norm.weight\", \"distilbert_model.transformer.layer.0.sa_layer_norm.bias\", \"distilbert_model.transformer.layer.0.ffn.lin1.weight\", \"distilbert_model.transformer.layer.0.ffn.lin1.bias\", \"distilbert_model.transformer.layer.0.ffn.lin2.weight\", \"distilbert_model.transformer.layer.0.ffn.lin2.bias\", \"distilbert_model.transformer.layer.0.output_layer_norm.weight\", \"distilbert_model.transformer.layer.0.output_layer_norm.bias\", \"distilbert_model.transformer.layer.1.attention.q_lin.weight\", \"distilbert_model.transformer.layer.1.attention.q_lin.bias\", \"distilbert_model.transformer.layer.1.attention.k_lin.weight\", \"distilbert_model.transformer.layer.1.attention.k_lin.bias\", \"distilbert_model.transformer.layer.1.attention.v_lin.weight\", \"distilbert_model.transformer.layer.1.attention.v_lin.bias\", \"distilbert_model.transformer.layer.1.attention.out_lin.weight\", \"distilbert_model.transformer.layer.1.attention.out_lin.bias\", \"distilbert_model.transformer.layer.1.sa_layer_norm.weight\", \"distilbert_model.transformer.layer.1.sa_layer_norm.bias\", \"distilbert_model.transformer.layer.1.ffn.lin1.weight\", \"distilbert_model.transformer.layer.1.ffn.lin1.bias\", \"distilbert_model.transformer.layer.1.ffn.lin2.weight\", \"distilbert_model.transformer.layer.1.ffn.lin2.bias\", \"distilbert_model.transformer.layer.1.output_layer_norm.weight\", \"distilbert_model.transformer.layer.1.output_layer_norm.bias\", \"distilbert_model.transformer.layer.2.attention.q_lin.weight\", \"distilbert_model.transformer.layer.2.attention.q_lin.bias\", \"distilbert_model.transformer.layer.2.attention.k_lin.weight\", \"distilbert_model.transformer.layer.2.attention.k_lin.bias\", \"distilbert_model.transformer.layer.2.attention.v_lin.weight\", \"distilbert_model.transformer.layer.2.attention.v_lin.bias\", \"distilbert_model.transformer.layer.2.attention.out_lin.weight\", \"distilbert_model.transformer.layer.2.attention.out_lin.bias\", \"distilbert_model.transformer.layer.2.sa_layer_norm.weight\", \"distilbert_model.transformer.layer.2.sa_layer_norm.bias\", \"distilbert_model.transformer.layer.2.ffn.lin1.weight\", \"distilbert_model.transformer.layer.2.ffn.lin1.bias\", \"distilbert_model.transformer.layer.2.ffn.lin2.weight\", \"distilbert_model.transformer.layer.2.ffn.lin2.bias\", \"distilbert_model.transformer.layer.2.output_layer_norm.weight\", \"distilbert_model.transformer.layer.2.output_layer_norm.bias\", \"distilbert_model.transformer.layer.3.attention.q_lin.weight\", \"distilbert_model.transformer.layer.3.attention.q_lin.bias\", \"distilbert_model.transformer.layer.3.attention.k_lin.weight\", \"distilbert_model.transformer.layer.3.attention.k_lin.bias\", \"distilbert_model.transformer.layer.3.attention.v_lin.weight\", \"distilbert_model.transformer.layer.3.attention.v_lin.bias\", \"distilbert_model.transformer.layer.3.attention.out_lin.weight\", \"distilbert_model.transformer.layer.3.attention.out_lin.bias\", \"distilbert_model.transformer.layer.3.sa_layer_norm.weight\", \"distilbert_model.transformer.layer.3.sa_layer_norm.bias\", \"distilbert_model.transformer.layer.3.ffn.lin1.weight\", \"distilbert_model.transformer.layer.3.ffn.lin1.bias\", \"distilbert_model.transformer.layer.3.ffn.lin2.weight\", \"distilbert_model.transformer.layer.3.ffn.lin2.bias\", \"distilbert_model.transformer.layer.3.output_layer_norm.weight\", \"distilbert_model.transformer.layer.3.output_layer_norm.bias\", \"distilbert_model.transformer.layer.4.attention.q_lin.weight\", \"distilbert_model.transformer.layer.4.attention.q_lin.bias\", \"distilbert_model.transformer.layer.4.attention.k_lin.weight\", \"distilbert_model.transformer.layer.4.attention.k_lin.bias\", \"distilbert_model.transformer.layer.4.attention.v_lin.weight\", \"distilbert_model.transformer.layer.4.attention.v_lin.bias\", \"distilbert_model.transformer.layer.4.attention.out_lin.weight\", \"distilbert_model.transformer.layer.4.attention.out_lin.bias\", \"distilbert_model.transformer.layer.4.sa_layer_norm.weight\", \"distilbert_model.transformer.layer.4.sa_layer_norm.bias\", \"distilbert_model.transformer.layer.4.ffn.lin1.weight\", \"distilbert_model.transformer.layer.4.ffn.lin1.bias\", \"distilbert_model.transformer.layer.4.ffn.lin2.weight\", \"distilbert_model.transformer.layer.4.ffn.lin2.bias\", \"distilbert_model.transformer.layer.4.output_layer_norm.weight\", \"distilbert_model.transformer.layer.4.output_layer_norm.bias\", \"distilbert_model.transformer.layer.5.attention.q_lin.weight\", \"distilbert_model.transformer.layer.5.attention.q_lin.bias\", \"distilbert_model.transformer.layer.5.attention.k_lin.weight\", \"distilbert_model.transformer.layer.5.attention.k_lin.bias\", \"distilbert_model.transformer.layer.5.attention.v_lin.weight\", \"distilbert_model.transformer.layer.5.attention.v_lin.bias\", \"distilbert_model.transformer.layer.5.attention.out_lin.weight\", \"distilbert_model.transformer.layer.5.attention.out_lin.bias\", \"distilbert_model.transformer.layer.5.sa_layer_norm.weight\", \"distilbert_model.transformer.layer.5.sa_layer_norm.bias\", \"distilbert_model.transformer.layer.5.ffn.lin1.weight\", \"distilbert_model.transformer.layer.5.ffn.lin1.bias\", \"distilbert_model.transformer.layer.5.ffn.lin2.weight\", \"distilbert_model.transformer.layer.5.ffn.lin2.bias\", \"distilbert_model.transformer.layer.5.output_layer_norm.weight\", \"distilbert_model.transformer.layer.5.output_layer_norm.bias\", \"linear.weight\", \"linear.bias\". "
     ]
    }
   ],
   "source": [
    "model = DistilBertForSequenceClassification.from_pretrained(PRE_TRAINED_MODEL_NAME, num_labels=NUM_CLASSES)\n",
    "model.to(device)\n",
    "\n",
    "model.load_state_dict(torch.load('C:/Users/juwieczo/DataspellProjects/meisd_project/pipeline/best_model_state.bin'))\n",
    "model.eval()\n",
    "\n",
    "def validate_model(model, dataloader, criterion):\n",
    "    model.eval() \n",
    "    val_loss = 0\n",
    "    correct = 0\n",
    "    total = 0\n",
    "    all_targets = []\n",
    "    all_preds = []\n",
    "\n",
    "    with torch.no_grad(): \n",
    "        for batch in tq.tqdm(dataloader, desc=\"Validation\", leave=False):\n",
    "            input_ids = batch['input_ids'].to(device)\n",
    "            attention_mask = batch['attention_mask'].to(device)\n",
    "            targets = batch['targets'].to(device)\n",
    "\n",
    "            outputs = model(input_ids=input_ids, attention_mask=attention_mask)\n",
    "            logits = outputs.logits\n",
    "\n",
    "            loss = criterion(logits, targets)\n",
    "            val_loss += loss.item()\n",
    "\n",
    "            _, preds = torch.max(logits, dim=1)\n",
    "\n",
    "            correct += (preds == targets).sum().item()\n",
    "            total += targets.size(0)\n",
    "            all_targets.extend(targets.cpu().numpy())\n",
    "            all_preds.extend(preds.cpu().numpy())\n",
    "\n",
    "    avg_loss = val_loss / len(dataloader)\n",
    "    accuracy = correct / total\n",
    "    f1 = f1_score(all_targets, all_preds, average='weighted')\n",
    "\n",
    "    return avg_loss, accuracy, f1\n",
    "\n",
    "criterion = nn.CrossEntropyLoss()\n",
    "val_loss, val_accuracy, val_f1 = validate_model(model, val_data_loader, criterion)\n",
    "\n",
    "print(f\"Validation Loss: {val_loss:.4f}, Accuracy: {val_accuracy:.4f}, F1 Score: {val_f1:.4f}\")"
   ],
   "metadata": {
    "collapsed": true,
    "ExecuteTime": {
     "end_time": "2025-01-21T20:22:57.860986Z",
     "start_time": "2025-01-21T20:22:56.170023Z"
    }
   },
   "id": "initial_id",
   "execution_count": 26
  },
  {
   "cell_type": "code",
   "outputs": [],
   "source": [],
   "metadata": {
    "collapsed": false
   },
   "id": "b37526921b1e821b"
  }
 ],
 "metadata": {
  "kernelspec": {
   "display_name": "Python 3",
   "language": "python",
   "name": "python3"
  },
  "language_info": {
   "codemirror_mode": {
    "name": "ipython",
    "version": 2
   },
   "file_extension": ".py",
   "mimetype": "text/x-python",
   "name": "python",
   "nbconvert_exporter": "python",
   "pygments_lexer": "ipython2",
   "version": "2.7.6"
  }
 },
 "nbformat": 4,
 "nbformat_minor": 5
}
